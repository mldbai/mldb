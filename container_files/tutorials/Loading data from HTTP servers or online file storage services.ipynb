{
 "cells": [
  {
   "cell_type": "markdown",
   "metadata": {},
   "source": [
    "# Loading data from an HTTP server\n",
    "\n",
    "MLDB gives users full control over where and how data is persisted. MLDB handles multiple protocol for URLs (see [Files and URLs](../../../../doc/#builtin/Url.md.html)). In this tutorial, we provide examples to load files via:\n",
    "* <code> file:// </code> for a file inside an MLDB container (see the [Loading Data Tutorial](../../../../ipy/notebooks/_tutorials/_latest/Loading%20Data%20Tutorial.ipynb) for an example)\n",
    "* <code> http:// </code> or <code> https://</code> for a file accessible on a HTTP server on the public internet or a private intranet "
   ]
  },
  {
   "cell_type": "markdown",
   "metadata": {},
   "source": [
    "The notebook cells below use `pymldb`'s `Connection` class to make [REST API](../../../../doc/#builtin/WorkingWithRest.md.html) calls. You can check out the [Using `pymldb` Tutorial](../../../../doc/nblink.html#_tutorials/Using pymldb Tutorial) for more details."
   ]
  },
  {
   "cell_type": "code",
   "execution_count": 2,
   "metadata": {
    "collapsed": true
   },
   "outputs": [],
   "source": [
    "from pymldb import Connection\n",
    "mldb = Connection()"
   ]
  },
  {
   "cell_type": "markdown",
   "metadata": {},
   "source": [
    "## Loading data with http:// or https://\n",
    "MLDB makes it very easy to load with the public web. A powerful feature of MLDB allows us to load publicly avaialbe data directly from a web address. The datasets below are from the [Stanford Network Analysis Project (SNAP)](http://snap.stanford.edu/index.html). Here, we have chosen to load [Facebook's Social Circles dataset](http://snap.stanford.edu/data/egonets-Facebook.html). In our first example, we will be [`importing a text file`](../../../../doc/#builtin/procedures/importtextprocedure.md.html)."
   ]
  },
  {
   "cell_type": "code",
   "execution_count": 3,
   "metadata": {
    "collapsed": false
   },
   "outputs": [
    {
     "name": "stdout",
     "output_type": "stream",
     "text": [
      "<Response [201]>\n"
     ]
    }
   ],
   "source": [
    "dataUrl = \"http://snap.stanford.edu/data/facebook_combined.txt.gz\"\n",
    "\n",
    "print mldb.put(\"/v1/procedures/import_data\", {\n",
    "    \"type\": \"import.text\",\n",
    "    \"params\": {\n",
    "        \"dataFileUrl\": dataUrl,\n",
    "        \"headers\": [\"node\", \"edge\"],\n",
    "        \"delimiter\": \" \", \n",
    "        \"quotechar\": \"\",\n",
    "        \"outputDataset\": \"import_URL1\",\n",
    "        \"runOnCreation\": True\n",
    "    }\n",
    "})"
   ]
  },
  {
   "cell_type": "markdown",
   "metadata": {},
   "source": [
    "If the targeted file is inside an archive, we can specify the specific path to the file, as seen in the example below. Here, we load the '3980.circles' file within the 'facebook' folder."
   ]
  },
  {
   "cell_type": "code",
   "execution_count": 8,
   "metadata": {
    "collapsed": false,
    "scrolled": true
   },
   "outputs": [
    {
     "name": "stdout",
     "output_type": "stream",
     "text": [
      "<Response [201]>\n"
     ]
    }
   ],
   "source": [
    "dataUrl = \"http://snap.stanford.edu/data/facebook.tar.gz\"\n",
    "\n",
    "print mldb.put(\"/v1/procedures/import_data\", {\n",
    "    \"type\": \"import.text\",\n",
    "    \"params\": {\n",
    "        \"dataFileUrl\": \"archive+\" + dataUrl + \"#facebook/3980.circles\",\n",
    "        \"headers\": [\"circles\"],\n",
    "        \"delimiter\": \" \", \n",
    "        \"quotechar\": \"\",\n",
    "        \"outputDataset\": \"import_URL2\",\n",
    "        \"runOnCreation\": True\n",
    "    }\n",
    "})"
   ]
  },
  {
   "cell_type": "markdown",
   "metadata": {},
   "source": [
    "Note: you will notice that we have grouped all of our rows in a single column. [Using Javascript inside MLDB's Query Language statements with the built-in jeval function](../../../../ipy/notebooks/_tutorials/_latest/Using%20the%20jseval%20function%20inside%20an%20SQL%20statement.ipynb), we will structure the data in a nicer way."
   ]
  },
  {
   "cell_type": "markdown",
   "metadata": {},
   "source": [
    "With support for multiple protocol types, MLDB provides powerful features for extracting data that resides in the public web. As seen in this tutorial, you can even pinpoint the exact file(s) to load within an archive's folder structure, allowing flexible data management. "
   ]
  }
 ],
 "metadata": {
  "kernelspec": {
   "display_name": "Python 2",
   "language": "python",
   "name": "python2"
  },
  "language_info": {
   "codemirror_mode": {
    "name": "ipython",
    "version": 2
   },
   "file_extension": ".py",
   "mimetype": "text/x-python",
   "name": "python",
   "nbconvert_exporter": "python",
   "pygments_lexer": "ipython2",
   "version": "2.7.6"
  }
 },
 "nbformat": 4,
 "nbformat_minor": 0
}
