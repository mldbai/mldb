{
 "cells": [
  {
   "cell_type": "markdown",
   "metadata": {},
   "source": [
    "## Using Javascript inside MLDB's Query Language statements with the built-in jeval function\n",
    "\n",
    "MLDB provides and [SQL-like Query Language](../../../../doc/#builtin/sql/Sql.md.html) that contains many familiar SQL expressions. Further to this, MLDB also provides tailored [SQL value expressions and functions](../../../../doc/builtin/sql/ValueExpression.md.html) for your queries. For example, we have created a suite of [Built-in Functions](../../../../doc/builtin/sql/ValueExpression.md.html#builtinfunctions). This includes [jeval](../../../../doc/#builtin/sql/ValueExpression.md.html), for evaluating a JS function from SQL."
   ]
  },
  {
   "cell_type": "markdown",
   "metadata": {},
   "source": [
    "Let's start the tutorial. The notebook cells below use `pymldb`'s `Connection` class to make [REST API](../../../../doc/#builtin/WorkingWithRest.md.html) calls. You can check out the [Using `pymldb` Tutorial](../../../../doc/nblink.html#_tutorials/Using pymldb Tutorial) for more details."
   ]
  },
  {
   "cell_type": "code",
   "execution_count": 1,
   "metadata": {
    "collapsed": true
   },
   "outputs": [],
   "source": [
    "from pymldb import Connection\n",
    "mldb = Connection(\"http://localhost\")"
   ]
  },
  {
   "cell_type": "markdown",
   "metadata": {},
   "source": [
    "In the [loading data from HTTP server or online file storage services](../../../../ipy/notebooks/_tutorials/_latest/Loading%20data%20from%20HTTP%20servers%20or%20online%20file%20storage%20services.ipynb#) tutorial, we loaded a specific file from an archive that was located on the [Stanford Network Analysis Project (SNAP)](http://snap.stanford.edu/index.html) website. The dataset contains all other users that are within user no. 3980's set of circles. We will structure the data below using jeval. Let's check's out the unformated version of the data first."
   ]
  },
  {
   "cell_type": "code",
   "execution_count": 44,
   "metadata": {
    "collapsed": false
   },
   "outputs": [
    {
     "data": {
      "text/html": [
       "<div>\n",
       "<table border=\"1\" class=\"dataframe\">\n",
       "  <thead>\n",
       "    <tr style=\"text-align: right;\">\n",
       "      <th></th>\n",
       "      <th>\"circle0\t3989\t4009\"</th>\n",
       "    </tr>\n",
       "    <tr>\n",
       "      <th>_rowName</th>\n",
       "      <th></th>\n",
       "    </tr>\n",
       "  </thead>\n",
       "  <tbody>\n",
       "    <tr>\n",
       "      <th>2</th>\n",
       "      <td>circle1\\t4010\\t4037</td>\n",
       "    </tr>\n",
       "    <tr>\n",
       "      <th>3</th>\n",
       "      <td>circle2\\t4013</td>\n",
       "    </tr>\n",
       "    <tr>\n",
       "      <th>4</th>\n",
       "      <td>circle3\\t4024\\t3987\\t4015</td>\n",
       "    </tr>\n",
       "    <tr>\n",
       "      <th>5</th>\n",
       "      <td>circle4\\t4006</td>\n",
       "    </tr>\n",
       "    <tr>\n",
       "      <th>6</th>\n",
       "      <td>circle5\\t4035</td>\n",
       "    </tr>\n",
       "    <tr>\n",
       "      <th>7</th>\n",
       "      <td>circle6\\t3999\\t4028\\t4005\\t3996\\t4031\\t4018\\t3...</td>\n",
       "    </tr>\n",
       "    <tr>\n",
       "      <th>8</th>\n",
       "      <td>circle7\\t3984</td>\n",
       "    </tr>\n",
       "    <tr>\n",
       "      <th>9</th>\n",
       "      <td>circle8\\t3988\\t4030\\t4026\\t4021</td>\n",
       "    </tr>\n",
       "    <tr>\n",
       "      <th>10</th>\n",
       "      <td>circle9\\t3983\\t3992\\t4033\\t4017\\t4000\\t3986</td>\n",
       "    </tr>\n",
       "    <tr>\n",
       "      <th>11</th>\n",
       "      <td>circle10\\t3990\\t4007\\t4016\\t4025</td>\n",
       "    </tr>\n",
       "  </tbody>\n",
       "</table>\n",
       "</div>"
      ],
      "text/plain": [
       "                                      \"circle0\\t3989\\t4009\"\n",
       "_rowName                                                   \n",
       "2                                       circle1\\t4010\\t4037\n",
       "3                                             circle2\\t4013\n",
       "4                                 circle3\\t4024\\t3987\\t4015\n",
       "5                                             circle4\\t4006\n",
       "6                                             circle5\\t4035\n",
       "7         circle6\\t3999\\t4028\\t4005\\t3996\\t4031\\t4018\\t3...\n",
       "8                                             circle7\\t3984\n",
       "9                           circle8\\t3988\\t4030\\t4026\\t4021\n",
       "10              circle9\\t3983\\t3992\\t4033\\t4017\\t4000\\t3986\n",
       "11                         circle10\\t3990\\t4007\\t4016\\t4025"
      ]
     },
     "execution_count": 44,
     "metadata": {},
     "output_type": "execute_result"
    }
   ],
   "source": [
    "dataUrl = \"http://snap.stanford.edu/data/facebook.tar.gz\"\n",
    "\n",
    "mldb.put(\"/v1/procedures/import_data\", {\n",
    "    \"type\": \"import.text\",\n",
    "    \"params\": {\n",
    "        \"dataFileUrl\": \"archive+\" + dataUrl + \"#facebook/3980.circles\",\n",
    "        \"delimiter\": \" \", \n",
    "        \"quotechar\": \"\",\n",
    "        \"outputDataset\": \"import_URL2\",\n",
    "        \"runOnCreation\": True\n",
    "    }\n",
    "})\n",
    "\n",
    "mldb.query(\"SELECT * NAMED rowName() FROM import_URL2 LIMIT 10\")"
   ]
  },
  {
   "cell_type": "markdown",
   "metadata": {},
   "source": [
    "Ideally, we would like to know the 'user ids' that are within each of user 3980's set of circles. As you can see though, the data has no column name. Furthermore, if we seperate each tab delimited value, we will end up with an unknown number of columns. The code below uses the built-in [jeval function](../../../../doc/builtin/sql/ValueExpression.md.html#builtinfunctions) and outputs the data into a [sparse.mutable](../../../../doc/#builtin/datasets/MutableSparseMatrixDataset.md.html)  type dataset to solve the aforementioned roadblocks."
   ]
  },
  {
   "cell_type": "code",
   "execution_count": 2,
   "metadata": {
    "collapsed": false
   },
   "outputs": [
    {
     "name": "stdout",
     "output_type": "stream",
     "text": [
      "<Response [201]>\n"
     ]
    }
   ],
   "source": [
    "dataUrl = \"http://snap.stanford.edu/data/facebook.tar.gz\"\n",
    "\n",
    "print mldb.put(\"/v1/procedures/import_non_formated\", {\n",
    "    \"type\": \"import.text\",\n",
    "    \"params\": {\n",
    "        \"dataFileUrl\": \"archive+\" + dataUrl + \"#facebook/3980.circles\",\n",
    "        \"headers\": [\"circles\"],\n",
    "        \"select\": \"\"\"\n",
    "            jseval('\n",
    "                var row_val = val.split(\"\\t\");\n",
    "                var rtn = {};\n",
    "                rtn[\"rowName\"] = row_val[0];\n",
    "                for(i=1; i<row_val.length; i++) {\n",
    "                    rtn[row_val[i]] = 1;\n",
    "                }\n",
    "                return rtn;\n",
    "                ','val', circles) AS *\n",
    "        \"\"\",\n",
    "        \"outputDataset\": {\n",
    "            \"id\": \"import_non_formated\",\n",
    "            \"type\": \"sparse.mutable\"\n",
    "        },\n",
    "        \"runOnCreation\": True\n",
    "    }\n",
    "})"
   ]
  },
  {
   "cell_type": "code",
   "execution_count": 3,
   "metadata": {
    "collapsed": false
   },
   "outputs": [
    {
     "data": {
      "text/html": [
       "<div>\n",
       "<table border=\"1\" class=\"dataframe\">\n",
       "  <thead>\n",
       "    <tr style=\"text-align: right;\">\n",
       "      <th></th>\n",
       "      <th>3989</th>\n",
       "      <th>4009</th>\n",
       "      <th>4010</th>\n",
       "      <th>4037</th>\n",
       "      <th>4013</th>\n",
       "      <th>3987</th>\n",
       "      <th>4015</th>\n",
       "      <th>4024</th>\n",
       "      <th>4006</th>\n",
       "    </tr>\n",
       "    <tr>\n",
       "      <th>_rowName</th>\n",
       "      <th></th>\n",
       "      <th></th>\n",
       "      <th></th>\n",
       "      <th></th>\n",
       "      <th></th>\n",
       "      <th></th>\n",
       "      <th></th>\n",
       "      <th></th>\n",
       "      <th></th>\n",
       "    </tr>\n",
       "  </thead>\n",
       "  <tbody>\n",
       "    <tr>\n",
       "      <th>circle0</th>\n",
       "      <td>1</td>\n",
       "      <td>1</td>\n",
       "      <td>NaN</td>\n",
       "      <td>NaN</td>\n",
       "      <td>NaN</td>\n",
       "      <td>NaN</td>\n",
       "      <td>NaN</td>\n",
       "      <td>NaN</td>\n",
       "      <td>NaN</td>\n",
       "    </tr>\n",
       "    <tr>\n",
       "      <th>circle1</th>\n",
       "      <td>NaN</td>\n",
       "      <td>NaN</td>\n",
       "      <td>1</td>\n",
       "      <td>1</td>\n",
       "      <td>NaN</td>\n",
       "      <td>NaN</td>\n",
       "      <td>NaN</td>\n",
       "      <td>NaN</td>\n",
       "      <td>NaN</td>\n",
       "    </tr>\n",
       "    <tr>\n",
       "      <th>circle2</th>\n",
       "      <td>NaN</td>\n",
       "      <td>NaN</td>\n",
       "      <td>NaN</td>\n",
       "      <td>NaN</td>\n",
       "      <td>1</td>\n",
       "      <td>NaN</td>\n",
       "      <td>NaN</td>\n",
       "      <td>NaN</td>\n",
       "      <td>NaN</td>\n",
       "    </tr>\n",
       "    <tr>\n",
       "      <th>circle3</th>\n",
       "      <td>NaN</td>\n",
       "      <td>NaN</td>\n",
       "      <td>NaN</td>\n",
       "      <td>NaN</td>\n",
       "      <td>NaN</td>\n",
       "      <td>1</td>\n",
       "      <td>1</td>\n",
       "      <td>1</td>\n",
       "      <td>NaN</td>\n",
       "    </tr>\n",
       "    <tr>\n",
       "      <th>circle4</th>\n",
       "      <td>NaN</td>\n",
       "      <td>NaN</td>\n",
       "      <td>NaN</td>\n",
       "      <td>NaN</td>\n",
       "      <td>NaN</td>\n",
       "      <td>NaN</td>\n",
       "      <td>NaN</td>\n",
       "      <td>NaN</td>\n",
       "      <td>1</td>\n",
       "    </tr>\n",
       "  </tbody>\n",
       "</table>\n",
       "</div>"
      ],
      "text/plain": [
       "          3989  4009  4010  4037  4013  3987  4015  4024  4006\n",
       "_rowName                                                      \n",
       "circle0      1     1   NaN   NaN   NaN   NaN   NaN   NaN   NaN\n",
       "circle1    NaN   NaN     1     1   NaN   NaN   NaN   NaN   NaN\n",
       "circle2    NaN   NaN   NaN   NaN     1   NaN   NaN   NaN   NaN\n",
       "circle3    NaN   NaN   NaN   NaN   NaN     1     1     1   NaN\n",
       "circle4    NaN   NaN   NaN   NaN   NaN   NaN   NaN   NaN     1"
      ]
     },
     "execution_count": 3,
     "metadata": {},
     "output_type": "execute_result"
    }
   ],
   "source": [
    "mldb.query(\"\"\"\n",
    "    SELECT * EXCLUDING(rowName)\n",
    "    NAMED rowName\n",
    "    FROM import_non_formated \n",
    "    ORDER BY CAST(rowName() AS integer) \n",
    "    LIMIT 5\n",
    "\"\"\")"
   ]
  },
  {
   "cell_type": "markdown",
   "metadata": {},
   "source": [
    "Structuring this dataset would have taken a few steps with just SQL. Here using jeval and sparse mutable type dataset, we can organize our data in a single step and without knowing all of the characteristics of the dataset."
   ]
  },
  {
   "cell_type": "markdown",
   "metadata": {},
   "source": [
    "MLDB has the capability to organize unstructured data in a seamless way. This adds greater flexibility when dealing with different types of input data."
   ]
  },
  {
   "cell_type": "markdown",
   "metadata": {},
   "source": [
    "## Where to next?\n",
    "\n",
    "Check out the other [Tutorials and Demos](../../../../doc/#builtin/Demos.md.html)."
   ]
  }
 ],
 "metadata": {
  "kernelspec": {
   "display_name": "Python 2",
   "language": "python",
   "name": "python2"
  },
  "language_info": {
   "codemirror_mode": {
    "name": "ipython",
    "version": 2
   },
   "file_extension": ".py",
   "mimetype": "text/x-python",
   "name": "python",
   "nbconvert_exporter": "python",
   "pygments_lexer": "ipython2",
   "version": "2.7.6"
  }
 },
 "nbformat": 4,
 "nbformat_minor": 0
}
