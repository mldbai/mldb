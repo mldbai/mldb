{
 "cells": [
  {
   "cell_type": "markdown",
   "metadata": {},
   "source": [
    "# Image Processing with Convolutions\n",
    "\n",
    "In image processing, most image filters and image transformation use convolutions. Convolutions modify the original matrix of pixels through a pointwise multiplication with a kernel or filter matrix. Wikipedia describes <a href=\"https://en.wikipedia.org/wiki/Kernel_(image_processing)\">convolutions on images</a> as:\n",
    "\n",
    "> Convolution is the process of multiplying each element of the image with its local neighbors, weighted by the kernel. For example, if we have two three-by-three matrices, one a kernel, and the other an image piece, convolution is the process of flipping both the rows and columns of the kernel and then multiplying locationally similar entries and summing. The [2,2] element of the resulting image would be a weighted combination of all the entries of the image matrix, with weights given by the kernel: \n",
    "\n",
    "> ![Image of convolution](https://wikimedia.org/api/rest_v1/media/math/render/svg/1a5bdd585d515770c888ea5b4ea07a7a5166cc8d)\n",
    "\n",
    "Amongst the suite of applications of convolutions, image blurring and sharpening as well as edge detection are the most common. In this demo, we will use MLDB query to transform efficiently transform images. To do so, we will use the [MNIST database of handwriten digits](http://yann.lecun.com/exdb/mnist/).\n",
    "\n",
    "In this demo, we will use a custom function type called [SQL Expression Function](../../../../doc/#builtin/functions/SqlExpressionFunction.md.html) and [jseval](../../../../doc/#builtin/sql/ValueExpression.md.html) for inline definition of functions using Javascript."
   ]
  },
  {
   "cell_type": "markdown",
   "metadata": {
    "collapsed": true
   },
   "source": [
    "The notebook cells below use `pymldb`'s `Connection` class to make [REST API](../../../../doc/#builtin/WorkingWithRest.md.html) calls. You can check out the [Using `pymldb` Tutorial](../../../../doc/nblink.html#_tutorials/Using pymldb Tutorial) for more details."
   ]
  },
  {
   "cell_type": "code",
   "execution_count": 61,
   "metadata": {
    "collapsed": true
   },
   "outputs": [],
   "source": [
    "from pymldb import Connection\n",
    "mldb = Connection(host = \"http://127.0.0.1:11700/\")"
   ]
  },
  {
   "cell_type": "markdown",
   "metadata": {},
   "source": [
    "... And other Python librairies"
   ]
  },
  {
   "cell_type": "code",
   "execution_count": 62,
   "metadata": {
    "collapsed": true
   },
   "outputs": [],
   "source": [
    "import random\n",
    "import numpy as np\n",
    "\n",
    "import matplotlib.pyplot as plt\n",
    "%matplotlib inline\n",
    "\n",
    "from IPython.display import display, Latex\n",
    "from ipywidgets import widgets, interact"
   ]
  },
  {
   "cell_type": "markdown",
   "metadata": {},
   "source": [
    "## Loading the data\n",
    "\n",
    "A pickled version of the dataset is available on the deeplearning.net website http://deeplearning.net/tutorial/gettingstarted.html.\n",
    "\n",
    "The dataset has been unpickled and saved in a public Amazon's S3 cloud storage. Check out MLDB's [Protocol Handlers](../../../../doc/#builtin/Url.md.html) for Files and URLS."
   ]
  },
  {
   "cell_type": "code",
   "execution_count": 63,
   "metadata": {
    "collapsed": false
   },
   "outputs": [
    {
     "name": "stdout",
     "output_type": "stream",
     "text": [
      "<Response [201]>\n"
     ]
    }
   ],
   "source": [
    "data_url_mnist = 'http://public.mldb.ai.s3.amazonaws.com/datasets/digits_data.csv.gz'\n",
    "\n",
    "print mldb.put('/v1/procedures/import_digits_mnist', {\n",
    "    \"type\":\"import.text\",\n",
    "    \"params\": {\n",
    "        \"dataFileUrl\": data_url_mnist,\n",
    "        \"outputDataset\": \"digits_mnist\",\n",
    "        \"select\": \"{* EXCLUDING(\\\"785\\\")} AS *, \\\"785\\\" AS label\",\n",
    "        \"runOnCreation\": True,\n",
    "    }\n",
    "})"
   ]
  },
  {
   "cell_type": "markdown",
   "metadata": {},
   "source": [
    "## Taking a random image and starting image manipulation\n",
    "\n",
    "Similarly to first few steps in the [Real-Time Digits Recognizer](../../../../ipy/notebooks/_tutorials/v2016.06.22.dev-5d85bf1/Real-Time%20Digits%20Recognizer.ipynb) demo, we will display random MNIST digits from the test set."
   ]
  },
  {
   "cell_type": "code",
   "execution_count": 64,
   "metadata": {
    "collapsed": false
   },
   "outputs": [
    {
     "data": {
      "image/png": "[encoded data removed]",
      "text/plain": [
       "<matplotlib.figure.Figure at 0x7fc29a591dd0>"
      ]
     },
     "metadata": {},
     "output_type": "display_data"
    }
   ],
   "source": [
    "labels = [0, 1, 2, 3, 4, 5, 6, 7, 8, 9]\n",
    "no_test_img = mldb.query(\"SELECT count({label}) FROM digits_mnist WHERE rowHash() % 5 = 0\").values[0][0]\n",
    "\n",
    "offset = random.randint(0, int(no_test_img/len(labels)))\n",
    "digit = random.choice(labels)\n",
    "\n",
    "data = mldb.query(\"\"\"\n",
    "    SELECT \n",
    "        * EXCLUDING(label)\n",
    "    FROM digits_mnist\n",
    "    WHERE label = %(digit)d AND rowHash() %% 5 = 0\n",
    "    LIMIT 1\n",
    "    OFFSET %(offset)d\n",
    "\"\"\" % {\"digit\": digit, \"offset\": offset})\n",
    "\n",
    "\n",
    "image = data.as_matrix().reshape(28, 28)\n",
    "plt.imshow(image)\n",
    "plt.gray()"
   ]
  },
  {
   "cell_type": "markdown",
   "metadata": {},
   "source": [
    "## Defining the convolution function\n",
    "\n",
    "A discrete convolution can be defined mathematically as:\n",
    "\n",
    "$newPixel[i,j] = \\sum_{y=i}^{i+r}\\sum_{x=j}^{j+r}oldPixel[x,y] \\cdot weight[x,y]$\n",
    "\n",
    "where the $weight[]$ matrix (see 'kernelDict' dictionary in a couple of cells below) defines the type of image manipulation and $r$ is the area of effect."
   ]
  },
  {
   "cell_type": "code",
   "execution_count": 65,
   "metadata": {
    "collapsed": false
   },
   "outputs": [
    {
     "name": "stdout",
     "output_type": "stream",
     "text": [
      "<Response [201]>\n"
     ]
    }
   ],
   "source": [
    "# JavaScript code loosely based on Ivan Kuckir's blog post: http://blog.ivank.net/fastest-gaussian-blur.html\n",
    "\n",
    "def create_convolution():\n",
    "    \n",
    "    JsConvolutionExpr = \"\"\"\n",
    "        jseval('\n",
    "            var row_val = val;\n",
    "            var dim = Math.sqrt(row_val.length);\n",
    "            var radius = Math.sqrt(kernel.length);\n",
    "            var alpha = alpha_;\n",
    "            \n",
    "            \n",
    "            /*************************************\n",
    "            ******** Function Definition *********\n",
    "            **************************************/\n",
    "\n",
    "            // input 1D list, output 1D list, pixel matrix dimensions\n",
    "            function convolution(inList, outList, width, height, alpha, radius) {\n",
    "\n",
    "                for (var i = 0; i < height; i++)\n",
    "                    for (var j = 0; j < width; j++) {\n",
    "                        var newPixel = 0;\n",
    "                        var indexW = 0;\n",
    "                        \n",
    "                        for (var yr = i; yr < i + radius; yr++)\n",
    "                            for (var xr = j; xr < j + radius; xr++) {\n",
    "                            \n",
    "                              var y = Math.min(height - 1, Math.max(0, yr));\n",
    "                              var x = Math.min(width - 1, Math.max(0, xr));\n",
    "                              \n",
    "                              newPixel = newPixel + inList[y * width + x] * weights[indexW];\n",
    "                              indexW ++;\n",
    "                            }\n",
    "                            \n",
    "                        new_value = newPixel * alpha;\n",
    "                        outList[i * width + j] = new_value;\n",
    "                    }\n",
    "                return outList;\n",
    "            } // End of convolution\n",
    "            \n",
    "            //Assuring that the 1d row is in the right order\n",
    "            function arrangeMatrix(inList) {\n",
    "            \n",
    "                var length = inList.length;\n",
    "                var data = new Array(length);\n",
    "                for (var i = 0; i < length; i++) {\n",
    "                    data[parseInt(inList[i][0][0])] = inList[i][1];\n",
    "                }\n",
    "                return data\n",
    "            }\n",
    "            \n",
    "            /*************************************\n",
    "            ********** Using Functions ***********\n",
    "            **************************************/\n",
    "            \n",
    "            var weights = arrangeMatrix(kernel); // filter matrix\n",
    "            var matrix = arrangeMatrix(row_val); // my picture\n",
    "            var convolvedMatrix = [];\n",
    "            \n",
    "            convolution(matrix, convolvedMatrix, dim, dim, alpha, radius);\n",
    "\n",
    "            return convolvedMatrix;',\n",
    "            'val, alpha_, kernel', \n",
    "             valueExpr, alpha, kernel\n",
    "        ) AS *\n",
    "    \"\"\"\n",
    "\n",
    "\n",
    "    print mldb.put(\"/v1/functions/convolution\", {\n",
    "        \"type\": \"sql.expression\",\n",
    "        \"params\": {\n",
    "            \"expression\": JsConvolutionExpr,\n",
    "            \"prepared\": True\n",
    "        }\n",
    "    })\n",
    "    \n",
    "create_convolution()"
   ]
  },
  {
   "cell_type": "markdown",
   "metadata": {},
   "source": [
    "As seen in the code above, each new pixel in the convolved picture is the weighted sum of the the pixel and its neighboring pixels where the weights are the values in the kernel matrix.  \n",
    "\n",
    "Doing convolutions with custom function type called [SQL Expression Function](../../../../doc/#builtin/functions/SqlExpressionFunction.md.html) and [jseval](../../../../doc/#builtin/sql/ValueExpression.md.html) for inline definition of functions using Javascript allows us to process large amounts of data using the optimizations inherent to the MLDB platform. Convolutions are typically very time consuming operations with \n",
    "$O(n.r^2)$ complexity in this case where n is the number of features and r is the radius (i.e. neighboring pixels).\n",
    "\n",
    "There were two steps to creating the function above:\n",
    "* JsConvolutionExpr used a jseval built-in function where all the logic resides\n",
    "* A 'convolution' SQL Expression Function is created, allowing us to call 'convolution' with a simple [mldb.query](../../../../doc/#builtin/sql/Sql.md.html)"
   ]
  },
  {
   "cell_type": "markdown",
   "metadata": {},
   "source": [
    "## Using the convolution function"
   ]
  },
  {
   "cell_type": "code",
   "execution_count": 66,
   "metadata": {
    "collapsed": false
   },
   "outputs": [],
   "source": [
    "def convolutionFunc(image_processing):\n",
    "    \n",
    "    alpha = 1\n",
    "    \n",
    "    kernelDict = {\n",
    "        'Right Sobel': [-1, 0, 1, -2, 0, 2, -1, 0, 1], \n",
    "        'Detect Edges': [1, 1, 1, 1, -8, 1, 1, 1, 1],\n",
    "        'Sharpen': [0, -1, 0, -1, 5, -1, 0, -1, 0],\n",
    "        'Box Blur': [0.1, 0.1, 0.1, 0.1, 0.1, 0.1, 0.1, 0.1, 0.1],\n",
    "        'Approximated Gaussian Blur': [0.0625, 0.125, 0.0625, 0.125, 0.25, 0.125, 0.0625, 0.125, 0.0625]\n",
    "    }\n",
    "    \n",
    "    SQL_Expr = \"\"\"\n",
    "        SELECT convolution({\n",
    "                valueExpr: %(data)s,\n",
    "                alpha: %(alpha)d,\n",
    "                kernel: %(kernel)s\n",
    "        }) AS *\n",
    "    \"\"\" %   {\n",
    "                \"alpha\": alpha,\n",
    "                \"data\": data.values[0].tolist(),\n",
    "                \"kernel\": kernelDict[image_processing]\n",
    "            }\n",
    "\n",
    "    convolvedData = mldb.query(SQL_Expr)\n",
    "\n",
    "    image = convolvedData.as_matrix().reshape(28, 28)\n",
    "    plt.imshow(image)"
   ]
  },
  {
   "cell_type": "code",
   "execution_count": 67,
   "metadata": {
    "collapsed": false
   },
   "outputs": [
    {
     "data": {
      "image/png": "[encoded data removed]",
      "text/plain": [
       "<matplotlib.figure.Figure at 0x7fc29cb309d0>"
      ]
     },
     "metadata": {},
     "output_type": "display_data"
    }
   ],
   "source": [
    "options=('Right Sobel', 'Detect Edges', 'Sharpen', 'Box Blur', 'Approximated Gaussian Blur')\n",
    "\n",
    "# Creating an interactive dropdown menu\n",
    "interact(convolutionFunc, image_processing=options, );\n",
    "print \"Choose an image processing option from the drop-down menu\""
   ]
  },
  {
   "cell_type": "markdown",
   "metadata": {},
   "source": [
    "I found the 'Detect Edges' convolution particularly useful when training image recognition models. This can be useful in many Machine Vision applications."
   ]
  },
  {
   "cell_type": "markdown",
   "metadata": {},
   "source": [
    "## Where to next?\n",
    "\n",
    "If you are interested in building your own custom image manipulation algorithms, you can click [here](../../../../ipy/notebooks/_demos/Convolutions%20using%20SQL%20and%20javascript.ipynb) to jump to the Convolution Demo. Otherwise, check out the other [Tutorials and Demos](../../../../doc/#builtin/Demos.md.html)."
   ]
  }
 ],
 "metadata": {
  "kernelspec": {
   "display_name": "Python 2",
   "language": "python",
   "name": "python2"
  },
  "language_info": {
   "codemirror_mode": {
    "name": "ipython",
    "version": 2
   },
   "file_extension": ".py",
   "mimetype": "text/x-python",
   "name": "python",
   "nbconvert_exporter": "python",
   "pygments_lexer": "ipython2",
   "version": "2.7.6"
  }
 },
 "nbformat": 4,
 "nbformat_minor": 0
}
