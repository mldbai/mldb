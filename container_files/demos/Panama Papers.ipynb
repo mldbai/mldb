{
 "cells": [
  {
   "cell_type": "markdown",
   "metadata": {},
   "source": [
    "# Investigating the Panama Papers\n",
    "\n",
    "This demo is about exploring some data using MLDB. We will load the [Offshore Leaks Database from ICIJ](https://offshoreleaks.icij.org/) and play with it a little, showing the SQL-like capabilities of MLDB and how easy it is to create simple charts using a few external python libraries."
   ]
  },
  {
   "cell_type": "code",
   "execution_count": 1,
   "metadata": {
    "collapsed": true,
    "scrolled": false
   },
   "outputs": [],
   "source": [
    "from pymldb import Connection\n",
    "mldb = Connection()"
   ]
  },
  {
   "cell_type": "code",
   "execution_count": 2,
   "metadata": {
    "collapsed": false,
    "scrolled": false
   },
   "outputs": [
    {
     "data": {
      "text/html": [
       "\n",
       "    <div class=\"bk-banner\">\n",
       "        <a href=\"http://bokeh.pydata.org\" target=\"_blank\" class=\"bk-logo bk-logo-small bk-logo-notebook\"></a>\n",
       "        <span id=\"ff3ad2fa-35a0-408f-a20d-252dcdd0e05e\">Loading BokehJS ...</span>\n",
       "    </div>"
      ]
     },
     "metadata": {},
     "output_type": "display_data"
    },
    {
     "data": {
      "application/javascript": [
       "\n",
       "(function(global) {\n",
       "  function now() {\n",
       "    return new Date();\n",
       "  }\n",
       "\n",
       "  if (typeof (window._bokeh_onload_callbacks) === \"undefined\") {\n",
       "    window._bokeh_onload_callbacks = [];\n",
       "  }\n",
       "\n",
       "  function run_callbacks() {\n",
       "    window._bokeh_onload_callbacks.forEach(function(callback) { callback() });\n",
       "    delete window._bokeh_onload_callbacks\n",
       "    console.info(\"Bokeh: all callbacks have finished\");\n",
       "  }\n",
       "\n",
       "  function load_libs(js_urls, callback) {\n",
       "    window._bokeh_onload_callbacks.push(callback);\n",
       "    if (window._bokeh_is_loading > 0) {\n",
       "      console.log(\"Bokeh: BokehJS is being loaded, scheduling callback at\", now());\n",
       "      return null;\n",
       "    }\n",
       "    if (js_urls == null || js_urls.length === 0) {\n",
       "      run_callbacks();\n",
       "      return null;\n",
       "    }\n",
       "    console.log(\"Bokeh: BokehJS not loaded, scheduling load and callback at\", now());\n",
       "    window._bokeh_is_loading = js_urls.length;\n",
       "    for (var i = 0; i < js_urls.length; i++) {\n",
       "      var url = js_urls[i];\n",
       "      var s = document.createElement('script');\n",
       "      s.src = url;\n",
       "      s.async = false;\n",
       "      s.onreadystatechange = s.onload = function() {\n",
       "        window._bokeh_is_loading--;\n",
       "        if (window._bokeh_is_loading === 0) {\n",
       "          console.log(\"Bokeh: all BokehJS libraries loaded\");\n",
       "          run_callbacks()\n",
       "        }\n",
       "      };\n",
       "      s.onerror = function() {\n",
       "        console.warn(\"failed to load library \" + url);\n",
       "      };\n",
       "      console.log(\"Bokeh: injecting script tag for BokehJS library: \", url);\n",
       "      document.getElementsByTagName(\"head\")[0].appendChild(s);\n",
       "    }\n",
       "  };\n",
       "\n",
       "  var js_urls = ['https://cdn.pydata.org/bokeh/release/bokeh-0.11.1.min.js', 'https://cdn.pydata.org/bokeh/release/bokeh-widgets-0.11.1.min.js', 'https://cdn.pydata.org/bokeh/release/bokeh-compiler-0.11.1.min.js'];\n",
       "\n",
       "  var inline_js = [\n",
       "    function(Bokeh) {\n",
       "      Bokeh.set_log_level(\"info\");\n",
       "    },\n",
       "    \n",
       "    function(Bokeh) {\n",
       "      Bokeh.$(\"#ff3ad2fa-35a0-408f-a20d-252dcdd0e05e\").text(\"BokehJS successfully loaded\");\n",
       "    },\n",
       "    function(Bokeh) {\n",
       "      console.log(\"Bokeh: injecting CSS: https://cdn.pydata.org/bokeh/release/bokeh-0.11.1.min.css\");\n",
       "      Bokeh.embed.inject_css(\"https://cdn.pydata.org/bokeh/release/bokeh-0.11.1.min.css\");\n",
       "      console.log(\"Bokeh: injecting CSS: https://cdn.pydata.org/bokeh/release/bokeh-widgets-0.11.1.min.css\");\n",
       "      Bokeh.embed.inject_css(\"https://cdn.pydata.org/bokeh/release/bokeh-widgets-0.11.1.min.css\");\n",
       "    }\n",
       "  ];\n",
       "\n",
       "  function run_inline_js() {\n",
       "    for (var i = 0; i < inline_js.length; i++) {\n",
       "      inline_js[i](window.Bokeh);\n",
       "    }\n",
       "  }\n",
       "\n",
       "  if (window._bokeh_is_loading === 0) {\n",
       "    console.log(\"Bokeh: BokehJS loaded, going straight to plotting\");\n",
       "    run_inline_js();\n",
       "  } else {\n",
       "    load_libs(js_urls, function() {\n",
       "      console.log(\"Bokeh: BokehJS plotting callback run at\", now());\n",
       "      run_inline_js();\n",
       "    });\n",
       "  }\n",
       "}(this));"
      ]
     },
     "metadata": {},
     "output_type": "display_data"
    }
   ],
   "source": [
    "# loading some plotting libraries and setting some defaults\n",
    "%matplotlib inline\n",
    "from pylab import rcParams\n",
    "rcParams['figure.figsize'] = 15, 5\n",
    "\n",
    "from bokeh.charts import Line, show\n",
    "from bokeh.models import HoverTool\n",
    "from bokeh.io import output_notebook\n",
    "output_notebook()"
   ]
  },
  {
   "cell_type": "markdown",
   "metadata": {},
   "source": [
    "Let's start by loading and cleaning the offshore companies data. The only tricky part is converting the original data's date format into a timestamp object, so that we can later treat as a date (and for example easily extract the year). Luckily we can use [`jseval`](../../../../doc/#builtin/sql/ValueExpression.md.html#builtinfunctions) and take advantage of Javascript's Date object which does the parsing for us."
   ]
  },
  {
   "cell_type": "code",
   "execution_count": 3,
   "metadata": {
    "collapsed": false,
    "scrolled": false
   },
   "outputs": [
    {
     "name": "stdout",
     "output_type": "stream",
     "text": [
      "<Response [201]>\n",
      "<Response [201]>\n"
     ]
    }
   ],
   "source": [
    "data_dir = 'http://public.mldb.ai/datasets/offshore_leaks/'\n",
    "print mldb.post(\"/v1/procedures\", {\n",
    "    \"type\": 'import.text',\n",
    "    \"params\": {\n",
    "        \"dataFileUrl\": data_dir + 'Entities.csv.gz',\n",
    "        \"delimiter\": ',',\n",
    "        \"encoding\": 'latin1',\n",
    "        \"runOnCreation\": True,\n",
    "        \"outputDataset\": 'entities_raw',\n",
    "        \"ignoreBadLines\": True,\n",
    "    }\n",
    "})\n",
    "\n",
    "print mldb.post('/v1/procedures', {\n",
    "    'type': 'transform',\n",
    "    'params': {\n",
    "        'inputData': \"\"\"\n",
    "            SELECT\n",
    "                * EXCLUDING(incorporation_date, inactivation_date, struck_off_date, dorm_date),\n",
    "                jseval('return d ? new Date(d) : null;', 'd', incorporation_date) as incorporation_date,\n",
    "                jseval('return d ? new Date(d) : null;', 'd', inactivation_date) as inactivation_date,\n",
    "                jseval('return d ? new Date(d) : null;', 'd', struck_off_date) as struck_off_date,\n",
    "                jseval('return d ? new Date(d) : null;', 'd', dorm_date) as dorm_date\n",
    "             FROM entities_raw\n",
    "             \"\"\",\n",
    "        'outputDataset': 'entities',\n",
    "        'runOnCreation': True\n",
    "        }\n",
    "    })"
   ]
  },
  {
   "cell_type": "markdown",
   "metadata": {},
   "source": [
    "This is what the created dataset looks like:"
   ]
  },
  {
   "cell_type": "code",
   "execution_count": 4,
   "metadata": {
    "collapsed": false,
    "scrolled": true
   },
   "outputs": [
    {
     "data": {
      "text/html": [
       "<div>\n",
       "<table border=\"1\" class=\"dataframe\">\n",
       "  <thead>\n",
       "    <tr style=\"text-align: right;\">\n",
       "      <th></th>\n",
       "      <th>address</th>\n",
       "      <th>company_type</th>\n",
       "      <th>countries</th>\n",
       "      <th>country_codes</th>\n",
       "      <th>ibcRUC</th>\n",
       "      <th>incorporation_date</th>\n",
       "      <th>jurisdiction</th>\n",
       "      <th>jurisdiction_description</th>\n",
       "      <th>name</th>\n",
       "      <th>node_id</th>\n",
       "      <th>service_provider</th>\n",
       "      <th>sourceID</th>\n",
       "      <th>status</th>\n",
       "      <th>valid_until</th>\n",
       "      <th>inactivation_date</th>\n",
       "      <th>internal_id</th>\n",
       "      <th>original_name</th>\n",
       "      <th>struck_off_date</th>\n",
       "    </tr>\n",
       "    <tr>\n",
       "      <th>_rowName</th>\n",
       "      <th></th>\n",
       "      <th></th>\n",
       "      <th></th>\n",
       "      <th></th>\n",
       "      <th></th>\n",
       "      <th></th>\n",
       "      <th></th>\n",
       "      <th></th>\n",
       "      <th></th>\n",
       "      <th></th>\n",
       "      <th></th>\n",
       "      <th></th>\n",
       "      <th></th>\n",
       "      <th></th>\n",
       "      <th></th>\n",
       "      <th></th>\n",
       "      <th></th>\n",
       "      <th></th>\n",
       "    </tr>\n",
       "  </thead>\n",
       "  <tbody>\n",
       "    <tr>\n",
       "      <th>247389</th>\n",
       "      <td>Portcullis TrustNet Chambers P.O. Box 3444 Roa...</td>\n",
       "      <td>Business Company Limited by Shares</td>\n",
       "      <td>British Virgin Islands</td>\n",
       "      <td>VGB</td>\n",
       "      <td>1470286</td>\n",
       "      <td>2008-03-17T00:00:00Z</td>\n",
       "      <td>BVI</td>\n",
       "      <td>British Virgin Islands</td>\n",
       "      <td>GOLDEN MAPLE INTERNATIONAL LIMITED</td>\n",
       "      <td>158128</td>\n",
       "      <td>Portcullis Trustnet</td>\n",
       "      <td>Offshore Leaks</td>\n",
       "      <td>Active</td>\n",
       "      <td>The Offshore Leaks data is current through 2010</td>\n",
       "      <td>None</td>\n",
       "      <td>NaN</td>\n",
       "      <td>None</td>\n",
       "      <td>None</td>\n",
       "    </tr>\n",
       "    <tr>\n",
       "      <th>247119</th>\n",
       "      <td>Portcullis TrustNet Chambers P.O. Box 3444 Roa...</td>\n",
       "      <td>Business Company Limited by Shares</td>\n",
       "      <td>British Virgin Islands</td>\n",
       "      <td>VGB</td>\n",
       "      <td>1467294</td>\n",
       "      <td>2008-02-29T00:00:00Z</td>\n",
       "      <td>BVI</td>\n",
       "      <td>British Virgin Islands</td>\n",
       "      <td>WINFIELD CANDLE STUDIO INC.</td>\n",
       "      <td>157954</td>\n",
       "      <td>Portcullis Trustnet</td>\n",
       "      <td>Offshore Leaks</td>\n",
       "      <td>Active</td>\n",
       "      <td>The Offshore Leaks data is current through 2010</td>\n",
       "      <td>None</td>\n",
       "      <td>NaN</td>\n",
       "      <td>None</td>\n",
       "      <td>None</td>\n",
       "    </tr>\n",
       "    <tr>\n",
       "      <th>224668</th>\n",
       "      <td>Portcullis TrustNet Chambers P.O. Box 3444 Roa...</td>\n",
       "      <td>Standard International Company</td>\n",
       "      <td>Cayman Islands;British Virgin Islands</td>\n",
       "      <td>CYM;VGB</td>\n",
       "      <td>553936</td>\n",
       "      <td>2003-07-24T00:00:00Z</td>\n",
       "      <td>BVI</td>\n",
       "      <td>British Virgin Islands</td>\n",
       "      <td>SHYE WOEN ECONOMY SAVER CORPORATION</td>\n",
       "      <td>140006</td>\n",
       "      <td>Portcullis Trustnet</td>\n",
       "      <td>Offshore Leaks</td>\n",
       "      <td>Active</td>\n",
       "      <td>The Offshore Leaks data is current through 2010</td>\n",
       "      <td>None</td>\n",
       "      <td>NaN</td>\n",
       "      <td>None</td>\n",
       "      <td>None</td>\n",
       "    </tr>\n",
       "    <tr>\n",
       "      <th>246998</th>\n",
       "      <td>None</td>\n",
       "      <td>Standard International Company</td>\n",
       "      <td>Samoa</td>\n",
       "      <td>WSM</td>\n",
       "      <td>11407/02</td>\n",
       "      <td>2002-08-22T00:00:00Z</td>\n",
       "      <td>SAM</td>\n",
       "      <td>Samoa</td>\n",
       "      <td>White Knight Holdings Limited</td>\n",
       "      <td>171705</td>\n",
       "      <td>Portcullis Trustnet</td>\n",
       "      <td>Offshore Leaks</td>\n",
       "      <td>Struck / Defunct / Deregistered</td>\n",
       "      <td>The Offshore Leaks data is current through 2010</td>\n",
       "      <td>None</td>\n",
       "      <td>NaN</td>\n",
       "      <td>None</td>\n",
       "      <td>None</td>\n",
       "    </tr>\n",
       "    <tr>\n",
       "      <th>71190</th>\n",
       "      <td>CAVERSHAM S.A. RUE DU XXXI DECEMBRE 42 GENEVE ...</td>\n",
       "      <td>None</td>\n",
       "      <td>Switzerland</td>\n",
       "      <td>CHE</td>\n",
       "      <td>224766</td>\n",
       "      <td>1997-03-27T00:00:00Z</td>\n",
       "      <td>BVI</td>\n",
       "      <td>British Virgin Islands</td>\n",
       "      <td>BRYNLEY FINANCE LIMITED</td>\n",
       "      <td>10070608</td>\n",
       "      <td>Mossack Fonseca</td>\n",
       "      <td>Panama Papers</td>\n",
       "      <td>Defaulted</td>\n",
       "      <td>The Panama Papers data is current through 2015</td>\n",
       "      <td>2006-11-01T00:00:00Z</td>\n",
       "      <td>521455</td>\n",
       "      <td>BRYNLEY FINANCE LIMITED</td>\n",
       "      <td>2006-10-31T00:00:00Z</td>\n",
       "    </tr>\n",
       "  </tbody>\n",
       "</table>\n",
       "</div>"
      ],
      "text/plain": [
       "                                                    address  \\\n",
       "_rowName                                                      \n",
       "247389    Portcullis TrustNet Chambers P.O. Box 3444 Roa...   \n",
       "247119    Portcullis TrustNet Chambers P.O. Box 3444 Roa...   \n",
       "224668    Portcullis TrustNet Chambers P.O. Box 3444 Roa...   \n",
       "246998                                                 None   \n",
       "71190     CAVERSHAM S.A. RUE DU XXXI DECEMBRE 42 GENEVE ...   \n",
       "\n",
       "                                company_type  \\\n",
       "_rowName                                       \n",
       "247389    Business Company Limited by Shares   \n",
       "247119    Business Company Limited by Shares   \n",
       "224668        Standard International Company   \n",
       "246998        Standard International Company   \n",
       "71190                                   None   \n",
       "\n",
       "                                      countries country_codes    ibcRUC  \\\n",
       "_rowName                                                                  \n",
       "247389                   British Virgin Islands           VGB   1470286   \n",
       "247119                   British Virgin Islands           VGB   1467294   \n",
       "224668    Cayman Islands;British Virgin Islands       CYM;VGB    553936   \n",
       "246998                                    Samoa           WSM  11407/02   \n",
       "71190                               Switzerland           CHE    224766   \n",
       "\n",
       "            incorporation_date jurisdiction jurisdiction_description  \\\n",
       "_rowName                                                               \n",
       "247389    2008-03-17T00:00:00Z          BVI   British Virgin Islands   \n",
       "247119    2008-02-29T00:00:00Z          BVI   British Virgin Islands   \n",
       "224668    2003-07-24T00:00:00Z          BVI   British Virgin Islands   \n",
       "246998    2002-08-22T00:00:00Z          SAM                    Samoa   \n",
       "71190     1997-03-27T00:00:00Z          BVI   British Virgin Islands   \n",
       "\n",
       "                                         name   node_id     service_provider  \\\n",
       "_rowName                                                                       \n",
       "247389     GOLDEN MAPLE INTERNATIONAL LIMITED    158128  Portcullis Trustnet   \n",
       "247119            WINFIELD CANDLE STUDIO INC.    157954  Portcullis Trustnet   \n",
       "224668    SHYE WOEN ECONOMY SAVER CORPORATION    140006  Portcullis Trustnet   \n",
       "246998          White Knight Holdings Limited    171705  Portcullis Trustnet   \n",
       "71190                 BRYNLEY FINANCE LIMITED  10070608      Mossack Fonseca   \n",
       "\n",
       "                sourceID                           status  \\\n",
       "_rowName                                                    \n",
       "247389    Offshore Leaks                           Active   \n",
       "247119    Offshore Leaks                           Active   \n",
       "224668    Offshore Leaks                           Active   \n",
       "246998    Offshore Leaks  Struck / Defunct / Deregistered   \n",
       "71190      Panama Papers                        Defaulted   \n",
       "\n",
       "                                              valid_until  \\\n",
       "_rowName                                                    \n",
       "247389    The Offshore Leaks data is current through 2010   \n",
       "247119    The Offshore Leaks data is current through 2010   \n",
       "224668    The Offshore Leaks data is current through 2010   \n",
       "246998    The Offshore Leaks data is current through 2010   \n",
       "71190      The Panama Papers data is current through 2015   \n",
       "\n",
       "             inactivation_date  internal_id            original_name  \\\n",
       "_rowName                                                               \n",
       "247389                    None          NaN                     None   \n",
       "247119                    None          NaN                     None   \n",
       "224668                    None          NaN                     None   \n",
       "246998                    None          NaN                     None   \n",
       "71190     2006-11-01T00:00:00Z       521455  BRYNLEY FINANCE LIMITED   \n",
       "\n",
       "               struck_off_date  \n",
       "_rowName                        \n",
       "247389                    None  \n",
       "247119                    None  \n",
       "224668                    None  \n",
       "246998                    None  \n",
       "71190     2006-10-31T00:00:00Z  "
      ]
     },
     "execution_count": 4,
     "metadata": {},
     "output_type": "execute_result"
    }
   ],
   "source": [
    "mldb.query(\"select * from entities limit 5\")"
   ]
  },
  {
   "cell_type": "markdown",
   "metadata": {},
   "source": [
    "We can now count the number of offshore companies per jurisdiction (the country when they are legally located)."
   ]
  },
  {
   "cell_type": "code",
   "execution_count": 5,
   "metadata": {
    "collapsed": false,
    "scrolled": true
   },
   "outputs": [
    {
     "name": "stdout",
     "output_type": "stream",
     "text": [
      "                           count\n",
      "_rowName                        \n",
      "British Virgin Islands    151587\n",
      "Panama                     48373\n",
      "Bahamas                    15946\n",
      "Seychelles                 15580\n",
      "Samoa                      13418\n",
      "Niue                        9611\n",
      "British Anguilla            3253\n",
      "Cook Islands                2637\n",
      "Hong Kong                   1603\n",
      "Nevada                      1260\n",
      "Singapore                    740\n",
      "Cayman                       668\n",
      "Labuan                       423\n",
      "United Kingdom               151\n",
      "Belize                       130\n",
      "Mauritius                     82\n",
      "Cyprus                        79\n",
      "Costa Rica                    78\n",
      "Malaysia                      71\n",
      "Uruguay                       52\n",
      "New Zealand                   47\n",
      "Jersey                        39\n",
      "Wyoming                       37\n",
      "Malta                         28\n",
      "Liberia                       11\n",
      "Isle Of Man                    8\n",
      "Marshall Islands               6\n",
      "Bermuda                        6\n",
      "Vanuatu                        5\n",
      "\"St. Lucia\"                    4\n",
      "Netherlands                    2\n",
      "Ras Al Khaimah                 2\n",
      "Dubai                          2\n",
      "Thailand                       2\n",
      "United States Of America       2\n",
      "Brunei                         2\n",
      "Ireland                        1\n",
      "China                          1\n"
     ]
    },
    {
     "data": {
      "text/plain": [
       "<matplotlib.axes._subplots.AxesSubplot at 0x7f26a0d3ea90>"
      ]
     },
     "execution_count": 5,
     "metadata": {},
     "output_type": "execute_result"
    },
    {
     "data": {
      "image/png": "[encoded data removed]",
      "text/plain": [
       "<matplotlib.figure.Figure at 0x7f26a8b24710>"
      ]
     },
     "metadata": {},
     "output_type": "display_data"
    }
   ],
   "source": [
    "def bar_plot(dataframe, title='', print_table=True):\n",
    "    \"\"\" plot the result of a query in a bar chart \"\"\"\n",
    "    if print_table:\n",
    "        print dataframe\n",
    "    ax = dataframe.plot(kind='bar')\n",
    "    for tick in ax.get_xticklabels():\n",
    "        tick.set_rotation(70)\n",
    "    ax.set_title(title)\n",
    "    ax.set_xlabel('')\n",
    "    return ax\n",
    "\n",
    "data = mldb.query(\"\"\"\n",
    "SELECT count(*) AS count\n",
    "NAMED jurisdiction_description\n",
    "FROM entities\n",
    "WHERE jurisdiction != 'XXX'\n",
    "GROUP BY jurisdiction_description\n",
    "ORDER BY count DESC\n",
    "\"\"\")\n",
    "# keeping the top countries for later\n",
    "most_entities = list(data.index)[:20]\n",
    "bar_plot(data, 'Nb of entities per jurisdiction')"
   ]
  },
  {
   "cell_type": "markdown",
   "metadata": {},
   "source": [
    "Or we can look at the number of offshore companies created each year. Here we use the [`date_part` function](../../../../doc/#builtin/sql/ValueExpression.md.html#builtinfunctions) to extract the year, and then we `GROUP BY` on that year and `count` the number of companies."
   ]
  },
  {
   "cell_type": "code",
   "execution_count": 6,
   "metadata": {
    "collapsed": false,
    "scrolled": false
   },
   "outputs": [
    {
     "data": {
      "text/plain": [
       "<matplotlib.axes._subplots.AxesSubplot at 0x7f26a0d3e310>"
      ]
     },
     "execution_count": 6,
     "metadata": {},
     "output_type": "execute_result"
    },
    {
     "data": {
      "image/png": "[encoded data removed]",
      "text/plain": [
       "<matplotlib.figure.Figure at 0x7f26a0c8c3d0>"
      ]
     },
     "metadata": {},
     "output_type": "display_data"
    }
   ],
   "source": [
    "bar_plot(mldb.query(\"\"\"\n",
    "SELECT count(*) as count\n",
    "NAMED year\n",
    "FROM (\n",
    "    SELECT date_part('year', incorporation_date) AS year\n",
    "    FROM entities\n",
    "    WHERE incorporation_date IS NOT NULL\n",
    ")\n",
    "WHERE year BETWEEN 1977 AND 2016\n",
    "GROUP BY year\n",
    "ORDER BY year\n",
    "\"\"\"), title='nb of incorporated offshore companies in the panama papers', print_table=False)"
   ]
  },
  {
   "cell_type": "markdown",
   "metadata": {},
   "source": [
    "We can do something similar but also group on the country, and see how many offshore companies were created per year per country. We only keep the top countries using a `IN` statement."
   ]
  },
  {
   "cell_type": "code",
   "execution_count": 7,
   "metadata": {
    "collapsed": false,
    "scrolled": false
   },
   "outputs": [],
   "source": [
    "most_entities_str = ', '.join([\"'\" + x + \"'\"  for x in most_entities])\n",
    "data = mldb.query(\"\"\"\n",
    "select\n",
    "    year, country, count(*) as count\n",
    "    from (\n",
    "        select date_part('year', incorporation_date) as year,\n",
    "               jurisdiction_description as country\n",
    "        from entities\n",
    "        where incorporation_date is not null\n",
    "              AND (jurisdiction_description IN (%s))\n",
    "    )\n",
    "    where year BETWEEN 1977 AND 2016\n",
    "    group by country, year\n",
    "    order by country, year\n",
    "\"\"\" % most_entities_str)"
   ]
  },
  {
   "cell_type": "code",
   "execution_count": 8,
   "metadata": {
    "collapsed": false,
    "scrolled": false
   },
   "outputs": [
    {
     "data": {
      "text/html": [
       "\n",
       "\n",
       "    <div class=\"plotdiv\" id=\"e77eb1f7-2e5f-4088-8039-6961866f3ba8\"></div>\n",
       "<script type=\"text/javascript\">\n",
       "  \n",
       "  (function(global) {\n",
       "    function now() {\n",
       "      return new Date();\n",
       "    }\n",
       "  \n",
       "    if (typeof (window._bokeh_onload_callbacks) === \"undefined\") {\n",
       "      window._bokeh_onload_callbacks = [];\n",
       "    }\n",
       "  \n",
       "    function run_callbacks() {\n",
       "      window._bokeh_onload_callbacks.forEach(function(callback) { callback() });\n",
       "      delete window._bokeh_onload_callbacks\n",
       "      console.info(\"Bokeh: all callbacks have finished\");\n",
       "    }\n",
       "  \n",
       "    function load_libs(js_urls, callback) {\n",
       "      window._bokeh_onload_callbacks.push(callback);\n",
       "      if (window._bokeh_is_loading > 0) {\n",
       "        console.log(\"Bokeh: BokehJS is being loaded, scheduling callback at\", now());\n",
       "        return null;\n",
       "      }\n",
       "      if (js_urls == null || js_urls.length === 0) {\n",
       "        run_callbacks();\n",
       "        return null;\n",
       "      }\n",
       "      console.log(\"Bokeh: BokehJS not loaded, scheduling load and callback at\", now());\n",
       "      window._bokeh_is_loading = js_urls.length;\n",
       "      for (var i = 0; i < js_urls.length; i++) {\n",
       "        var url = js_urls[i];\n",
       "        var s = document.createElement('script');\n",
       "        s.src = url;\n",
       "        s.async = false;\n",
       "        s.onreadystatechange = s.onload = function() {\n",
       "          window._bokeh_is_loading--;\n",
       "          if (window._bokeh_is_loading === 0) {\n",
       "            console.log(\"Bokeh: all BokehJS libraries loaded\");\n",
       "            run_callbacks()\n",
       "          }\n",
       "        };\n",
       "        s.onerror = function() {\n",
       "          console.warn(\"failed to load library \" + url);\n",
       "        };\n",
       "        console.log(\"Bokeh: injecting script tag for BokehJS library: \", url);\n",
       "        document.getElementsByTagName(\"head\")[0].appendChild(s);\n",
       "      }\n",
       "    };var element = document.getElementById(\"e77eb1f7-2e5f-4088-8039-6961866f3ba8\");\n",
       "    if (element == null) {\n",
       "      console.log(\"Bokeh: ERROR: autoload.js configured with elementid 'e77eb1f7-2e5f-4088-8039-6961866f3ba8' but no matching script tag was found. \")\n",
       "      return false;\n",
       "    }\n",
       "  \n",
       "    var js_urls = [];\n",
       "  \n",
       "    var inline_js = [\n",
       "      function(Bokeh) {\n",
       "        Bokeh.$(function() {\n",
       "            var docs_json = {\"ac5a17c7-e857-4ef5-a5e3-6266f8514c4f\":{\"roots\":{\"references\":[{\"attributes\":{\"line_color\":{\"value\":\"#f22c40\"},\"line_width\":{\"value\":2},\"x\":{\"field\":\"x_values\"},\"y\":{\"field\":\"y_values\"}},\"id\":\"246e3b48-a7ef-4a63-b636-099b8a9473e3\",\"type\":\"Line\"},{\"attributes\":{\"line_color\":{\"value\":\"#df5320\"},\"line_width\":{\"value\":2},\"x\":{\"field\":\"x_values\"},\"y\":{\"field\":\"y_values\"}},\"id\":\"0f97cd00-3d0f-4745-bc92-ebc6a73a14ec\",\"type\":\"Line\"},{\"attributes\":{\"callback\":null,\"column_names\":[\"x_values\",\"y_values\"],\"data\":{\"chart_index\":[{\"country\":\"Samoa\"},{\"country\":\"Samoa\"},{\"country\":\"Samoa\"},{\"country\":\"Samoa\"},{\"country\":\"Samoa\"},{\"country\":\"Samoa\"},{\"country\":\"Samoa\"},{\"country\":\"Samoa\"},{\"country\":\"Samoa\"},{\"country\":\"Samoa\"},{\"country\":\"Samoa\"},{\"country\":\"Samoa\"},{\"country\":\"Samoa\"},{\"country\":\"Samoa\"},{\"country\":\"Samoa\"},{\"country\":\"Samoa\"},{\"country\":\"Samoa\"},{\"country\":\"Samoa\"},{\"country\":\"Samoa\"},{\"country\":\"Samoa\"},{\"country\":\"Samoa\"},{\"country\":\"Samoa\"},{\"country\":\"Samoa\"},{\"country\":\"Samoa\"},{\"country\":\"Samoa\"}],\"country\":[\"Samoa\",\"Samoa\",\"Samoa\",\"Samoa\",\"Samoa\",\"Samoa\",\"Samoa\",\"Samoa\",\"Samoa\",\"Samoa\",\"Samoa\",\"Samoa\",\"Samoa\",\"Samoa\",\"Samoa\",\"Samoa\",\"Samoa\",\"Samoa\",\"Samoa\",\"Samoa\",\"Samoa\",\"Samoa\",\"Samoa\",\"Samoa\",\"Samoa\"],\"x_values\":[1991,1992,1993,1994,1995,1996,1997,1998,1999,2000,2001,2002,2003,2004,2005,2006,2007,2008,2009,2010,2011,2012,2013,2014,2015],\"y_values\":[6,18,6,8,6,19,25,100,47,174,363,443,430,965,1492,2505,2447,1588,808,362,301,235,407,404,259]}},\"id\":\"0014dcee-7111-4ff8-8acc-0baf3a743e96\",\"type\":\"ColumnDataSource\"},{\"attributes\":{},\"id\":\"b36ef223-c9cc-4736-b61e-70f13540b54e\",\"type\":\"ToolEvents\"},{\"attributes\":{\"line_color\":{\"value\":\"#df5320\"},\"line_width\":{\"value\":2},\"x\":{\"field\":\"x_values\"},\"y\":{\"field\":\"y_values\"}},\"id\":\"b76f595a-1e6a-4a35-9978-9a6cec2ae7d2\",\"type\":\"Line\"},{\"attributes\":{\"callback\":null,\"end\":2018.8,\"start\":1973.2},\"id\":\"d0bed817-67d8-4def-a3a5-a6aa53e465c1\",\"type\":\"Range1d\"},{\"attributes\":{\"callback\":null,\"column_names\":[\"x_values\",\"y_values\"],\"data\":{\"chart_index\":[{\"country\":\"Niue\"},{\"country\":\"Niue\"},{\"country\":\"Niue\"},{\"country\":\"Niue\"},{\"country\":\"Niue\"},{\"country\":\"Niue\"},{\"country\":\"Niue\"},{\"country\":\"Niue\"},{\"country\":\"Niue\"},{\"country\":\"Niue\"},{\"country\":\"Niue\"},{\"country\":\"Niue\"},{\"country\":\"Niue\"}],\"country\":[\"Niue\",\"Niue\",\"Niue\",\"Niue\",\"Niue\",\"Niue\",\"Niue\",\"Niue\",\"Niue\",\"Niue\",\"Niue\",\"Niue\",\"Niue\"],\"x_values\":[1994,1995,1996,1997,1998,1999,2000,2001,2002,2003,2004,2005,2006],\"y_values\":[123,430,894,1036,1153,1858,1622,902,466,672,437,12,6]}},\"id\":\"fd0c96da-9761-4fc6-808e-56dc1a7e6fd7\",\"type\":\"ColumnDataSource\"},{\"attributes\":{\"data_source\":{\"id\":\"dced5398-02c9-45eb-8f98-8310069c7f3e\",\"type\":\"ColumnDataSource\"},\"glyph\":{\"id\":\"1796975b-adbc-4573-b956-a68bff39976e\",\"type\":\"Line\"},\"hover_glyph\":null,\"nonselection_glyph\":null,\"selection_glyph\":null},\"id\":\"2b99547b-4f41-4b30-b03d-bff9653ae0b2\",\"type\":\"GlyphRenderer\"},{\"attributes\":{\"callback\":null,\"column_names\":[\"x_values\",\"y_values\"],\"data\":{\"chart_index\":[{\"country\":\"Cayman\"},{\"country\":\"Cayman\"},{\"country\":\"Cayman\"},{\"country\":\"Cayman\"},{\"country\":\"Cayman\"},{\"country\":\"Cayman\"},{\"country\":\"Cayman\"},{\"country\":\"Cayman\"},{\"country\":\"Cayman\"},{\"country\":\"Cayman\"},{\"country\":\"Cayman\"},{\"country\":\"Cayman\"},{\"country\":\"Cayman\"},{\"country\":\"Cayman\"},{\"country\":\"Cayman\"},{\"country\":\"Cayman\"},{\"country\":\"Cayman\"}],\"country\":[\"Cayman\",\"Cayman\",\"Cayman\",\"Cayman\",\"Cayman\",\"Cayman\",\"Cayman\",\"Cayman\",\"Cayman\",\"Cayman\",\"Cayman\",\"Cayman\",\"Cayman\",\"Cayman\",\"Cayman\",\"Cayman\",\"Cayman\"],\"x_values\":[1990,1992,1995,1996,1997,1998,1999,2000,2001,2002,2003,2004,2005,2006,2007,2008,2009],\"y_values\":[2,2,1,3,13,20,31,95,50,53,37,37,51,72,105,62,31]}},\"id\":\"57f6d8b6-2d84-4bed-a32b-1253e1dc83d6\",\"type\":\"ColumnDataSource\"},{\"attributes\":{\"below\":[{\"id\":\"165ab268-80ad-414d-b394-91715cdaf65f\",\"type\":\"LinearAxis\"}],\"left\":[{\"id\":\"941e4767-50a6-4053-911d-6651313327d7\",\"type\":\"LinearAxis\"}],\"legend\":\"top_left\",\"plot_width\":1000,\"renderers\":[{\"id\":\"e0fb3c65-f7ce-46d0-894d-3c6e36e4038f\",\"type\":\"GlyphRenderer\"},{\"id\":\"90308c01-d988-4e5c-b7bd-867a8e9a06b9\",\"type\":\"GlyphRenderer\"},{\"id\":\"e34dcbeb-f72b-4375-b8c9-7511088cd6f5\",\"type\":\"GlyphRenderer\"},{\"id\":\"6346cf0b-3b48-4103-b3b3-8e5f1f2b2289\",\"type\":\"GlyphRenderer\"},{\"id\":\"ef3b6f15-f2d4-453f-9af4-9cec80d0dbc2\",\"type\":\"GlyphRenderer\"},{\"id\":\"8351e2a0-b77e-41ea-83ee-d6dc218d4186\",\"type\":\"GlyphRenderer\"},{\"id\":\"51222023-f21c-444a-abec-8853c56ae311\",\"type\":\"GlyphRenderer\"},{\"id\":\"968587ca-1115-4216-925f-f73934bb87fd\",\"type\":\"GlyphRenderer\"},{\"id\":\"56e7bfdc-081a-4f3b-8936-a9e250b3c198\",\"type\":\"GlyphRenderer\"},{\"id\":\"d9a31211-9111-4253-a12b-a901b53011f6\",\"type\":\"GlyphRenderer\"},{\"id\":\"55fe352a-1646-42ab-96f3-f36d01f6ebca\",\"type\":\"GlyphRenderer\"},{\"id\":\"71e4e24d-b57d-4436-959d-48c2582edaec\",\"type\":\"GlyphRenderer\"},{\"id\":\"2b99547b-4f41-4b30-b03d-bff9653ae0b2\",\"type\":\"GlyphRenderer\"},{\"id\":\"c0d6f8f1-58cf-447b-b27b-87bf6be587f7\",\"type\":\"GlyphRenderer\"},{\"id\":\"fe12d371-1bec-42d7-a77f-9440667f6b51\",\"type\":\"GlyphRenderer\"},{\"id\":\"1866c826-7c9b-4c7a-98e9-5133b7f542ea\",\"type\":\"GlyphRenderer\"},{\"id\":\"51011837-9d1c-43c4-93d8-29bfc2d8aa3b\",\"type\":\"GlyphRenderer\"},{\"id\":\"3bb0e5ec-cfb9-457f-b281-3f050c5816ef\",\"type\":\"GlyphRenderer\"},{\"id\":\"aabedb0b-fc22-4b11-8c48-ff11dbab4a62\",\"type\":\"GlyphRenderer\"},{\"id\":\"3c393c87-845d-4481-9a65-23c0a35d2fc6\",\"type\":\"GlyphRenderer\"},{\"id\":\"78fbed1b-b396-4639-8dc8-c854819c045f\",\"type\":\"Legend\"},{\"id\":\"165ab268-80ad-414d-b394-91715cdaf65f\",\"type\":\"LinearAxis\"},{\"id\":\"941e4767-50a6-4053-911d-6651313327d7\",\"type\":\"LinearAxis\"},{\"id\":\"6a169950-cd12-443f-84db-6b93f7a599ba\",\"type\":\"Grid\"},{\"id\":\"33f98d1b-8768-41ee-9d8d-4ccf32ef21a4\",\"type\":\"Grid\"}],\"title_text_font_size\":{\"value\":\"14pt\"},\"tool_events\":{\"id\":\"b36ef223-c9cc-4736-b61e-70f13540b54e\",\"type\":\"ToolEvents\"},\"tools\":[{\"id\":\"4fb61866-2714-4c6a-94dd-06a3b81f52ac\",\"type\":\"HoverTool\"}],\"x_mapper_type\":\"auto\",\"x_range\":{\"id\":\"d0bed817-67d8-4def-a3a5-a6aa53e465c1\",\"type\":\"Range1d\"},\"xscale\":\"auto\",\"y_mapper_type\":\"auto\",\"y_range\":{\"id\":\"1ed9a119-7f38-48bf-abf1-c92acf533945\",\"type\":\"Range1d\"},\"yscale\":\"auto\"},\"id\":\"5d250f67-b2a6-4daa-8a8a-d8d23587b834\",\"subtype\":\"Chart\",\"type\":\"Plot\"},{\"attributes\":{\"data_source\":{\"id\":\"bba7fd94-9e56-47cf-8711-dd686f61d575\",\"type\":\"ColumnDataSource\"},\"glyph\":{\"id\":\"0e479cdd-4424-4344-b14b-f7004db5e325\",\"type\":\"Line\"},\"hover_glyph\":null,\"nonselection_glyph\":null,\"selection_glyph\":null},\"id\":\"56e7bfdc-081a-4f3b-8936-a9e250b3c198\",\"type\":\"GlyphRenderer\"},{\"attributes\":{\"callback\":null,\"column_names\":[\"x_values\",\"y_values\"],\"data\":{\"chart_index\":[{\"country\":\"United Kingdom\"},{\"country\":\"United Kingdom\"},{\"country\":\"United Kingdom\"},{\"country\":\"United Kingdom\"},{\"country\":\"United Kingdom\"},{\"country\":\"United Kingdom\"},{\"country\":\"United Kingdom\"},{\"country\":\"United Kingdom\"},{\"country\":\"United Kingdom\"},{\"country\":\"United Kingdom\"},{\"country\":\"United Kingdom\"},{\"country\":\"United Kingdom\"},{\"country\":\"United Kingdom\"},{\"country\":\"United Kingdom\"},{\"country\":\"United Kingdom\"},{\"country\":\"United Kingdom\"},{\"country\":\"United Kingdom\"},{\"country\":\"United Kingdom\"}],\"country\":[\"United Kingdom\",\"United Kingdom\",\"United Kingdom\",\"United Kingdom\",\"United Kingdom\",\"United Kingdom\",\"United Kingdom\",\"United Kingdom\",\"United Kingdom\",\"United Kingdom\",\"United Kingdom\",\"United Kingdom\",\"United Kingdom\",\"United Kingdom\",\"United Kingdom\",\"United Kingdom\",\"United Kingdom\",\"United Kingdom\"],\"x_values\":[1987,1997,2000,2001,2002,2003,2004,2005,2006,2007,2008,2009,2010,2011,2012,2013,2014,2015],\"y_values\":[1,2,2,1,2,2,2,8,11,8,6,4,5,5,4,18,40,30]}},\"id\":\"5ba35774-10fc-492d-9335-92af9ca58bdb\",\"type\":\"ColumnDataSource\"},{\"attributes\":{\"data_source\":{\"id\":\"f585c9ad-ea58-4b73-9d35-acc33e1d5907\",\"type\":\"ColumnDataSource\"},\"glyph\":{\"id\":\"3b7ff398-3731-4b54-841e-16d7f93db393\",\"type\":\"Line\"},\"hover_glyph\":null,\"nonselection_glyph\":null,\"selection_glyph\":null},\"id\":\"3bb0e5ec-cfb9-457f-b281-3f050c5816ef\",\"type\":\"GlyphRenderer\"},{\"attributes\":{\"data_source\":{\"id\":\"22d071ef-5f8e-49a5-bf82-42dceceb9db5\",\"type\":\"ColumnDataSource\"},\"glyph\":{\"id\":\"6caddd9b-58b9-43cd-b8c0-3d00f10afd11\",\"type\":\"Line\"},\"hover_glyph\":null,\"nonselection_glyph\":null,\"selection_glyph\":null},\"id\":\"90308c01-d988-4e5c-b7bd-867a8e9a06b9\",\"type\":\"GlyphRenderer\"},{\"attributes\":{},\"id\":\"396569be-a2a9-4d67-9b5b-c255a3ef1823\",\"type\":\"BasicTicker\"},{\"attributes\":{\"line_color\":{\"value\":\"#f22c40\"},\"line_width\":{\"value\":2},\"x\":{\"field\":\"x_values\"},\"y\":{\"field\":\"y_values\"}},\"id\":\"7e345725-5350-46bf-b907-45657304351b\",\"type\":\"Line\"},{\"attributes\":{\"line_color\":{\"value\":\"#407ee7\"},\"line_width\":{\"value\":2},\"x\":{\"field\":\"x_values\"},\"y\":{\"field\":\"y_values\"}},\"id\":\"0e479cdd-4424-4344-b14b-f7004db5e325\",\"type\":\"Line\"},{\"attributes\":{\"line_color\":{\"value\":\"#5ab738\"},\"line_width\":{\"value\":2},\"x\":{\"field\":\"x_values\"},\"y\":{\"field\":\"y_values\"}},\"id\":\"4567841a-e5b7-4318-a46c-dd7231a7b6c1\",\"type\":\"Line\"},{\"attributes\":{\"line_color\":{\"value\":\"#5ab738\"},\"line_width\":{\"value\":2},\"x\":{\"field\":\"x_values\"},\"y\":{\"field\":\"y_values\"}},\"id\":\"d0fe996e-2a74-44a0-b1a6-5d00ef12d7d3\",\"type\":\"Line\"},{\"attributes\":{\"data_source\":{\"id\":\"d23784cd-ccac-4e89-82f6-cc2c40a8bfae\",\"type\":\"ColumnDataSource\"},\"glyph\":{\"id\":\"82a9b673-e858-447c-bd31-42c95b0a58a6\",\"type\":\"Line\"},\"hover_glyph\":null,\"nonselection_glyph\":null,\"selection_glyph\":null},\"id\":\"e0fb3c65-f7ce-46d0-894d-3c6e36e4038f\",\"type\":\"GlyphRenderer\"},{\"attributes\":{\"callback\":null,\"end\":12161.5,\"start\":-1104.5},\"id\":\"1ed9a119-7f38-48bf-abf1-c92acf533945\",\"type\":\"Range1d\"},{\"attributes\":{\"line_color\":{\"value\":\"#00ad9c\"},\"line_width\":{\"value\":2},\"x\":{\"field\":\"x_values\"},\"y\":{\"field\":\"y_values\"}},\"id\":\"9d515777-eeec-43cf-8d67-d2171ab2d003\",\"type\":\"Line\"},{\"attributes\":{\"callback\":null,\"column_names\":[\"x_values\",\"y_values\"],\"data\":{\"chart_index\":[{\"country\":\"Hong Kong\"},{\"country\":\"Hong Kong\"},{\"country\":\"Hong Kong\"},{\"country\":\"Hong Kong\"},{\"country\":\"Hong Kong\"},{\"country\":\"Hong Kong\"},{\"country\":\"Hong Kong\"},{\"country\":\"Hong Kong\"},{\"country\":\"Hong Kong\"},{\"country\":\"Hong Kong\"},{\"country\":\"Hong Kong\"},{\"country\":\"Hong Kong\"},{\"country\":\"Hong Kong\"},{\"country\":\"Hong Kong\"},{\"country\":\"Hong Kong\"},{\"country\":\"Hong Kong\"},{\"country\":\"Hong Kong\"},{\"country\":\"Hong Kong\"},{\"country\":\"Hong Kong\"},{\"country\":\"Hong Kong\"},{\"country\":\"Hong Kong\"},{\"country\":\"Hong Kong\"},{\"country\":\"Hong Kong\"},{\"country\":\"Hong Kong\"},{\"country\":\"Hong Kong\"},{\"country\":\"Hong Kong\"},{\"country\":\"Hong Kong\"},{\"country\":\"Hong Kong\"},{\"country\":\"Hong Kong\"},{\"country\":\"Hong Kong\"},{\"country\":\"Hong Kong\"}],\"country\":[\"Hong Kong\",\"Hong Kong\",\"Hong Kong\",\"Hong Kong\",\"Hong Kong\",\"Hong Kong\",\"Hong Kong\",\"Hong Kong\",\"Hong Kong\",\"Hong Kong\",\"Hong Kong\",\"Hong Kong\",\"Hong Kong\",\"Hong Kong\",\"Hong Kong\",\"Hong Kong\",\"Hong Kong\",\"Hong Kong\",\"Hong Kong\",\"Hong Kong\",\"Hong Kong\",\"Hong Kong\",\"Hong Kong\",\"Hong Kong\",\"Hong Kong\",\"Hong Kong\",\"Hong Kong\",\"Hong Kong\",\"Hong Kong\",\"Hong Kong\",\"Hong Kong\"],\"x_values\":[1982,1984,1987,1988,1989,1990,1991,1992,1993,1994,1995,1996,1997,1998,1999,2000,2001,2002,2003,2004,2005,2006,2007,2008,2009,2010,2011,2012,2013,2014,2015],\"y_values\":[1,1,2,1,1,3,3,3,5,4,3,12,4,16,18,151,123,88,83,134,134,140,182,136,41,17,22,32,32,23,23]}},\"id\":\"bba7fd94-9e56-47cf-8711-dd686f61d575\",\"type\":\"ColumnDataSource\"},{\"attributes\":{},\"id\":\"af994060-b0f1-42c9-ad35-b8ea8dedc3f6\",\"type\":\"BasicTicker\"},{\"attributes\":{\"line_color\":{\"value\":\"#00ad9c\"},\"line_width\":{\"value\":2},\"x\":{\"field\":\"x_values\"},\"y\":{\"field\":\"y_values\"}},\"id\":\"0f135b9d-53dc-425b-90ee-add906657ad3\",\"type\":\"Line\"},{\"attributes\":{\"callback\":null,\"column_names\":[\"x_values\",\"y_values\"],\"data\":{\"chart_index\":[{\"country\":\"Uruguay\"},{\"country\":\"Uruguay\"},{\"country\":\"Uruguay\"},{\"country\":\"Uruguay\"},{\"country\":\"Uruguay\"},{\"country\":\"Uruguay\"},{\"country\":\"Uruguay\"},{\"country\":\"Uruguay\"},{\"country\":\"Uruguay\"},{\"country\":\"Uruguay\"},{\"country\":\"Uruguay\"},{\"country\":\"Uruguay\"},{\"country\":\"Uruguay\"}],\"country\":[\"Uruguay\",\"Uruguay\",\"Uruguay\",\"Uruguay\",\"Uruguay\",\"Uruguay\",\"Uruguay\",\"Uruguay\",\"Uruguay\",\"Uruguay\",\"Uruguay\",\"Uruguay\",\"Uruguay\"],\"x_values\":[2000,2001,2002,2003,2004,2005,2006,2007,2009,2010,2012,2013,2014],\"y_values\":[7,7,9,5,3,10,3,1,1,1,2,1,2]}},\"id\":\"632c0a60-45ed-4e6c-8003-7388b84c051f\",\"type\":\"ColumnDataSource\"},{\"attributes\":{\"callback\":null,\"column_names\":[\"x_values\",\"y_values\"],\"data\":{\"chart_index\":[{\"country\":\"Mauritius\"},{\"country\":\"Mauritius\"},{\"country\":\"Mauritius\"},{\"country\":\"Mauritius\"},{\"country\":\"Mauritius\"},{\"country\":\"Mauritius\"},{\"country\":\"Mauritius\"},{\"country\":\"Mauritius\"},{\"country\":\"Mauritius\"},{\"country\":\"Mauritius\"},{\"country\":\"Mauritius\"},{\"country\":\"Mauritius\"},{\"country\":\"Mauritius\"}],\"country\":[\"Mauritius\",\"Mauritius\",\"Mauritius\",\"Mauritius\",\"Mauritius\",\"Mauritius\",\"Mauritius\",\"Mauritius\",\"Mauritius\",\"Mauritius\",\"Mauritius\",\"Mauritius\",\"Mauritius\"],\"x_values\":[1997,1998,1999,2000,2001,2002,2003,2004,2005,2006,2007,2008,2009],\"y_values\":[1,5,6,4,10,11,6,9,14,4,3,6,1]}},\"id\":\"ba007d41-069b-45c6-a648-a8ead28102df\",\"type\":\"ColumnDataSource\"},{\"attributes\":{\"data_source\":{\"id\":\"dc9f5900-a41d-4327-a6a1-de5ee8f4526c\",\"type\":\"ColumnDataSource\"},\"glyph\":{\"id\":\"246e3b48-a7ef-4a63-b636-099b8a9473e3\",\"type\":\"Line\"},\"hover_glyph\":null,\"nonselection_glyph\":null,\"selection_glyph\":null},\"id\":\"51222023-f21c-444a-abec-8853c56ae311\",\"type\":\"GlyphRenderer\"},{\"attributes\":{\"line_color\":{\"value\":\"#5ab738\"},\"line_width\":{\"value\":2},\"x\":{\"field\":\"x_values\"},\"y\":{\"field\":\"y_values\"}},\"id\":\"6caddd9b-58b9-43cd-b8c0-3d00f10afd11\",\"type\":\"Line\"},{\"attributes\":{\"legends\":[[\"Bahamas\",[{\"id\":\"e0fb3c65-f7ce-46d0-894d-3c6e36e4038f\",\"type\":\"GlyphRenderer\"}]],[\"Belize\",[{\"id\":\"90308c01-d988-4e5c-b7bd-867a8e9a06b9\",\"type\":\"GlyphRenderer\"}]],[\"British Anguilla\",[{\"id\":\"e34dcbeb-f72b-4375-b8c9-7511088cd6f5\",\"type\":\"GlyphRenderer\"}]],[\"British Virgin Islands\",[{\"id\":\"6346cf0b-3b48-4103-b3b3-8e5f1f2b2289\",\"type\":\"GlyphRenderer\"}]],[\"Cayman\",[{\"id\":\"ef3b6f15-f2d4-453f-9af4-9cec80d0dbc2\",\"type\":\"GlyphRenderer\"}]],[\"Cook Islands\",[{\"id\":\"8351e2a0-b77e-41ea-83ee-d6dc218d4186\",\"type\":\"GlyphRenderer\"}]],[\"Costa Rica\",[{\"id\":\"51222023-f21c-444a-abec-8853c56ae311\",\"type\":\"GlyphRenderer\"}]],[\"Cyprus\",[{\"id\":\"968587ca-1115-4216-925f-f73934bb87fd\",\"type\":\"GlyphRenderer\"}]],[\"Hong Kong\",[{\"id\":\"56e7bfdc-081a-4f3b-8936-a9e250b3c198\",\"type\":\"GlyphRenderer\"}]],[\"Labuan\",[{\"id\":\"d9a31211-9111-4253-a12b-a901b53011f6\",\"type\":\"GlyphRenderer\"}]],[\"Malaysia\",[{\"id\":\"55fe352a-1646-42ab-96f3-f36d01f6ebca\",\"type\":\"GlyphRenderer\"}]],[\"Mauritius\",[{\"id\":\"71e4e24d-b57d-4436-959d-48c2582edaec\",\"type\":\"GlyphRenderer\"}]],[\"Nevada\",[{\"id\":\"2b99547b-4f41-4b30-b03d-bff9653ae0b2\",\"type\":\"GlyphRenderer\"}]],[\"Niue\",[{\"id\":\"c0d6f8f1-58cf-447b-b27b-87bf6be587f7\",\"type\":\"GlyphRenderer\"}]],[\"Panama\",[{\"id\":\"fe12d371-1bec-42d7-a77f-9440667f6b51\",\"type\":\"GlyphRenderer\"}]],[\"Samoa\",[{\"id\":\"1866c826-7c9b-4c7a-98e9-5133b7f542ea\",\"type\":\"GlyphRenderer\"}]],[\"Seychelles\",[{\"id\":\"51011837-9d1c-43c4-93d8-29bfc2d8aa3b\",\"type\":\"GlyphRenderer\"}]],[\"Singapore\",[{\"id\":\"3bb0e5ec-cfb9-457f-b281-3f050c5816ef\",\"type\":\"GlyphRenderer\"}]],[\"United Kingdom\",[{\"id\":\"aabedb0b-fc22-4b11-8c48-ff11dbab4a62\",\"type\":\"GlyphRenderer\"}]],[\"Uruguay\",[{\"id\":\"3c393c87-845d-4481-9a65-23c0a35d2fc6\",\"type\":\"GlyphRenderer\"}]]],\"location\":\"top_left\",\"plot\":{\"id\":\"5d250f67-b2a6-4daa-8a8a-d8d23587b834\",\"subtype\":\"Chart\",\"type\":\"Plot\"}},\"id\":\"78fbed1b-b396-4639-8dc8-c854819c045f\",\"type\":\"Legend\"},{\"attributes\":{\"callback\":null,\"column_names\":[\"x_values\",\"y_values\"],\"data\":{\"chart_index\":[{\"country\":\"Seychelles\"},{\"country\":\"Seychelles\"},{\"country\":\"Seychelles\"},{\"country\":\"Seychelles\"},{\"country\":\"Seychelles\"},{\"country\":\"Seychelles\"},{\"country\":\"Seychelles\"},{\"country\":\"Seychelles\"},{\"country\":\"Seychelles\"},{\"country\":\"Seychelles\"},{\"country\":\"Seychelles\"},{\"country\":\"Seychelles\"},{\"country\":\"Seychelles\"},{\"country\":\"Seychelles\"},{\"country\":\"Seychelles\"},{\"country\":\"Seychelles\"},{\"country\":\"Seychelles\"},{\"country\":\"Seychelles\"},{\"country\":\"Seychelles\"},{\"country\":\"Seychelles\"},{\"country\":\"Seychelles\"}],\"country\":[\"Seychelles\",\"Seychelles\",\"Seychelles\",\"Seychelles\",\"Seychelles\",\"Seychelles\",\"Seychelles\",\"Seychelles\",\"Seychelles\",\"Seychelles\",\"Seychelles\",\"Seychelles\",\"Seychelles\",\"Seychelles\",\"Seychelles\",\"Seychelles\",\"Seychelles\",\"Seychelles\",\"Seychelles\",\"Seychelles\",\"Seychelles\"],\"x_values\":[1995,1996,1997,1998,1999,2000,2001,2002,2003,2004,2005,2006,2007,2008,2009,2010,2011,2012,2013,2014,2015],\"y_values\":[1,4,2,8,157,242,437,351,396,571,1473,2026,1904,1350,1191,943,998,807,1140,898,681]}},\"id\":\"cff519e7-ffa1-41e7-a157-3c70cf671f20\",\"type\":\"ColumnDataSource\"},{\"attributes\":{\"axis_label\":\"year\",\"formatter\":{\"id\":\"148ee832-69ef-4d6e-93de-b0d933cf77ac\",\"type\":\"BasicTickFormatter\"},\"plot\":{\"id\":\"5d250f67-b2a6-4daa-8a8a-d8d23587b834\",\"subtype\":\"Chart\",\"type\":\"Plot\"},\"ticker\":{\"id\":\"af994060-b0f1-42c9-ad35-b8ea8dedc3f6\",\"type\":\"BasicTicker\"}},\"id\":\"165ab268-80ad-414d-b394-91715cdaf65f\",\"type\":\"LinearAxis\"},{\"attributes\":{\"data_source\":{\"id\":\"ba007d41-069b-45c6-a648-a8ead28102df\",\"type\":\"ColumnDataSource\"},\"glyph\":{\"id\":\"6e6daf1f-f092-46db-a686-e2f952d807ab\",\"type\":\"Line\"},\"hover_glyph\":null,\"nonselection_glyph\":null,\"selection_glyph\":null},\"id\":\"71e4e24d-b57d-4436-959d-48c2582edaec\",\"type\":\"GlyphRenderer\"},{\"attributes\":{\"data_source\":{\"id\":\"baca48bd-9bdc-45d3-9afa-2de87795241e\",\"type\":\"ColumnDataSource\"},\"glyph\":{\"id\":\"d0fe996e-2a74-44a0-b1a6-5d00ef12d7d3\",\"type\":\"Line\"},\"hover_glyph\":null,\"nonselection_glyph\":null,\"selection_glyph\":null},\"id\":\"968587ca-1115-4216-925f-f73934bb87fd\",\"type\":\"GlyphRenderer\"},{\"attributes\":{},\"id\":\"148ee832-69ef-4d6e-93de-b0d933cf77ac\",\"type\":\"BasicTickFormatter\"},{\"attributes\":{\"callback\":null,\"column_names\":[\"x_values\",\"y_values\"],\"data\":{\"chart_index\":[{\"country\":\"Costa Rica\"},{\"country\":\"Costa Rica\"},{\"country\":\"Costa Rica\"}],\"country\":[\"Costa Rica\",\"Costa Rica\",\"Costa Rica\"],\"x_values\":[2013,2014,2015],\"y_values\":[1,47,30]}},\"id\":\"dc9f5900-a41d-4327-a6a1-de5ee8f4526c\",\"type\":\"ColumnDataSource\"},{\"attributes\":{\"callback\":null,\"column_names\":[\"x_values\",\"y_values\"],\"data\":{\"chart_index\":[{\"country\":\"Cyprus\"},{\"country\":\"Cyprus\"},{\"country\":\"Cyprus\"},{\"country\":\"Cyprus\"},{\"country\":\"Cyprus\"},{\"country\":\"Cyprus\"},{\"country\":\"Cyprus\"},{\"country\":\"Cyprus\"},{\"country\":\"Cyprus\"},{\"country\":\"Cyprus\"},{\"country\":\"Cyprus\"},{\"country\":\"Cyprus\"}],\"country\":[\"Cyprus\",\"Cyprus\",\"Cyprus\",\"Cyprus\",\"Cyprus\",\"Cyprus\",\"Cyprus\",\"Cyprus\",\"Cyprus\",\"Cyprus\",\"Cyprus\",\"Cyprus\"],\"x_values\":[2001,2003,2004,2007,2008,2009,2010,2011,2012,2013,2014,2015],\"y_values\":[1,1,2,2,2,1,3,37,24,1,1,4]}},\"id\":\"baca48bd-9bdc-45d3-9afa-2de87795241e\",\"type\":\"ColumnDataSource\"},{\"attributes\":{\"data_source\":{\"id\":\"632c0a60-45ed-4e6c-8003-7388b84c051f\",\"type\":\"ColumnDataSource\"},\"glyph\":{\"id\":\"4fdfac0b-83bd-4fe2-b8db-36a7767d0420\",\"type\":\"Line\"},\"hover_glyph\":null,\"nonselection_glyph\":null,\"selection_glyph\":null},\"id\":\"3c393c87-845d-4481-9a65-23c0a35d2fc6\",\"type\":\"GlyphRenderer\"},{\"attributes\":{\"line_color\":{\"value\":\"#00ad9c\"},\"line_width\":{\"value\":2},\"x\":{\"field\":\"x_values\"},\"y\":{\"field\":\"y_values\"}},\"id\":\"0e869889-6aa7-4882-be21-a2305f1fb279\",\"type\":\"Line\"},{\"attributes\":{\"line_color\":{\"value\":\"#5ab738\"},\"line_width\":{\"value\":2},\"x\":{\"field\":\"x_values\"},\"y\":{\"field\":\"y_values\"}},\"id\":\"4fdfac0b-83bd-4fe2-b8db-36a7767d0420\",\"type\":\"Line\"},{\"attributes\":{\"data_source\":{\"id\":\"3cf6bcfc-6f77-4f2c-b60d-600412adc511\",\"type\":\"ColumnDataSource\"},\"glyph\":{\"id\":\"8fd06ae1-cd5f-42ad-9dd9-eb138a30bb85\",\"type\":\"Line\"},\"hover_glyph\":null,\"nonselection_glyph\":null,\"selection_glyph\":null},\"id\":\"e34dcbeb-f72b-4375-b8c9-7511088cd6f5\",\"type\":\"GlyphRenderer\"},{\"attributes\":{\"data_source\":{\"id\":\"57f6d8b6-2d84-4bed-a32b-1253e1dc83d6\",\"type\":\"ColumnDataSource\"},\"glyph\":{\"id\":\"9d515777-eeec-43cf-8d67-d2171ab2d003\",\"type\":\"Line\"},\"hover_glyph\":null,\"nonselection_glyph\":null,\"selection_glyph\":null},\"id\":\"ef3b6f15-f2d4-453f-9af4-9cec80d0dbc2\",\"type\":\"GlyphRenderer\"},{\"attributes\":{\"data_source\":{\"id\":\"9a56fbf3-81ae-43d3-bc01-9938ca0b2ee2\",\"type\":\"ColumnDataSource\"},\"glyph\":{\"id\":\"62f25130-8569-4dba-87c8-c264753c5281\",\"type\":\"Line\"},\"hover_glyph\":null,\"nonselection_glyph\":null,\"selection_glyph\":null},\"id\":\"8351e2a0-b77e-41ea-83ee-d6dc218d4186\",\"type\":\"GlyphRenderer\"},{\"attributes\":{\"line_color\":{\"value\":\"#df5320\"},\"line_width\":{\"value\":2},\"x\":{\"field\":\"x_values\"},\"y\":{\"field\":\"y_values\"}},\"id\":\"69794797-9f8c-4074-8c86-25d071d63038\",\"type\":\"Line\"},{\"attributes\":{\"data_source\":{\"id\":\"fd0c96da-9761-4fc6-808e-56dc1a7e6fd7\",\"type\":\"ColumnDataSource\"},\"glyph\":{\"id\":\"4567841a-e5b7-4318-a46c-dd7231a7b6c1\",\"type\":\"Line\"},\"hover_glyph\":null,\"nonselection_glyph\":null,\"selection_glyph\":null},\"id\":\"c0d6f8f1-58cf-447b-b27b-87bf6be587f7\",\"type\":\"GlyphRenderer\"},{\"attributes\":{\"data_source\":{\"id\":\"bff1f0dd-2dbd-4a68-880d-e07999c9eb10\",\"type\":\"ColumnDataSource\"},\"glyph\":{\"id\":\"d28d561f-c57e-42ae-b416-8144eb2f83b6\",\"type\":\"Line\"},\"hover_glyph\":null,\"nonselection_glyph\":null,\"selection_glyph\":null},\"id\":\"fe12d371-1bec-42d7-a77f-9440667f6b51\",\"type\":\"GlyphRenderer\"},{\"attributes\":{\"data_source\":{\"id\":\"0014dcee-7111-4ff8-8acc-0baf3a743e96\",\"type\":\"ColumnDataSource\"},\"glyph\":{\"id\":\"69794797-9f8c-4074-8c86-25d071d63038\",\"type\":\"Line\"},\"hover_glyph\":null,\"nonselection_glyph\":null,\"selection_glyph\":null},\"id\":\"1866c826-7c9b-4c7a-98e9-5133b7f542ea\",\"type\":\"GlyphRenderer\"},{\"attributes\":{\"line_color\":{\"value\":\"#f22c40\"},\"line_width\":{\"value\":2},\"x\":{\"field\":\"x_values\"},\"y\":{\"field\":\"y_values\"}},\"id\":\"82a9b673-e858-447c-bd31-42c95b0a58a6\",\"type\":\"Line\"},{\"attributes\":{\"line_color\":{\"value\":\"#f22c40\"},\"line_width\":{\"value\":2},\"x\":{\"field\":\"x_values\"},\"y\":{\"field\":\"y_values\"}},\"id\":\"1796975b-adbc-4573-b956-a68bff39976e\",\"type\":\"Line\"},{\"attributes\":{\"plot\":{\"id\":\"5d250f67-b2a6-4daa-8a8a-d8d23587b834\",\"subtype\":\"Chart\",\"type\":\"Plot\"},\"ticker\":{\"id\":\"af994060-b0f1-42c9-ad35-b8ea8dedc3f6\",\"type\":\"BasicTicker\"}},\"id\":\"6a169950-cd12-443f-84db-6b93f7a599ba\",\"type\":\"Grid\"},{\"attributes\":{\"data_source\":{\"id\":\"9232b240-5af9-4dc5-a921-e470f3d31d82\",\"type\":\"ColumnDataSource\"},\"glyph\":{\"id\":\"0f135b9d-53dc-425b-90ee-add906657ad3\",\"type\":\"Line\"},\"hover_glyph\":null,\"nonselection_glyph\":null,\"selection_glyph\":null},\"id\":\"55fe352a-1646-42ab-96f3-f36d01f6ebca\",\"type\":\"GlyphRenderer\"},{\"attributes\":{\"line_color\":{\"value\":\"#407ee7\"},\"line_width\":{\"value\":2},\"x\":{\"field\":\"x_values\"},\"y\":{\"field\":\"y_values\"}},\"id\":\"8fd06ae1-cd5f-42ad-9dd9-eb138a30bb85\",\"type\":\"Line\"},{\"attributes\":{\"data_source\":{\"id\":\"0b889359-6cb3-47dd-a2d0-fd55421f156f\",\"type\":\"ColumnDataSource\"},\"glyph\":{\"id\":\"b76f595a-1e6a-4a35-9978-9a6cec2ae7d2\",\"type\":\"Line\"},\"hover_glyph\":null,\"nonselection_glyph\":null,\"selection_glyph\":null},\"id\":\"6346cf0b-3b48-4103-b3b3-8e5f1f2b2289\",\"type\":\"GlyphRenderer\"},{\"attributes\":{\"axis_label\":\"count\",\"formatter\":{\"id\":\"625f5671-895a-4dbb-8053-baa60ac994c2\",\"type\":\"BasicTickFormatter\"},\"plot\":{\"id\":\"5d250f67-b2a6-4daa-8a8a-d8d23587b834\",\"subtype\":\"Chart\",\"type\":\"Plot\"},\"ticker\":{\"id\":\"396569be-a2a9-4d67-9b5b-c255a3ef1823\",\"type\":\"BasicTicker\"}},\"id\":\"941e4767-50a6-4053-911d-6651313327d7\",\"type\":\"LinearAxis\"},{\"attributes\":{\"callback\":null,\"column_names\":[\"x_values\",\"y_values\"],\"data\":{\"chart_index\":[{\"country\":\"British Virgin Islands\"},{\"country\":\"British Virgin Islands\"},{\"country\":\"British Virgin Islands\"},{\"country\":\"British Virgin Islands\"},{\"country\":\"British Virgin Islands\"},{\"country\":\"British Virgin Islands\"},{\"country\":\"British Virgin Islands\"},{\"country\":\"British Virgin Islands\"},{\"country\":\"British Virgin Islands\"},{\"country\":\"British Virgin Islands\"},{\"country\":\"British Virgin Islands\"},{\"country\":\"British Virgin Islands\"},{\"country\":\"British Virgin Islands\"},{\"country\":\"British Virgin Islands\"},{\"country\":\"British Virgin Islands\"},{\"country\":\"British Virgin Islands\"},{\"country\":\"British Virgin Islands\"},{\"country\":\"British Virgin Islands\"},{\"country\":\"British Virgin Islands\"},{\"country\":\"British Virgin Islands\"},{\"country\":\"British Virgin Islands\"},{\"country\":\"British Virgin Islands\"},{\"country\":\"British Virgin Islands\"},{\"country\":\"British Virgin Islands\"},{\"country\":\"British Virgin Islands\"},{\"country\":\"British Virgin Islands\"},{\"country\":\"British Virgin Islands\"},{\"country\":\"British Virgin Islands\"},{\"country\":\"British Virgin Islands\"},{\"country\":\"British Virgin Islands\"},{\"country\":\"British Virgin Islands\"},{\"country\":\"British Virgin Islands\"},{\"country\":\"British Virgin Islands\"},{\"country\":\"British Virgin Islands\"},{\"country\":\"British Virgin Islands\"},{\"country\":\"British Virgin Islands\"},{\"country\":\"British Virgin Islands\"},{\"country\":\"British Virgin Islands\"}],\"country\":[\"British Virgin Islands\",\"British Virgin Islands\",\"British Virgin Islands\",\"British Virgin Islands\",\"British Virgin Islands\",\"British Virgin Islands\",\"British Virgin Islands\",\"British Virgin Islands\",\"British Virgin Islands\",\"British Virgin Islands\",\"British Virgin Islands\",\"British Virgin Islands\",\"British Virgin Islands\",\"British Virgin Islands\",\"British Virgin Islands\",\"British Virgin Islands\",\"British Virgin Islands\",\"British Virgin Islands\",\"British Virgin Islands\",\"British Virgin Islands\",\"British Virgin Islands\",\"British Virgin Islands\",\"British Virgin Islands\",\"British Virgin Islands\",\"British Virgin Islands\",\"British Virgin Islands\",\"British Virgin Islands\",\"British Virgin Islands\",\"British Virgin Islands\",\"British Virgin Islands\",\"British Virgin Islands\",\"British Virgin Islands\",\"British Virgin Islands\",\"British Virgin Islands\",\"British Virgin Islands\",\"British Virgin Islands\",\"British Virgin Islands\",\"British Virgin Islands\"],\"x_values\":[1978,1979,1980,1981,1982,1983,1984,1985,1986,1987,1988,1989,1990,1991,1992,1993,1994,1995,1996,1997,1998,1999,2000,2001,2002,2003,2004,2005,2006,2007,2008,2009,2010,2011,2012,2013,2014,2015],\"y_values\":[4,5,15,2,12,1,11,18,45,63,464,1143,1440,1842,2270,3073,3863,4021,5283,7033,5850,7113,8895,7983,8318,8047,9793,9110,9575,11056,8838,5442,4594,4703,4584,2790,2298,1986]}},\"id\":\"0b889359-6cb3-47dd-a2d0-fd55421f156f\",\"type\":\"ColumnDataSource\"},{\"attributes\":{\"callback\":null,\"column_names\":[\"x_values\",\"y_values\"],\"data\":{\"chart_index\":[{\"country\":\"British Anguilla\"},{\"country\":\"British Anguilla\"},{\"country\":\"British Anguilla\"},{\"country\":\"British Anguilla\"},{\"country\":\"British Anguilla\"},{\"country\":\"British Anguilla\"},{\"country\":\"British Anguilla\"},{\"country\":\"British Anguilla\"},{\"country\":\"British Anguilla\"},{\"country\":\"British Anguilla\"},{\"country\":\"British Anguilla\"},{\"country\":\"British Anguilla\"},{\"country\":\"British Anguilla\"},{\"country\":\"British Anguilla\"},{\"country\":\"British Anguilla\"},{\"country\":\"British Anguilla\"},{\"country\":\"British Anguilla\"}],\"country\":[\"British Anguilla\",\"British Anguilla\",\"British Anguilla\",\"British Anguilla\",\"British Anguilla\",\"British Anguilla\",\"British Anguilla\",\"British Anguilla\",\"British Anguilla\",\"British Anguilla\",\"British Anguilla\",\"British Anguilla\",\"British Anguilla\",\"British Anguilla\",\"British Anguilla\",\"British Anguilla\",\"British Anguilla\"],\"x_values\":[1995,1999,2000,2001,2002,2003,2005,2006,2007,2008,2009,2010,2011,2012,2013,2014,2015],\"y_values\":[1,4,2,4,3,1,14,10,229,169,153,267,627,473,462,501,333]}},\"id\":\"3cf6bcfc-6f77-4f2c-b60d-600412adc511\",\"type\":\"ColumnDataSource\"},{\"attributes\":{\"callback\":null,\"column_names\":[\"x_values\",\"y_values\"],\"data\":{\"chart_index\":[{\"country\":\"Labuan\"},{\"country\":\"Labuan\"},{\"country\":\"Labuan\"},{\"country\":\"Labuan\"},{\"country\":\"Labuan\"},{\"country\":\"Labuan\"},{\"country\":\"Labuan\"},{\"country\":\"Labuan\"},{\"country\":\"Labuan\"},{\"country\":\"Labuan\"},{\"country\":\"Labuan\"},{\"country\":\"Labuan\"},{\"country\":\"Labuan\"},{\"country\":\"Labuan\"},{\"country\":\"Labuan\"},{\"country\":\"Labuan\"},{\"country\":\"Labuan\"}],\"country\":[\"Labuan\",\"Labuan\",\"Labuan\",\"Labuan\",\"Labuan\",\"Labuan\",\"Labuan\",\"Labuan\",\"Labuan\",\"Labuan\",\"Labuan\",\"Labuan\",\"Labuan\",\"Labuan\",\"Labuan\",\"Labuan\",\"Labuan\"],\"x_values\":[1993,1994,1995,1996,1997,1998,1999,2000,2001,2002,2003,2004,2005,2006,2007,2008,2009],\"y_values\":[1,2,6,6,17,5,9,27,14,26,39,52,37,53,60,41,27]}},\"id\":\"673b239e-2068-458c-98f8-a5b8f9d347bc\",\"type\":\"ColumnDataSource\"},{\"attributes\":{\"line_color\":{\"value\":\"#c33ff3\"},\"line_width\":{\"value\":2},\"x\":{\"field\":\"x_values\"},\"y\":{\"field\":\"y_values\"}},\"id\":\"62f25130-8569-4dba-87c8-c264753c5281\",\"type\":\"Line\"},{\"attributes\":{\"data_source\":{\"id\":\"cff519e7-ffa1-41e7-a157-3c70cf671f20\",\"type\":\"ColumnDataSource\"},\"glyph\":{\"id\":\"0e869889-6aa7-4882-be21-a2305f1fb279\",\"type\":\"Line\"},\"hover_glyph\":null,\"nonselection_glyph\":null,\"selection_glyph\":null},\"id\":\"51011837-9d1c-43c4-93d8-29bfc2d8aa3b\",\"type\":\"GlyphRenderer\"},{\"attributes\":{\"callback\":null,\"column_names\":[\"x_values\",\"y_values\"],\"data\":{\"chart_index\":[{\"country\":\"Panama\"},{\"country\":\"Panama\"},{\"country\":\"Panama\"},{\"country\":\"Panama\"},{\"country\":\"Panama\"},{\"country\":\"Panama\"},{\"country\":\"Panama\"},{\"country\":\"Panama\"},{\"country\":\"Panama\"},{\"country\":\"Panama\"},{\"country\":\"Panama\"},{\"country\":\"Panama\"},{\"country\":\"Panama\"},{\"country\":\"Panama\"},{\"country\":\"Panama\"},{\"country\":\"Panama\"},{\"country\":\"Panama\"},{\"country\":\"Panama\"},{\"country\":\"Panama\"},{\"country\":\"Panama\"},{\"country\":\"Panama\"},{\"country\":\"Panama\"},{\"country\":\"Panama\"},{\"country\":\"Panama\"},{\"country\":\"Panama\"},{\"country\":\"Panama\"},{\"country\":\"Panama\"},{\"country\":\"Panama\"},{\"country\":\"Panama\"},{\"country\":\"Panama\"},{\"country\":\"Panama\"},{\"country\":\"Panama\"},{\"country\":\"Panama\"},{\"country\":\"Panama\"},{\"country\":\"Panama\"},{\"country\":\"Panama\"},{\"country\":\"Panama\"},{\"country\":\"Panama\"},{\"country\":\"Panama\"}],\"country\":[\"Panama\",\"Panama\",\"Panama\",\"Panama\",\"Panama\",\"Panama\",\"Panama\",\"Panama\",\"Panama\",\"Panama\",\"Panama\",\"Panama\",\"Panama\",\"Panama\",\"Panama\",\"Panama\",\"Panama\",\"Panama\",\"Panama\",\"Panama\",\"Panama\",\"Panama\",\"Panama\",\"Panama\",\"Panama\",\"Panama\",\"Panama\",\"Panama\",\"Panama\",\"Panama\",\"Panama\",\"Panama\",\"Panama\",\"Panama\",\"Panama\",\"Panama\",\"Panama\",\"Panama\",\"Panama\"],\"x_values\":[1977,1978,1979,1980,1981,1982,1983,1984,1985,1986,1987,1988,1989,1990,1991,1992,1993,1994,1995,1996,1997,1998,1999,2000,2001,2002,2003,2004,2005,2006,2007,2008,2009,2010,2011,2012,2013,2014,2015],\"y_values\":[77,224,300,406,538,749,837,954,949,1382,1641,715,894,508,436,414,409,368,450,662,713,684,695,1009,966,893,1238,2393,4743,3357,3514,3257,2541,2062,1861,2060,1298,1108,835]}},\"id\":\"bff1f0dd-2dbd-4a68-880d-e07999c9eb10\",\"type\":\"ColumnDataSource\"},{\"attributes\":{\"callback\":null,\"column_names\":[\"x_values\",\"y_values\"],\"data\":{\"chart_index\":[{\"country\":\"Cook Islands\"},{\"country\":\"Cook Islands\"},{\"country\":\"Cook Islands\"},{\"country\":\"Cook Islands\"},{\"country\":\"Cook Islands\"},{\"country\":\"Cook Islands\"},{\"country\":\"Cook Islands\"},{\"country\":\"Cook Islands\"},{\"country\":\"Cook Islands\"},{\"country\":\"Cook Islands\"},{\"country\":\"Cook Islands\"},{\"country\":\"Cook Islands\"},{\"country\":\"Cook Islands\"},{\"country\":\"Cook Islands\"},{\"country\":\"Cook Islands\"},{\"country\":\"Cook Islands\"},{\"country\":\"Cook Islands\"},{\"country\":\"Cook Islands\"},{\"country\":\"Cook Islands\"},{\"country\":\"Cook Islands\"},{\"country\":\"Cook Islands\"},{\"country\":\"Cook Islands\"},{\"country\":\"Cook Islands\"},{\"country\":\"Cook Islands\"},{\"country\":\"Cook Islands\"},{\"country\":\"Cook Islands\"}],\"country\":[\"Cook Islands\",\"Cook Islands\",\"Cook Islands\",\"Cook Islands\",\"Cook Islands\",\"Cook Islands\",\"Cook Islands\",\"Cook Islands\",\"Cook Islands\",\"Cook Islands\",\"Cook Islands\",\"Cook Islands\",\"Cook Islands\",\"Cook Islands\",\"Cook Islands\",\"Cook Islands\",\"Cook Islands\",\"Cook Islands\",\"Cook Islands\",\"Cook Islands\",\"Cook Islands\",\"Cook Islands\",\"Cook Islands\",\"Cook Islands\",\"Cook Islands\",\"Cook Islands\"],\"x_values\":[1984,1985,1986,1987,1988,1989,1990,1991,1992,1993,1994,1995,1996,1997,1998,1999,2000,2001,2002,2003,2004,2005,2006,2007,2008,2009],\"y_values\":[1,3,7,18,40,44,49,95,165,214,233,172,210,255,198,109,103,94,75,58,40,89,45,52,57,26]}},\"id\":\"9a56fbf3-81ae-43d3-bc01-9938ca0b2ee2\",\"type\":\"ColumnDataSource\"},{\"attributes\":{\"callback\":null,\"column_names\":[\"x_values\",\"y_values\"],\"data\":{\"chart_index\":[{\"country\":\"Nevada\"},{\"country\":\"Nevada\"},{\"country\":\"Nevada\"},{\"country\":\"Nevada\"},{\"country\":\"Nevada\"},{\"country\":\"Nevada\"},{\"country\":\"Nevada\"},{\"country\":\"Nevada\"},{\"country\":\"Nevada\"},{\"country\":\"Nevada\"},{\"country\":\"Nevada\"},{\"country\":\"Nevada\"},{\"country\":\"Nevada\"},{\"country\":\"Nevada\"},{\"country\":\"Nevada\"},{\"country\":\"Nevada\"},{\"country\":\"Nevada\"}],\"country\":[\"Nevada\",\"Nevada\",\"Nevada\",\"Nevada\",\"Nevada\",\"Nevada\",\"Nevada\",\"Nevada\",\"Nevada\",\"Nevada\",\"Nevada\",\"Nevada\",\"Nevada\",\"Nevada\",\"Nevada\",\"Nevada\",\"Nevada\"],\"x_values\":[1999,2000,2001,2002,2003,2004,2005,2006,2007,2008,2009,2010,2011,2012,2013,2014,2015],\"y_values\":[1,1,37,57,109,105,125,118,121,115,123,111,103,57,36,29,12]}},\"id\":\"dced5398-02c9-45eb-8f98-8310069c7f3e\",\"type\":\"ColumnDataSource\"},{\"attributes\":{\"callback\":null,\"column_names\":[\"x_values\",\"y_values\"],\"data\":{\"chart_index\":[{\"country\":\"Bahamas\"},{\"country\":\"Bahamas\"},{\"country\":\"Bahamas\"},{\"country\":\"Bahamas\"},{\"country\":\"Bahamas\"},{\"country\":\"Bahamas\"},{\"country\":\"Bahamas\"},{\"country\":\"Bahamas\"},{\"country\":\"Bahamas\"},{\"country\":\"Bahamas\"},{\"country\":\"Bahamas\"},{\"country\":\"Bahamas\"},{\"country\":\"Bahamas\"},{\"country\":\"Bahamas\"},{\"country\":\"Bahamas\"},{\"country\":\"Bahamas\"},{\"country\":\"Bahamas\"},{\"country\":\"Bahamas\"},{\"country\":\"Bahamas\"},{\"country\":\"Bahamas\"},{\"country\":\"Bahamas\"},{\"country\":\"Bahamas\"},{\"country\":\"Bahamas\"},{\"country\":\"Bahamas\"},{\"country\":\"Bahamas\"},{\"country\":\"Bahamas\"},{\"country\":\"Bahamas\"},{\"country\":\"Bahamas\"},{\"country\":\"Bahamas\"},{\"country\":\"Bahamas\"}],\"country\":[\"Bahamas\",\"Bahamas\",\"Bahamas\",\"Bahamas\",\"Bahamas\",\"Bahamas\",\"Bahamas\",\"Bahamas\",\"Bahamas\",\"Bahamas\",\"Bahamas\",\"Bahamas\",\"Bahamas\",\"Bahamas\",\"Bahamas\",\"Bahamas\",\"Bahamas\",\"Bahamas\",\"Bahamas\",\"Bahamas\",\"Bahamas\",\"Bahamas\",\"Bahamas\",\"Bahamas\",\"Bahamas\",\"Bahamas\",\"Bahamas\",\"Bahamas\",\"Bahamas\",\"Bahamas\"],\"x_values\":[1984,1986,1988,1989,1990,1991,1992,1993,1994,1995,1996,1997,1998,1999,2000,2001,2002,2003,2004,2005,2006,2007,2008,2009,2010,2011,2012,2013,2014,2015],\"y_values\":[3,1,1,2,194,390,435,886,1484,1616,1782,2224,1817,1409,1226,295,177,150,175,193,226,264,186,96,148,102,114,117,143,89]}},\"id\":\"d23784cd-ccac-4e89-82f6-cc2c40a8bfae\",\"type\":\"ColumnDataSource\"},{\"attributes\":{\"line_color\":{\"value\":\"#407ee7\"},\"line_width\":{\"value\":2},\"x\":{\"field\":\"x_values\"},\"y\":{\"field\":\"y_values\"}},\"id\":\"d28d561f-c57e-42ae-b416-8144eb2f83b6\",\"type\":\"Line\"},{\"attributes\":{\"callback\":null,\"column_names\":[\"x_values\",\"y_values\"],\"data\":{\"chart_index\":[{\"country\":\"Singapore\"},{\"country\":\"Singapore\"},{\"country\":\"Singapore\"},{\"country\":\"Singapore\"},{\"country\":\"Singapore\"},{\"country\":\"Singapore\"},{\"country\":\"Singapore\"},{\"country\":\"Singapore\"},{\"country\":\"Singapore\"},{\"country\":\"Singapore\"},{\"country\":\"Singapore\"},{\"country\":\"Singapore\"},{\"country\":\"Singapore\"},{\"country\":\"Singapore\"},{\"country\":\"Singapore\"},{\"country\":\"Singapore\"},{\"country\":\"Singapore\"},{\"country\":\"Singapore\"},{\"country\":\"Singapore\"},{\"country\":\"Singapore\"},{\"country\":\"Singapore\"},{\"country\":\"Singapore\"},{\"country\":\"Singapore\"},{\"country\":\"Singapore\"},{\"country\":\"Singapore\"},{\"country\":\"Singapore\"},{\"country\":\"Singapore\"},{\"country\":\"Singapore\"}],\"country\":[\"Singapore\",\"Singapore\",\"Singapore\",\"Singapore\",\"Singapore\",\"Singapore\",\"Singapore\",\"Singapore\",\"Singapore\",\"Singapore\",\"Singapore\",\"Singapore\",\"Singapore\",\"Singapore\",\"Singapore\",\"Singapore\",\"Singapore\",\"Singapore\",\"Singapore\",\"Singapore\",\"Singapore\",\"Singapore\",\"Singapore\",\"Singapore\",\"Singapore\",\"Singapore\",\"Singapore\",\"Singapore\"],\"x_values\":[1977,1978,1982,1983,1984,1987,1989,1990,1991,1992,1993,1994,1995,1996,1997,1998,1999,2000,2001,2002,2003,2004,2005,2006,2007,2008,2009,2015],\"y_values\":[1,1,2,1,1,2,4,2,2,2,9,9,2,6,11,6,15,14,39,28,41,74,70,86,117,94,71,1]}},\"id\":\"f585c9ad-ea58-4b73-9d35-acc33e1d5907\",\"type\":\"ColumnDataSource\"},{\"attributes\":{\"data_source\":{\"id\":\"673b239e-2068-458c-98f8-a5b8f9d347bc\",\"type\":\"ColumnDataSource\"},\"glyph\":{\"id\":\"0f97cd00-3d0f-4745-bc92-ebc6a73a14ec\",\"type\":\"Line\"},\"hover_glyph\":null,\"nonselection_glyph\":null,\"selection_glyph\":null},\"id\":\"d9a31211-9111-4253-a12b-a901b53011f6\",\"type\":\"GlyphRenderer\"},{\"attributes\":{},\"id\":\"625f5671-895a-4dbb-8053-baa60ac994c2\",\"type\":\"BasicTickFormatter\"},{\"attributes\":{\"dimension\":1,\"plot\":{\"id\":\"5d250f67-b2a6-4daa-8a8a-d8d23587b834\",\"subtype\":\"Chart\",\"type\":\"Plot\"},\"ticker\":{\"id\":\"396569be-a2a9-4d67-9b5b-c255a3ef1823\",\"type\":\"BasicTicker\"}},\"id\":\"33f98d1b-8768-41ee-9d8d-4ccf32ef21a4\",\"type\":\"Grid\"},{\"attributes\":{\"line_color\":{\"value\":\"#c33ff3\"},\"line_width\":{\"value\":2},\"x\":{\"field\":\"x_values\"},\"y\":{\"field\":\"y_values\"}},\"id\":\"6e6daf1f-f092-46db-a686-e2f952d807ab\",\"type\":\"Line\"},{\"attributes\":{\"data_source\":{\"id\":\"5ba35774-10fc-492d-9335-92af9ca58bdb\",\"type\":\"ColumnDataSource\"},\"glyph\":{\"id\":\"7e345725-5350-46bf-b907-45657304351b\",\"type\":\"Line\"},\"hover_glyph\":null,\"nonselection_glyph\":null,\"selection_glyph\":null},\"id\":\"aabedb0b-fc22-4b11-8c48-ff11dbab4a62\",\"type\":\"GlyphRenderer\"},{\"attributes\":{\"callback\":null,\"column_names\":[\"x_values\",\"y_values\"],\"data\":{\"chart_index\":[{\"country\":\"Belize\"},{\"country\":\"Belize\"},{\"country\":\"Belize\"},{\"country\":\"Belize\"},{\"country\":\"Belize\"},{\"country\":\"Belize\"},{\"country\":\"Belize\"},{\"country\":\"Belize\"}],\"country\":[\"Belize\",\"Belize\",\"Belize\",\"Belize\",\"Belize\",\"Belize\",\"Belize\",\"Belize\"],\"x_values\":[2004,2005,2008,2011,2012,2013,2014,2015],\"y_values\":[2,1,2,2,1,14,65,43]}},\"id\":\"22d071ef-5f8e-49a5-bf82-42dceceb9db5\",\"type\":\"ColumnDataSource\"},{\"attributes\":{\"callback\":null,\"plot\":{\"id\":\"5d250f67-b2a6-4daa-8a8a-d8d23587b834\",\"subtype\":\"Chart\",\"type\":\"Plot\"},\"tooltips\":[[\"year\",\"$x\"],[\"count\",\"$y\"],[\"country\",\"@country\"]]},\"id\":\"4fb61866-2714-4c6a-94dd-06a3b81f52ac\",\"type\":\"HoverTool\"},{\"attributes\":{\"line_color\":{\"value\":\"#c33ff3\"},\"line_width\":{\"value\":2},\"x\":{\"field\":\"x_values\"},\"y\":{\"field\":\"y_values\"}},\"id\":\"3b7ff398-3731-4b54-841e-16d7f93db393\",\"type\":\"Line\"},{\"attributes\":{\"callback\":null,\"column_names\":[\"x_values\",\"y_values\"],\"data\":{\"chart_index\":[{\"country\":\"Malaysia\"},{\"country\":\"Malaysia\"},{\"country\":\"Malaysia\"},{\"country\":\"Malaysia\"},{\"country\":\"Malaysia\"},{\"country\":\"Malaysia\"},{\"country\":\"Malaysia\"},{\"country\":\"Malaysia\"},{\"country\":\"Malaysia\"},{\"country\":\"Malaysia\"},{\"country\":\"Malaysia\"},{\"country\":\"Malaysia\"},{\"country\":\"Malaysia\"},{\"country\":\"Malaysia\"},{\"country\":\"Malaysia\"},{\"country\":\"Malaysia\"},{\"country\":\"Malaysia\"},{\"country\":\"Malaysia\"}],\"country\":[\"Malaysia\",\"Malaysia\",\"Malaysia\",\"Malaysia\",\"Malaysia\",\"Malaysia\",\"Malaysia\",\"Malaysia\",\"Malaysia\",\"Malaysia\",\"Malaysia\",\"Malaysia\",\"Malaysia\",\"Malaysia\",\"Malaysia\",\"Malaysia\",\"Malaysia\",\"Malaysia\"],\"x_values\":[1988,1991,1992,1994,1995,1996,1997,1998,2000,2001,2002,2003,2004,2005,2006,2007,2008,2009],\"y_values\":[1,3,2,3,2,1,5,4,4,2,13,11,4,7,4,2,1,2]}},\"id\":\"9232b240-5af9-4dc5-a921-e470f3d31d82\",\"type\":\"ColumnDataSource\"}],\"root_ids\":[\"5d250f67-b2a6-4daa-8a8a-d8d23587b834\"]},\"title\":\"Bokeh Application\",\"version\":\"0.11.1\"}};\n",
       "            var render_items = [{\"docid\":\"ac5a17c7-e857-4ef5-a5e3-6266f8514c4f\",\"elementid\":\"e77eb1f7-2e5f-4088-8039-6961866f3ba8\",\"modelid\":\"5d250f67-b2a6-4daa-8a8a-d8d23587b834\",\"notebook_comms_target\":\"b6a2a1ad-e3ac-4499-b24f-5bf86fb7b35d\"}];\n",
       "            \n",
       "            Bokeh.embed.embed_items(docs_json, render_items);\n",
       "        });\n",
       "      },\n",
       "      function(Bokeh) {\n",
       "      }\n",
       "    ];\n",
       "  \n",
       "    function run_inline_js() {\n",
       "      for (var i = 0; i < inline_js.length; i++) {\n",
       "        inline_js[i](window.Bokeh);\n",
       "      }\n",
       "    }\n",
       "  \n",
       "    if (window._bokeh_is_loading === 0) {\n",
       "      console.log(\"Bokeh: BokehJS loaded, going straight to plotting\");\n",
       "      run_inline_js();\n",
       "    } else {\n",
       "      load_libs(js_urls, function() {\n",
       "        console.log(\"Bokeh: BokehJS plotting callback run at\", now());\n",
       "        run_inline_js();\n",
       "      });\n",
       "    }\n",
       "  }(this));\n",
       "</script>"
      ]
     },
     "metadata": {},
     "output_type": "display_data"
    },
    {
     "data": {
      "text/html": [
       "<p><code>&lt;Bokeh Notebook handle for <strong>In[8]</strong>&gt;</code></p>"
      ],
      "text/plain": [
       "<bokeh.io._CommsHandle at 0x7f26a09302d0>"
      ]
     },
     "execution_count": 8,
     "metadata": {},
     "output_type": "execute_result"
    }
   ],
   "source": [
    "hover = HoverTool(tooltips=[(\"year\", \"$x\"),(\"count\", \"$y\"),(\"country\", \"@country\")])\n",
    "line = Line(data, x='year', y='count', color='country', legend='top_left', width=1000, tools=[hover])\n",
    "show(line)"
   ]
  },
  {
   "cell_type": "markdown",
   "metadata": {},
   "source": [
    "On thing that pops out is that the British Virgin Islands is a very popular choice! Also, we can see that in the beginning of the 2000s, the number of offshore companies created in Niue and the Bahamas dropped in favour of Panama, Samoa and the Seychelles.\n",
    "\n",
    "Now let's have a look at intermediaries, those banks, law firms, etc. helping in the process of creating an offshore compagny."
   ]
  },
  {
   "cell_type": "code",
   "execution_count": 9,
   "metadata": {
    "collapsed": false,
    "scrolled": false
   },
   "outputs": [
    {
     "name": "stdout",
     "output_type": "stream",
     "text": [
      "<Response [201]>\n"
     ]
    }
   ],
   "source": [
    "print mldb.post(\"/v1/procedures\", {\n",
    "    \"type\": 'import.text',\n",
    "    \"params\": {\n",
    "        \"dataFileUrl\": data_dir + 'Intermediaries.csv.gz',\n",
    "        \"delimiter\": ',',\n",
    "        \"encoding\": 'latin1',\n",
    "        \"runOnCreation\": True,\n",
    "        \"outputDataset\": 'intermediaries',\n",
    "        \"ignoreBadLines\": True,\n",
    "    }\n",
    "})"
   ]
  },
  {
   "cell_type": "code",
   "execution_count": 10,
   "metadata": {
    "collapsed": false,
    "scrolled": false
   },
   "outputs": [
    {
     "data": {
      "text/html": [
       "<div>\n",
       "<table border=\"1\" class=\"dataframe\">\n",
       "  <thead>\n",
       "    <tr style=\"text-align: right;\">\n",
       "      <th></th>\n",
       "      <th>address</th>\n",
       "      <th>countries</th>\n",
       "      <th>country_codes</th>\n",
       "      <th>internal_id</th>\n",
       "      <th>name</th>\n",
       "      <th>node_id</th>\n",
       "      <th>sourceID</th>\n",
       "      <th>status</th>\n",
       "      <th>valid_until</th>\n",
       "    </tr>\n",
       "    <tr>\n",
       "      <th>_rowName</th>\n",
       "      <th></th>\n",
       "      <th></th>\n",
       "      <th></th>\n",
       "      <th></th>\n",
       "      <th></th>\n",
       "      <th></th>\n",
       "      <th></th>\n",
       "      <th></th>\n",
       "      <th></th>\n",
       "    </tr>\n",
       "  </thead>\n",
       "  <tbody>\n",
       "    <tr>\n",
       "      <th>2</th>\n",
       "      <td>MICHAEL PAPAGEORGE; MR. 106 NICHOLSON STREET B...</td>\n",
       "      <td>South Africa</td>\n",
       "      <td>ZAF</td>\n",
       "      <td>10001</td>\n",
       "      <td>MICHAEL PAPAGEORGE, MR.</td>\n",
       "      <td>11000001</td>\n",
       "      <td>Panama Papers</td>\n",
       "      <td>ACTIVE</td>\n",
       "      <td>The Panama Papers  data is current through 2015</td>\n",
       "    </tr>\n",
       "    <tr>\n",
       "      <th>3</th>\n",
       "      <td>None</td>\n",
       "      <td>Liechtenstein</td>\n",
       "      <td>LIE</td>\n",
       "      <td>10004</td>\n",
       "      <td>CORFIDUCIA ANSTALT</td>\n",
       "      <td>11000002</td>\n",
       "      <td>Panama Papers</td>\n",
       "      <td>ACTIVE</td>\n",
       "      <td>The Panama Papers  data is current through 2015</td>\n",
       "    </tr>\n",
       "    <tr>\n",
       "      <th>4</th>\n",
       "      <td>None</td>\n",
       "      <td>Monaco</td>\n",
       "      <td>MCO</td>\n",
       "      <td>10014</td>\n",
       "      <td>DAVID, RONALD</td>\n",
       "      <td>11000003</td>\n",
       "      <td>Panama Papers</td>\n",
       "      <td>SUSPENDED</td>\n",
       "      <td>The Panama Papers  data is current through 2015</td>\n",
       "    </tr>\n",
       "    <tr>\n",
       "      <th>5</th>\n",
       "      <td>None</td>\n",
       "      <td>Belgium</td>\n",
       "      <td>BEL</td>\n",
       "      <td>10015</td>\n",
       "      <td>DE  BOUTSELIS, JEAN-PIERRE</td>\n",
       "      <td>11000004</td>\n",
       "      <td>Panama Papers</td>\n",
       "      <td>SUSPENDED</td>\n",
       "      <td>The Panama Papers  data is current through 2015</td>\n",
       "    </tr>\n",
       "    <tr>\n",
       "      <th>6</th>\n",
       "      <td>None</td>\n",
       "      <td>Lebanon</td>\n",
       "      <td>LBN</td>\n",
       "      <td>10029</td>\n",
       "      <td>THE LEVANT LAWYERS (TLL)</td>\n",
       "      <td>11000005</td>\n",
       "      <td>Panama Papers</td>\n",
       "      <td>ACTIVE</td>\n",
       "      <td>The Panama Papers  data is current through 2015</td>\n",
       "    </tr>\n",
       "  </tbody>\n",
       "</table>\n",
       "</div>"
      ],
      "text/plain": [
       "                                                    address      countries  \\\n",
       "_rowName                                                                     \n",
       "2         MICHAEL PAPAGEORGE; MR. 106 NICHOLSON STREET B...   South Africa   \n",
       "3                                                      None  Liechtenstein   \n",
       "4                                                      None         Monaco   \n",
       "5                                                      None        Belgium   \n",
       "6                                                      None        Lebanon   \n",
       "\n",
       "         country_codes  internal_id                        name   node_id  \\\n",
       "_rowName                                                                    \n",
       "2                  ZAF        10001     MICHAEL PAPAGEORGE, MR.  11000001   \n",
       "3                  LIE        10004          CORFIDUCIA ANSTALT  11000002   \n",
       "4                  MCO        10014               DAVID, RONALD  11000003   \n",
       "5                  BEL        10015  DE  BOUTSELIS, JEAN-PIERRE  11000004   \n",
       "6                  LBN        10029    THE LEVANT LAWYERS (TLL)  11000005   \n",
       "\n",
       "               sourceID     status  \\\n",
       "_rowName                             \n",
       "2         Panama Papers     ACTIVE   \n",
       "3         Panama Papers     ACTIVE   \n",
       "4         Panama Papers  SUSPENDED   \n",
       "5         Panama Papers  SUSPENDED   \n",
       "6         Panama Papers     ACTIVE   \n",
       "\n",
       "                                              valid_until  \n",
       "_rowName                                                   \n",
       "2         The Panama Papers  data is current through 2015  \n",
       "3         The Panama Papers  data is current through 2015  \n",
       "4         The Panama Papers  data is current through 2015  \n",
       "5         The Panama Papers  data is current through 2015  \n",
       "6         The Panama Papers  data is current through 2015  "
      ]
     },
     "execution_count": 10,
     "metadata": {},
     "output_type": "execute_result"
    }
   ],
   "source": [
    "mldb.query(\"select * from intermediaries limit 5\")"
   ]
  },
  {
   "cell_type": "markdown",
   "metadata": {},
   "source": [
    "Let's see how they are distributed geographically. First we need split the countries, using the [`tokenize`][0] function, because some of them are linked to multiple countries (separated by a semicolon in the `countries` column). Then we [`transpose`][1] the dataset, because we want the countries to be the rows. Finally, for each row (i.e. each country), we [(horizontally) sum][2] all the intermediaries.\n",
    "\n",
    "[0]: ../../../../doc/#builtin/sql/ValueExpression.md.html#builtinfunctions\n",
    "[1]: http://localhost:8087/doc/#builtin/sql/FromExpression.md.html\n",
    "[2]: ../../../../doc/#builtin/sql/ValueExpression.md.html#builtinfunctions"
   ]
  },
  {
   "cell_type": "code",
   "execution_count": 11,
   "metadata": {
    "collapsed": false,
    "scrolled": false
   },
   "outputs": [
    {
     "name": "stdout",
     "output_type": "stream",
     "text": [
      "                      nb_intermediaries\n",
      "_rowName                               \n",
      "Hong Kong                          4902\n",
      "United Kingdom                     2106\n",
      "United States                      1540\n",
      "Switzerland                        1339\n",
      "Taiwan                             1324\n",
      "Singapore                          1315\n",
      "China                               657\n",
      "Panama                              600\n",
      "Indonesia                           530\n",
      "Guatemala                           444\n",
      "Not identified                      417\n",
      "Luxembourg                          411\n",
      "Brazil                              406\n",
      "Thailand                            362\n",
      "Malaysia                            354\n",
      "Jersey                              340\n",
      "Ecuador                             325\n",
      "Uruguay                             300\n",
      "Guernsey                            249\n",
      "Canada                              242\n",
      "Colombia                            233\n",
      "Isle of Man                         213\n",
      "Spain                               211\n",
      "Australia                           201\n",
      "Venezuela                           188\n",
      "Cyprus                              183\n",
      "United Arab Emirates                182\n",
      "Monaco                              178\n",
      "Israel                              148\n",
      "Russia                              140\n",
      "France                              127\n",
      "Costa Rica                          125\n",
      "Liechtenstein                       123\n",
      "Bahamas                             122\n"
     ]
    },
    {
     "data": {
      "text/plain": [
       "<matplotlib.axes._subplots.AxesSubplot at 0x7f26a0769410>"
      ]
     },
     "execution_count": 11,
     "metadata": {},
     "output_type": "execute_result"
    },
    {
     "data": {
      "image/png": "[encoded data removed]",
      "text/plain": [
       "<matplotlib.figure.Figure at 0x7f26a0834950>"
      ]
     },
     "metadata": {},
     "output_type": "display_data"
    }
   ],
   "source": [
    "data = mldb.query(\"\"\"\n",
    "SELECT horizontal_sum({*}) as nb_intermediaries\n",
    "FROM transpose((\n",
    "    SELECT tokenize(countries, {splitchars: ';'}) AS *\n",
    "    FROM intermediaries\n",
    "    WHERE countries IS NOT NULL\n",
    "))\n",
    "WHERE horizontal_sum({*}) > 100\n",
    "ORDER BY nb_intermediaries DESC\n",
    "\"\"\")\n",
    "bar_plot(data, 'Nb of intermediaries per country')"
   ]
  },
  {
   "cell_type": "markdown",
   "metadata": {},
   "source": [
    "Now let's have a look at the Officers' data, the owners being the offshore entities."
   ]
  },
  {
   "cell_type": "code",
   "execution_count": 12,
   "metadata": {
    "collapsed": false,
    "scrolled": true
   },
   "outputs": [
    {
     "name": "stdout",
     "output_type": "stream",
     "text": [
      "<Response [201]>\n"
     ]
    }
   ],
   "source": [
    "print mldb.post(\"/v1/procedures\", {\n",
    "    \"type\": 'import.text',\n",
    "    \"params\": {\n",
    "        \"dataFileUrl\": data_dir + 'Officers.csv.gz',\n",
    "        \"delimiter\": ',',\n",
    "        \"encoding\": 'latin1',\n",
    "        \"runOnCreation\": True,\n",
    "        \"outputDataset\": 'officers',\n",
    "        \"ignoreBadLines\": True\n",
    "    }\n",
    "})"
   ]
  },
  {
   "cell_type": "code",
   "execution_count": 13,
   "metadata": {
    "collapsed": false
   },
   "outputs": [
    {
     "data": {
      "text/html": [
       "<div>\n",
       "<table border=\"1\" class=\"dataframe\">\n",
       "  <thead>\n",
       "    <tr style=\"text-align: right;\">\n",
       "      <th></th>\n",
       "      <th>countries</th>\n",
       "      <th>country_codes</th>\n",
       "      <th>name</th>\n",
       "      <th>node_id</th>\n",
       "      <th>sourceID</th>\n",
       "      <th>valid_until</th>\n",
       "    </tr>\n",
       "    <tr>\n",
       "      <th>_rowName</th>\n",
       "      <th></th>\n",
       "      <th></th>\n",
       "      <th></th>\n",
       "      <th></th>\n",
       "      <th></th>\n",
       "      <th></th>\n",
       "    </tr>\n",
       "  </thead>\n",
       "  <tbody>\n",
       "    <tr>\n",
       "      <th>318399</th>\n",
       "      <td>Not identified</td>\n",
       "      <td>XXX</td>\n",
       "      <td>Xu Ming Gang</td>\n",
       "      <td>66866</td>\n",
       "      <td>Offshore Leaks</td>\n",
       "      <td>The Offshore Leaks data is current through 2010</td>\n",
       "    </tr>\n",
       "    <tr>\n",
       "      <th>318400</th>\n",
       "      <td>Not identified</td>\n",
       "      <td>XXX</td>\n",
       "      <td>Indo-East Engineering &amp; Construction Pte Ltd</td>\n",
       "      <td>66867</td>\n",
       "      <td>Offshore Leaks</td>\n",
       "      <td>The Offshore Leaks data is current through 2010</td>\n",
       "    </tr>\n",
       "    <tr>\n",
       "      <th>318401</th>\n",
       "      <td>Not identified</td>\n",
       "      <td>XXX</td>\n",
       "      <td>Great State Development Limited</td>\n",
       "      <td>66868</td>\n",
       "      <td>Offshore Leaks</td>\n",
       "      <td>The Offshore Leaks data is current through 2010</td>\n",
       "    </tr>\n",
       "    <tr>\n",
       "      <th>318402</th>\n",
       "      <td>Cayman Islands</td>\n",
       "      <td>CYM</td>\n",
       "      <td>Hong Kong Bank International Trustee Limited -...</td>\n",
       "      <td>45097</td>\n",
       "      <td>Offshore Leaks</td>\n",
       "      <td>The Offshore Leaks data is current through 2010</td>\n",
       "    </tr>\n",
       "    <tr>\n",
       "      <th>318403</th>\n",
       "      <td>Hong Kong</td>\n",
       "      <td>HKG</td>\n",
       "      <td>CHEN Chia Long, Carlos ???</td>\n",
       "      <td>45098</td>\n",
       "      <td>Offshore Leaks</td>\n",
       "      <td>The Offshore Leaks data is current through 2010</td>\n",
       "    </tr>\n",
       "  </tbody>\n",
       "</table>\n",
       "</div>"
      ],
      "text/plain": [
       "               countries country_codes  \\\n",
       "_rowName                                 \n",
       "318399    Not identified           XXX   \n",
       "318400    Not identified           XXX   \n",
       "318401    Not identified           XXX   \n",
       "318402    Cayman Islands           CYM   \n",
       "318403         Hong Kong           HKG   \n",
       "\n",
       "                                                       name  node_id  \\\n",
       "_rowName                                                               \n",
       "318399                                         Xu Ming Gang    66866   \n",
       "318400         Indo-East Engineering & Construction Pte Ltd    66867   \n",
       "318401                      Great State Development Limited    66868   \n",
       "318402    Hong Kong Bank International Trustee Limited -...    45097   \n",
       "318403                           CHEN Chia Long, Carlos ???    45098   \n",
       "\n",
       "                sourceID                                      valid_until  \n",
       "_rowName                                                                   \n",
       "318399    Offshore Leaks  The Offshore Leaks data is current through 2010  \n",
       "318400    Offshore Leaks  The Offshore Leaks data is current through 2010  \n",
       "318401    Offshore Leaks  The Offshore Leaks data is current through 2010  \n",
       "318402    Offshore Leaks  The Offshore Leaks data is current through 2010  \n",
       "318403    Offshore Leaks  The Offshore Leaks data is current through 2010  "
      ]
     },
     "execution_count": 13,
     "metadata": {},
     "output_type": "execute_result"
    }
   ],
   "source": [
    "mldb.query('SELECT * FROM officers LIMIT 5')"
   ]
  },
  {
   "cell_type": "markdown",
   "metadata": {},
   "source": [
    "And we also need all the links between those officers. The next dataset actually contains links between everything we have loaded so far. They are called \"edges\" as edges in a [graph][1], and our entities/intermediaries/officers are the nodes of the graph. \n",
    "[1]:https://en.wikipedia.org/wiki/Graph_(discrete_mathematics)"
   ]
  },
  {
   "cell_type": "code",
   "execution_count": 14,
   "metadata": {
    "collapsed": false,
    "scrolled": false
   },
   "outputs": [
    {
     "name": "stdout",
     "output_type": "stream",
     "text": [
      "<Response [201]>\n"
     ]
    }
   ],
   "source": [
    "print mldb.post(\"/v1/procedures\", {\n",
    "    \"type\": 'import.text',\n",
    "    \"params\": {\n",
    "        \"dataFileUrl\": data_dir + 'all_edges.csv.gz',\n",
    "        \"delimiter\": ',',\n",
    "        \"encoding\": 'latin1',\n",
    "        \"runOnCreation\": True,\n",
    "        \"outputDataset\": 'edges',\n",
    "        \"ignoreBadLines\": True,\n",
    "        \"select\": \"* EXCLUDING (rel_type), lower(rel_type) AS rel_type\"\n",
    "    }\n",
    "})"
   ]
  },
  {
   "cell_type": "code",
   "execution_count": 15,
   "metadata": {
    "collapsed": false,
    "scrolled": true
   },
   "outputs": [
    {
     "data": {
      "text/html": [
       "<div>\n",
       "<table border=\"1\" class=\"dataframe\">\n",
       "  <thead>\n",
       "    <tr style=\"text-align: right;\">\n",
       "      <th></th>\n",
       "      <th>node_1</th>\n",
       "      <th>node_2</th>\n",
       "      <th>rel_type</th>\n",
       "    </tr>\n",
       "    <tr>\n",
       "      <th>_rowName</th>\n",
       "      <th></th>\n",
       "      <th></th>\n",
       "      <th></th>\n",
       "    </tr>\n",
       "  </thead>\n",
       "  <tbody>\n",
       "    <tr>\n",
       "      <th>2</th>\n",
       "      <td>11000001</td>\n",
       "      <td>10208879</td>\n",
       "      <td>intermediary of</td>\n",
       "    </tr>\n",
       "    <tr>\n",
       "      <th>3</th>\n",
       "      <td>11000001</td>\n",
       "      <td>10198662</td>\n",
       "      <td>intermediary of</td>\n",
       "    </tr>\n",
       "    <tr>\n",
       "      <th>4</th>\n",
       "      <td>11000001</td>\n",
       "      <td>10159927</td>\n",
       "      <td>intermediary of</td>\n",
       "    </tr>\n",
       "    <tr>\n",
       "      <th>5</th>\n",
       "      <td>11000001</td>\n",
       "      <td>10165779</td>\n",
       "      <td>intermediary of</td>\n",
       "    </tr>\n",
       "    <tr>\n",
       "      <th>6</th>\n",
       "      <td>11000001</td>\n",
       "      <td>10152967</td>\n",
       "      <td>intermediary of</td>\n",
       "    </tr>\n",
       "  </tbody>\n",
       "</table>\n",
       "</div>"
      ],
      "text/plain": [
       "            node_1    node_2         rel_type\n",
       "_rowName                                     \n",
       "2         11000001  10208879  intermediary of\n",
       "3         11000001  10198662  intermediary of\n",
       "4         11000001  10159927  intermediary of\n",
       "5         11000001  10165779  intermediary of\n",
       "6         11000001  10152967  intermediary of"
      ]
     },
     "execution_count": 15,
     "metadata": {},
     "output_type": "execute_result"
    }
   ],
   "source": [
    "mldb.query('select * from edges limit 5')"
   ]
  },
  {
   "cell_type": "markdown",
   "metadata": {},
   "source": [
    "Let's explore a bit and list the main type of links in the graph."
   ]
  },
  {
   "cell_type": "code",
   "execution_count": 16,
   "metadata": {
    "collapsed": false,
    "scrolled": false
   },
   "outputs": [
    {
     "data": {
      "text/html": [
       "<div>\n",
       "<table border=\"1\" class=\"dataframe\">\n",
       "  <thead>\n",
       "    <tr style=\"text-align: right;\">\n",
       "      <th></th>\n",
       "      <th>count</th>\n",
       "    </tr>\n",
       "    <tr>\n",
       "      <th>_rowName</th>\n",
       "      <th></th>\n",
       "    </tr>\n",
       "  </thead>\n",
       "  <tbody>\n",
       "    <tr>\n",
       "      <th>shareholder of</th>\n",
       "      <td>382788</td>\n",
       "    </tr>\n",
       "    <tr>\n",
       "      <th>intermediary of</th>\n",
       "      <td>319121</td>\n",
       "    </tr>\n",
       "    <tr>\n",
       "      <th>registered address</th>\n",
       "      <td>316472</td>\n",
       "    </tr>\n",
       "    <tr>\n",
       "      <th>director of</th>\n",
       "      <td>118589</td>\n",
       "    </tr>\n",
       "    <tr>\n",
       "      <th>similar name and address as</th>\n",
       "      <td>46761</td>\n",
       "    </tr>\n",
       "    <tr>\n",
       "      <th>records &amp; registers of</th>\n",
       "      <td>36318</td>\n",
       "    </tr>\n",
       "    <tr>\n",
       "      <th>beneficiary of</th>\n",
       "      <td>19182</td>\n",
       "    </tr>\n",
       "    <tr>\n",
       "      <th>secretary of</th>\n",
       "      <td>14351</td>\n",
       "    </tr>\n",
       "    <tr>\n",
       "      <th>same name and registration date as</th>\n",
       "      <td>3146</td>\n",
       "    </tr>\n",
       "    <tr>\n",
       "      <th>beneficial owner of</th>\n",
       "      <td>1872</td>\n",
       "    </tr>\n",
       "    <tr>\n",
       "      <th>trustee of trust of</th>\n",
       "      <td>1418</td>\n",
       "    </tr>\n",
       "    <tr>\n",
       "      <th>trust settlor of</th>\n",
       "      <td>1234</td>\n",
       "    </tr>\n",
       "    <tr>\n",
       "      <th>authorised person / signatory of</th>\n",
       "      <td>1229</td>\n",
       "    </tr>\n",
       "    <tr>\n",
       "      <th>protector of</th>\n",
       "      <td>1198</td>\n",
       "    </tr>\n",
       "    <tr>\n",
       "      <th>nominee shareholder of</th>\n",
       "      <td>1130</td>\n",
       "    </tr>\n",
       "    <tr>\n",
       "      <th>same address as</th>\n",
       "      <td>960</td>\n",
       "    </tr>\n",
       "    <tr>\n",
       "      <th>related entity</th>\n",
       "      <td>622</td>\n",
       "    </tr>\n",
       "    <tr>\n",
       "      <th>assistant secretary of</th>\n",
       "      <td>583</td>\n",
       "    </tr>\n",
       "    <tr>\n",
       "      <th>alternate director of</th>\n",
       "      <td>409</td>\n",
       "    </tr>\n",
       "    <tr>\n",
       "      <th>co-trustee of trust of</th>\n",
       "      <td>320</td>\n",
       "    </tr>\n",
       "  </tbody>\n",
       "</table>\n",
       "</div>"
      ],
      "text/plain": [
       "                                     count\n",
       "_rowName                                  \n",
       "shareholder of                      382788\n",
       "intermediary of                     319121\n",
       "registered address                  316472\n",
       "director of                         118589\n",
       "similar name and address as          46761\n",
       "records & registers of               36318\n",
       "beneficiary of                       19182\n",
       "secretary of                         14351\n",
       "same name and registration date as    3146\n",
       "beneficial owner of                   1872\n",
       "trustee of trust of                   1418\n",
       "trust settlor of                      1234\n",
       "authorised person / signatory of      1229\n",
       "protector of                          1198\n",
       "nominee shareholder of                1130\n",
       "same address as                        960\n",
       "related entity                         622\n",
       "assistant secretary of                 583\n",
       "alternate director of                  409\n",
       "co-trustee of trust of                 320"
      ]
     },
     "execution_count": 16,
     "metadata": {},
     "output_type": "execute_result"
    }
   ],
   "source": [
    "mldb.query(\"\"\"\n",
    "SELECT count(*) AS count\n",
    "NAMED rel_type\n",
    "FROM edges\n",
    "GROUP BY rel_type\n",
    "ORDER BY count DESC\n",
    "LIMIT 20\n",
    "\"\"\")"
   ]
  },
  {
   "cell_type": "markdown",
   "metadata": {},
   "source": [
    "We can then use those links to see for example what officers are shareholders of what offshore entities, using a simple [`JOIN`][0]. We can then filter to keep only the \"[the bearer][1]\" (or \"el portador\" in Spanish) kind of shareholders. Those are the most secretive ones, not keeping track of who is really behind the shares. Finally we group those by the country of the offshore company and by year.\n",
    "[0]: ../../../../doc/#builtin/sql/FromExpression.md.html\n",
    "[1]: https://en.wikipedia.org/wiki/Bearer_instrument"
   ]
  },
  {
   "cell_type": "code",
   "execution_count": 17,
   "metadata": {
    "collapsed": false,
    "scrolled": false
   },
   "outputs": [],
   "source": [
    "data = mldb.query(\"\"\"\n",
    "SELECT count(*) as count, country, year\n",
    "FROM (\n",
    "  SELECT en.jurisdiction_description as country, date_part('year', en.incorporation_date) as year, en.jurisdiction\n",
    "  FROM edges as e\n",
    "  JOIN officers as o\n",
    "    ON o.node_id = e.node_1\n",
    "  JOIN entities as en\n",
    "    ON en.node_id = e.node_2\n",
    "  WHERE ((lower(o.name) LIKE '%the bearer%') OR (lower(o.name) LIKE '%el portador%'))\n",
    "        AND e.rel_type = 'shareholder of'\n",
    "        AND (en.jurisdiction != 'XXX')\n",
    ")\n",
    "GROUP BY country, year\"\"\")"
   ]
  },
  {
   "cell_type": "code",
   "execution_count": 18,
   "metadata": {
    "collapsed": false,
    "scrolled": false
   },
   "outputs": [
    {
     "data": {
      "text/html": [
       "\n",
       "\n",
       "    <div class=\"plotdiv\" id=\"b5b53b13-cec6-4779-b24a-b318a688d564\"></div>\n",
       "<script type=\"text/javascript\">\n",
       "  \n",
       "  (function(global) {\n",
       "    function now() {\n",
       "      return new Date();\n",
       "    }\n",
       "  \n",
       "    if (typeof (window._bokeh_onload_callbacks) === \"undefined\") {\n",
       "      window._bokeh_onload_callbacks = [];\n",
       "    }\n",
       "  \n",
       "    function run_callbacks() {\n",
       "      window._bokeh_onload_callbacks.forEach(function(callback) { callback() });\n",
       "      delete window._bokeh_onload_callbacks\n",
       "      console.info(\"Bokeh: all callbacks have finished\");\n",
       "    }\n",
       "  \n",
       "    function load_libs(js_urls, callback) {\n",
       "      window._bokeh_onload_callbacks.push(callback);\n",
       "      if (window._bokeh_is_loading > 0) {\n",
       "        console.log(\"Bokeh: BokehJS is being loaded, scheduling callback at\", now());\n",
       "        return null;\n",
       "      }\n",
       "      if (js_urls == null || js_urls.length === 0) {\n",
       "        run_callbacks();\n",
       "        return null;\n",
       "      }\n",
       "      console.log(\"Bokeh: BokehJS not loaded, scheduling load and callback at\", now());\n",
       "      window._bokeh_is_loading = js_urls.length;\n",
       "      for (var i = 0; i < js_urls.length; i++) {\n",
       "        var url = js_urls[i];\n",
       "        var s = document.createElement('script');\n",
       "        s.src = url;\n",
       "        s.async = false;\n",
       "        s.onreadystatechange = s.onload = function() {\n",
       "          window._bokeh_is_loading--;\n",
       "          if (window._bokeh_is_loading === 0) {\n",
       "            console.log(\"Bokeh: all BokehJS libraries loaded\");\n",
       "            run_callbacks()\n",
       "          }\n",
       "        };\n",
       "        s.onerror = function() {\n",
       "          console.warn(\"failed to load library \" + url);\n",
       "        };\n",
       "        console.log(\"Bokeh: injecting script tag for BokehJS library: \", url);\n",
       "        document.getElementsByTagName(\"head\")[0].appendChild(s);\n",
       "      }\n",
       "    };var element = document.getElementById(\"b5b53b13-cec6-4779-b24a-b318a688d564\");\n",
       "    if (element == null) {\n",
       "      console.log(\"Bokeh: ERROR: autoload.js configured with elementid 'b5b53b13-cec6-4779-b24a-b318a688d564' but no matching script tag was found. \")\n",
       "      return false;\n",
       "    }\n",
       "  \n",
       "    var js_urls = [];\n",
       "  \n",
       "    var inline_js = [\n",
       "      function(Bokeh) {\n",
       "        Bokeh.$(function() {\n",
       "            var docs_json = {\"e8a258f8-7664-4a2a-b571-850b88cfd770\":{\"roots\":{\"references\":[{\"attributes\":{\"data_source\":{\"id\":\"dced5398-02c9-45eb-8f98-8310069c7f3e\",\"type\":\"ColumnDataSource\"},\"glyph\":{\"id\":\"1796975b-adbc-4573-b956-a68bff39976e\",\"type\":\"Line\"},\"hover_glyph\":null,\"nonselection_glyph\":null,\"selection_glyph\":null},\"id\":\"2b99547b-4f41-4b30-b03d-bff9653ae0b2\",\"type\":\"GlyphRenderer\"},{\"attributes\":{},\"id\":\"b36ef223-c9cc-4736-b61e-70f13540b54e\",\"type\":\"ToolEvents\"},{\"attributes\":{\"line_color\":{\"value\":\"#df5320\"},\"line_width\":{\"value\":2},\"x\":{\"field\":\"x_values\"},\"y\":{\"field\":\"y_values\"}},\"id\":\"b76f595a-1e6a-4a35-9978-9a6cec2ae7d2\",\"type\":\"Line\"},{\"attributes\":{\"line_color\":{\"value\":\"#f22c40\"},\"line_width\":{\"value\":2},\"x\":{\"field\":\"x_values\"},\"y\":{\"field\":\"y_values\"}},\"id\":\"82a9b673-e858-447c-bd31-42c95b0a58a6\",\"type\":\"Line\"},{\"attributes\":{\"callback\":null,\"column_names\":[\"x_values\",\"y_values\"],\"data\":{\"chart_index\":[{\"country\":\"Niue\"},{\"country\":\"Niue\"},{\"country\":\"Niue\"},{\"country\":\"Niue\"},{\"country\":\"Niue\"},{\"country\":\"Niue\"},{\"country\":\"Niue\"},{\"country\":\"Niue\"},{\"country\":\"Niue\"},{\"country\":\"Niue\"},{\"country\":\"Niue\"},{\"country\":\"Niue\"},{\"country\":\"Niue\"}],\"country\":[\"Niue\",\"Niue\",\"Niue\",\"Niue\",\"Niue\",\"Niue\",\"Niue\",\"Niue\",\"Niue\",\"Niue\",\"Niue\",\"Niue\",\"Niue\"],\"x_values\":[1994,1995,1996,1997,1998,1999,2000,2001,2002,2003,2004,2005,2006],\"y_values\":[123,430,894,1036,1153,1858,1622,902,466,672,437,12,6]}},\"id\":\"fd0c96da-9761-4fc6-808e-56dc1a7e6fd7\",\"type\":\"ColumnDataSource\"},{\"attributes\":{\"below\":[{\"id\":\"165ab268-80ad-414d-b394-91715cdaf65f\",\"type\":\"LinearAxis\"}],\"left\":[{\"id\":\"941e4767-50a6-4053-911d-6651313327d7\",\"type\":\"LinearAxis\"}],\"legend\":\"top_left\",\"plot_width\":1000,\"renderers\":[{\"id\":\"e0fb3c65-f7ce-46d0-894d-3c6e36e4038f\",\"type\":\"GlyphRenderer\"},{\"id\":\"90308c01-d988-4e5c-b7bd-867a8e9a06b9\",\"type\":\"GlyphRenderer\"},{\"id\":\"e34dcbeb-f72b-4375-b8c9-7511088cd6f5\",\"type\":\"GlyphRenderer\"},{\"id\":\"6346cf0b-3b48-4103-b3b3-8e5f1f2b2289\",\"type\":\"GlyphRenderer\"},{\"id\":\"ef3b6f15-f2d4-453f-9af4-9cec80d0dbc2\",\"type\":\"GlyphRenderer\"},{\"id\":\"8351e2a0-b77e-41ea-83ee-d6dc218d4186\",\"type\":\"GlyphRenderer\"},{\"id\":\"51222023-f21c-444a-abec-8853c56ae311\",\"type\":\"GlyphRenderer\"},{\"id\":\"968587ca-1115-4216-925f-f73934bb87fd\",\"type\":\"GlyphRenderer\"},{\"id\":\"56e7bfdc-081a-4f3b-8936-a9e250b3c198\",\"type\":\"GlyphRenderer\"},{\"id\":\"d9a31211-9111-4253-a12b-a901b53011f6\",\"type\":\"GlyphRenderer\"},{\"id\":\"55fe352a-1646-42ab-96f3-f36d01f6ebca\",\"type\":\"GlyphRenderer\"},{\"id\":\"71e4e24d-b57d-4436-959d-48c2582edaec\",\"type\":\"GlyphRenderer\"},{\"id\":\"2b99547b-4f41-4b30-b03d-bff9653ae0b2\",\"type\":\"GlyphRenderer\"},{\"id\":\"c0d6f8f1-58cf-447b-b27b-87bf6be587f7\",\"type\":\"GlyphRenderer\"},{\"id\":\"fe12d371-1bec-42d7-a77f-9440667f6b51\",\"type\":\"GlyphRenderer\"},{\"id\":\"1866c826-7c9b-4c7a-98e9-5133b7f542ea\",\"type\":\"GlyphRenderer\"},{\"id\":\"51011837-9d1c-43c4-93d8-29bfc2d8aa3b\",\"type\":\"GlyphRenderer\"},{\"id\":\"3bb0e5ec-cfb9-457f-b281-3f050c5816ef\",\"type\":\"GlyphRenderer\"},{\"id\":\"aabedb0b-fc22-4b11-8c48-ff11dbab4a62\",\"type\":\"GlyphRenderer\"},{\"id\":\"3c393c87-845d-4481-9a65-23c0a35d2fc6\",\"type\":\"GlyphRenderer\"},{\"id\":\"78fbed1b-b396-4639-8dc8-c854819c045f\",\"type\":\"Legend\"},{\"id\":\"165ab268-80ad-414d-b394-91715cdaf65f\",\"type\":\"LinearAxis\"},{\"id\":\"941e4767-50a6-4053-911d-6651313327d7\",\"type\":\"LinearAxis\"},{\"id\":\"6a169950-cd12-443f-84db-6b93f7a599ba\",\"type\":\"Grid\"},{\"id\":\"33f98d1b-8768-41ee-9d8d-4ccf32ef21a4\",\"type\":\"Grid\"}],\"title_text_font_size\":{\"value\":\"14pt\"},\"tool_events\":{\"id\":\"b36ef223-c9cc-4736-b61e-70f13540b54e\",\"type\":\"ToolEvents\"},\"tools\":[{\"id\":\"4fb61866-2714-4c6a-94dd-06a3b81f52ac\",\"type\":\"HoverTool\"}],\"x_mapper_type\":\"auto\",\"x_range\":{\"id\":\"d0bed817-67d8-4def-a3a5-a6aa53e465c1\",\"type\":\"Range1d\"},\"xscale\":\"auto\",\"y_mapper_type\":\"auto\",\"y_range\":{\"id\":\"1ed9a119-7f38-48bf-abf1-c92acf533945\",\"type\":\"Range1d\"},\"yscale\":\"auto\"},\"id\":\"5d250f67-b2a6-4daa-8a8a-d8d23587b834\",\"subtype\":\"Chart\",\"type\":\"Plot\"},{\"attributes\":{\"data_source\":{\"id\":\"f585c9ad-ea58-4b73-9d35-acc33e1d5907\",\"type\":\"ColumnDataSource\"},\"glyph\":{\"id\":\"3b7ff398-3731-4b54-841e-16d7f93db393\",\"type\":\"Line\"},\"hover_glyph\":null,\"nonselection_glyph\":null,\"selection_glyph\":null},\"id\":\"3bb0e5ec-cfb9-457f-b281-3f050c5816ef\",\"type\":\"GlyphRenderer\"},{\"attributes\":{},\"id\":\"396569be-a2a9-4d67-9b5b-c255a3ef1823\",\"type\":\"BasicTicker\"},{\"attributes\":{\"line_color\":{\"value\":\"#f22c40\"},\"line_width\":{\"value\":2},\"x\":{\"field\":\"x_values\"},\"y\":{\"field\":\"y_values\"}},\"id\":\"7e345725-5350-46bf-b907-45657304351b\",\"type\":\"Line\"},{\"attributes\":{\"data_source\":{\"id\":\"138b6090-bdc9-44ca-b7a8-706252730f35\",\"type\":\"ColumnDataSource\"},\"glyph\":{\"id\":\"5ce1e7cc-d5c3-414c-8c90-a64d72ae07ab\",\"type\":\"Line\"},\"hover_glyph\":null,\"nonselection_glyph\":null,\"selection_glyph\":null},\"id\":\"c80b8353-ed38-426b-a72d-c8ca35552dfa\",\"type\":\"GlyphRenderer\"},{\"attributes\":{\"callback\":null,\"plot\":{\"id\":\"a851a7a5-56f6-48f5-bde2-c53bd0156199\",\"subtype\":\"Chart\",\"type\":\"Plot\"},\"tooltips\":[[\"year\",\"$x\"],[\"count\",\"$y\"],[\"country\",\"@country\"]]},\"id\":\"e6d49a17-e5b0-433e-93fd-5b3cd9967d60\",\"type\":\"HoverTool\"},{\"attributes\":{\"callback\":null,\"column_names\":[\"x_values\",\"y_values\"],\"data\":{\"chart_index\":[{\"country\":\"Belize\"},{\"country\":\"Belize\"},{\"country\":\"Belize\"},{\"country\":\"Belize\"}],\"country\":[\"Belize\",\"Belize\",\"Belize\",\"Belize\"],\"x_values\":[2008,2013,2014,2015],\"y_values\":[2,1,6,2]}},\"id\":\"138b6090-bdc9-44ca-b7a8-706252730f35\",\"type\":\"ColumnDataSource\"},{\"attributes\":{\"line_color\":{\"value\":\"#00ad9c\"},\"line_width\":{\"value\":2},\"x\":{\"field\":\"x_values\"},\"y\":{\"field\":\"y_values\"}},\"id\":\"9d515777-eeec-43cf-8d67-d2171ab2d003\",\"type\":\"Line\"},{\"attributes\":{\"callback\":null,\"column_names\":[\"x_values\",\"y_values\"],\"data\":{\"chart_index\":[{\"country\":\"Hong Kong\"},{\"country\":\"Hong Kong\"},{\"country\":\"Hong Kong\"},{\"country\":\"Hong Kong\"},{\"country\":\"Hong Kong\"},{\"country\":\"Hong Kong\"},{\"country\":\"Hong Kong\"},{\"country\":\"Hong Kong\"},{\"country\":\"Hong Kong\"},{\"country\":\"Hong Kong\"},{\"country\":\"Hong Kong\"},{\"country\":\"Hong Kong\"},{\"country\":\"Hong Kong\"},{\"country\":\"Hong Kong\"},{\"country\":\"Hong Kong\"},{\"country\":\"Hong Kong\"},{\"country\":\"Hong Kong\"},{\"country\":\"Hong Kong\"},{\"country\":\"Hong Kong\"},{\"country\":\"Hong Kong\"},{\"country\":\"Hong Kong\"},{\"country\":\"Hong Kong\"},{\"country\":\"Hong Kong\"},{\"country\":\"Hong Kong\"},{\"country\":\"Hong Kong\"},{\"country\":\"Hong Kong\"},{\"country\":\"Hong Kong\"},{\"country\":\"Hong Kong\"},{\"country\":\"Hong Kong\"},{\"country\":\"Hong Kong\"},{\"country\":\"Hong Kong\"}],\"country\":[\"Hong Kong\",\"Hong Kong\",\"Hong Kong\",\"Hong Kong\",\"Hong Kong\",\"Hong Kong\",\"Hong Kong\",\"Hong Kong\",\"Hong Kong\",\"Hong Kong\",\"Hong Kong\",\"Hong Kong\",\"Hong Kong\",\"Hong Kong\",\"Hong Kong\",\"Hong Kong\",\"Hong Kong\",\"Hong Kong\",\"Hong Kong\",\"Hong Kong\",\"Hong Kong\",\"Hong Kong\",\"Hong Kong\",\"Hong Kong\",\"Hong Kong\",\"Hong Kong\",\"Hong Kong\",\"Hong Kong\",\"Hong Kong\",\"Hong Kong\",\"Hong Kong\"],\"x_values\":[1982,1984,1987,1988,1989,1990,1991,1992,1993,1994,1995,1996,1997,1998,1999,2000,2001,2002,2003,2004,2005,2006,2007,2008,2009,2010,2011,2012,2013,2014,2015],\"y_values\":[1,1,2,1,1,3,3,3,5,4,3,12,4,16,18,151,123,88,83,134,134,140,182,136,41,17,22,32,32,23,23]}},\"id\":\"bba7fd94-9e56-47cf-8711-dd686f61d575\",\"type\":\"ColumnDataSource\"},{\"attributes\":{\"callback\":null,\"end\":2018.8,\"start\":1973.2},\"id\":\"d0bed817-67d8-4def-a3a5-a6aa53e465c1\",\"type\":\"Range1d\"},{\"attributes\":{\"line_color\":{\"value\":\"#5ab738\"},\"line_width\":{\"value\":2},\"x\":{\"field\":\"x_values\"},\"y\":{\"field\":\"y_values\"}},\"id\":\"5ce1e7cc-d5c3-414c-8c90-a64d72ae07ab\",\"type\":\"Line\"},{\"attributes\":{\"line_color\":{\"value\":\"#df5320\"},\"line_width\":{\"value\":2},\"x\":{\"field\":\"x_values\"},\"y\":{\"field\":\"y_values\"}},\"id\":\"fa2333df-5286-4d26-9649-4abcecfd9451\",\"type\":\"Line\"},{\"attributes\":{\"data_source\":{\"id\":\"ba007d41-069b-45c6-a648-a8ead28102df\",\"type\":\"ColumnDataSource\"},\"glyph\":{\"id\":\"6e6daf1f-f092-46db-a686-e2f952d807ab\",\"type\":\"Line\"},\"hover_glyph\":null,\"nonselection_glyph\":null,\"selection_glyph\":null},\"id\":\"71e4e24d-b57d-4436-959d-48c2582edaec\",\"type\":\"GlyphRenderer\"},{\"attributes\":{},\"id\":\"a676bbd8-5bb7-4eba-8875-e1b043c68224\",\"type\":\"BasicTickFormatter\"},{\"attributes\":{\"data_source\":{\"id\":\"9a56fbf3-81ae-43d3-bc01-9938ca0b2ee2\",\"type\":\"ColumnDataSource\"},\"glyph\":{\"id\":\"62f25130-8569-4dba-87c8-c264753c5281\",\"type\":\"Line\"},\"hover_glyph\":null,\"nonselection_glyph\":null,\"selection_glyph\":null},\"id\":\"8351e2a0-b77e-41ea-83ee-d6dc218d4186\",\"type\":\"GlyphRenderer\"},{\"attributes\":{\"data_source\":{\"id\":\"0014dcee-7111-4ff8-8acc-0baf3a743e96\",\"type\":\"ColumnDataSource\"},\"glyph\":{\"id\":\"69794797-9f8c-4074-8c86-25d071d63038\",\"type\":\"Line\"},\"hover_glyph\":null,\"nonselection_glyph\":null,\"selection_glyph\":null},\"id\":\"1866c826-7c9b-4c7a-98e9-5133b7f542ea\",\"type\":\"GlyphRenderer\"},{\"attributes\":{\"line_color\":{\"value\":\"#f22c40\"},\"line_width\":{\"value\":2},\"x\":{\"field\":\"x_values\"},\"y\":{\"field\":\"y_values\"}},\"id\":\"1796975b-adbc-4573-b956-a68bff39976e\",\"type\":\"Line\"},{\"attributes\":{\"line_color\":{\"value\":\"#407ee7\"},\"line_width\":{\"value\":2},\"x\":{\"field\":\"x_values\"},\"y\":{\"field\":\"y_values\"}},\"id\":\"507184f2-578f-4b0f-b64f-e4929af1d79c\",\"type\":\"Line\"},{\"attributes\":{\"data_source\":{\"id\":\"9232b240-5af9-4dc5-a921-e470f3d31d82\",\"type\":\"ColumnDataSource\"},\"glyph\":{\"id\":\"0f135b9d-53dc-425b-90ee-add906657ad3\",\"type\":\"Line\"},\"hover_glyph\":null,\"nonselection_glyph\":null,\"selection_glyph\":null},\"id\":\"55fe352a-1646-42ab-96f3-f36d01f6ebca\",\"type\":\"GlyphRenderer\"},{\"attributes\":{\"data_source\":{\"id\":\"d23784cd-ccac-4e89-82f6-cc2c40a8bfae\",\"type\":\"ColumnDataSource\"},\"glyph\":{\"id\":\"82a9b673-e858-447c-bd31-42c95b0a58a6\",\"type\":\"Line\"},\"hover_glyph\":null,\"nonselection_glyph\":null,\"selection_glyph\":null},\"id\":\"e0fb3c65-f7ce-46d0-894d-3c6e36e4038f\",\"type\":\"GlyphRenderer\"},{\"attributes\":{\"line_color\":{\"value\":\"#5ab738\"},\"line_width\":{\"value\":2},\"x\":{\"field\":\"x_values\"},\"y\":{\"field\":\"y_values\"}},\"id\":\"4fdfac0b-83bd-4fe2-b8db-36a7767d0420\",\"type\":\"Line\"},{\"attributes\":{\"callback\":null,\"column_names\":[\"x_values\",\"y_values\"],\"data\":{\"chart_index\":[{\"country\":\"Labuan\"},{\"country\":\"Labuan\"},{\"country\":\"Labuan\"},{\"country\":\"Labuan\"},{\"country\":\"Labuan\"},{\"country\":\"Labuan\"},{\"country\":\"Labuan\"},{\"country\":\"Labuan\"},{\"country\":\"Labuan\"},{\"country\":\"Labuan\"},{\"country\":\"Labuan\"},{\"country\":\"Labuan\"},{\"country\":\"Labuan\"},{\"country\":\"Labuan\"},{\"country\":\"Labuan\"},{\"country\":\"Labuan\"},{\"country\":\"Labuan\"}],\"country\":[\"Labuan\",\"Labuan\",\"Labuan\",\"Labuan\",\"Labuan\",\"Labuan\",\"Labuan\",\"Labuan\",\"Labuan\",\"Labuan\",\"Labuan\",\"Labuan\",\"Labuan\",\"Labuan\",\"Labuan\",\"Labuan\",\"Labuan\"],\"x_values\":[1993,1994,1995,1996,1997,1998,1999,2000,2001,2002,2003,2004,2005,2006,2007,2008,2009],\"y_values\":[1,2,6,6,17,5,9,27,14,26,39,52,37,53,60,41,27]}},\"id\":\"673b239e-2068-458c-98f8-a5b8f9d347bc\",\"type\":\"ColumnDataSource\"},{\"attributes\":{\"data_source\":{\"id\":\"219d8951-fdd5-46c9-82ee-9e51826dd31a\",\"type\":\"ColumnDataSource\"},\"glyph\":{\"id\":\"8e3d5f4e-c6df-45ee-9b43-24251b015235\",\"type\":\"Line\"},\"hover_glyph\":null,\"nonselection_glyph\":null,\"selection_glyph\":null},\"id\":\"158b8239-4f61-42de-ac00-fb56ccce05df\",\"type\":\"GlyphRenderer\"},{\"attributes\":{},\"id\":\"625f5671-895a-4dbb-8053-baa60ac994c2\",\"type\":\"BasicTickFormatter\"},{\"attributes\":{\"data_source\":{\"id\":\"57f6d8b6-2d84-4bed-a32b-1253e1dc83d6\",\"type\":\"ColumnDataSource\"},\"glyph\":{\"id\":\"9d515777-eeec-43cf-8d67-d2171ab2d003\",\"type\":\"Line\"},\"hover_glyph\":null,\"nonselection_glyph\":null,\"selection_glyph\":null},\"id\":\"ef3b6f15-f2d4-453f-9af4-9cec80d0dbc2\",\"type\":\"GlyphRenderer\"},{\"attributes\":{\"callback\":null,\"column_names\":[\"x_values\",\"y_values\"],\"data\":{\"chart_index\":[{\"country\":\"Uruguay\"},{\"country\":\"Uruguay\"},{\"country\":\"Uruguay\"},{\"country\":\"Uruguay\"},{\"country\":\"Uruguay\"},{\"country\":\"Uruguay\"},{\"country\":\"Uruguay\"},{\"country\":\"Uruguay\"},{\"country\":\"Uruguay\"},{\"country\":\"Uruguay\"},{\"country\":\"Uruguay\"},{\"country\":\"Uruguay\"},{\"country\":\"Uruguay\"}],\"country\":[\"Uruguay\",\"Uruguay\",\"Uruguay\",\"Uruguay\",\"Uruguay\",\"Uruguay\",\"Uruguay\",\"Uruguay\",\"Uruguay\",\"Uruguay\",\"Uruguay\",\"Uruguay\",\"Uruguay\"],\"x_values\":[2000,2001,2002,2003,2004,2005,2006,2007,2009,2010,2012,2013,2014],\"y_values\":[7,7,9,5,3,10,3,1,1,1,2,1,2]}},\"id\":\"632c0a60-45ed-4e6c-8003-7388b84c051f\",\"type\":\"ColumnDataSource\"},{\"attributes\":{\"callback\":null,\"column_names\":[\"x_values\",\"y_values\"],\"data\":{\"chart_index\":[{\"country\":\"United Kingdom\"},{\"country\":\"United Kingdom\"},{\"country\":\"United Kingdom\"},{\"country\":\"United Kingdom\"},{\"country\":\"United Kingdom\"},{\"country\":\"United Kingdom\"},{\"country\":\"United Kingdom\"},{\"country\":\"United Kingdom\"},{\"country\":\"United Kingdom\"},{\"country\":\"United Kingdom\"},{\"country\":\"United Kingdom\"},{\"country\":\"United Kingdom\"},{\"country\":\"United Kingdom\"},{\"country\":\"United Kingdom\"},{\"country\":\"United Kingdom\"},{\"country\":\"United Kingdom\"},{\"country\":\"United Kingdom\"},{\"country\":\"United Kingdom\"}],\"country\":[\"United Kingdom\",\"United Kingdom\",\"United Kingdom\",\"United Kingdom\",\"United Kingdom\",\"United Kingdom\",\"United Kingdom\",\"United Kingdom\",\"United Kingdom\",\"United Kingdom\",\"United Kingdom\",\"United Kingdom\",\"United Kingdom\",\"United Kingdom\",\"United Kingdom\",\"United Kingdom\",\"United Kingdom\",\"United Kingdom\"],\"x_values\":[1987,1997,2000,2001,2002,2003,2004,2005,2006,2007,2008,2009,2010,2011,2012,2013,2014,2015],\"y_values\":[1,2,2,1,2,2,2,8,11,8,6,4,5,5,4,18,40,30]}},\"id\":\"5ba35774-10fc-492d-9335-92af9ca58bdb\",\"type\":\"ColumnDataSource\"},{\"attributes\":{\"data_source\":{\"id\":\"22d071ef-5f8e-49a5-bf82-42dceceb9db5\",\"type\":\"ColumnDataSource\"},\"glyph\":{\"id\":\"6caddd9b-58b9-43cd-b8c0-3d00f10afd11\",\"type\":\"Line\"},\"hover_glyph\":null,\"nonselection_glyph\":null,\"selection_glyph\":null},\"id\":\"90308c01-d988-4e5c-b7bd-867a8e9a06b9\",\"type\":\"GlyphRenderer\"},{\"attributes\":{\"below\":[{\"id\":\"06ef293f-5656-4fc1-b9a0-b20b643e3974\",\"type\":\"LinearAxis\"}],\"left\":[{\"id\":\"888e25e5-c56c-4e2c-b125-573f6e7f578b\",\"type\":\"LinearAxis\"}],\"legend\":\"top_left\",\"plot_width\":1000,\"renderers\":[{\"id\":\"6bcc5a94-8535-43ba-b342-1207dbc68916\",\"type\":\"GlyphRenderer\"},{\"id\":\"c80b8353-ed38-426b-a72d-c8ca35552dfa\",\"type\":\"GlyphRenderer\"},{\"id\":\"7d95bccf-3f01-4768-85fc-d04888661983\",\"type\":\"GlyphRenderer\"},{\"id\":\"ef318198-3fd9-41ac-a516-fa183f10e9fe\",\"type\":\"GlyphRenderer\"},{\"id\":\"158b8239-4f61-42de-ac00-fb56ccce05df\",\"type\":\"GlyphRenderer\"},{\"id\":\"9b29c301-68eb-4e96-830b-f83526bf6229\",\"type\":\"GlyphRenderer\"},{\"id\":\"dfe68ca3-6887-4afb-83db-beb03b39e157\",\"type\":\"GlyphRenderer\"},{\"id\":\"e6272737-ebb9-45dd-a7bb-fa3747b809d2\",\"type\":\"GlyphRenderer\"},{\"id\":\"246363eb-84ae-4aee-8bb7-a5e86d78bb2b\",\"type\":\"GlyphRenderer\"},{\"id\":\"1c1d1853-4479-4c14-a5c2-f202946afcf7\",\"type\":\"Legend\"},{\"id\":\"06ef293f-5656-4fc1-b9a0-b20b643e3974\",\"type\":\"LinearAxis\"},{\"id\":\"888e25e5-c56c-4e2c-b125-573f6e7f578b\",\"type\":\"LinearAxis\"},{\"id\":\"cd570c2f-5776-42c6-9a48-4fc678ba91ed\",\"type\":\"Grid\"},{\"id\":\"b05e5e25-9ace-45ff-a99b-36222818f051\",\"type\":\"Grid\"}],\"title\":\"Number of \\\"bearer\\\" shareholders per offshore jurisdictions\",\"title_text_font_size\":{\"value\":\"14pt\"},\"tool_events\":{\"id\":\"dec9fb3a-c7e5-4e82-947c-88a01f0af8f3\",\"type\":\"ToolEvents\"},\"tools\":[{\"id\":\"e6d49a17-e5b0-433e-93fd-5b3cd9967d60\",\"type\":\"HoverTool\"}],\"x_mapper_type\":\"auto\",\"x_range\":{\"id\":\"47774e09-7a8c-4603-953e-c9fe92c22777\",\"type\":\"Range1d\"},\"xscale\":\"auto\",\"y_mapper_type\":\"auto\",\"y_range\":{\"id\":\"c56f3899-2a79-4e2a-8da5-7cf9787dfb6b\",\"type\":\"Range1d\"},\"yscale\":\"auto\"},\"id\":\"a851a7a5-56f6-48f5-bde2-c53bd0156199\",\"subtype\":\"Chart\",\"type\":\"Plot\"},{\"attributes\":{\"line_color\":{\"value\":\"#f22c40\"},\"line_width\":{\"value\":2},\"x\":{\"field\":\"x_values\"},\"y\":{\"field\":\"y_values\"}},\"id\":\"9ed699e6-2b7c-4e1a-a707-4dccdeb32cd3\",\"type\":\"Line\"},{\"attributes\":{\"dimension\":1,\"plot\":{\"id\":\"a851a7a5-56f6-48f5-bde2-c53bd0156199\",\"subtype\":\"Chart\",\"type\":\"Plot\"},\"ticker\":{\"id\":\"a84fa212-780b-4f54-a22e-63dd57f00efe\",\"type\":\"BasicTicker\"}},\"id\":\"b05e5e25-9ace-45ff-a99b-36222818f051\",\"type\":\"Grid\"},{\"attributes\":{\"data_source\":{\"id\":\"d948b119-e34a-4915-a076-c68f7e2ba369\",\"type\":\"ColumnDataSource\"},\"glyph\":{\"id\":\"fa2333df-5286-4d26-9649-4abcecfd9451\",\"type\":\"Line\"},\"hover_glyph\":null,\"nonselection_glyph\":null,\"selection_glyph\":null},\"id\":\"ef318198-3fd9-41ac-a516-fa183f10e9fe\",\"type\":\"GlyphRenderer\"},{\"attributes\":{\"callback\":null,\"column_names\":[\"x_values\",\"y_values\"],\"data\":{\"chart_index\":[{\"country\":\"British Anguilla\"},{\"country\":\"British Anguilla\"},{\"country\":\"British Anguilla\"},{\"country\":\"British Anguilla\"},{\"country\":\"British Anguilla\"},{\"country\":\"British Anguilla\"}],\"country\":[\"British Anguilla\",\"British Anguilla\",\"British Anguilla\",\"British Anguilla\",\"British Anguilla\",\"British Anguilla\"],\"x_values\":[2000,2005,2006,2008,2010,2011],\"y_values\":[3,28,4,1,1,2]}},\"id\":\"6fb53785-0f0e-4662-aa59-7c94e16dd5b1\",\"type\":\"ColumnDataSource\"},{\"attributes\":{\"line_color\":{\"value\":\"#df5320\"},\"line_width\":{\"value\":2},\"x\":{\"field\":\"x_values\"},\"y\":{\"field\":\"y_values\"}},\"id\":\"0f97cd00-3d0f-4745-bc92-ebc6a73a14ec\",\"type\":\"Line\"},{\"attributes\":{\"callback\":null,\"column_names\":[\"x_values\",\"y_values\"],\"data\":{\"chart_index\":[{\"country\":\"Nevada\"},{\"country\":\"Nevada\"},{\"country\":\"Nevada\"},{\"country\":\"Nevada\"},{\"country\":\"Nevada\"},{\"country\":\"Nevada\"},{\"country\":\"Nevada\"},{\"country\":\"Nevada\"},{\"country\":\"Nevada\"},{\"country\":\"Nevada\"},{\"country\":\"Nevada\"},{\"country\":\"Nevada\"},{\"country\":\"Nevada\"},{\"country\":\"Nevada\"},{\"country\":\"Nevada\"},{\"country\":\"Nevada\"},{\"country\":\"Nevada\"}],\"country\":[\"Nevada\",\"Nevada\",\"Nevada\",\"Nevada\",\"Nevada\",\"Nevada\",\"Nevada\",\"Nevada\",\"Nevada\",\"Nevada\",\"Nevada\",\"Nevada\",\"Nevada\",\"Nevada\",\"Nevada\",\"Nevada\",\"Nevada\"],\"x_values\":[1999,2000,2001,2002,2003,2004,2005,2006,2007,2008,2009,2010,2011,2012,2013,2014,2015],\"y_values\":[1,1,37,57,109,105,125,118,121,115,123,111,103,57,36,29,12]}},\"id\":\"dced5398-02c9-45eb-8f98-8310069c7f3e\",\"type\":\"ColumnDataSource\"},{\"attributes\":{\"data_source\":{\"id\":\"632c0a60-45ed-4e6c-8003-7388b84c051f\",\"type\":\"ColumnDataSource\"},\"glyph\":{\"id\":\"4fdfac0b-83bd-4fe2-b8db-36a7767d0420\",\"type\":\"Line\"},\"hover_glyph\":null,\"nonselection_glyph\":null,\"selection_glyph\":null},\"id\":\"3c393c87-845d-4481-9a65-23c0a35d2fc6\",\"type\":\"GlyphRenderer\"},{\"attributes\":{\"callback\":null,\"column_names\":[\"x_values\",\"y_values\"],\"data\":{\"chart_index\":[{\"country\":\"Costa Rica\"},{\"country\":\"Costa Rica\"},{\"country\":\"Costa Rica\"}],\"country\":[\"Costa Rica\",\"Costa Rica\",\"Costa Rica\"],\"x_values\":[2013,2014,2015],\"y_values\":[1,47,30]}},\"id\":\"dc9f5900-a41d-4327-a6a1-de5ee8f4526c\",\"type\":\"ColumnDataSource\"},{\"attributes\":{\"data_source\":{\"id\":\"3cf6bcfc-6f77-4f2c-b60d-600412adc511\",\"type\":\"ColumnDataSource\"},\"glyph\":{\"id\":\"8fd06ae1-cd5f-42ad-9dd9-eb138a30bb85\",\"type\":\"Line\"},\"hover_glyph\":null,\"nonselection_glyph\":null,\"selection_glyph\":null},\"id\":\"e34dcbeb-f72b-4375-b8c9-7511088cd6f5\",\"type\":\"GlyphRenderer\"},{\"attributes\":{\"data_source\":{\"id\":\"12f71619-e312-4118-9194-a305bd1e8dd0\",\"type\":\"ColumnDataSource\"},\"glyph\":{\"id\":\"507184f2-578f-4b0f-b64f-e4929af1d79c\",\"type\":\"Line\"},\"hover_glyph\":null,\"nonselection_glyph\":null,\"selection_glyph\":null},\"id\":\"246363eb-84ae-4aee-8bb7-a5e86d78bb2b\",\"type\":\"GlyphRenderer\"},{\"attributes\":{\"dimension\":1,\"plot\":{\"id\":\"5d250f67-b2a6-4daa-8a8a-d8d23587b834\",\"subtype\":\"Chart\",\"type\":\"Plot\"},\"ticker\":{\"id\":\"396569be-a2a9-4d67-9b5b-c255a3ef1823\",\"type\":\"BasicTicker\"}},\"id\":\"33f98d1b-8768-41ee-9d8d-4ccf32ef21a4\",\"type\":\"Grid\"},{\"attributes\":{\"line_color\":{\"value\":\"#407ee7\"},\"line_width\":{\"value\":2},\"x\":{\"field\":\"x_values\"},\"y\":{\"field\":\"y_values\"}},\"id\":\"8fd06ae1-cd5f-42ad-9dd9-eb138a30bb85\",\"type\":\"Line\"},{\"attributes\":{\"data_source\":{\"id\":\"b7053a01-95c6-48af-b134-873b2151e1e1\",\"type\":\"ColumnDataSource\"},\"glyph\":{\"id\":\"d746222f-3eb9-49b4-9236-b8468f00ea8a\",\"type\":\"Line\"},\"hover_glyph\":null,\"nonselection_glyph\":null,\"selection_glyph\":null},\"id\":\"dfe68ca3-6887-4afb-83db-beb03b39e157\",\"type\":\"GlyphRenderer\"},{\"attributes\":{},\"id\":\"92183794-e417-4eaa-a8ff-ad2028d734b9\",\"type\":\"BasicTicker\"},{\"attributes\":{\"axis_label\":\"count\",\"formatter\":{\"id\":\"625f5671-895a-4dbb-8053-baa60ac994c2\",\"type\":\"BasicTickFormatter\"},\"plot\":{\"id\":\"5d250f67-b2a6-4daa-8a8a-d8d23587b834\",\"subtype\":\"Chart\",\"type\":\"Plot\"},\"ticker\":{\"id\":\"396569be-a2a9-4d67-9b5b-c255a3ef1823\",\"type\":\"BasicTicker\"}},\"id\":\"941e4767-50a6-4053-911d-6651313327d7\",\"type\":\"LinearAxis\"},{\"attributes\":{\"callback\":null,\"column_names\":[\"x_values\",\"y_values\"],\"data\":{\"chart_index\":[{\"country\":\"British Virgin Islands\"},{\"country\":\"British Virgin Islands\"},{\"country\":\"British Virgin Islands\"},{\"country\":\"British Virgin Islands\"},{\"country\":\"British Virgin Islands\"},{\"country\":\"British Virgin Islands\"},{\"country\":\"British Virgin Islands\"},{\"country\":\"British Virgin Islands\"},{\"country\":\"British Virgin Islands\"},{\"country\":\"British Virgin Islands\"},{\"country\":\"British Virgin Islands\"},{\"country\":\"British Virgin Islands\"},{\"country\":\"British Virgin Islands\"},{\"country\":\"British Virgin Islands\"},{\"country\":\"British Virgin Islands\"},{\"country\":\"British Virgin Islands\"},{\"country\":\"British Virgin Islands\"},{\"country\":\"British Virgin Islands\"},{\"country\":\"British Virgin Islands\"},{\"country\":\"British Virgin Islands\"},{\"country\":\"British Virgin Islands\"},{\"country\":\"British Virgin Islands\"},{\"country\":\"British Virgin Islands\"},{\"country\":\"British Virgin Islands\"},{\"country\":\"British Virgin Islands\"},{\"country\":\"British Virgin Islands\"},{\"country\":\"British Virgin Islands\"},{\"country\":\"British Virgin Islands\"},{\"country\":\"British Virgin Islands\"},{\"country\":\"British Virgin Islands\"},{\"country\":\"British Virgin Islands\"},{\"country\":\"British Virgin Islands\"},{\"country\":\"British Virgin Islands\"},{\"country\":\"British Virgin Islands\"},{\"country\":\"British Virgin Islands\"},{\"country\":\"British Virgin Islands\"},{\"country\":\"British Virgin Islands\"},{\"country\":\"British Virgin Islands\"}],\"country\":[\"British Virgin Islands\",\"British Virgin Islands\",\"British Virgin Islands\",\"British Virgin Islands\",\"British Virgin Islands\",\"British Virgin Islands\",\"British Virgin Islands\",\"British Virgin Islands\",\"British Virgin Islands\",\"British Virgin Islands\",\"British Virgin Islands\",\"British Virgin Islands\",\"British Virgin Islands\",\"British Virgin Islands\",\"British Virgin Islands\",\"British Virgin Islands\",\"British Virgin Islands\",\"British Virgin Islands\",\"British Virgin Islands\",\"British Virgin Islands\",\"British Virgin Islands\",\"British Virgin Islands\",\"British Virgin Islands\",\"British Virgin Islands\",\"British Virgin Islands\",\"British Virgin Islands\",\"British Virgin Islands\",\"British Virgin Islands\",\"British Virgin Islands\",\"British Virgin Islands\",\"British Virgin Islands\",\"British Virgin Islands\",\"British Virgin Islands\",\"British Virgin Islands\",\"British Virgin Islands\",\"British Virgin Islands\",\"British Virgin Islands\",\"British Virgin Islands\"],\"x_values\":[1978,1979,1980,1981,1982,1983,1984,1985,1986,1987,1988,1989,1990,1991,1992,1993,1994,1995,1996,1997,1998,1999,2000,2001,2002,2003,2004,2005,2006,2007,2008,2009,2010,2011,2012,2013,2014,2015],\"y_values\":[4,5,15,2,12,1,11,18,45,63,464,1143,1440,1842,2270,3073,3863,4021,5283,7033,5850,7113,8895,7983,8318,8047,9793,9110,9575,11056,8838,5442,4594,4703,4584,2790,2298,1986]}},\"id\":\"0b889359-6cb3-47dd-a2d0-fd55421f156f\",\"type\":\"ColumnDataSource\"},{\"attributes\":{\"callback\":null,\"column_names\":[\"x_values\",\"y_values\"],\"data\":{\"chart_index\":[{\"country\":\"British Anguilla\"},{\"country\":\"British Anguilla\"},{\"country\":\"British Anguilla\"},{\"country\":\"British Anguilla\"},{\"country\":\"British Anguilla\"},{\"country\":\"British Anguilla\"},{\"country\":\"British Anguilla\"},{\"country\":\"British Anguilla\"},{\"country\":\"British Anguilla\"},{\"country\":\"British Anguilla\"},{\"country\":\"British Anguilla\"},{\"country\":\"British Anguilla\"},{\"country\":\"British Anguilla\"},{\"country\":\"British Anguilla\"},{\"country\":\"British Anguilla\"},{\"country\":\"British Anguilla\"},{\"country\":\"British Anguilla\"}],\"country\":[\"British Anguilla\",\"British Anguilla\",\"British Anguilla\",\"British Anguilla\",\"British Anguilla\",\"British Anguilla\",\"British Anguilla\",\"British Anguilla\",\"British Anguilla\",\"British Anguilla\",\"British Anguilla\",\"British Anguilla\",\"British Anguilla\",\"British Anguilla\",\"British Anguilla\",\"British Anguilla\",\"British Anguilla\"],\"x_values\":[1995,1999,2000,2001,2002,2003,2005,2006,2007,2008,2009,2010,2011,2012,2013,2014,2015],\"y_values\":[1,4,2,4,3,1,14,10,229,169,153,267,627,473,462,501,333]}},\"id\":\"3cf6bcfc-6f77-4f2c-b60d-600412adc511\",\"type\":\"ColumnDataSource\"},{\"attributes\":{},\"id\":\"dec9fb3a-c7e5-4e82-947c-88a01f0af8f3\",\"type\":\"ToolEvents\"},{\"attributes\":{\"data_source\":{\"id\":\"6fb53785-0f0e-4662-aa59-7c94e16dd5b1\",\"type\":\"ColumnDataSource\"},\"glyph\":{\"id\":\"78f95b0b-bd13-45ae-8b59-9ba52770ba34\",\"type\":\"Line\"},\"hover_glyph\":null,\"nonselection_glyph\":null,\"selection_glyph\":null},\"id\":\"7d95bccf-3f01-4768-85fc-d04888661983\",\"type\":\"GlyphRenderer\"},{\"attributes\":{\"data_source\":{\"id\":\"673b239e-2068-458c-98f8-a5b8f9d347bc\",\"type\":\"ColumnDataSource\"},\"glyph\":{\"id\":\"0f97cd00-3d0f-4745-bc92-ebc6a73a14ec\",\"type\":\"Line\"},\"hover_glyph\":null,\"nonselection_glyph\":null,\"selection_glyph\":null},\"id\":\"d9a31211-9111-4253-a12b-a901b53011f6\",\"type\":\"GlyphRenderer\"},{\"attributes\":{\"data_source\":{\"id\":\"5ba35774-10fc-492d-9335-92af9ca58bdb\",\"type\":\"ColumnDataSource\"},\"glyph\":{\"id\":\"7e345725-5350-46bf-b907-45657304351b\",\"type\":\"Line\"},\"hover_glyph\":null,\"nonselection_glyph\":null,\"selection_glyph\":null},\"id\":\"aabedb0b-fc22-4b11-8c48-ff11dbab4a62\",\"type\":\"GlyphRenderer\"},{\"attributes\":{\"line_color\":{\"value\":\"#c33ff3\"},\"line_width\":{\"value\":2},\"x\":{\"field\":\"x_values\"},\"y\":{\"field\":\"y_values\"}},\"id\":\"3b7ff398-3731-4b54-841e-16d7f93db393\",\"type\":\"Line\"},{\"attributes\":{\"callback\":null,\"column_names\":[\"x_values\",\"y_values\"],\"data\":{\"chart_index\":[{\"country\":\"Malaysia\"},{\"country\":\"Malaysia\"},{\"country\":\"Malaysia\"},{\"country\":\"Malaysia\"},{\"country\":\"Malaysia\"},{\"country\":\"Malaysia\"},{\"country\":\"Malaysia\"},{\"country\":\"Malaysia\"},{\"country\":\"Malaysia\"},{\"country\":\"Malaysia\"},{\"country\":\"Malaysia\"},{\"country\":\"Malaysia\"},{\"country\":\"Malaysia\"},{\"country\":\"Malaysia\"},{\"country\":\"Malaysia\"},{\"country\":\"Malaysia\"},{\"country\":\"Malaysia\"},{\"country\":\"Malaysia\"}],\"country\":[\"Malaysia\",\"Malaysia\",\"Malaysia\",\"Malaysia\",\"Malaysia\",\"Malaysia\",\"Malaysia\",\"Malaysia\",\"Malaysia\",\"Malaysia\",\"Malaysia\",\"Malaysia\",\"Malaysia\",\"Malaysia\",\"Malaysia\",\"Malaysia\",\"Malaysia\",\"Malaysia\"],\"x_values\":[1988,1991,1992,1994,1995,1996,1997,1998,2000,2001,2002,2003,2004,2005,2006,2007,2008,2009],\"y_values\":[1,3,2,3,2,1,5,4,4,2,13,11,4,7,4,2,1,2]}},\"id\":\"9232b240-5af9-4dc5-a921-e470f3d31d82\",\"type\":\"ColumnDataSource\"},{\"attributes\":{\"line_color\":{\"value\":\"#f22c40\"},\"line_width\":{\"value\":2},\"x\":{\"field\":\"x_values\"},\"y\":{\"field\":\"y_values\"}},\"id\":\"246e3b48-a7ef-4a63-b636-099b8a9473e3\",\"type\":\"Line\"},{\"attributes\":{\"callback\":null,\"column_names\":[\"x_values\",\"y_values\"],\"data\":{\"chart_index\":[{\"country\":\"Samoa\"},{\"country\":\"Samoa\"},{\"country\":\"Samoa\"},{\"country\":\"Samoa\"},{\"country\":\"Samoa\"},{\"country\":\"Samoa\"},{\"country\":\"Samoa\"},{\"country\":\"Samoa\"},{\"country\":\"Samoa\"},{\"country\":\"Samoa\"},{\"country\":\"Samoa\"},{\"country\":\"Samoa\"},{\"country\":\"Samoa\"},{\"country\":\"Samoa\"},{\"country\":\"Samoa\"},{\"country\":\"Samoa\"},{\"country\":\"Samoa\"},{\"country\":\"Samoa\"},{\"country\":\"Samoa\"},{\"country\":\"Samoa\"},{\"country\":\"Samoa\"},{\"country\":\"Samoa\"},{\"country\":\"Samoa\"},{\"country\":\"Samoa\"},{\"country\":\"Samoa\"}],\"country\":[\"Samoa\",\"Samoa\",\"Samoa\",\"Samoa\",\"Samoa\",\"Samoa\",\"Samoa\",\"Samoa\",\"Samoa\",\"Samoa\",\"Samoa\",\"Samoa\",\"Samoa\",\"Samoa\",\"Samoa\",\"Samoa\",\"Samoa\",\"Samoa\",\"Samoa\",\"Samoa\",\"Samoa\",\"Samoa\",\"Samoa\",\"Samoa\",\"Samoa\"],\"x_values\":[1991,1992,1993,1994,1995,1996,1997,1998,1999,2000,2001,2002,2003,2004,2005,2006,2007,2008,2009,2010,2011,2012,2013,2014,2015],\"y_values\":[6,18,6,8,6,19,25,100,47,174,363,443,430,965,1492,2505,2447,1588,808,362,301,235,407,404,259]}},\"id\":\"0014dcee-7111-4ff8-8acc-0baf3a743e96\",\"type\":\"ColumnDataSource\"},{\"attributes\":{\"callback\":null,\"end\":2020.8,\"start\":1951.2},\"id\":\"47774e09-7a8c-4603-953e-c9fe92c22777\",\"type\":\"Range1d\"},{\"attributes\":{\"callback\":null,\"column_names\":[\"x_values\",\"y_values\"],\"data\":{\"chart_index\":[{\"country\":\"Cayman\"},{\"country\":\"Cayman\"},{\"country\":\"Cayman\"},{\"country\":\"Cayman\"},{\"country\":\"Cayman\"},{\"country\":\"Cayman\"},{\"country\":\"Cayman\"},{\"country\":\"Cayman\"},{\"country\":\"Cayman\"},{\"country\":\"Cayman\"},{\"country\":\"Cayman\"},{\"country\":\"Cayman\"},{\"country\":\"Cayman\"},{\"country\":\"Cayman\"},{\"country\":\"Cayman\"},{\"country\":\"Cayman\"},{\"country\":\"Cayman\"}],\"country\":[\"Cayman\",\"Cayman\",\"Cayman\",\"Cayman\",\"Cayman\",\"Cayman\",\"Cayman\",\"Cayman\",\"Cayman\",\"Cayman\",\"Cayman\",\"Cayman\",\"Cayman\",\"Cayman\",\"Cayman\",\"Cayman\",\"Cayman\"],\"x_values\":[1990,1992,1995,1996,1997,1998,1999,2000,2001,2002,2003,2004,2005,2006,2007,2008,2009],\"y_values\":[2,2,1,3,13,20,31,95,50,53,37,37,51,72,105,62,31]}},\"id\":\"57f6d8b6-2d84-4bed-a32b-1253e1dc83d6\",\"type\":\"ColumnDataSource\"},{\"attributes\":{\"line_color\":{\"value\":\"#c33ff3\"},\"line_width\":{\"value\":2},\"x\":{\"field\":\"x_values\"},\"y\":{\"field\":\"y_values\"}},\"id\":\"6e6daf1f-f092-46db-a686-e2f952d807ab\",\"type\":\"Line\"},{\"attributes\":{\"line_color\":{\"value\":\"#407ee7\"},\"line_width\":{\"value\":2},\"x\":{\"field\":\"x_values\"},\"y\":{\"field\":\"y_values\"}},\"id\":\"0e479cdd-4424-4344-b14b-f7004db5e325\",\"type\":\"Line\"},{\"attributes\":{\"callback\":null,\"column_names\":[\"x_values\",\"y_values\"],\"data\":{\"chart_index\":[{\"country\":\"Panama\"},{\"country\":\"Panama\"},{\"country\":\"Panama\"},{\"country\":\"Panama\"},{\"country\":\"Panama\"},{\"country\":\"Panama\"},{\"country\":\"Panama\"},{\"country\":\"Panama\"},{\"country\":\"Panama\"},{\"country\":\"Panama\"},{\"country\":\"Panama\"},{\"country\":\"Panama\"},{\"country\":\"Panama\"},{\"country\":\"Panama\"},{\"country\":\"Panama\"},{\"country\":\"Panama\"},{\"country\":\"Panama\"},{\"country\":\"Panama\"},{\"country\":\"Panama\"},{\"country\":\"Panama\"},{\"country\":\"Panama\"},{\"country\":\"Panama\"},{\"country\":\"Panama\"},{\"country\":\"Panama\"},{\"country\":\"Panama\"},{\"country\":\"Panama\"},{\"country\":\"Panama\"},{\"country\":\"Panama\"},{\"country\":\"Panama\"},{\"country\":\"Panama\"},{\"country\":\"Panama\"},{\"country\":\"Panama\"},{\"country\":\"Panama\"},{\"country\":\"Panama\"},{\"country\":\"Panama\"},{\"country\":\"Panama\"},{\"country\":\"Panama\"},{\"country\":\"Panama\"},{\"country\":\"Panama\"}],\"country\":[\"Panama\",\"Panama\",\"Panama\",\"Panama\",\"Panama\",\"Panama\",\"Panama\",\"Panama\",\"Panama\",\"Panama\",\"Panama\",\"Panama\",\"Panama\",\"Panama\",\"Panama\",\"Panama\",\"Panama\",\"Panama\",\"Panama\",\"Panama\",\"Panama\",\"Panama\",\"Panama\",\"Panama\",\"Panama\",\"Panama\",\"Panama\",\"Panama\",\"Panama\",\"Panama\",\"Panama\",\"Panama\",\"Panama\",\"Panama\",\"Panama\",\"Panama\",\"Panama\",\"Panama\",\"Panama\"],\"x_values\":[1977,1978,1979,1980,1981,1982,1983,1984,1985,1986,1987,1988,1989,1990,1991,1992,1993,1994,1995,1996,1997,1998,1999,2000,2001,2002,2003,2004,2005,2006,2007,2008,2009,2010,2011,2012,2013,2014,2015],\"y_values\":[77,224,300,406,538,749,837,954,949,1382,1641,715,894,508,436,414,409,368,450,662,713,684,695,1009,966,893,1238,2393,4743,3357,3514,3257,2541,2062,1861,2060,1298,1108,835]}},\"id\":\"bff1f0dd-2dbd-4a68-880d-e07999c9eb10\",\"type\":\"ColumnDataSource\"},{\"attributes\":{\"axis_label\":\"year\",\"formatter\":{\"id\":\"9261fafc-3594-4068-b5cd-48b126fd82e0\",\"type\":\"BasicTickFormatter\"},\"plot\":{\"id\":\"a851a7a5-56f6-48f5-bde2-c53bd0156199\",\"subtype\":\"Chart\",\"type\":\"Plot\"},\"ticker\":{\"id\":\"92183794-e417-4eaa-a8ff-ad2028d734b9\",\"type\":\"BasicTicker\"}},\"id\":\"06ef293f-5656-4fc1-b9a0-b20b643e3974\",\"type\":\"LinearAxis\"},{\"attributes\":{\"callback\":null,\"column_names\":[\"x_values\",\"y_values\"],\"data\":{\"chart_index\":[{\"country\":\"Mauritius\"},{\"country\":\"Mauritius\"},{\"country\":\"Mauritius\"},{\"country\":\"Mauritius\"},{\"country\":\"Mauritius\"},{\"country\":\"Mauritius\"},{\"country\":\"Mauritius\"},{\"country\":\"Mauritius\"},{\"country\":\"Mauritius\"},{\"country\":\"Mauritius\"},{\"country\":\"Mauritius\"},{\"country\":\"Mauritius\"},{\"country\":\"Mauritius\"}],\"country\":[\"Mauritius\",\"Mauritius\",\"Mauritius\",\"Mauritius\",\"Mauritius\",\"Mauritius\",\"Mauritius\",\"Mauritius\",\"Mauritius\",\"Mauritius\",\"Mauritius\",\"Mauritius\",\"Mauritius\"],\"x_values\":[1997,1998,1999,2000,2001,2002,2003,2004,2005,2006,2007,2008,2009],\"y_values\":[1,5,6,4,10,11,6,9,14,4,3,6,1]}},\"id\":\"ba007d41-069b-45c6-a648-a8ead28102df\",\"type\":\"ColumnDataSource\"},{\"attributes\":{\"callback\":null,\"column_names\":[\"x_values\",\"y_values\"],\"data\":{\"chart_index\":[{\"country\":\"Bahamas\"},{\"country\":\"Bahamas\"},{\"country\":\"Bahamas\"},{\"country\":\"Bahamas\"},{\"country\":\"Bahamas\"},{\"country\":\"Bahamas\"},{\"country\":\"Bahamas\"},{\"country\":\"Bahamas\"},{\"country\":\"Bahamas\"},{\"country\":\"Bahamas\"},{\"country\":\"Bahamas\"},{\"country\":\"Bahamas\"},{\"country\":\"Bahamas\"},{\"country\":\"Bahamas\"},{\"country\":\"Bahamas\"}],\"country\":[\"Bahamas\",\"Bahamas\",\"Bahamas\",\"Bahamas\",\"Bahamas\",\"Bahamas\",\"Bahamas\",\"Bahamas\",\"Bahamas\",\"Bahamas\",\"Bahamas\",\"Bahamas\",\"Bahamas\",\"Bahamas\",\"Bahamas\"],\"x_values\":[1990,1991,1992,1993,1994,1995,1996,1997,1998,1999,2000,2001,2003,2004,2007],\"y_values\":[12,30,32,72,114,201,172,224,202,253,339,3,1,4,5]}},\"id\":\"6fd4a26b-4522-4a2a-9bed-a0ac7ed0fe1f\",\"type\":\"ColumnDataSource\"},{\"attributes\":{\"data_source\":{\"id\":\"baca48bd-9bdc-45d3-9afa-2de87795241e\",\"type\":\"ColumnDataSource\"},\"glyph\":{\"id\":\"d0fe996e-2a74-44a0-b1a6-5d00ef12d7d3\",\"type\":\"Line\"},\"hover_glyph\":null,\"nonselection_glyph\":null,\"selection_glyph\":null},\"id\":\"968587ca-1115-4216-925f-f73934bb87fd\",\"type\":\"GlyphRenderer\"},{\"attributes\":{},\"id\":\"148ee832-69ef-4d6e-93de-b0d933cf77ac\",\"type\":\"BasicTickFormatter\"},{\"attributes\":{\"axis_label\":\"count\",\"formatter\":{\"id\":\"a676bbd8-5bb7-4eba-8875-e1b043c68224\",\"type\":\"BasicTickFormatter\"},\"plot\":{\"id\":\"a851a7a5-56f6-48f5-bde2-c53bd0156199\",\"subtype\":\"Chart\",\"type\":\"Plot\"},\"ticker\":{\"id\":\"a84fa212-780b-4f54-a22e-63dd57f00efe\",\"type\":\"BasicTicker\"}},\"id\":\"888e25e5-c56c-4e2c-b125-573f6e7f578b\",\"type\":\"LinearAxis\"},{\"attributes\":{\"line_color\":{\"value\":\"#5ab738\"},\"line_width\":{\"value\":2},\"x\":{\"field\":\"x_values\"},\"y\":{\"field\":\"y_values\"}},\"id\":\"6caddd9b-58b9-43cd-b8c0-3d00f10afd11\",\"type\":\"Line\"},{\"attributes\":{\"callback\":null,\"column_names\":[\"x_values\",\"y_values\"],\"data\":{\"chart_index\":[{\"country\":\"Uruguay\"},{\"country\":\"Uruguay\"},{\"country\":\"Uruguay\"},{\"country\":\"Uruguay\"},{\"country\":\"Uruguay\"},{\"country\":\"Uruguay\"},{\"country\":\"Uruguay\"}],\"country\":[\"Uruguay\",\"Uruguay\",\"Uruguay\",\"Uruguay\",\"Uruguay\",\"Uruguay\",\"Uruguay\"],\"x_values\":[2000,2001,2002,2003,2004,2005,2006],\"y_values\":[9,25,24,10,18,23,6]}},\"id\":\"12f71619-e312-4118-9194-a305bd1e8dd0\",\"type\":\"ColumnDataSource\"},{\"attributes\":{\"data_source\":{\"id\":\"6fd4a26b-4522-4a2a-9bed-a0ac7ed0fe1f\",\"type\":\"ColumnDataSource\"},\"glyph\":{\"id\":\"9ed699e6-2b7c-4e1a-a707-4dccdeb32cd3\",\"type\":\"Line\"},\"hover_glyph\":null,\"nonselection_glyph\":null,\"selection_glyph\":null},\"id\":\"6bcc5a94-8535-43ba-b342-1207dbc68916\",\"type\":\"GlyphRenderer\"},{\"attributes\":{\"data_source\":{\"id\":\"fd0c96da-9761-4fc6-808e-56dc1a7e6fd7\",\"type\":\"ColumnDataSource\"},\"glyph\":{\"id\":\"4567841a-e5b7-4318-a46c-dd7231a7b6c1\",\"type\":\"Line\"},\"hover_glyph\":null,\"nonselection_glyph\":null,\"selection_glyph\":null},\"id\":\"c0d6f8f1-58cf-447b-b27b-87bf6be587f7\",\"type\":\"GlyphRenderer\"},{\"attributes\":{\"line_color\":{\"value\":\"#00ad9c\"},\"line_width\":{\"value\":2},\"x\":{\"field\":\"x_values\"},\"y\":{\"field\":\"y_values\"}},\"id\":\"8e3d5f4e-c6df-45ee-9b43-24251b015235\",\"type\":\"Line\"},{\"attributes\":{},\"id\":\"af994060-b0f1-42c9-ad35-b8ea8dedc3f6\",\"type\":\"BasicTicker\"},{\"attributes\":{\"callback\":null,\"column_names\":[\"x_values\",\"y_values\"],\"data\":{\"chart_index\":[{\"country\":\"Cook Islands\"},{\"country\":\"Cook Islands\"},{\"country\":\"Cook Islands\"},{\"country\":\"Cook Islands\"},{\"country\":\"Cook Islands\"},{\"country\":\"Cook Islands\"},{\"country\":\"Cook Islands\"},{\"country\":\"Cook Islands\"},{\"country\":\"Cook Islands\"},{\"country\":\"Cook Islands\"},{\"country\":\"Cook Islands\"},{\"country\":\"Cook Islands\"},{\"country\":\"Cook Islands\"},{\"country\":\"Cook Islands\"},{\"country\":\"Cook Islands\"},{\"country\":\"Cook Islands\"},{\"country\":\"Cook Islands\"},{\"country\":\"Cook Islands\"},{\"country\":\"Cook Islands\"},{\"country\":\"Cook Islands\"},{\"country\":\"Cook Islands\"},{\"country\":\"Cook Islands\"},{\"country\":\"Cook Islands\"},{\"country\":\"Cook Islands\"},{\"country\":\"Cook Islands\"},{\"country\":\"Cook Islands\"}],\"country\":[\"Cook Islands\",\"Cook Islands\",\"Cook Islands\",\"Cook Islands\",\"Cook Islands\",\"Cook Islands\",\"Cook Islands\",\"Cook Islands\",\"Cook Islands\",\"Cook Islands\",\"Cook Islands\",\"Cook Islands\",\"Cook Islands\",\"Cook Islands\",\"Cook Islands\",\"Cook Islands\",\"Cook Islands\",\"Cook Islands\",\"Cook Islands\",\"Cook Islands\",\"Cook Islands\",\"Cook Islands\",\"Cook Islands\",\"Cook Islands\",\"Cook Islands\",\"Cook Islands\"],\"x_values\":[1984,1985,1986,1987,1988,1989,1990,1991,1992,1993,1994,1995,1996,1997,1998,1999,2000,2001,2002,2003,2004,2005,2006,2007,2008,2009],\"y_values\":[1,3,7,18,40,44,49,95,165,214,233,172,210,255,198,109,103,94,75,58,40,89,45,52,57,26]}},\"id\":\"9a56fbf3-81ae-43d3-bc01-9938ca0b2ee2\",\"type\":\"ColumnDataSource\"},{\"attributes\":{\"line_color\":{\"value\":\"#407ee7\"},\"line_width\":{\"value\":2},\"x\":{\"field\":\"x_values\"},\"y\":{\"field\":\"y_values\"}},\"id\":\"78f95b0b-bd13-45ae-8b59-9ba52770ba34\",\"type\":\"Line\"},{\"attributes\":{\"callback\":null,\"column_names\":[\"x_values\",\"y_values\"],\"data\":{\"chart_index\":[{\"country\":\"Bahamas\"},{\"country\":\"Bahamas\"},{\"country\":\"Bahamas\"},{\"country\":\"Bahamas\"},{\"country\":\"Bahamas\"},{\"country\":\"Bahamas\"},{\"country\":\"Bahamas\"},{\"country\":\"Bahamas\"},{\"country\":\"Bahamas\"},{\"country\":\"Bahamas\"},{\"country\":\"Bahamas\"},{\"country\":\"Bahamas\"},{\"country\":\"Bahamas\"},{\"country\":\"Bahamas\"},{\"country\":\"Bahamas\"},{\"country\":\"Bahamas\"},{\"country\":\"Bahamas\"},{\"country\":\"Bahamas\"},{\"country\":\"Bahamas\"},{\"country\":\"Bahamas\"},{\"country\":\"Bahamas\"},{\"country\":\"Bahamas\"},{\"country\":\"Bahamas\"},{\"country\":\"Bahamas\"},{\"country\":\"Bahamas\"},{\"country\":\"Bahamas\"},{\"country\":\"Bahamas\"},{\"country\":\"Bahamas\"},{\"country\":\"Bahamas\"},{\"country\":\"Bahamas\"}],\"country\":[\"Bahamas\",\"Bahamas\",\"Bahamas\",\"Bahamas\",\"Bahamas\",\"Bahamas\",\"Bahamas\",\"Bahamas\",\"Bahamas\",\"Bahamas\",\"Bahamas\",\"Bahamas\",\"Bahamas\",\"Bahamas\",\"Bahamas\",\"Bahamas\",\"Bahamas\",\"Bahamas\",\"Bahamas\",\"Bahamas\",\"Bahamas\",\"Bahamas\",\"Bahamas\",\"Bahamas\",\"Bahamas\",\"Bahamas\",\"Bahamas\",\"Bahamas\",\"Bahamas\",\"Bahamas\"],\"x_values\":[1984,1986,1988,1989,1990,1991,1992,1993,1994,1995,1996,1997,1998,1999,2000,2001,2002,2003,2004,2005,2006,2007,2008,2009,2010,2011,2012,2013,2014,2015],\"y_values\":[3,1,1,2,194,390,435,886,1484,1616,1782,2224,1817,1409,1226,295,177,150,175,193,226,264,186,96,148,102,114,117,143,89]}},\"id\":\"d23784cd-ccac-4e89-82f6-cc2c40a8bfae\",\"type\":\"ColumnDataSource\"},{\"attributes\":{\"callback\":null,\"end\":7426.0,\"start\":-674.0},\"id\":\"c56f3899-2a79-4e2a-8da5-7cf9787dfb6b\",\"type\":\"Range1d\"},{\"attributes\":{\"data_source\":{\"id\":\"cff519e7-ffa1-41e7-a157-3c70cf671f20\",\"type\":\"ColumnDataSource\"},\"glyph\":{\"id\":\"0e869889-6aa7-4882-be21-a2305f1fb279\",\"type\":\"Line\"},\"hover_glyph\":null,\"nonselection_glyph\":null,\"selection_glyph\":null},\"id\":\"51011837-9d1c-43c4-93d8-29bfc2d8aa3b\",\"type\":\"GlyphRenderer\"},{\"attributes\":{\"line_color\":{\"value\":\"#00ad9c\"},\"line_width\":{\"value\":2},\"x\":{\"field\":\"x_values\"},\"y\":{\"field\":\"y_values\"}},\"id\":\"0e869889-6aa7-4882-be21-a2305f1fb279\",\"type\":\"Line\"},{\"attributes\":{\"callback\":null,\"column_names\":[\"x_values\",\"y_values\"],\"data\":{\"chart_index\":[{\"country\":\"Cyprus\"},{\"country\":\"Cyprus\"},{\"country\":\"Cyprus\"},{\"country\":\"Cyprus\"},{\"country\":\"Cyprus\"},{\"country\":\"Cyprus\"},{\"country\":\"Cyprus\"},{\"country\":\"Cyprus\"},{\"country\":\"Cyprus\"},{\"country\":\"Cyprus\"},{\"country\":\"Cyprus\"},{\"country\":\"Cyprus\"}],\"country\":[\"Cyprus\",\"Cyprus\",\"Cyprus\",\"Cyprus\",\"Cyprus\",\"Cyprus\",\"Cyprus\",\"Cyprus\",\"Cyprus\",\"Cyprus\",\"Cyprus\",\"Cyprus\"],\"x_values\":[2001,2003,2004,2007,2008,2009,2010,2011,2012,2013,2014,2015],\"y_values\":[1,1,2,2,2,1,3,37,24,1,1,4]}},\"id\":\"baca48bd-9bdc-45d3-9afa-2de87795241e\",\"type\":\"ColumnDataSource\"},{\"attributes\":{\"callback\":null,\"column_names\":[\"x_values\",\"y_values\"],\"data\":{\"chart_index\":[{\"country\":\"Niue\"},{\"country\":\"Niue\"},{\"country\":\"Niue\"},{\"country\":\"Niue\"},{\"country\":\"Niue\"},{\"country\":\"Niue\"},{\"country\":\"Niue\"},{\"country\":\"Niue\"},{\"country\":\"Niue\"},{\"country\":\"Niue\"},{\"country\":\"Niue\"},{\"country\":\"Niue\"}],\"country\":[\"Niue\",\"Niue\",\"Niue\",\"Niue\",\"Niue\",\"Niue\",\"Niue\",\"Niue\",\"Niue\",\"Niue\",\"Niue\",\"Niue\"],\"x_values\":[1995,1996,1997,1998,1999,2000,2001,2002,2003,2004,2005,2006],\"y_values\":[16,73,99,69,190,99,95,216,763,432,25,4]}},\"id\":\"219d8951-fdd5-46c9-82ee-9e51826dd31a\",\"type\":\"ColumnDataSource\"},{\"attributes\":{\"callback\":null,\"column_names\":[\"x_values\",\"y_values\"],\"data\":{\"chart_index\":[{\"country\":\"British Virgin Islands\"},{\"country\":\"British Virgin Islands\"},{\"country\":\"British Virgin Islands\"},{\"country\":\"British Virgin Islands\"},{\"country\":\"British Virgin Islands\"},{\"country\":\"British Virgin Islands\"},{\"country\":\"British Virgin Islands\"},{\"country\":\"British Virgin Islands\"},{\"country\":\"British Virgin Islands\"},{\"country\":\"British Virgin Islands\"},{\"country\":\"British Virgin Islands\"},{\"country\":\"British Virgin Islands\"},{\"country\":\"British Virgin Islands\"},{\"country\":\"British Virgin Islands\"},{\"country\":\"British Virgin Islands\"},{\"country\":\"British Virgin Islands\"},{\"country\":\"British Virgin Islands\"},{\"country\":\"British Virgin Islands\"},{\"country\":\"British Virgin Islands\"},{\"country\":\"British Virgin Islands\"},{\"country\":\"British Virgin Islands\"},{\"country\":\"British Virgin Islands\"},{\"country\":\"British Virgin Islands\"},{\"country\":\"British Virgin Islands\"},{\"country\":\"British Virgin Islands\"},{\"country\":\"British Virgin Islands\"},{\"country\":\"British Virgin Islands\"},{\"country\":\"British Virgin Islands\"},{\"country\":\"British Virgin Islands\"}],\"country\":[\"British Virgin Islands\",\"British Virgin Islands\",\"British Virgin Islands\",\"British Virgin Islands\",\"British Virgin Islands\",\"British Virgin Islands\",\"British Virgin Islands\",\"British Virgin Islands\",\"British Virgin Islands\",\"British Virgin Islands\",\"British Virgin Islands\",\"British Virgin Islands\",\"British Virgin Islands\",\"British Virgin Islands\",\"British Virgin Islands\",\"British Virgin Islands\",\"British Virgin Islands\",\"British Virgin Islands\",\"British Virgin Islands\",\"British Virgin Islands\",\"British Virgin Islands\",\"British Virgin Islands\",\"British Virgin Islands\",\"British Virgin Islands\",\"British Virgin Islands\",\"British Virgin Islands\",\"British Virgin Islands\",\"British Virgin Islands\",\"British Virgin Islands\"],\"x_values\":[1985,1986,1987,1988,1989,1990,1991,1992,1993,1994,1995,1996,1997,1998,1999,2000,2001,2002,2003,2004,2005,2006,2007,2008,2009,2010,2011,2014,2015],\"y_values\":[2,16,7,122,330,332,345,617,523,702,785,951,1311,1407,1442,2068,1890,1963,2324,1929,63,42,7,4,2,7,2,17,5]}},\"id\":\"d948b119-e34a-4915-a076-c68f7e2ba369\",\"type\":\"ColumnDataSource\"},{\"attributes\":{\"callback\":null,\"column_names\":[\"x_values\",\"y_values\"],\"data\":{\"chart_index\":[{\"country\":\"Samoa\"},{\"country\":\"Samoa\"},{\"country\":\"Samoa\"},{\"country\":\"Samoa\"},{\"country\":\"Samoa\"},{\"country\":\"Samoa\"},{\"country\":\"Samoa\"}],\"country\":[\"Samoa\",\"Samoa\",\"Samoa\",\"Samoa\",\"Samoa\",\"Samoa\",\"Samoa\"],\"x_values\":[2004,2005,2006,2007,2008,2009,2011],\"y_values\":[54,288,1047,712,62,2,1]}},\"id\":\"b7053a01-95c6-48af-b134-873b2151e1e1\",\"type\":\"ColumnDataSource\"},{\"attributes\":{\"data_source\":{\"id\":\"bba7fd94-9e56-47cf-8711-dd686f61d575\",\"type\":\"ColumnDataSource\"},\"glyph\":{\"id\":\"0e479cdd-4424-4344-b14b-f7004db5e325\",\"type\":\"Line\"},\"hover_glyph\":null,\"nonselection_glyph\":null,\"selection_glyph\":null},\"id\":\"56e7bfdc-081a-4f3b-8936-a9e250b3c198\",\"type\":\"GlyphRenderer\"},{\"attributes\":{\"line_color\":{\"value\":\"#5ab738\"},\"line_width\":{\"value\":2},\"x\":{\"field\":\"x_values\"},\"y\":{\"field\":\"y_values\"}},\"id\":\"4567841a-e5b7-4318-a46c-dd7231a7b6c1\",\"type\":\"Line\"},{\"attributes\":{\"callback\":null,\"end\":12161.5,\"start\":-1104.5},\"id\":\"1ed9a119-7f38-48bf-abf1-c92acf533945\",\"type\":\"Range1d\"},{\"attributes\":{\"line_color\":{\"value\":\"#f22c40\"},\"line_width\":{\"value\":2},\"x\":{\"field\":\"x_values\"},\"y\":{\"field\":\"y_values\"}},\"id\":\"d746222f-3eb9-49b4-9236-b8468f00ea8a\",\"type\":\"Line\"},{\"attributes\":{\"callback\":null,\"column_names\":[\"x_values\",\"y_values\"],\"data\":{\"chart_index\":[{\"country\":\"Seychelles\"},{\"country\":\"Seychelles\"},{\"country\":\"Seychelles\"},{\"country\":\"Seychelles\"},{\"country\":\"Seychelles\"},{\"country\":\"Seychelles\"},{\"country\":\"Seychelles\"},{\"country\":\"Seychelles\"},{\"country\":\"Seychelles\"},{\"country\":\"Seychelles\"},{\"country\":\"Seychelles\"},{\"country\":\"Seychelles\"},{\"country\":\"Seychelles\"},{\"country\":\"Seychelles\"},{\"country\":\"Seychelles\"},{\"country\":\"Seychelles\"},{\"country\":\"Seychelles\"},{\"country\":\"Seychelles\"}],\"country\":[\"Seychelles\",\"Seychelles\",\"Seychelles\",\"Seychelles\",\"Seychelles\",\"Seychelles\",\"Seychelles\",\"Seychelles\",\"Seychelles\",\"Seychelles\",\"Seychelles\",\"Seychelles\",\"Seychelles\",\"Seychelles\",\"Seychelles\",\"Seychelles\",\"Seychelles\",\"Seychelles\"],\"x_values\":[1996,1997,1999,2000,2001,2002,2003,2004,2005,2006,2007,2008,2009,2010,2011,2012,2013,2014],\"y_values\":[1,1,22,84,107,168,311,494,1896,1392,1160,937,1151,610,819,467,786,26]}},\"id\":\"77153af8-826e-45da-940e-0cd355c7be6c\",\"type\":\"ColumnDataSource\"},{\"attributes\":{\"line_color\":{\"value\":\"#5ab738\"},\"line_width\":{\"value\":2},\"x\":{\"field\":\"x_values\"},\"y\":{\"field\":\"y_values\"}},\"id\":\"43ca073c-105a-4775-810b-0a261f1eaa4d\",\"type\":\"Line\"},{\"attributes\":{\"data_source\":{\"id\":\"dc9f5900-a41d-4327-a6a1-de5ee8f4526c\",\"type\":\"ColumnDataSource\"},\"glyph\":{\"id\":\"246e3b48-a7ef-4a63-b636-099b8a9473e3\",\"type\":\"Line\"},\"hover_glyph\":null,\"nonselection_glyph\":null,\"selection_glyph\":null},\"id\":\"51222023-f21c-444a-abec-8853c56ae311\",\"type\":\"GlyphRenderer\"},{\"attributes\":{\"legends\":[[\"Bahamas\",[{\"id\":\"e0fb3c65-f7ce-46d0-894d-3c6e36e4038f\",\"type\":\"GlyphRenderer\"}]],[\"Belize\",[{\"id\":\"90308c01-d988-4e5c-b7bd-867a8e9a06b9\",\"type\":\"GlyphRenderer\"}]],[\"British Anguilla\",[{\"id\":\"e34dcbeb-f72b-4375-b8c9-7511088cd6f5\",\"type\":\"GlyphRenderer\"}]],[\"British Virgin Islands\",[{\"id\":\"6346cf0b-3b48-4103-b3b3-8e5f1f2b2289\",\"type\":\"GlyphRenderer\"}]],[\"Cayman\",[{\"id\":\"ef3b6f15-f2d4-453f-9af4-9cec80d0dbc2\",\"type\":\"GlyphRenderer\"}]],[\"Cook Islands\",[{\"id\":\"8351e2a0-b77e-41ea-83ee-d6dc218d4186\",\"type\":\"GlyphRenderer\"}]],[\"Costa Rica\",[{\"id\":\"51222023-f21c-444a-abec-8853c56ae311\",\"type\":\"GlyphRenderer\"}]],[\"Cyprus\",[{\"id\":\"968587ca-1115-4216-925f-f73934bb87fd\",\"type\":\"GlyphRenderer\"}]],[\"Hong Kong\",[{\"id\":\"56e7bfdc-081a-4f3b-8936-a9e250b3c198\",\"type\":\"GlyphRenderer\"}]],[\"Labuan\",[{\"id\":\"d9a31211-9111-4253-a12b-a901b53011f6\",\"type\":\"GlyphRenderer\"}]],[\"Malaysia\",[{\"id\":\"55fe352a-1646-42ab-96f3-f36d01f6ebca\",\"type\":\"GlyphRenderer\"}]],[\"Mauritius\",[{\"id\":\"71e4e24d-b57d-4436-959d-48c2582edaec\",\"type\":\"GlyphRenderer\"}]],[\"Nevada\",[{\"id\":\"2b99547b-4f41-4b30-b03d-bff9653ae0b2\",\"type\":\"GlyphRenderer\"}]],[\"Niue\",[{\"id\":\"c0d6f8f1-58cf-447b-b27b-87bf6be587f7\",\"type\":\"GlyphRenderer\"}]],[\"Panama\",[{\"id\":\"fe12d371-1bec-42d7-a77f-9440667f6b51\",\"type\":\"GlyphRenderer\"}]],[\"Samoa\",[{\"id\":\"1866c826-7c9b-4c7a-98e9-5133b7f542ea\",\"type\":\"GlyphRenderer\"}]],[\"Seychelles\",[{\"id\":\"51011837-9d1c-43c4-93d8-29bfc2d8aa3b\",\"type\":\"GlyphRenderer\"}]],[\"Singapore\",[{\"id\":\"3bb0e5ec-cfb9-457f-b281-3f050c5816ef\",\"type\":\"GlyphRenderer\"}]],[\"United Kingdom\",[{\"id\":\"aabedb0b-fc22-4b11-8c48-ff11dbab4a62\",\"type\":\"GlyphRenderer\"}]],[\"Uruguay\",[{\"id\":\"3c393c87-845d-4481-9a65-23c0a35d2fc6\",\"type\":\"GlyphRenderer\"}]]],\"location\":\"top_left\",\"plot\":{\"id\":\"5d250f67-b2a6-4daa-8a8a-d8d23587b834\",\"subtype\":\"Chart\",\"type\":\"Plot\"}},\"id\":\"78fbed1b-b396-4639-8dc8-c854819c045f\",\"type\":\"Legend\"},{\"attributes\":{\"callback\":null,\"column_names\":[\"x_values\",\"y_values\"],\"data\":{\"chart_index\":[{\"country\":\"Seychelles\"},{\"country\":\"Seychelles\"},{\"country\":\"Seychelles\"},{\"country\":\"Seychelles\"},{\"country\":\"Seychelles\"},{\"country\":\"Seychelles\"},{\"country\":\"Seychelles\"},{\"country\":\"Seychelles\"},{\"country\":\"Seychelles\"},{\"country\":\"Seychelles\"},{\"country\":\"Seychelles\"},{\"country\":\"Seychelles\"},{\"country\":\"Seychelles\"},{\"country\":\"Seychelles\"},{\"country\":\"Seychelles\"},{\"country\":\"Seychelles\"},{\"country\":\"Seychelles\"},{\"country\":\"Seychelles\"},{\"country\":\"Seychelles\"},{\"country\":\"Seychelles\"},{\"country\":\"Seychelles\"}],\"country\":[\"Seychelles\",\"Seychelles\",\"Seychelles\",\"Seychelles\",\"Seychelles\",\"Seychelles\",\"Seychelles\",\"Seychelles\",\"Seychelles\",\"Seychelles\",\"Seychelles\",\"Seychelles\",\"Seychelles\",\"Seychelles\",\"Seychelles\",\"Seychelles\",\"Seychelles\",\"Seychelles\",\"Seychelles\",\"Seychelles\",\"Seychelles\"],\"x_values\":[1995,1996,1997,1998,1999,2000,2001,2002,2003,2004,2005,2006,2007,2008,2009,2010,2011,2012,2013,2014,2015],\"y_values\":[1,4,2,8,157,242,437,351,396,571,1473,2026,1904,1350,1191,943,998,807,1140,898,681]}},\"id\":\"cff519e7-ffa1-41e7-a157-3c70cf671f20\",\"type\":\"ColumnDataSource\"},{\"attributes\":{\"axis_label\":\"year\",\"formatter\":{\"id\":\"148ee832-69ef-4d6e-93de-b0d933cf77ac\",\"type\":\"BasicTickFormatter\"},\"plot\":{\"id\":\"5d250f67-b2a6-4daa-8a8a-d8d23587b834\",\"subtype\":\"Chart\",\"type\":\"Plot\"},\"ticker\":{\"id\":\"af994060-b0f1-42c9-ad35-b8ea8dedc3f6\",\"type\":\"BasicTicker\"}},\"id\":\"165ab268-80ad-414d-b394-91715cdaf65f\",\"type\":\"LinearAxis\"},{\"attributes\":{\"data_source\":{\"id\":\"ac6e6d20-5fa0-4c65-bb33-7042f9b3c58d\",\"type\":\"ColumnDataSource\"},\"glyph\":{\"id\":\"515c8698-5cf6-46c1-a475-5269cfb01a1c\",\"type\":\"Line\"},\"hover_glyph\":null,\"nonselection_glyph\":null,\"selection_glyph\":null},\"id\":\"9b29c301-68eb-4e96-830b-f83526bf6229\",\"type\":\"GlyphRenderer\"},{\"attributes\":{\"line_color\":{\"value\":\"#c33ff3\"},\"line_width\":{\"value\":2},\"x\":{\"field\":\"x_values\"},\"y\":{\"field\":\"y_values\"}},\"id\":\"515c8698-5cf6-46c1-a475-5269cfb01a1c\",\"type\":\"Line\"},{\"attributes\":{\"line_color\":{\"value\":\"#00ad9c\"},\"line_width\":{\"value\":2},\"x\":{\"field\":\"x_values\"},\"y\":{\"field\":\"y_values\"}},\"id\":\"0f135b9d-53dc-425b-90ee-add906657ad3\",\"type\":\"Line\"},{\"attributes\":{\"line_color\":{\"value\":\"#df5320\"},\"line_width\":{\"value\":2},\"x\":{\"field\":\"x_values\"},\"y\":{\"field\":\"y_values\"}},\"id\":\"69794797-9f8c-4074-8c86-25d071d63038\",\"type\":\"Line\"},{\"attributes\":{},\"id\":\"9261fafc-3594-4068-b5cd-48b126fd82e0\",\"type\":\"BasicTickFormatter\"},{\"attributes\":{\"data_source\":{\"id\":\"bff1f0dd-2dbd-4a68-880d-e07999c9eb10\",\"type\":\"ColumnDataSource\"},\"glyph\":{\"id\":\"d28d561f-c57e-42ae-b416-8144eb2f83b6\",\"type\":\"Line\"},\"hover_glyph\":null,\"nonselection_glyph\":null,\"selection_glyph\":null},\"id\":\"fe12d371-1bec-42d7-a77f-9440667f6b51\",\"type\":\"GlyphRenderer\"},{\"attributes\":{\"data_source\":{\"id\":\"77153af8-826e-45da-940e-0cd355c7be6c\",\"type\":\"ColumnDataSource\"},\"glyph\":{\"id\":\"43ca073c-105a-4775-810b-0a261f1eaa4d\",\"type\":\"Line\"},\"hover_glyph\":null,\"nonselection_glyph\":null,\"selection_glyph\":null},\"id\":\"e6272737-ebb9-45dd-a7bb-fa3747b809d2\",\"type\":\"GlyphRenderer\"},{\"attributes\":{\"plot\":{\"id\":\"5d250f67-b2a6-4daa-8a8a-d8d23587b834\",\"subtype\":\"Chart\",\"type\":\"Plot\"},\"ticker\":{\"id\":\"af994060-b0f1-42c9-ad35-b8ea8dedc3f6\",\"type\":\"BasicTicker\"}},\"id\":\"6a169950-cd12-443f-84db-6b93f7a599ba\",\"type\":\"Grid\"},{\"attributes\":{\"callback\":null,\"column_names\":[\"x_values\",\"y_values\"],\"data\":{\"chart_index\":[{\"country\":\"Panama\"},{\"country\":\"Panama\"},{\"country\":\"Panama\"},{\"country\":\"Panama\"},{\"country\":\"Panama\"},{\"country\":\"Panama\"},{\"country\":\"Panama\"},{\"country\":\"Panama\"},{\"country\":\"Panama\"},{\"country\":\"Panama\"},{\"country\":\"Panama\"},{\"country\":\"Panama\"},{\"country\":\"Panama\"},{\"country\":\"Panama\"},{\"country\":\"Panama\"},{\"country\":\"Panama\"},{\"country\":\"Panama\"},{\"country\":\"Panama\"},{\"country\":\"Panama\"},{\"country\":\"Panama\"},{\"country\":\"Panama\"},{\"country\":\"Panama\"},{\"country\":\"Panama\"},{\"country\":\"Panama\"},{\"country\":\"Panama\"},{\"country\":\"Panama\"},{\"country\":\"Panama\"},{\"country\":\"Panama\"},{\"country\":\"Panama\"},{\"country\":\"Panama\"},{\"country\":\"Panama\"},{\"country\":\"Panama\"},{\"country\":\"Panama\"},{\"country\":\"Panama\"},{\"country\":\"Panama\"},{\"country\":\"Panama\"},{\"country\":\"Panama\"},{\"country\":\"Panama\"},{\"country\":\"Panama\"},{\"country\":\"Panama\"},{\"country\":\"Panama\"},{\"country\":\"Panama\"},{\"country\":\"Panama\"},{\"country\":\"Panama\"},{\"country\":\"Panama\"},{\"country\":\"Panama\"},{\"country\":\"Panama\"},{\"country\":\"Panama\"},{\"country\":\"Panama\"}],\"country\":[\"Panama\",\"Panama\",\"Panama\",\"Panama\",\"Panama\",\"Panama\",\"Panama\",\"Panama\",\"Panama\",\"Panama\",\"Panama\",\"Panama\",\"Panama\",\"Panama\",\"Panama\",\"Panama\",\"Panama\",\"Panama\",\"Panama\",\"Panama\",\"Panama\",\"Panama\",\"Panama\",\"Panama\",\"Panama\",\"Panama\",\"Panama\",\"Panama\",\"Panama\",\"Panama\",\"Panama\",\"Panama\",\"Panama\",\"Panama\",\"Panama\",\"Panama\",\"Panama\",\"Panama\",\"Panama\",\"Panama\",\"Panama\",\"Panama\",\"Panama\",\"Panama\",\"Panama\",\"Panama\",\"Panama\",\"Panama\",\"Panama\"],\"x_values\":[1957,1964,1965,1968,1969,1971,1972,1974,1975,1976,1977,1978,1979,1980,1981,1982,1983,1984,1985,1986,1987,1988,1989,1990,1991,1992,1993,1994,1995,1996,1997,1998,1999,2000,2001,2002,2003,2004,2005,2006,2007,2008,2009,2010,2011,2012,2013,2014,2015],\"y_values\":[85,5,1,10,1,31,5,26,16,5,3,60,28,69,41,36,64,105,99,90,157,93,53,145,56,44,62,68,96,82,95,206,240,584,473,467,2065,4608,6751,4792,5255,5159,3286,2385,2226,2881,1271,777,93]}},\"id\":\"ac6e6d20-5fa0-4c65-bb33-7042f9b3c58d\",\"type\":\"ColumnDataSource\"},{\"attributes\":{\"data_source\":{\"id\":\"0b889359-6cb3-47dd-a2d0-fd55421f156f\",\"type\":\"ColumnDataSource\"},\"glyph\":{\"id\":\"b76f595a-1e6a-4a35-9978-9a6cec2ae7d2\",\"type\":\"Line\"},\"hover_glyph\":null,\"nonselection_glyph\":null,\"selection_glyph\":null},\"id\":\"6346cf0b-3b48-4103-b3b3-8e5f1f2b2289\",\"type\":\"GlyphRenderer\"},{\"attributes\":{\"line_color\":{\"value\":\"#5ab738\"},\"line_width\":{\"value\":2},\"x\":{\"field\":\"x_values\"},\"y\":{\"field\":\"y_values\"}},\"id\":\"d0fe996e-2a74-44a0-b1a6-5d00ef12d7d3\",\"type\":\"Line\"},{\"attributes\":{\"line_color\":{\"value\":\"#c33ff3\"},\"line_width\":{\"value\":2},\"x\":{\"field\":\"x_values\"},\"y\":{\"field\":\"y_values\"}},\"id\":\"62f25130-8569-4dba-87c8-c264753c5281\",\"type\":\"Line\"},{\"attributes\":{\"legends\":[[\"Bahamas\",[{\"id\":\"6bcc5a94-8535-43ba-b342-1207dbc68916\",\"type\":\"GlyphRenderer\"}]],[\"Belize\",[{\"id\":\"c80b8353-ed38-426b-a72d-c8ca35552dfa\",\"type\":\"GlyphRenderer\"}]],[\"British Anguilla\",[{\"id\":\"7d95bccf-3f01-4768-85fc-d04888661983\",\"type\":\"GlyphRenderer\"}]],[\"British Virgin Islands\",[{\"id\":\"ef318198-3fd9-41ac-a516-fa183f10e9fe\",\"type\":\"GlyphRenderer\"}]],[\"Niue\",[{\"id\":\"158b8239-4f61-42de-ac00-fb56ccce05df\",\"type\":\"GlyphRenderer\"}]],[\"Panama\",[{\"id\":\"9b29c301-68eb-4e96-830b-f83526bf6229\",\"type\":\"GlyphRenderer\"}]],[\"Samoa\",[{\"id\":\"dfe68ca3-6887-4afb-83db-beb03b39e157\",\"type\":\"GlyphRenderer\"}]],[\"Seychelles\",[{\"id\":\"e6272737-ebb9-45dd-a7bb-fa3747b809d2\",\"type\":\"GlyphRenderer\"}]],[\"Uruguay\",[{\"id\":\"246363eb-84ae-4aee-8bb7-a5e86d78bb2b\",\"type\":\"GlyphRenderer\"}]]],\"location\":\"top_left\",\"plot\":{\"id\":\"a851a7a5-56f6-48f5-bde2-c53bd0156199\",\"subtype\":\"Chart\",\"type\":\"Plot\"}},\"id\":\"1c1d1853-4479-4c14-a5c2-f202946afcf7\",\"type\":\"Legend\"},{\"attributes\":{\"line_color\":{\"value\":\"#407ee7\"},\"line_width\":{\"value\":2},\"x\":{\"field\":\"x_values\"},\"y\":{\"field\":\"y_values\"}},\"id\":\"d28d561f-c57e-42ae-b416-8144eb2f83b6\",\"type\":\"Line\"},{\"attributes\":{\"callback\":null,\"column_names\":[\"x_values\",\"y_values\"],\"data\":{\"chart_index\":[{\"country\":\"Singapore\"},{\"country\":\"Singapore\"},{\"country\":\"Singapore\"},{\"country\":\"Singapore\"},{\"country\":\"Singapore\"},{\"country\":\"Singapore\"},{\"country\":\"Singapore\"},{\"country\":\"Singapore\"},{\"country\":\"Singapore\"},{\"country\":\"Singapore\"},{\"country\":\"Singapore\"},{\"country\":\"Singapore\"},{\"country\":\"Singapore\"},{\"country\":\"Singapore\"},{\"country\":\"Singapore\"},{\"country\":\"Singapore\"},{\"country\":\"Singapore\"},{\"country\":\"Singapore\"},{\"country\":\"Singapore\"},{\"country\":\"Singapore\"},{\"country\":\"Singapore\"},{\"country\":\"Singapore\"},{\"country\":\"Singapore\"},{\"country\":\"Singapore\"},{\"country\":\"Singapore\"},{\"country\":\"Singapore\"},{\"country\":\"Singapore\"},{\"country\":\"Singapore\"}],\"country\":[\"Singapore\",\"Singapore\",\"Singapore\",\"Singapore\",\"Singapore\",\"Singapore\",\"Singapore\",\"Singapore\",\"Singapore\",\"Singapore\",\"Singapore\",\"Singapore\",\"Singapore\",\"Singapore\",\"Singapore\",\"Singapore\",\"Singapore\",\"Singapore\",\"Singapore\",\"Singapore\",\"Singapore\",\"Singapore\",\"Singapore\",\"Singapore\",\"Singapore\",\"Singapore\",\"Singapore\",\"Singapore\"],\"x_values\":[1977,1978,1982,1983,1984,1987,1989,1990,1991,1992,1993,1994,1995,1996,1997,1998,1999,2000,2001,2002,2003,2004,2005,2006,2007,2008,2009,2015],\"y_values\":[1,1,2,1,1,2,4,2,2,2,9,9,2,6,11,6,15,14,39,28,41,74,70,86,117,94,71,1]}},\"id\":\"f585c9ad-ea58-4b73-9d35-acc33e1d5907\",\"type\":\"ColumnDataSource\"},{\"attributes\":{\"plot\":{\"id\":\"a851a7a5-56f6-48f5-bde2-c53bd0156199\",\"subtype\":\"Chart\",\"type\":\"Plot\"},\"ticker\":{\"id\":\"92183794-e417-4eaa-a8ff-ad2028d734b9\",\"type\":\"BasicTicker\"}},\"id\":\"cd570c2f-5776-42c6-9a48-4fc678ba91ed\",\"type\":\"Grid\"},{\"attributes\":{\"callback\":null,\"column_names\":[\"x_values\",\"y_values\"],\"data\":{\"chart_index\":[{\"country\":\"Belize\"},{\"country\":\"Belize\"},{\"country\":\"Belize\"},{\"country\":\"Belize\"},{\"country\":\"Belize\"},{\"country\":\"Belize\"},{\"country\":\"Belize\"},{\"country\":\"Belize\"}],\"country\":[\"Belize\",\"Belize\",\"Belize\",\"Belize\",\"Belize\",\"Belize\",\"Belize\",\"Belize\"],\"x_values\":[2004,2005,2008,2011,2012,2013,2014,2015],\"y_values\":[2,1,2,2,1,14,65,43]}},\"id\":\"22d071ef-5f8e-49a5-bf82-42dceceb9db5\",\"type\":\"ColumnDataSource\"},{\"attributes\":{\"callback\":null,\"plot\":{\"id\":\"5d250f67-b2a6-4daa-8a8a-d8d23587b834\",\"subtype\":\"Chart\",\"type\":\"Plot\"},\"tooltips\":[[\"year\",\"$x\"],[\"count\",\"$y\"],[\"country\",\"@country\"]]},\"id\":\"4fb61866-2714-4c6a-94dd-06a3b81f52ac\",\"type\":\"HoverTool\"},{\"attributes\":{},\"id\":\"a84fa212-780b-4f54-a22e-63dd57f00efe\",\"type\":\"BasicTicker\"}],\"root_ids\":[\"5d250f67-b2a6-4daa-8a8a-d8d23587b834\",\"a851a7a5-56f6-48f5-bde2-c53bd0156199\"]},\"title\":\"Bokeh Application\",\"version\":\"0.11.1\"}};\n",
       "            var render_items = [{\"docid\":\"e8a258f8-7664-4a2a-b571-850b88cfd770\",\"elementid\":\"b5b53b13-cec6-4779-b24a-b318a688d564\",\"modelid\":\"a851a7a5-56f6-48f5-bde2-c53bd0156199\",\"notebook_comms_target\":\"92835f10-b563-4360-aae0-fe1eef0d7806\"}];\n",
       "            \n",
       "            Bokeh.embed.embed_items(docs_json, render_items);\n",
       "        });\n",
       "      },\n",
       "      function(Bokeh) {\n",
       "      }\n",
       "    ];\n",
       "  \n",
       "    function run_inline_js() {\n",
       "      for (var i = 0; i < inline_js.length; i++) {\n",
       "        inline_js[i](window.Bokeh);\n",
       "      }\n",
       "    }\n",
       "  \n",
       "    if (window._bokeh_is_loading === 0) {\n",
       "      console.log(\"Bokeh: BokehJS loaded, going straight to plotting\");\n",
       "      run_inline_js();\n",
       "    } else {\n",
       "      load_libs(js_urls, function() {\n",
       "        console.log(\"Bokeh: BokehJS plotting callback run at\", now());\n",
       "        run_inline_js();\n",
       "      });\n",
       "    }\n",
       "  }(this));\n",
       "</script>"
      ]
     },
     "metadata": {},
     "output_type": "display_data"
    },
    {
     "data": {
      "text/html": [
       "<p><code>&lt;Bokeh Notebook handle for <strong>In[18]</strong>&gt;</code></p>"
      ],
      "text/plain": [
       "<bokeh.io._CommsHandle at 0x7f26a04d9bd0>"
      ]
     },
     "execution_count": 18,
     "metadata": {},
     "output_type": "execute_result"
    }
   ],
   "source": [
    "hover = HoverTool(tooltips=[(\"year\", \"$x\"),(\"count\", \"$y\"),(\"country\", \"@country\")])\n",
    "line = Line(data, x='year', y='count', color='country', legend='top_left', width=1000, tools=[hover],\n",
    "            title='Number of \"bearer\" shareholders per offshore jurisdictions')\n",
    "show(line)"
   ]
  },
  {
   "cell_type": "markdown",
   "metadata": {},
   "source": [
    "You can clearly see when the British Virgin Islands started to add more regulation on bearer shares, and when they switched to other countries.\n",
    "\n",
    "To see the detailed extent of what MLDB can do, SQL-wise, have a look at the [documentation][1].\n",
    "\n",
    "[1]: ../../../../doc/#builtin/sql/Sql.md.html"
   ]
  }
 ],
 "metadata": {
  "kernelspec": {
   "display_name": "Python 2",
   "language": "python",
   "name": "python2"
  },
  "language_info": {
   "codemirror_mode": {
    "name": "ipython",
    "version": 2
   },
   "file_extension": ".py",
   "mimetype": "text/x-python",
   "name": "python",
   "nbconvert_exporter": "python",
   "pygments_lexer": "ipython2",
   "version": "2.7.6"
  }
 },
 "nbformat": 4,
 "nbformat_minor": 0
}
