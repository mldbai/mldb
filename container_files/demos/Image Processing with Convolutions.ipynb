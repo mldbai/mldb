{
 "cells": [
  {
   "cell_type": "markdown",
   "metadata": {},
   "source": [
    "# Image Processing with Convolutions\n",
    "\n",
    "In image processing, most image filters and image transformation use convolutions. Convolutions modify the original matrix of pixels through a pointwise multiplication with a kernel or filter matrix. Wikipedia describes <a href=\"https://en.wikipedia.org/wiki/Kernel_(image_processing)\">convolutions on images</a> as:\n",
    "\n",
    "> Convolution is the process of multiplying each element of the image with its local neighbors, weighted by the kernel. For example, if we have two three-by-three matrices, one a kernel, and the other an image piece, convolution is the process of flipping both the rows and columns of the kernel and then multiplying locationally similar entries and summing. The [2,2] element of the resulting image would be a weighted combination of all the entries of the image matrix, with weights given by the kernel: \n",
    "\n",
    "> ![Image of convolution](https://wikimedia.org/api/rest_v1/media/math/render/svg/1a5bdd585d515770c888ea5b4ea07a7a5166cc8d)\n",
    "\n",
    "Amongst the suite of applications of convolutions, image blurring and sharpening as well as edge detection are the most common. In this demo, we will use MLDB query to efficiently transform images. To do so, we will use the [MNIST database of handwriten digits](http://yann.lecun.com/exdb/mnist/).\n",
    "\n",
    "In this demo, we will use the [jseval](../../../../doc/#builtin/sql/ValueExpression.md.html#jseval) function to execute JavaScript code inline with SQL, and the [SQL Expression Function](../../../../doc/#builtin/functions/SqlExpressionFunction.md.html) to persist and reuse the same JavaScript code."
   ]
  },
  {
   "cell_type": "markdown",
   "metadata": {
    "collapsed": true
   },
   "source": [
    "The notebook cells below use `pymldb`'s `Connection` class to make [REST API](../../../../doc/#builtin/WorkingWithRest.md.html) calls. You can check out the [Using `pymldb` Tutorial](../../../../doc/nblink.html#_tutorials/Using pymldb Tutorial) for more details."
   ]
  },
  {
   "cell_type": "code",
   "execution_count": 1,
   "metadata": {
    "collapsed": true
   },
   "outputs": [],
   "source": [
    "from pymldb import Connection\n",
    "mldb = Connection()"
   ]
  },
  {
   "cell_type": "markdown",
   "metadata": {},
   "source": [
    "... And other Python librairies"
   ]
  },
  {
   "cell_type": "code",
   "execution_count": 2,
   "metadata": {
    "collapsed": true
   },
   "outputs": [],
   "source": [
    "import random\n",
    "import numpy as np\n",
    "\n",
    "import matplotlib.pyplot as plt\n",
    "%matplotlib inline\n",
    "\n",
    "from IPython.display import display, Latex\n",
    "from ipywidgets import widgets, interact"
   ]
  },
  {
   "cell_type": "markdown",
   "metadata": {},
   "source": [
    "## Loading the data\n",
    "\n",
    "A pickled version of the dataset is available on the [deeplearning.net website](http://deeplearning.net/tutorial/gettingstarted.html).\n",
    "\n",
    "The dataset has been unpickled and saved in a public Amazon's S3 cloud storage. Check out MLDB's [Protocol Handlers](../../../../doc/#builtin/Url.md.html) for Files and URLS for more details on loading remote ressources."
   ]
  },
  {
   "cell_type": "code",
   "execution_count": 3,
   "metadata": {
    "collapsed": false
   },
   "outputs": [
    {
     "name": "stdout",
     "output_type": "stream",
     "text": [
      "<Response [201]>\n"
     ]
    }
   ],
   "source": [
    "data_url_mnist = 'http://public.mldb.ai.s3.amazonaws.com/datasets/digits_data.csv.gz'\n",
    "\n",
    "print mldb.put('/v1/procedures/import_digits_mnist', {\n",
    "    \"type\":\"import.text\",\n",
    "    \"params\": {\n",
    "        \"dataFileUrl\": data_url_mnist,\n",
    "        \"outputDataset\": \"digits_mnist\",\n",
    "        \"select\": \"{* EXCLUDING(\\\"785\\\")} AS *, \\\"785\\\" AS label\",\n",
    "        \"runOnCreation\": True,\n",
    "    }\n",
    "})"
   ]
  },
  {
   "cell_type": "markdown",
   "metadata": {},
   "source": [
    "## Taking a random image and starting image manipulation\n",
    "\n",
    "Similarly to the first few steps in the [Real-Time Digits Recognizer](../../../../doc/nblink.html#_demos/Real-Time%20Digits%20Recognizer.ipynb) demo, we will display random MNIST digits from the test set. At each refresh, we get a randomly selected row using the [`sample` function in a SQL From Expression](../../../../doc/#builtin/sql/FromExpression.md.html)."
   ]
  },
  {
   "cell_type": "code",
   "execution_count": 4,
   "metadata": {
    "collapsed": false
   },
   "outputs": [
    {
     "data": {
      "image/png": "[encoded data removed]",
      "text/plain": [
       "<matplotlib.figure.Figure at 0x7f5b4abb05d0>"
      ]
     },
     "metadata": {},
     "output_type": "display_data"
    }
   ],
   "source": [
    "data = mldb.query(\"\"\"\n",
    "    SELECT * EXCLUDING(label) \n",
    "    FROM sample(\n",
    "                (select * from digits_mnist where rowHash() % 5 = 0),\n",
    "                {rows: 1}\n",
    "    )\n",
    "\"\"\")\n",
    "\n",
    "image = data.as_matrix().reshape(28, 28)\n",
    "plt.imshow(image)\n",
    "plt.gray()"
   ]
  },
  {
   "cell_type": "markdown",
   "metadata": {},
   "source": [
    "## Defining the convolution function\n",
    "\n",
    "A discrete convolution can be defined mathematically as:\n",
    "\n",
    "$newPixel[i,j] = \\sum_{y=i}^{i+r}\\sum_{x=j}^{j+r}oldPixel[x,y] \\cdot weight[x,y]$\n",
    "\n",
    "where the $weight[]$ matrix (see 'kernelDict' dictionary in a couple of cells below) defines the type of image manipulation and $r$ is the area of effect. Imagine a \"square box\" centered at the pixel that you want to transform. The kernel weighted sum of \"old pixels\" in the \"square box\" gives you a \"new pixel\".\n",
    "\n",
    "As seen in the code below, each new pixel in the convolved picture is the weighted sum of the the pixel and its neighboring pixels where the weights are the values in the kernel matrix.  \n",
    "\n",
    "Doing convolutions with custom function of type [SQL Expression Function](../../../../doc/#builtin/functions/SqlExpressionFunction.md.html) and [jseval](../../../../doc/#builtin/sql/ValueExpression.md.html) for inline definition of functions using Javascript allows us to process large amounts of data using the optimizations inherent to MLDB. Convolutions are typically very time consuming operations with \n",
    "$O(n\\cdot r^2)$ complexity in this case where n is the number of features and r is the radius (i.e. neighboring pixels).\n",
    "\n",
    "There were two steps to creating the function below:\n",
    "* JsConvolutionExpr used a jseval built-in function where all the logic resides\n",
    "* A 'convolution' SQL Expression Function is created, allowing us to call 'convolution' with a simple [mldb.query](../../../../doc/#builtin/sql/Sql.md.html)"
   ]
  },
  {
   "cell_type": "code",
   "execution_count": 5,
   "metadata": {
    "collapsed": false
   },
   "outputs": [
    {
     "name": "stdout",
     "output_type": "stream",
     "text": [
      "<Response [201]>\n"
     ]
    }
   ],
   "source": [
    "# JavaScript code loosely based on Ivan Kuckir's blog post: http://blog.ivank.net/fastest-gaussian-blur.html\n",
    "\n",
    "def create_convolution():\n",
    "    \n",
    "    JsConvolutionExpr = \"\"\"\n",
    "        jseval('\n",
    "            var row_val = val;\n",
    "            var dim = Math.sqrt(row_val.length);\n",
    "            var radius = Math.sqrt(kernel.length);\n",
    "            \n",
    "            \n",
    "            /*************************************\n",
    "            ******** Function Definition *********\n",
    "            **************************************/\n",
    "\n",
    "            // input 1D list, output 1D list, pixel matrix dimensions\n",
    "            function convolution(inList, outList, width, height, radius) {\n",
    "\n",
    "                for (var i = 0; i < height; i++)\n",
    "                    for (var j = 0; j < width; j++) {\n",
    "                        var newPixel = 0;\n",
    "                        var indexW = 0;\n",
    "                        \n",
    "                        for (var yr = i; yr < i + radius; yr++)\n",
    "                            for (var xr = j; xr < j + radius; xr++) {\n",
    "                            \n",
    "                              var y = Math.min(height - 1, Math.max(0, yr));\n",
    "                              var x = Math.min(width - 1, Math.max(0, xr));\n",
    "                              \n",
    "                              newPixel = newPixel + inList[y * width + x] * weights[indexW];\n",
    "                              indexW ++;\n",
    "                            }\n",
    "                            \n",
    "                        new_value = newPixel;\n",
    "                        outList[i * width + j] = new_value;\n",
    "                    }\n",
    "                return outList;\n",
    "            } // End of convolution\n",
    "            \n",
    "            //Assuring that the 1d row is in the right order\n",
    "            function arrangeMatrix(inList) {\n",
    "            \n",
    "                var length = inList.length;\n",
    "                var data = new Array(length);\n",
    "                for (var i = 0; i < length; i++) {\n",
    "                    data[parseInt(inList[i][0][0])] = inList[i][1];\n",
    "                }\n",
    "                return data\n",
    "            }\n",
    "            \n",
    "            /*************************************\n",
    "            ********** Using Functions ***********\n",
    "            **************************************/\n",
    "            \n",
    "            var weights = arrangeMatrix(kernel); // filter matrix\n",
    "            var matrix = arrangeMatrix(row_val); // my picture\n",
    "            var convolvedMatrix = [];\n",
    "            \n",
    "            convolution(matrix, convolvedMatrix, dim, dim, radius);\n",
    "\n",
    "            return convolvedMatrix;',\n",
    "            'val, kernel', \n",
    "             valueExpr, kernel\n",
    "        ) AS *\n",
    "    \"\"\"\n",
    "\n",
    "\n",
    "    print mldb.put(\"/v1/functions/convolution\", {\n",
    "        \"type\": \"sql.expression\",\n",
    "        \"params\": {\n",
    "            \"expression\": JsConvolutionExpr,\n",
    "            \"prepared\": True\n",
    "        }\n",
    "    })\n",
    "    \n",
    "create_convolution()"
   ]
  },
  {
   "cell_type": "markdown",
   "metadata": {},
   "source": [
    "This function will used in the interactive menu in the next section. We will take the image of the digit that we have seen before and apply different filters. You will need to load the cells in this notebook to make it work."
   ]
  },
  {
   "cell_type": "markdown",
   "metadata": {},
   "source": [
    "## Using the convolution function\n",
    "\n",
    "We will first define the type filters or kernels that we want to try."
   ]
  },
  {
   "cell_type": "code",
   "execution_count": 6,
   "metadata": {
    "collapsed": true
   },
   "outputs": [],
   "source": [
    "kernelDict = {\n",
    "    'Right Sobel': [-1, 0, 1, -2, 0, 2, -1, 0, 1], \n",
    "    'Detect Edges': [1, 1, 1, 1, -8, 1, 1, 1, 1],\n",
    "    'Sharpen': [0, -1, 0, -1, 5, -1, 0, -1, 0],\n",
    "    'Box Blur': [0.1, 0.1, 0.1, 0.1, 0.1, 0.1, 0.1, 0.1, 0.1],\n",
    "    'Approximated Gaussian Blur': [0.0625, 0.125, 0.0625, 0.125, 0.25, 0.125, 0.0625, 0.125, 0.0625]\n",
    "}"
   ]
  },
  {
   "cell_type": "code",
   "execution_count": 7,
   "metadata": {
    "collapsed": false
   },
   "outputs": [],
   "source": [
    "def convolutionFunc(image_processing):\n",
    "    \n",
    "    SQL_Expr = \"\"\"\n",
    "        SELECT convolution({\n",
    "                valueExpr: %(data)s,\n",
    "                kernel: %(kernel)s\n",
    "        }) AS *\n",
    "    \"\"\" %   {\n",
    "                \"data\": data.values[0].tolist(),\n",
    "                \"kernel\": kernelDict[image_processing]\n",
    "            }\n",
    "\n",
    "    convolvedData = mldb.query(SQL_Expr)\n",
    "    image = convolvedData.as_matrix().reshape(28, 28)\n",
    "    plt.imshow(image)"
   ]
  },
  {
   "cell_type": "code",
   "execution_count": 8,
   "metadata": {
    "collapsed": false
   },
   "outputs": [
    {
     "name": "stdout",
     "output_type": "stream",
     "text": [
      "Choose an image processing option from the drop-down menu\n"
     ]
    },
    {
     "data": {
      "image/png": "[encoded data removed]",
      "text/plain": [
       "<matplotlib.figure.Figure at 0x7f5b443d9210>"
      ]
     },
     "metadata": {},
     "output_type": "display_data"
    }
   ],
   "source": [
    "options=('Right Sobel', 'Detect Edges', 'Sharpen', 'Box Blur', 'Approximated Gaussian Blur')\n",
    "interact(convolutionFunc, image_processing=kernelDict.keys(), );\n",
    "print \"Choose an image processing option from the drop-down menu\""
   ]
  },
  {
   "cell_type": "markdown",
   "metadata": {},
   "source": [
    "I found the 'Detect Edges' convolution particularly useful when training image recognition models. This can be useful in many Machine Vision applications."
   ]
  },
  {
   "cell_type": "markdown",
   "metadata": {},
   "source": [
    "## Convolutions with MLDB's TensorFlow plug-in\n",
    "\n",
    "Not everyone will want to code their own convolutions from scratch (such as with the `create_convolution()` function above). In fact, given the myriad of tools available, it may save you time and effort to use external librairies. MLDB has integrated the TensorFlow Open Source Library for Machine Intelligence allowing us to leverage some of the great Computer Vision APIs and GPU accelaration that it offers. Let's get started with the same images as before.\n",
    "\n",
    "First, I reshape my image and kernel lists into 4D tensors in the NHWC tensor format. Then, I use the [`tf_Conv2D`](../../../../doc/builtin/sql/ValueExpression.md.html#builtinfunctions), the TensorFlow operator that is exposed as an MLDB built-in function directly in SQL."
   ]
  },
  {
   "cell_type": "code",
   "execution_count": 9,
   "metadata": {
    "collapsed": false
   },
   "outputs": [],
   "source": [
    "data_ = data.values[0].reshape(1, 28, 28, 1).tolist() \n",
    "# image input must be a [batch, in_height, in_width, in_channels] shaped tensor"
   ]
  },
  {
   "cell_type": "code",
   "execution_count": 10,
   "metadata": {
    "collapsed": false
   },
   "outputs": [],
   "source": [
    "def TensorFlowConvolution(image_processing):\n",
    "    \n",
    "    kernel = np.asarray(kernelDict[image_processing]).reshape(3, 3, 1, 1).tolist() \n",
    "    # kernel must be a [filter_height, filter_width, in_channels, out_channels] shaped tensor\n",
    "    strides = [ 1, 1, 1, 1]\n",
    "    SQL_Expr = \"\"\"\n",
    "        SELECT tf_Conv2D(\n",
    "            {input: %(data)s, filter: %(kernel)s}, \n",
    "            {T: { type: 'DT_FLOAT'}, padding: 'SAME', strides: %(strides)s })\n",
    "        AS *\n",
    "    \"\"\" %   {\n",
    "                \"data\": data_,\n",
    "                \"kernel\": kernel,\n",
    "                \"strides\": strides\n",
    "            }\n",
    "    \n",
    "    convolvedData = mldb.query(SQL_Expr)\n",
    "    image = convolvedData.as_matrix().reshape(28, 28)\n",
    "    plt.imshow(image)"
   ]
  },
  {
   "cell_type": "code",
   "execution_count": 11,
   "metadata": {
    "collapsed": false,
    "scrolled": true
   },
   "outputs": [
    {
     "name": "stdout",
     "output_type": "stream",
     "text": [
      "Choose an image processing option from the drop-down menu\n"
     ]
    },
    {
     "data": {
      "image/png": "[encoded data removed]",
      "text/plain": [
       "<matplotlib.figure.Figure at 0x7f5b443d9a90>"
      ]
     },
     "metadata": {},
     "output_type": "display_data"
    }
   ],
   "source": [
    "options=('Right Sobel', 'Detect Edges', 'Sharpen', 'Box Blur', 'Approximated Gaussian Blur')\n",
    "interact(TensorFlowConvolution, image_processing=kernelDict.keys(), );\n",
    "print \"Choose an image processing option from the drop-down menu\""
   ]
  },
  {
   "cell_type": "markdown",
   "metadata": {},
   "source": [
    "Here are a few definitions:\n",
    "* Batch: The data is sometimes split into batches to parallelize Image Processing.\n",
    "* Strides: Stride is a step that the \"square box\" (as described in 'Defining the Convolution Function' section above) will take. A stride has shape [stride_batch, stride_width, stride_height, stride_channel] so [1, 1, 1, 1] will shift the box one pixel at the time for each batch and each channel.\n",
    "* Padding: As you may have noticed, sometimes the \"square box\" has elements outside the picture (i.e. for pixels at the boundries of the image). The 'SAME' padding allows the convolution algorithm to go beyond picture borders. Pixels in the padding area will typically be zero and the output image will have the same size as the input image. 'VALID' padding does not allow the \"square box\" to go beyond the picture boundries. In this case, the output picture size will be smaller. For moreinformation, see [this article](http://radio.feld.cvut.cz/matlab/toolbox/images/linfilt4.html).\n",
    "* Channel: we have only one channel here because it is grayscale. For images with colors (i.e. RGB), we have 3 channels. See ImageMagick's [Color Basics and Channels](http://www.imagemagick.org/Usage/color_basics/) article for more information."
   ]
  },
  {
   "cell_type": "markdown",
   "metadata": {},
   "source": [
    "## Where to next?\n",
    "\n",
    "If you are interested in building your own custom image manipulation algorithms, you can click [here](../../../../ipy/notebooks/_demos/Convolutions%20using%20SQL%20and%20javascript.ipynb) to jump to the Convolution Demo. Otherwise, check out the other [Tutorials and Demos](../../../../doc/#builtin/Demos.md.html)."
   ]
  }
 ],
 "metadata": {
  "kernelspec": {
   "display_name": "Python 2",
   "language": "python",
   "name": "python2"
  },
  "language_info": {
   "codemirror_mode": {
    "name": "ipython",
    "version": 2
   },
   "file_extension": ".py",
   "mimetype": "text/x-python",
   "name": "python",
   "nbconvert_exporter": "python",
   "pygments_lexer": "ipython2",
   "version": "2.7.6"
  }
 },
 "nbformat": 4,
 "nbformat_minor": 0
}
