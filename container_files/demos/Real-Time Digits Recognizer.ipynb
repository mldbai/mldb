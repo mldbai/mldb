{
 "cells": [
  {
   "cell_type": "markdown",
   "metadata": {},
   "source": [
    "# Real-Time Handwritten Digits Recognizer\n",
    "\n",
    "The automatic recognition of handwritten digits is now a well understood and studied Machine Vision and Machine Learning problem. We will be using MNIST (check out Wikipedia's page on [MNIST](https://en.wikipedia.org/wiki/MNIST_database)) to train our models. From the description on Yann LeCun's [MNIST database of handwriten digits](http://yann.lecun.com/exdb/mnist/):\n",
    "\n",
    "> The MNIST database of handwritten digits, available from this page, has a training set of 60,000 examples, and a test set of 10,000 examples. It is a subset of a larger set available from NIST. The digits have been size-normalized and centered in a fixed-size image.\n",
    "> It is a good database for people who want to try learning techniques and pattern recognition methods on real-world data while spending minimal efforts on preprocessing and formatting.\n",
    "\n",
    "\n",
    "To learn more, you can also check out Kaggle's [Digit Recognizer](https://www.kaggle.com/c/digit-recognizer) page.\n",
    "\n",
    "In this demo will use MLDB's [classifiers functions](../../../../doc/#builtin/functions/ClassifierApply.md.html) and [REST API](../../../../doc/#builtin/WorkingWithRest.md.html), to create a plug-in to predict the value of handwritten digits. We will also use MLDB's [explain functions](../../../../doc/#builtin/functions/ClassifierExplain.md.html) to visually represent the predictive \"value or importance\" of each pixel in our final predictions."
   ]
  },
  {
   "cell_type": "markdown",
   "metadata": {},
   "source": [
    "The notebook cells below use `pymldb`'s `Connection` class to make [REST API](../../../../doc/#builtin/WorkingWithRest.md.html) calls. You can check out the [Using `pymldb` Tutorial](../../../../doc/nblink.html#_tutorials/Using pymldb Tutorial) for more details."
   ]
  },
  {
   "cell_type": "code",
   "execution_count": 729,
   "metadata": {
    "collapsed": true
   },
   "outputs": [],
   "source": [
    "from pymldb import Connection\n",
    "mldb = Connection()"
   ]
  },
  {
   "cell_type": "markdown",
   "metadata": {},
   "source": [
    "... And other Python librairies"
   ]
  },
  {
   "cell_type": "code",
   "execution_count": 730,
   "metadata": {
    "collapsed": true
   },
   "outputs": [],
   "source": [
    "import random\n",
    "import numpy as np\n",
    "from pandas import DataFrame\n",
    "\n",
    "import matplotlib.pyplot as plt\n",
    "%matplotlib inline\n",
    "\n",
    "from IPython.display import display\n",
    "from ipywidgets import widgets"
   ]
  },
  {
   "cell_type": "markdown",
   "metadata": {},
   "source": [
    "## Loading the data\n",
    "\n",
    "A pickled version of the dataset is available on the deeplearning.net website http://deeplearning.net/tutorial/gettingstarted.html.\n",
    "\n",
    "The dataset has been unpickled and saved in a public Amazon's S3 cloud storage. Check out MLDB's [Protocol Handlers](../../../../doc/#builtin/Url.md.html) for Files and URLS."
   ]
  },
  {
   "cell_type": "code",
   "execution_count": 731,
   "metadata": {
    "collapsed": false
   },
   "outputs": [
    {
     "name": "stdout",
     "output_type": "stream",
     "text": [
      "<Response [201]>\n"
     ]
    }
   ],
   "source": [
    "data_url_mnist = 'http://public.mldb.ai.s3.amazonaws.com/datasets/digits_data.csv.gz'\n",
    "\n",
    "print mldb.put('/v1/procedures/import_digits_mnist', {\n",
    "    \"type\":\"import.text\",\n",
    "    \"params\": {\n",
    "        \"dataFileUrl\": data_url_mnist,\n",
    "        \"outputDataset\": \"digits_mnist\",\n",
    "        \"select\": \"{* EXCLUDING(\\\"785\\\")} AS *, \\\"785\\\" AS label\",\n",
    "        \"runOnCreation\": True,\n",
    "    }\n",
    "})"
   ]
  },
  {
   "cell_type": "markdown",
   "metadata": {},
   "source": [
    "In the original dataset, the labels were seperated. To make it easier, we joined the features with the labels. Column 785 is the labels column which was renamed accordingly."
   ]
  },
  {
   "cell_type": "markdown",
   "metadata": {},
   "source": [
    "## Let's explore the data\n",
    "\n",
    "See the [Query API](../../../../doc/#builtin/sql/QueryAPI.md.html) documentation for more details on SQL queries."
   ]
  },
  {
   "cell_type": "code",
   "execution_count": 747,
   "metadata": {
    "collapsed": false
   },
   "outputs": [
    {
     "name": "stdout",
     "output_type": "stream",
     "text": [
      "          Features  Test_Examples\n",
      "_rowName                         \n",
      "[]             784          12172\n"
     ]
    }
   ],
   "source": [
    "print mldb.query(\"\"\"\n",
    "    SELECT \n",
    "        avg(horizontal_count({* EXCLUDING(label)})) as Features,\n",
    "        count(label) AS Test_Examples\n",
    "    FROM digits_mnist \n",
    "\"\"\")"
   ]
  },
  {
   "cell_type": "markdown",
   "metadata": {},
   "source": [
    "Each example is a row made up of 784 pixels or features. By reshaping the 1D data into a 2D representation, we can visualize the data a little better. At each refresh, we get randomly selecting rows for each label by using an SQL offset. The offset specifies the number of rows to skip before returning values from the query expression."
   ]
  },
  {
   "cell_type": "code",
   "execution_count": 748,
   "metadata": {
    "collapsed": false,
    "scrolled": false
   },
   "outputs": [
    {
     "data": {
      "image/png": "[encoded data removed]",
      "text/plain": [
       "<matplotlib.figure.Figure at 0x7f0bfe00f890>"
      ]
     },
     "metadata": {},
     "output_type": "display_data"
    }
   ],
   "source": [
    "labels = [0, 1, 2, 3, 4, 5, 6, 7, 8, 9]\n",
    "\n",
    "x_array1 = []\n",
    "x_array2 = []\n",
    "x_data = []\n",
    "sq = int(np.sqrt(784))\n",
    "\n",
    "for label in labels:\n",
    "    offset = random.randint(0, 1000)\n",
    "    x_data = mldb.query(\"\"\"\n",
    "        SELECT * EXCLUDING(label) \n",
    "        FROM digits_mnist \n",
    "        WHERE label = %d and rowHash() %% 5 = 0\n",
    "        LIMIT 1\n",
    "        OFFSET %d\n",
    "    \"\"\" %(label, offset))\n",
    "    \n",
    "    if label < 5:\n",
    "        x_array1.extend(x_data.as_matrix().reshape(sq, sq))\n",
    "    if label >= 5:\n",
    "        x_array2.extend(x_data.as_matrix().reshape(sq, sq))    \n",
    "\n",
    "f, (fig1, fig2) = plt.subplots(1, 2, sharey=True)\n",
    "fig1.matshow(x_array1)\n",
    "fig2.matshow(x_array2)\n",
    "plt.show()"
   ]
  },
  {
   "cell_type": "markdown",
   "metadata": {
    "collapsed": true
   },
   "source": [
    "## Training a classifier\n",
    "We will create a [Procedure](../../../../doc/#builtin/procedures/Procedures.md.html) of type [`classifier.experiment`](../../../../doc/#builtin/procedures/ExperimentProcedure.md.html) to train and test our model. The `configuration` parameter defines a Random Forest algorithm."
   ]
  },
  {
   "cell_type": "code",
   "execution_count": 734,
   "metadata": {
    "collapsed": true
   },
   "outputs": [],
   "source": [
    "conf_algo =  {\n",
    "    \"bbdt_d5\": {\n",
    "        \"type\": \"bagging\",\n",
    "        \"verbosity\": 3,\n",
    "        \"weak_learner\": {\n",
    "            \"type\": \"boosting\",\n",
    "            \"verbosity\": 3,\n",
    "            \"weak_learner\": {\n",
    "                \"type\": \"decision_tree\",\n",
    "                \"max_depth\": 7,\n",
    "                \"verbosity\": 0,\n",
    "                \"update_alg\": \"gentle\",\n",
    "                \"random_feature_propn\": 0.3\n",
    "            },\n",
    "            \"min_iter\": 5,\n",
    "            \"max_iter\": 30\n",
    "        },\n",
    "        \"num_bags\": 5\n",
    "    }\n",
    "}\n",
    "\n",
    "conf_class = {\n",
    "    \"type\": \"classifier.experiment\",\n",
    "    \"params\": {\n",
    "        \"experimentName\": \"mnist_model\",\n",
    "        \"mode\": \"categorical\",\n",
    "        \"inputData\" : \"\"\"\n",
    "            SELECT \n",
    "                {* EXCLUDING(label*)} AS features, \n",
    "                label AS label\n",
    "            FROM digits_mnist\n",
    "        \"\"\",\n",
    "        \"datasetFolds\": [\n",
    "            {\n",
    "                \"trainingWhere\": \"rowHash() % 5 != 0\", #80% of total data\n",
    "                \"testingWhere\": \"rowHash() % 5 = 0\"    #20% of total data\n",
    "            }\n",
    "        ],\n",
    "        \"algorithm\": \"bbdt_d5\",\n",
    "        \"configuration\": conf_algo,\n",
    "        \"modelFileUrlPattern\": \"file://models/mnist_model.cls\",\n",
    "        \"keepArtifacts\": True,\n",
    "        \"outputAccuracyDataset\": True,   \n",
    "        \"runOnCreation\": True,\n",
    "        \"evalTrain\": True\n",
    "    }\n",
    "}\n",
    "\n",
    "results = mldb.put(\"/v1/procedures/mnist_model\", conf_class)"
   ]
  },
  {
   "cell_type": "code",
   "execution_count": 735,
   "metadata": {
    "collapsed": false
   },
   "outputs": [
    {
     "name": "stdout",
     "output_type": "stream",
     "text": [
      "\n",
      "Model classification accuracy on test set = 0.9717\n",
      "\n"
     ]
    }
   ],
   "source": [
    "accuracy = results.json()['status']['firstRun']['status']['aggregatedTest']['weightedStatistics']['accuracy']['mean']\n",
    "print \"\\nModel classification accuracy on test set = %0.4f\\n\" % accuracy"
   ]
  },
  {
   "cell_type": "markdown",
   "metadata": {},
   "source": [
    "We are now going to construct the confusion matrix from results on the test set using the [`pivot` aggregate function](../../../../doc/#builtin/sql/ValueExpression.md.html). You can learn more about confusion matrices [here](https://en.wikipedia.org/wiki/Confusion_matrix)."
   ]
  },
  {
   "cell_type": "code",
   "execution_count": 736,
   "metadata": {
    "collapsed": false
   },
   "outputs": [
    {
     "name": "stdout",
     "output_type": "stream",
     "text": [
      "             0     1     2     3     4     5     6     7     8     9\n",
      "_rowName                                                            \n",
      "[0]       1207     0     4     1     1     3     5     1     2     5\n",
      "[1]          0  1351     2     1     2     0     1     5     2     0\n",
      "[2]          2     9  1163    21     1     2     2     6     8     0\n",
      "[3]          1     0     3  1184     0    12     0     3     7    10\n",
      "[4]          1     2     9     1  1093     2     2     6     5     9\n",
      "[5]          0     0     0    10     0  1065     9     0    10     4\n",
      "[6]          4     2     5     0     2     5  1184     0     3     2\n",
      "[7]          0     0     8     8     4     0     0  1289     1    10\n",
      "[8]          9     3     6     9     0     6     3     1  1118     8\n",
      "[9]          1     0     2     8    21     6     0     7     9  1173\n"
     ]
    },
    {
     "data": {
      "text/plain": [
       "<matplotlib.text.Text at 0x7f0c00be4050>"
      ]
     },
     "execution_count": 736,
     "metadata": {},
     "output_type": "execute_result"
    },
    {
     "data": {
      "image/png": "[encoded data removed]",
      "text/plain": [
       "<matplotlib.figure.Figure at 0x7f0bfc3c8850>"
      ]
     },
     "metadata": {},
     "output_type": "display_data"
    }
   ],
   "source": [
    "confusionMatrix = mldb.query(\"\"\"\n",
    "    SELECT pivot(actual, num) AS *\n",
    "    FROM (\n",
    "        SELECT label AS actual, maxLabel AS predicted, count(*) AS num\n",
    "        FROM mnist_model_results_0\n",
    "        GROUP BY label, maxLabel\n",
    "    )\n",
    "    GROUP BY predicted\n",
    "\"\"\")\n",
    "\n",
    "df = confusionMatrix.reindex_axis(sorted(confusionMatrix.columns), axis=1).fillna(0)\n",
    "print df\n",
    "\n",
    "import matplotlib\n",
    "fig = plt.figure(figsize=(8, 8))\n",
    "plt.imshow(df, interpolation='nearest', cmap='Set3')\n",
    "plt.yticks(np.arange(0, 10, 1), fontsize=14)\n",
    "plt.ylabel(\"Predicted\", fontsize=16)\n",
    "plt.xticks(np.arange(0, 10, 1), fontsize=14)\n",
    "plt.xlabel(\"Actual\", fontsize=16)"
   ]
  },
  {
   "cell_type": "markdown",
   "metadata": {},
   "source": [
    "The model seems to be doing a pretty good job at classfication as seen with the confusion matrix above. In a small percentage of cases, the model seems to think that a '4' is a '9' and that a '3' is a '2'. The two sets of digits are similar in the concentration of pixels, so this makes some sense."
   ]
  },
  {
   "cell_type": "markdown",
   "metadata": {},
   "source": [
    "## How does the model make its predictions? The 'explain' function provides each pixel's weight on the final outcome.\n",
    "\n",
    "Let's create a function of type [`classifier.explain`](../../../../doc/#builtin/functions/ClassifierExplain.md.html) to help us understand what's happening here."
   ]
  },
  {
   "cell_type": "code",
   "execution_count": 737,
   "metadata": {
    "collapsed": false
   },
   "outputs": [
    {
     "data": {
      "text/html": [
       "<strong>PUT http://localhost/v1/functions/mnist_explainer</strong><br /><strong style=\"color: green;\">201 Created</strong><br /> <div class=\"highlight\"><pre style=\"line-height: 125%\"><span></span>{\n",
       "  <span style=\"color: #333333; font-weight: bold\">&quot;status&quot;</span>: {\n",
       "    <span style=\"color: #333333; font-weight: bold\">&quot;mode&quot;</span>: <span style=\"color: #0000dd\">&quot;regression&quot;</span>, \n",
       "    <span style=\"color: #333333; font-weight: bold\">&quot;summary&quot;</span>: <span style=\"color: #0000dd\">&quot;COMMITTEE&quot;</span>\n",
       "  }, \n",
       "  <span style=\"color: #333333; font-weight: bold\">&quot;config&quot;</span>: {\n",
       "    <span style=\"color: #333333; font-weight: bold\">&quot;params&quot;</span>: {\n",
       "      <span style=\"color: #333333; font-weight: bold\">&quot;modelFileUrl&quot;</span>: <span style=\"color: #0000dd\">&quot;file://models/mnist_model.cls&quot;</span>\n",
       "    }, \n",
       "    <span style=\"color: #333333; font-weight: bold\">&quot;type&quot;</span>: <span style=\"color: #0000dd\">&quot;classifier.explain&quot;</span>, \n",
       "    <span style=\"color: #333333; font-weight: bold\">&quot;id&quot;</span>: <span style=\"color: #0000dd\">&quot;mnist_explainer&quot;</span>\n",
       "  }, \n",
       "  <span style=\"color: #333333; font-weight: bold\">&quot;state&quot;</span>: <span style=\"color: #0000dd\">&quot;ok&quot;</span>, \n",
       "  <span style=\"color: #333333; font-weight: bold\">&quot;type&quot;</span>: <span style=\"color: #0000dd\">&quot;classifier.explain&quot;</span>, \n",
       "  <span style=\"color: #333333; font-weight: bold\">&quot;id&quot;</span>: <span style=\"color: #0000dd\">&quot;mnist_explainer&quot;</span>\n",
       "}\n",
       "</pre></div>\n"
      ],
      "text/plain": [
       "<Response [201]>"
      ]
     },
     "execution_count": 737,
     "metadata": {},
     "output_type": "execute_result"
    }
   ],
   "source": [
    "mldb.put('/v1/functions/mnist_explainer', { \n",
    "    \"id\": \"mnist_explainer\", \n",
    "    \"type\": \"classifier.explain\",\n",
    "    \"params\": { \"modelFileUrl\": \"file://models/mnist_model.cls\" }\n",
    "})"
   ]
  },
  {
   "cell_type": "markdown",
   "metadata": {},
   "source": [
    "## We automatically get a REST API to test our model with individual digits\n",
    "\n",
    "The procedure above created for us a [Function](../../../../doc/#builtin/functions/Functions.md.html) of type [`classifier`](../../../../doc/#builtin/functions/ClassifierApply.md.html). We will be using two functions:\n",
    "* The scorer function: Scores aren't probabilities, but they can be used to create binary classifiers by applying a cutoff threshold. MLDB's `classifier.experiment` procedure that we have seen previously outputs a score for each digit (even the wrong ones).\n",
    "* The explain function: The explain function is called and outputs the weight of each pixels towards the final prediction. Negative values lower the probability while positive values increase the probability.\n",
    "\n",
    "Note that the digits are from the test set - we used 80% of the data for training and 20% for testing. You can also get the same digit written differently by using the offset bar."
   ]
  },
  {
   "cell_type": "code",
   "execution_count": 738,
   "metadata": {
    "collapsed": false
   },
   "outputs": [
    {
     "data": {
      "image/png": "[encoded data removed]",
      "text/plain": [
       "<matplotlib.figure.Figure at 0x7f0bfe093dd0>"
      ]
     },
     "metadata": {},
     "output_type": "display_data"
    }
   ],
   "source": [
    "def rgb_explain(x):\n",
    "    scale = 5\n",
    "    explain = [[0, 0, 0]] * number_of_features # [R,G,B] for color pic\n",
    "    number_explain = len(x)\n",
    "    \n",
    "    for j, col in enumerate(x.columns.values):\n",
    "        try:\n",
    "            index = int(col)\n",
    "            val = x.values[0][j] * scale\n",
    "            if (val >= 0.2):\n",
    "                explain[index] = [0, val, 0] # make it green\n",
    "            elif (val <= -0.2):\n",
    "                explain[index] = [- val, 0, 0] # make it red\n",
    "        except:\n",
    "            pass\n",
    "    \n",
    "    return np.array(explain).reshape(sq, sq, 3)\n",
    "\n",
    "@widgets.interact\n",
    "def test_img_plot(digit = [0,9] ,offset=[0,1000]):\n",
    "    \n",
    "    data = mldb.query(\"\"\"\n",
    "        SELECT \n",
    "            * EXCLUDING(label),\n",
    "            mnist_model_scorer_0({ features: {* EXCLUDING(label*)} })[scores] AS score\n",
    "        FROM digits_mnist\n",
    "        WHERE label = %(digit)d AND rowHash() %% 5 = 0\n",
    "        LIMIT 1\n",
    "        OFFSET %(offset)d\n",
    "    \"\"\" % {\"digit\": digit, \"offset\": offset})\n",
    "    \n",
    "    data_array = data.as_matrix()\n",
    "    \n",
    "    rand_test_img = data_array[0][:-10].reshape(sq, sq)\n",
    "    scores = data_array[0][-10:]\n",
    "    \n",
    "    explain_data = mldb.query(\"\"\"\n",
    "        SELECT \n",
    "            mnist_explainer({\n",
    "                label: %(digit)d,\n",
    "                features: {* EXCLUDING(label)}\n",
    "            })[explanation] AS *\n",
    "        FROM digits_mnist \n",
    "        WHERE label = %(digit)d AND rowHash() %% 5 = 0\n",
    "        LIMIT 1\n",
    "        OFFSET %(offset)d\n",
    "    \"\"\" % {\"digit\": digit, \"offset\": offset})\n",
    "        \n",
    "    explain_img = rgb_explain(explain_data)\n",
    "    \n",
    "    fig = plt.figure(figsize=(8, 8))\n",
    "    \n",
    "    # plot digit image\n",
    "    ax1 = plt.subplot2grid((4, 4), (0, 0), colspan=2, rowspan = 2)\n",
    "    ax1.imshow(rand_test_img)\n",
    "    ax1.set_title(\"Fig1: You chose the digit below\", fontsize=12, fontweight='bold')\n",
    "    \n",
    "    # plot explain matrix\n",
    "    ax2 = plt.subplot2grid((4, 4), (0, 2), colspan=2, rowspan = 2)\n",
    "    ax2.imshow(explain_img)\n",
    "    ax2.set_title(\"Fig2: Explain matrix picture of digit %d\" %digit, fontsize=12, fontweight='bold')\n",
    "    \n",
    "    # plot scores\n",
    "    ax3 = plt.subplot2grid((4, 4), (2, 0), colspan=4, rowspan = 2)\n",
    "    greater_than_zero = scores >= 0\n",
    "    lesser_than_zero = scores < 0\n",
    "    ax3.barh(np.arange(len(scores))[greater_than_zero]-0.5, scores[greater_than_zero], color='#87CEFA', height=1)\n",
    "    ax3.barh(np.arange(len(scores))[lesser_than_zero]-0.5, scores[lesser_than_zero], color='#E6E6FA', height=1)\n",
    "    ax3.grid()\n",
    "    ax3.yaxis.set_ticks(np.arange(0, 10, 1))\n",
    "    ax3.yaxis.set_ticks_position('right')\n",
    "    ax3.set_title(\"Fig3: Scores for each number - the number with the highest score wins!\", fontsize=12, fontweight='bold')\n",
    "    ax3.set_ylabel(\"Digits\")\n",
    "    ax3.yaxis.set_label_position('right')\n",
    "    ax3.set_xlabel(\"Scores\")\n",
    "    \n",
    "    plt.tight_layout()\n",
    "    plt.show()\n",
    "    "
   ]
  },
  {
   "cell_type": "markdown",
   "metadata": {},
   "source": [
    "In the representation of the explain matrix (figure 3), the green pixels help increase the score while the red pixels help decrease the score of the chosen digit. The explain matrix will tell us something about the pixels deemed most important. For example, if nothing was drawn in the top left corner of the picture during training, no information will be provided on the top left set of pixels in the explain matrix. During training, if a pixel is not part of the classification rules (i.e. not on any leaf), that pixel will not show up in the explain matrix."
   ]
  },
  {
   "cell_type": "markdown",
   "metadata": {},
   "source": [
    "# Making a simple web app using MLDB plug-in functionality\n",
    "\n",
    "With an MLDB plugin, we can extend functionality that we have seen so far. For more information, check out the on [plugins](../../../../doc/#builtin/plugins/Plugins.md.html)"
   ]
  },
  {
   "cell_type": "code",
   "execution_count": 739,
   "metadata": {
    "collapsed": false,
    "scrolled": true
   },
   "outputs": [
    {
     "data": {
      "text/html": [
       "<strong>PUT http://localhost/v1/plugins/my_pluginster</strong><br /><strong style=\"color: green;\">201 Created</strong><br /> <div class=\"highlight\"><pre style=\"line-height: 125%\"><span></span>{\n",
       "  <span style=\"color: #333333; font-weight: bold\">&quot;config&quot;</span>: {\n",
       "    <span style=\"color: #333333; font-weight: bold\">&quot;params&quot;</span>: {\n",
       "      <span style=\"color: #333333; font-weight: bold\">&quot;address&quot;</span>: <span style=\"color: #0000dd\">&quot;file:///mldb_data/do_you_knowwwwwzer_buster&quot;</span>\n",
       "    }, \n",
       "    <span style=\"color: #333333; font-weight: bold\">&quot;type&quot;</span>: <span style=\"color: #0000dd\">&quot;python&quot;</span>, \n",
       "    <span style=\"color: #333333; font-weight: bold\">&quot;id&quot;</span>: <span style=\"color: #0000dd\">&quot;my_pluginster&quot;</span>\n",
       "  }, \n",
       "  <span style=\"color: #333333; font-weight: bold\">&quot;state&quot;</span>: <span style=\"color: #0000dd\">&quot;ok&quot;</span>, \n",
       "  <span style=\"color: #333333; font-weight: bold\">&quot;type&quot;</span>: <span style=\"color: #0000dd\">&quot;python&quot;</span>, \n",
       "  <span style=\"color: #333333; font-weight: bold\">&quot;id&quot;</span>: <span style=\"color: #0000dd\">&quot;my_pluginster&quot;</span>\n",
       "}\n",
       "</pre></div>\n"
      ],
      "text/plain": [
       "<Response [201]>"
      ]
     },
     "execution_count": 739,
     "metadata": {},
     "output_type": "execute_result"
    }
   ],
   "source": [
    "mldb.put(\"/v1/plugins/my_pluginster\", {\n",
    "    \"type\": \"python\",\n",
    "    \"params\": {\n",
    "        \"address\": \"file:///mldb_data/do_you_knowwwwwzer_buster\"\n",
    "    }\n",
    "})"
   ]
  },
  {
   "cell_type": "markdown",
   "metadata": {
    "collapsed": false
   },
   "source": [
    "Now you can browse to [the plugin UI](../../../../v1/plugins/my_pluginster/routes/static/index.html).\n",
    "\n",
    "NOTE: this only works if you're running this Notebook live, not if you're looking at a static copy on http://docs.mldb.ai. See the documentation for [Running MLDB](../../../../doc/#builtin/Running.md.html)."
   ]
  },
  {
   "cell_type": "markdown",
   "metadata": {
    "collapsed": true
   },
   "source": [
    "## Where to next?\n",
    "\n",
    "If you are interested in building your own custom image manipulation algorithms, you can click [here](../../../../ipy/notebooks/_demos/Convolutions%20using%20SQL%20and%20javascript.ipynb) to jump to the Convolution Demo. Otherwise, check out the other [Tutorials and Demos](../../../../doc/#builtin/Demos.md.html)."
   ]
  }
 ],
 "metadata": {
  "kernelspec": {
   "display_name": "Python 2",
   "language": "python",
   "name": "python2"
  },
  "language_info": {
   "codemirror_mode": {
    "name": "ipython",
    "version": 2
   },
   "file_extension": ".py",
   "mimetype": "text/x-python",
   "name": "python",
   "nbconvert_exporter": "python",
   "pygments_lexer": "ipython2",
   "version": "2.7.6"
  }
 },
 "nbformat": 4,
 "nbformat_minor": 0
}
