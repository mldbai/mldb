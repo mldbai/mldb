{
 "cells": [
  {
   "cell_type": "markdown",
   "metadata": {},
   "source": [
    "# Mapping Press Releases in the 2015 Canadian Federal Election using word2vec and t-SNE"
   ]
  },
  {
   "cell_type": "markdown",
   "metadata": {},
   "source": [
    "The 2015 Canadian federal election was a long one (by Canadian standards anyway!). It generated a lot of press and we thought it would be a great opportunity to collect and play with that data.\n",
    "\n",
    "Each party has a different view on what is important to move Canada forward. This has the effect of centering their official message around certain themes. The question we asked is: can we find patterns in the words used in each party’s press releases? Do some deal more with certain themes than others? Can we gain insights into their communication strategies?\n",
    "\n",
    "This demo is based on a [blog post by François Maillet][1] from right after the campaign.\n",
    "\n",
    "[1]: http://blog.mldb.ai/blog/posts/2015/10/election2015/"
   ]
  },
  {
   "cell_type": "code",
   "execution_count": 1,
   "metadata": {
    "collapsed": true
   },
   "outputs": [],
   "source": [
    "from pymldb import Connection\n",
    "mldb = Connection()"
   ]
  },
  {
   "cell_type": "markdown",
   "metadata": {},
   "source": [
    "## Importing the data"
   ]
  },
  {
   "cell_type": "markdown",
   "metadata": {
    "collapsed": true
   },
   "source": [
    "We wrote a small scraper using the [scrapy Python library](http://scrapy.org/). We scraped the press releases of the NDP, the Liberals, the Green Party and the Conservatives. The resulting data was save in a CSV file with one press release per line."
   ]
  },
  {
   "cell_type": "code",
   "execution_count": 2,
   "metadata": {
    "collapsed": false
   },
   "outputs": [
    {
     "name": "stdout",
     "output_type": "stream",
     "text": [
      "<Response [201]>\n"
     ]
    }
   ],
   "source": [
    "print mldb.post('/v1/procedures', {\n",
    "    'type': 'import.text',\n",
    "    'params': {\n",
    "        'dataFileUrl': 'http://public.mldb.ai/datasets/press_releases/data.csv.gz',\n",
    "        'outputDataset': {'type': 'sparse.mutable', \n",
    "                          'id':'raw'},\n",
    "        'named': \"'pr' + lineNumber()\",\n",
    "        'ignoreBadLines': True,\n",
    "        'where': \"TIMESTAMP date > TIMESTAMP '2015-08-04'\",\n",
    "        'runOnCreation': True\n",
    "        }\n",
    "    })"
   ]
  },
  {
   "cell_type": "markdown",
   "metadata": {},
   "source": [
    "Here is what the raw data look like."
   ]
  },
  {
   "cell_type": "code",
   "execution_count": 3,
   "metadata": {
    "collapsed": false
   },
   "outputs": [
    {
     "data": {
      "text/html": [
       "<div>\n",
       "<table border=\"1\" class=\"dataframe\">\n",
       "  <thead>\n",
       "    <tr style=\"text-align: right;\">\n",
       "      <th></th>\n",
       "      <th>date</th>\n",
       "      <th>full_text</th>\n",
       "      <th>link</th>\n",
       "      <th>party</th>\n",
       "      <th>title</th>\n",
       "    </tr>\n",
       "    <tr>\n",
       "      <th>_rowName</th>\n",
       "      <th></th>\n",
       "      <th></th>\n",
       "      <th></th>\n",
       "      <th></th>\n",
       "      <th></th>\n",
       "    </tr>\n",
       "  </thead>\n",
       "  <tbody>\n",
       "    <tr>\n",
       "      <th>pr1142</th>\n",
       "      <td>2015-08-21T00:00:00</td>\n",
       "      <td>VANCOUVER  Liberal candidate for Vancouver Cen...</td>\n",
       "      <td>https://www.liberal.ca/harper-isnt-fooling-any...</td>\n",
       "      <td>liberal</td>\n",
       "      <td>Harper isn't fooling anyone on fisheries prote...</td>\n",
       "    </tr>\n",
       "    <tr>\n",
       "      <th>pr1140</th>\n",
       "      <td>2015-08-22T00:00:00</td>\n",
       "      <td>OTTAWA  The Leader of the Liberal Party of Can...</td>\n",
       "      <td>https://www.liberal.ca/letter-to-the-premier-o...</td>\n",
       "      <td>liberal</td>\n",
       "      <td>Letter to the Premier of Quebec from Liberal P...</td>\n",
       "    </tr>\n",
       "    <tr>\n",
       "      <th>pr1139</th>\n",
       "      <td>2015-08-21T00:00:00</td>\n",
       "      <td>Yesterday  Justin Trudeau announced that a Lib...</td>\n",
       "      <td>https://www.liberal.ca/liberal-plan-for-caregi...</td>\n",
       "      <td>liberal</td>\n",
       "      <td>Liberal plan for caregivers met with positive ...</td>\n",
       "    </tr>\n",
       "    <tr>\n",
       "      <th>pr1138</th>\n",
       "      <td>2015-08-21T00:00:00</td>\n",
       "      <td>OTTAWA  During week three on the campaign trai...</td>\n",
       "      <td>https://www.liberal.ca/week-three-liberals-ann...</td>\n",
       "      <td>liberal</td>\n",
       "      <td>Week three: Liberals announce new measures to ...</td>\n",
       "    </tr>\n",
       "    <tr>\n",
       "      <th>pr1136</th>\n",
       "      <td>2015-08-20T00:00:00</td>\n",
       "      <td>VANCOUVER  Thomas Mulcair talks a good game ab...</td>\n",
       "      <td>https://www.liberal.ca/mulcairs-child-care-mir...</td>\n",
       "      <td>liberal</td>\n",
       "      <td>Mulcair's child care mirage won't help B.C. fa...</td>\n",
       "    </tr>\n",
       "  </tbody>\n",
       "</table>\n",
       "</div>"
      ],
      "text/plain": [
       "                         date  \\\n",
       "_rowName                        \n",
       "pr1142    2015-08-21T00:00:00   \n",
       "pr1140    2015-08-22T00:00:00   \n",
       "pr1139    2015-08-21T00:00:00   \n",
       "pr1138    2015-08-21T00:00:00   \n",
       "pr1136    2015-08-20T00:00:00   \n",
       "\n",
       "                                                  full_text  \\\n",
       "_rowName                                                      \n",
       "pr1142    VANCOUVER  Liberal candidate for Vancouver Cen...   \n",
       "pr1140    OTTAWA  The Leader of the Liberal Party of Can...   \n",
       "pr1139    Yesterday  Justin Trudeau announced that a Lib...   \n",
       "pr1138    OTTAWA  During week three on the campaign trai...   \n",
       "pr1136    VANCOUVER  Thomas Mulcair talks a good game ab...   \n",
       "\n",
       "                                                       link    party  \\\n",
       "_rowName                                                               \n",
       "pr1142    https://www.liberal.ca/harper-isnt-fooling-any...  liberal   \n",
       "pr1140    https://www.liberal.ca/letter-to-the-premier-o...  liberal   \n",
       "pr1139    https://www.liberal.ca/liberal-plan-for-caregi...  liberal   \n",
       "pr1138    https://www.liberal.ca/week-three-liberals-ann...  liberal   \n",
       "pr1136    https://www.liberal.ca/mulcairs-child-care-mir...  liberal   \n",
       "\n",
       "                                                      title  \n",
       "_rowName                                                     \n",
       "pr1142    Harper isn't fooling anyone on fisheries prote...  \n",
       "pr1140    Letter to the Premier of Quebec from Liberal P...  \n",
       "pr1139    Liberal plan for caregivers met with positive ...  \n",
       "pr1138    Week three: Liberals announce new measures to ...  \n",
       "pr1136    Mulcair's child care mirage won't help B.C. fa...  "
      ]
     },
     "execution_count": 3,
     "metadata": {},
     "output_type": "execute_result"
    }
   ],
   "source": [
    "mldb.query('SELECT * FROM raw LIMIT 5')"
   ]
  },
  {
   "cell_type": "markdown",
   "metadata": {},
   "source": [
    "## Exploring the data"
   ]
  },
  {
   "cell_type": "markdown",
   "metadata": {},
   "source": [
    "Interested in knowing which parties have had the more press releases during the campaing? Easy!"
   ]
  },
  {
   "cell_type": "code",
   "execution_count": 4,
   "metadata": {
    "collapsed": false
   },
   "outputs": [
    {
     "data": {
      "text/html": [
       "<div>\n",
       "<table border=\"1\" class=\"dataframe\">\n",
       "  <thead>\n",
       "    <tr style=\"text-align: right;\">\n",
       "      <th></th>\n",
       "      <th>count</th>\n",
       "    </tr>\n",
       "    <tr>\n",
       "      <th>_rowName</th>\n",
       "      <th></th>\n",
       "    </tr>\n",
       "  </thead>\n",
       "  <tbody>\n",
       "    <tr>\n",
       "      <th>liberal</th>\n",
       "      <td>283</td>\n",
       "    </tr>\n",
       "    <tr>\n",
       "      <th>ndp</th>\n",
       "      <td>156</td>\n",
       "    </tr>\n",
       "    <tr>\n",
       "      <th>conservative</th>\n",
       "      <td>101</td>\n",
       "    </tr>\n",
       "    <tr>\n",
       "      <th>green</th>\n",
       "      <td>89</td>\n",
       "    </tr>\n",
       "  </tbody>\n",
       "</table>\n",
       "</div>"
      ],
      "text/plain": [
       "              count\n",
       "_rowName           \n",
       "liberal         283\n",
       "ndp             156\n",
       "conservative    101\n",
       "green            89"
      ]
     },
     "execution_count": 4,
     "metadata": {},
     "output_type": "execute_result"
    }
   ],
   "source": [
    "mldb.query(\"\"\"\n",
    "SELECT count(*) as count\n",
    "NAMED party\n",
    "FROM raw \n",
    "GROUP BY party\n",
    "ORDER BY count DESC\n",
    "\"\"\")"
   ]
  },
  {
   "cell_type": "markdown",
   "metadata": {},
   "source": [
    "Before continuing, we will create a dataset of dummy articles that are in fact recurring themes we have observed in the data. We will add those to the data to see where they map on the final plot."
   ]
  },
  {
   "cell_type": "code",
   "execution_count": 5,
   "metadata": {
    "collapsed": false
   },
   "outputs": [
    {
     "name": "stdout",
     "output_type": "stream",
     "text": [
      "<Response [201]>\n"
     ]
    }
   ],
   "source": [
    "print mldb.post('/v1/procedures', {\n",
    "    'type': 'transform',\n",
    "    'params': {\n",
    "        'inputData': \"\"\"\n",
    "        SELECT\n",
    "            column AS full_text,\n",
    "            column AS title,\n",
    "            'keyword' AS party\n",
    "        NAMED 'kw' + rowName()\n",
    "        FROM (SELECT * FROM row_dataset({\n",
    "            \"Justin Trudeau\": 1,\n",
    "            \"middle class\": 1,\n",
    "            \"syrian refugees\": 1,\n",
    "            \"terrorism\": 1,\n",
    "            \"infrastructures\": 1,\n",
    "            \"health\": 1,\n",
    "            \"crime\": 1,\n",
    "            \"jobs\": 1,\n",
    "            \"education\": 1,\n",
    "            \"oil\": 1,\n",
    "            \"deficit\":1,\n",
    "            \"youth\": 1,\n",
    "            \"holidays\": 1,\n",
    "            \"scandal\": 1,\n",
    "            \"tax cuts\": 1,\n",
    "            \"first nations\": 1,\n",
    "            \"debate\": 1,\n",
    "            \"small businesses\": 1,\n",
    "            \"military\": 1\n",
    "            \n",
    "        }))\n",
    "        \"\"\",\n",
    "        'outputDataset': 'keywords',\n",
    "        'runOnCreation': True\n",
    "    }\n",
    "})"
   ]
  },
  {
   "cell_type": "markdown",
   "metadata": {},
   "source": [
    "And here is what that fancy API call built"
   ]
  },
  {
   "cell_type": "code",
   "execution_count": 6,
   "metadata": {
    "collapsed": false
   },
   "outputs": [
    {
     "data": {
      "text/html": [
       "<div>\n",
       "<table border=\"1\" class=\"dataframe\">\n",
       "  <thead>\n",
       "    <tr style=\"text-align: right;\">\n",
       "      <th></th>\n",
       "      <th>full_text</th>\n",
       "      <th>party</th>\n",
       "      <th>title</th>\n",
       "    </tr>\n",
       "    <tr>\n",
       "      <th>_rowName</th>\n",
       "      <th></th>\n",
       "      <th></th>\n",
       "      <th></th>\n",
       "    </tr>\n",
       "  </thead>\n",
       "  <tbody>\n",
       "    <tr>\n",
       "      <th>kw0</th>\n",
       "      <td>Justin Trudeau</td>\n",
       "      <td>keyword</td>\n",
       "      <td>Justin Trudeau</td>\n",
       "    </tr>\n",
       "    <tr>\n",
       "      <th>kw13</th>\n",
       "      <td>scandal</td>\n",
       "      <td>keyword</td>\n",
       "      <td>scandal</td>\n",
       "    </tr>\n",
       "    <tr>\n",
       "      <th>kw15</th>\n",
       "      <td>syrian refugees</td>\n",
       "      <td>keyword</td>\n",
       "      <td>syrian refugees</td>\n",
       "    </tr>\n",
       "    <tr>\n",
       "      <th>kw16</th>\n",
       "      <td>tax cuts</td>\n",
       "      <td>keyword</td>\n",
       "      <td>tax cuts</td>\n",
       "    </tr>\n",
       "    <tr>\n",
       "      <th>kw17</th>\n",
       "      <td>terrorism</td>\n",
       "      <td>keyword</td>\n",
       "      <td>terrorism</td>\n",
       "    </tr>\n",
       "  </tbody>\n",
       "</table>\n",
       "</div>"
      ],
      "text/plain": [
       "                full_text    party            title\n",
       "_rowName                                           \n",
       "kw0        Justin Trudeau  keyword   Justin Trudeau\n",
       "kw13              scandal  keyword          scandal\n",
       "kw15      syrian refugees  keyword  syrian refugees\n",
       "kw16             tax cuts  keyword         tax cuts\n",
       "kw17            terrorism  keyword        terrorism"
      ]
     },
     "execution_count": 6,
     "metadata": {},
     "output_type": "execute_result"
    }
   ],
   "source": [
    "mldb.query('SELECT * FROM keywords LIMIT 5')"
   ]
  },
  {
   "cell_type": "markdown",
   "metadata": {},
   "source": [
    "## Creating bags of words\n",
    "\n",
    "The next step is to take the `full_text` column and tokenize its contents. We do this because we will need to compare press releases using their content word by word.\n",
    "\n",
    "The [`tokenize`](../../../../doc/#builtin/sql/ValueExpression.md.html#builtinfunctions) function first splits the columns into (lowercased) individual words, removing words with a length of less than 3 characters. We then remove a list of [stopwords](../../../../doc/#builtin/functions/FilterStopWords.md.html) (such as \"and\", \"to\", \"the\", etc.).\n",
    "\n",
    "We do this on the [`merge`d](../../../../doc/#builtin/sql/FromExpression.md.html) dataset comprised of the press releases and of our keywords."
   ]
  },
  {
   "cell_type": "code",
   "execution_count": 7,
   "metadata": {
    "collapsed": false
   },
   "outputs": [
    {
     "name": "stdout",
     "output_type": "stream",
     "text": [
      "<Response [201]>\n",
      "<Response [201]>\n"
     ]
    }
   ],
   "source": [
    "print mldb.put('/v1/functions/filter_stopwords', {\n",
    "    'type': 'filter_stopwords'\n",
    "})\n",
    "\n",
    "print mldb.post('/v1/procedures', {\n",
    "    'type': 'transform',\n",
    "    'params': {\n",
    "        'inputData': \"\"\"\n",
    "            SELECT\n",
    "                filter_stopwords({\n",
    "                    words: {\n",
    "                        tokenize(\n",
    "                            lower(full_text),\n",
    "                            {splitChars: ' -''\"?!;:/[]*,.',\n",
    "                             minTokenLength: 3}\n",
    "                        ) as *\n",
    "                    }\n",
    "                })[words] as *\n",
    "            FROM merge(raw, keywords)\n",
    "            WHERE party = 'keyword'\n",
    "                           OR (full_text IS NOT NULL\n",
    "                               AND title IS NOT NULL)\n",
    "            \"\"\",\n",
    "        'outputDataset': 'bag_of_words',\n",
    "        'runOnCreation': True\n",
    "    }\n",
    "})"
   ]
  },
  {
   "cell_type": "markdown",
   "metadata": {},
   "source": [
    "The result is a clean list of words that will be easy to compare across press releases. Cells that contain a number represent the number of times that word was in the press release while cells containing `NaN` indicate that the press release did not contain the given word. Because MLDB supports sparse datasets, it is more efficient to simply not record anything when a word is not in a press release, rather than write an explicit \"0\" in the dataset."
   ]
  },
  {
   "cell_type": "code",
   "execution_count": 8,
   "metadata": {
    "collapsed": false,
    "scrolled": true
   },
   "outputs": [
    {
     "data": {
      "text/html": [
       "<div>\n",
       "<table border=\"1\" class=\"dataframe\">\n",
       "  <thead>\n",
       "    <tr style=\"text-align: right;\">\n",
       "      <th></th>\n",
       "      <th>2014</th>\n",
       "      <th>2015</th>\n",
       "      <th>announced</th>\n",
       "      <th>balanced</th>\n",
       "      <th>believable</th>\n",
       "      <th>billions</th>\n",
       "      <th>burden</th>\n",
       "      <th>called</th>\n",
       "      <th>canadians</th>\n",
       "      <th>chosen</th>\n",
       "      <th>...</th>\n",
       "      <th>reducing</th>\n",
       "      <th>released</th>\n",
       "      <th>share</th>\n",
       "      <th>smaller</th>\n",
       "      <th>starts</th>\n",
       "      <th>stephen</th>\n",
       "      <th>targeted</th>\n",
       "      <th>ten</th>\n",
       "      <th>years</th>\n",
       "      <th>yesterday</th>\n",
       "    </tr>\n",
       "    <tr>\n",
       "      <th>_rowName</th>\n",
       "      <th></th>\n",
       "      <th></th>\n",
       "      <th></th>\n",
       "      <th></th>\n",
       "      <th></th>\n",
       "      <th></th>\n",
       "      <th></th>\n",
       "      <th></th>\n",
       "      <th></th>\n",
       "      <th></th>\n",
       "      <th></th>\n",
       "      <th></th>\n",
       "      <th></th>\n",
       "      <th></th>\n",
       "      <th></th>\n",
       "      <th></th>\n",
       "      <th></th>\n",
       "      <th></th>\n",
       "      <th></th>\n",
       "      <th></th>\n",
       "      <th></th>\n",
       "    </tr>\n",
       "  </thead>\n",
       "  <tbody>\n",
       "    <tr>\n",
       "      <th>pr324</th>\n",
       "      <td>1</td>\n",
       "      <td>2</td>\n",
       "      <td>1</td>\n",
       "      <td>1</td>\n",
       "      <td>1</td>\n",
       "      <td>1</td>\n",
       "      <td>1</td>\n",
       "      <td>1</td>\n",
       "      <td>1</td>\n",
       "      <td>1</td>\n",
       "      <td>...</td>\n",
       "      <td>NaN</td>\n",
       "      <td>NaN</td>\n",
       "      <td>NaN</td>\n",
       "      <td>NaN</td>\n",
       "      <td>NaN</td>\n",
       "      <td>NaN</td>\n",
       "      <td>NaN</td>\n",
       "      <td>NaN</td>\n",
       "      <td>NaN</td>\n",
       "      <td>NaN</td>\n",
       "    </tr>\n",
       "    <tr>\n",
       "      <th>kw17</th>\n",
       "      <td>NaN</td>\n",
       "      <td>NaN</td>\n",
       "      <td>NaN</td>\n",
       "      <td>NaN</td>\n",
       "      <td>NaN</td>\n",
       "      <td>NaN</td>\n",
       "      <td>NaN</td>\n",
       "      <td>NaN</td>\n",
       "      <td>NaN</td>\n",
       "      <td>NaN</td>\n",
       "      <td>...</td>\n",
       "      <td>NaN</td>\n",
       "      <td>NaN</td>\n",
       "      <td>NaN</td>\n",
       "      <td>NaN</td>\n",
       "      <td>NaN</td>\n",
       "      <td>NaN</td>\n",
       "      <td>NaN</td>\n",
       "      <td>NaN</td>\n",
       "      <td>NaN</td>\n",
       "      <td>NaN</td>\n",
       "    </tr>\n",
       "    <tr>\n",
       "      <th>pr1136</th>\n",
       "      <td>NaN</td>\n",
       "      <td>NaN</td>\n",
       "      <td>NaN</td>\n",
       "      <td>NaN</td>\n",
       "      <td>NaN</td>\n",
       "      <td>1</td>\n",
       "      <td>NaN</td>\n",
       "      <td>NaN</td>\n",
       "      <td>1</td>\n",
       "      <td>NaN</td>\n",
       "      <td>...</td>\n",
       "      <td>NaN</td>\n",
       "      <td>NaN</td>\n",
       "      <td>NaN</td>\n",
       "      <td>NaN</td>\n",
       "      <td>NaN</td>\n",
       "      <td>NaN</td>\n",
       "      <td>NaN</td>\n",
       "      <td>NaN</td>\n",
       "      <td>NaN</td>\n",
       "      <td>NaN</td>\n",
       "    </tr>\n",
       "    <tr>\n",
       "      <th>pr931</th>\n",
       "      <td>NaN</td>\n",
       "      <td>NaN</td>\n",
       "      <td>NaN</td>\n",
       "      <td>NaN</td>\n",
       "      <td>NaN</td>\n",
       "      <td>NaN</td>\n",
       "      <td>NaN</td>\n",
       "      <td>NaN</td>\n",
       "      <td>NaN</td>\n",
       "      <td>NaN</td>\n",
       "      <td>...</td>\n",
       "      <td>NaN</td>\n",
       "      <td>NaN</td>\n",
       "      <td>NaN</td>\n",
       "      <td>NaN</td>\n",
       "      <td>NaN</td>\n",
       "      <td>NaN</td>\n",
       "      <td>NaN</td>\n",
       "      <td>NaN</td>\n",
       "      <td>NaN</td>\n",
       "      <td>NaN</td>\n",
       "    </tr>\n",
       "    <tr>\n",
       "      <th>pr334</th>\n",
       "      <td>NaN</td>\n",
       "      <td>NaN</td>\n",
       "      <td>NaN</td>\n",
       "      <td>2</td>\n",
       "      <td>NaN</td>\n",
       "      <td>NaN</td>\n",
       "      <td>NaN</td>\n",
       "      <td>NaN</td>\n",
       "      <td>1</td>\n",
       "      <td>NaN</td>\n",
       "      <td>...</td>\n",
       "      <td>1</td>\n",
       "      <td>1</td>\n",
       "      <td>1</td>\n",
       "      <td>1</td>\n",
       "      <td>1</td>\n",
       "      <td>2</td>\n",
       "      <td>1</td>\n",
       "      <td>1</td>\n",
       "      <td>1</td>\n",
       "      <td>2</td>\n",
       "    </tr>\n",
       "  </tbody>\n",
       "</table>\n",
       "<p>5 rows × 210 columns</p>\n",
       "</div>"
      ],
      "text/plain": [
       "          2014  2015  announced  balanced  believable  billions  burden  \\\n",
       "_rowName                                                                  \n",
       "pr324        1     2          1         1           1         1       1   \n",
       "kw17       NaN   NaN        NaN       NaN         NaN       NaN     NaN   \n",
       "pr1136     NaN   NaN        NaN       NaN         NaN         1     NaN   \n",
       "pr931      NaN   NaN        NaN       NaN         NaN       NaN     NaN   \n",
       "pr334      NaN   NaN        NaN         2         NaN       NaN     NaN   \n",
       "\n",
       "          called  canadians  chosen    ...      reducing  released  share  \\\n",
       "_rowName                               ...                                  \n",
       "pr324          1          1       1    ...           NaN       NaN    NaN   \n",
       "kw17         NaN        NaN     NaN    ...           NaN       NaN    NaN   \n",
       "pr1136       NaN          1     NaN    ...           NaN       NaN    NaN   \n",
       "pr931        NaN        NaN     NaN    ...           NaN       NaN    NaN   \n",
       "pr334        NaN          1     NaN    ...             1         1      1   \n",
       "\n",
       "          smaller  starts  stephen  targeted  ten  years  yesterday  \n",
       "_rowName                                                             \n",
       "pr324         NaN     NaN      NaN       NaN  NaN    NaN        NaN  \n",
       "kw17          NaN     NaN      NaN       NaN  NaN    NaN        NaN  \n",
       "pr1136        NaN     NaN      NaN       NaN  NaN    NaN        NaN  \n",
       "pr931         NaN     NaN      NaN       NaN  NaN    NaN        NaN  \n",
       "pr334           1       1        2         1    1      1          2  \n",
       "\n",
       "[5 rows x 210 columns]"
      ]
     },
     "execution_count": 8,
     "metadata": {},
     "output_type": "execute_result"
    }
   ],
   "source": [
    "mldb.query(\"SELECT * FROM bag_of_words LIMIT 5\")"
   ]
  },
  {
   "cell_type": "markdown",
   "metadata": {},
   "source": [
    "We can easily answer some questions from that new dataset with simple queries, like what are the most common words in our press releases."
   ]
  },
  {
   "cell_type": "code",
   "execution_count": 9,
   "metadata": {
    "collapsed": false
   },
   "outputs": [
    {
     "data": {
      "text/plain": [
       "<matplotlib.axes._subplots.AxesSubplot at 0x7fb273ed1050>"
      ]
     },
     "execution_count": 9,
     "metadata": {},
     "output_type": "execute_result"
    },
    {
     "data": {
      "image/png": "[encoded data removed]",
      "text/plain": [
       "<matplotlib.figure.Figure at 0x7fb273f25f90>"
      ]
     },
     "metadata": {},
     "output_type": "display_data"
    }
   ],
   "source": [
    "%matplotlib inline\n",
    "mldb.query(\"\"\"\n",
    "SELECT *\n",
    "FROM transpose((\n",
    "    SELECT sum({*}) as *\n",
    "    NAMED 'nb_occurrences'\n",
    "    FROM bag_of_words\n",
    "    WHERE rowName() NOT LIKE 'kw%' -- ignoring the keyword rows we added\n",
    "))\n",
    "ORDER BY nb_occurrences DESC\n",
    "LIMIT 20\n",
    "\"\"\").sort_values('nb_occurrences', ascending=True).plot(kind='barh', figsize=(15,6))"
   ]
  },
  {
   "cell_type": "markdown",
   "metadata": {
    "collapsed": true
   },
   "source": [
    "## Use word2vec to embed our bag of words"
   ]
  },
  {
   "cell_type": "markdown",
   "metadata": {
    "collapsed": true
   },
   "source": [
    "The [word2vec tool](http://arxiv.org/pdf/1301.3781v3.pdf) is used to embed words into a high dimensional space. Concretely, this means that we can map words into a 300-dimensions space in which \"similar\" words will be close, and \"dissimilar\" words will be far away.\n",
    "\n",
    "You can obtain the trained word2vec embedding [here](https://code.google.com/p/word2vec). Since the original data is quite big, and we really just need a small subset of it (the coordinates for the words that actually appear in our press releases), we are going to load only that portion, that we have extracted beforehand."
   ]
  },
  {
   "cell_type": "markdown",
   "metadata": {},
   "source": [
    "### Load (a subset of) the trained word2vec data"
   ]
  },
  {
   "cell_type": "code",
   "execution_count": 10,
   "metadata": {
    "collapsed": false
   },
   "outputs": [
    {
     "name": "stdout",
     "output_type": "stream",
     "text": [
      "<Response [201]>\n"
     ]
    }
   ],
   "source": [
    "print mldb.post('/v1/procedures', {\n",
    "    'type': 'import.text',\n",
    "    'params': {\n",
    "        'dataFileUrl': 'http://public.mldb.ai/datasets/press_releases/GoogleNewsEmbedding_ElectionsDemo.csv.gz',\n",
    "        'outputDataset': 'w2v',\n",
    "        'select': '* EXCLUDING(word)',\n",
    "        'named': 'word',\n",
    "        'runOnCreation': True\n",
    "    }\n",
    "})"
   ]
  },
  {
   "cell_type": "markdown",
   "metadata": {},
   "source": [
    "Here is what it looks like."
   ]
  },
  {
   "cell_type": "code",
   "execution_count": 11,
   "metadata": {
    "collapsed": false
   },
   "outputs": [
    {
     "data": {
      "text/html": [
       "<div>\n",
       "<table border=\"1\" class=\"dataframe\">\n",
       "  <thead>\n",
       "    <tr style=\"text-align: right;\">\n",
       "      <th></th>\n",
       "      <th>0</th>\n",
       "      <th>1</th>\n",
       "      <th>2</th>\n",
       "      <th>3</th>\n",
       "      <th>4</th>\n",
       "      <th>5</th>\n",
       "      <th>6</th>\n",
       "      <th>7</th>\n",
       "      <th>8</th>\n",
       "      <th>9</th>\n",
       "      <th>...</th>\n",
       "      <th>290</th>\n",
       "      <th>291</th>\n",
       "      <th>292</th>\n",
       "      <th>293</th>\n",
       "      <th>294</th>\n",
       "      <th>295</th>\n",
       "      <th>296</th>\n",
       "      <th>297</th>\n",
       "      <th>298</th>\n",
       "      <th>299</th>\n",
       "    </tr>\n",
       "    <tr>\n",
       "      <th>_rowName</th>\n",
       "      <th></th>\n",
       "      <th></th>\n",
       "      <th></th>\n",
       "      <th></th>\n",
       "      <th></th>\n",
       "      <th></th>\n",
       "      <th></th>\n",
       "      <th></th>\n",
       "      <th></th>\n",
       "      <th></th>\n",
       "      <th></th>\n",
       "      <th></th>\n",
       "      <th></th>\n",
       "      <th></th>\n",
       "      <th></th>\n",
       "      <th></th>\n",
       "      <th></th>\n",
       "      <th></th>\n",
       "      <th></th>\n",
       "      <th></th>\n",
       "      <th></th>\n",
       "    </tr>\n",
       "  </thead>\n",
       "  <tbody>\n",
       "    <tr>\n",
       "      <th>preoccupied</th>\n",
       "      <td>0.527344</td>\n",
       "      <td>0.333984</td>\n",
       "      <td>-0.080078</td>\n",
       "      <td>0.102539</td>\n",
       "      <td>-0.369141</td>\n",
       "      <td>0.386719</td>\n",
       "      <td>0.339844</td>\n",
       "      <td>-0.247070</td>\n",
       "      <td>0.128906</td>\n",
       "      <td>-0.142578</td>\n",
       "      <td>...</td>\n",
       "      <td>-0.145508</td>\n",
       "      <td>-0.083984</td>\n",
       "      <td>0.154297</td>\n",
       "      <td>0.008606</td>\n",
       "      <td>-0.365234</td>\n",
       "      <td>-0.189453</td>\n",
       "      <td>-0.036621</td>\n",
       "      <td>0.010315</td>\n",
       "      <td>0.141602</td>\n",
       "      <td>0.194336</td>\n",
       "    </tr>\n",
       "    <tr>\n",
       "      <th>prepare</th>\n",
       "      <td>-0.143555</td>\n",
       "      <td>0.216797</td>\n",
       "      <td>0.013916</td>\n",
       "      <td>-0.241211</td>\n",
       "      <td>0.034180</td>\n",
       "      <td>0.084961</td>\n",
       "      <td>-0.206055</td>\n",
       "      <td>-0.014343</td>\n",
       "      <td>0.025635</td>\n",
       "      <td>-0.162109</td>\n",
       "      <td>...</td>\n",
       "      <td>-0.324219</td>\n",
       "      <td>-0.201172</td>\n",
       "      <td>-0.298828</td>\n",
       "      <td>0.063965</td>\n",
       "      <td>-0.032715</td>\n",
       "      <td>-0.108398</td>\n",
       "      <td>-0.143555</td>\n",
       "      <td>-0.046631</td>\n",
       "      <td>0.042480</td>\n",
       "      <td>-0.018066</td>\n",
       "    </tr>\n",
       "    <tr>\n",
       "      <th>prepared</th>\n",
       "      <td>-0.132812</td>\n",
       "      <td>0.138672</td>\n",
       "      <td>0.049561</td>\n",
       "      <td>-0.040283</td>\n",
       "      <td>-0.115723</td>\n",
       "      <td>0.027466</td>\n",
       "      <td>0.011292</td>\n",
       "      <td>-0.036865</td>\n",
       "      <td>0.173828</td>\n",
       "      <td>-0.078125</td>\n",
       "      <td>...</td>\n",
       "      <td>-0.296875</td>\n",
       "      <td>-0.330078</td>\n",
       "      <td>-0.298828</td>\n",
       "      <td>0.094727</td>\n",
       "      <td>-0.079590</td>\n",
       "      <td>0.000805</td>\n",
       "      <td>-0.105957</td>\n",
       "      <td>0.036865</td>\n",
       "      <td>-0.035645</td>\n",
       "      <td>-0.215820</td>\n",
       "    </tr>\n",
       "    <tr>\n",
       "      <th>preparedness</th>\n",
       "      <td>0.081055</td>\n",
       "      <td>0.095703</td>\n",
       "      <td>0.151367</td>\n",
       "      <td>0.089355</td>\n",
       "      <td>0.035889</td>\n",
       "      <td>0.083008</td>\n",
       "      <td>-0.089355</td>\n",
       "      <td>-0.162109</td>\n",
       "      <td>0.394531</td>\n",
       "      <td>-0.115234</td>\n",
       "      <td>...</td>\n",
       "      <td>-0.376953</td>\n",
       "      <td>-0.285156</td>\n",
       "      <td>-0.277344</td>\n",
       "      <td>0.022705</td>\n",
       "      <td>0.215820</td>\n",
       "      <td>-0.149414</td>\n",
       "      <td>-0.000492</td>\n",
       "      <td>-0.208008</td>\n",
       "      <td>-0.109863</td>\n",
       "      <td>0.152344</td>\n",
       "    </tr>\n",
       "    <tr>\n",
       "      <th>prepares</th>\n",
       "      <td>0.215820</td>\n",
       "      <td>0.238281</td>\n",
       "      <td>0.117676</td>\n",
       "      <td>-0.333984</td>\n",
       "      <td>-0.007935</td>\n",
       "      <td>-0.102539</td>\n",
       "      <td>-0.044189</td>\n",
       "      <td>-0.166016</td>\n",
       "      <td>0.038818</td>\n",
       "      <td>-0.106934</td>\n",
       "      <td>...</td>\n",
       "      <td>-0.298828</td>\n",
       "      <td>-0.449219</td>\n",
       "      <td>-0.384766</td>\n",
       "      <td>0.185547</td>\n",
       "      <td>-0.246094</td>\n",
       "      <td>0.075684</td>\n",
       "      <td>0.156250</td>\n",
       "      <td>0.012695</td>\n",
       "      <td>0.043945</td>\n",
       "      <td>0.158203</td>\n",
       "    </tr>\n",
       "  </tbody>\n",
       "</table>\n",
       "<p>5 rows × 300 columns</p>\n",
       "</div>"
      ],
      "text/plain": [
       "                     0         1         2         3         4         5  \\\n",
       "_rowName                                                                   \n",
       "preoccupied   0.527344  0.333984 -0.080078  0.102539 -0.369141  0.386719   \n",
       "prepare      -0.143555  0.216797  0.013916 -0.241211  0.034180  0.084961   \n",
       "prepared     -0.132812  0.138672  0.049561 -0.040283 -0.115723  0.027466   \n",
       "preparedness  0.081055  0.095703  0.151367  0.089355  0.035889  0.083008   \n",
       "prepares      0.215820  0.238281  0.117676 -0.333984 -0.007935 -0.102539   \n",
       "\n",
       "                     6         7         8         9    ...          290  \\\n",
       "_rowName                                                ...                \n",
       "preoccupied   0.339844 -0.247070  0.128906 -0.142578    ...    -0.145508   \n",
       "prepare      -0.206055 -0.014343  0.025635 -0.162109    ...    -0.324219   \n",
       "prepared      0.011292 -0.036865  0.173828 -0.078125    ...    -0.296875   \n",
       "preparedness -0.089355 -0.162109  0.394531 -0.115234    ...    -0.376953   \n",
       "prepares     -0.044189 -0.166016  0.038818 -0.106934    ...    -0.298828   \n",
       "\n",
       "                   291       292       293       294       295       296  \\\n",
       "_rowName                                                                   \n",
       "preoccupied  -0.083984  0.154297  0.008606 -0.365234 -0.189453 -0.036621   \n",
       "prepare      -0.201172 -0.298828  0.063965 -0.032715 -0.108398 -0.143555   \n",
       "prepared     -0.330078 -0.298828  0.094727 -0.079590  0.000805 -0.105957   \n",
       "preparedness -0.285156 -0.277344  0.022705  0.215820 -0.149414 -0.000492   \n",
       "prepares     -0.449219 -0.384766  0.185547 -0.246094  0.075684  0.156250   \n",
       "\n",
       "                   297       298       299  \n",
       "_rowName                                    \n",
       "preoccupied   0.010315  0.141602  0.194336  \n",
       "prepare      -0.046631  0.042480 -0.018066  \n",
       "prepared      0.036865 -0.035645 -0.215820  \n",
       "preparedness -0.208008 -0.109863  0.152344  \n",
       "prepares      0.012695  0.043945  0.158203  \n",
       "\n",
       "[5 rows x 300 columns]"
      ]
     },
     "execution_count": 11,
     "metadata": {},
     "output_type": "execute_result"
    }
   ],
   "source": [
    "mldb.query(\"SELECT * FROM w2v LIMIT 5\")"
   ]
  },
  {
   "cell_type": "markdown",
   "metadata": {},
   "source": [
    "### Compute the embedding for all press releases\n",
    "\n",
    "Word2vec gives us word embeddings, but since we are interested is press releases, we need to find a way to embed the document itself in the space. The most obvious way is to take the centroid of all the words in a document as the representation of that document in the 300-dimensions space.\n",
    "\n",
    "We can achieve this using a [`pooling` function](../../../../doc/#builtin/functions/Pooling.md.html)."
   ]
  },
  {
   "cell_type": "code",
   "execution_count": 12,
   "metadata": {
    "collapsed": false
   },
   "outputs": [
    {
     "name": "stdout",
     "output_type": "stream",
     "text": [
      "<Response [201]>\n"
     ]
    }
   ],
   "source": [
    "print mldb.put('/v1/functions/pool', {\n",
    "    'type': 'pooling',\n",
    "    'params': {\n",
    "        'aggregators': ['avg'],\n",
    "        'embeddingDataset': 'w2v'\n",
    "    }\n",
    "})"
   ]
  },
  {
   "cell_type": "code",
   "execution_count": 13,
   "metadata": {
    "collapsed": false
   },
   "outputs": [
    {
     "name": "stdout",
     "output_type": "stream",
     "text": [
      "<Response [201]>\n"
     ]
    }
   ],
   "source": [
    "print mldb.post('/v1/procedures', {\n",
    "    'type': 'transform',\n",
    "    'params': {\n",
    "        'inputData': \"\"\"\n",
    "            SELECT pool({words: {*}})[embedding] AS *\n",
    "            FROM bag_of_words\n",
    "        \"\"\",\n",
    "        'outputDataset': 'word2vec',\n",
    "        \"runOnCreation\": True\n",
    "    }\n",
    "})"
   ]
  },
  {
   "cell_type": "markdown",
   "metadata": {},
   "source": [
    "In the new `word2vec` dataset, each row is still a press release and the columns are the word2vec coordinates."
   ]
  },
  {
   "cell_type": "code",
   "execution_count": 14,
   "metadata": {
    "collapsed": false
   },
   "outputs": [
    {
     "data": {
      "text/html": [
       "<div>\n",
       "<table border=\"1\" class=\"dataframe\">\n",
       "  <thead>\n",
       "    <tr style=\"text-align: right;\">\n",
       "      <th></th>\n",
       "      <th>0</th>\n",
       "      <th>1</th>\n",
       "      <th>2</th>\n",
       "      <th>3</th>\n",
       "      <th>4</th>\n",
       "      <th>5</th>\n",
       "      <th>6</th>\n",
       "      <th>7</th>\n",
       "      <th>8</th>\n",
       "      <th>9</th>\n",
       "      <th>...</th>\n",
       "      <th>290</th>\n",
       "      <th>291</th>\n",
       "      <th>292</th>\n",
       "      <th>293</th>\n",
       "      <th>294</th>\n",
       "      <th>295</th>\n",
       "      <th>296</th>\n",
       "      <th>297</th>\n",
       "      <th>298</th>\n",
       "      <th>299</th>\n",
       "    </tr>\n",
       "    <tr>\n",
       "      <th>_rowName</th>\n",
       "      <th></th>\n",
       "      <th></th>\n",
       "      <th></th>\n",
       "      <th></th>\n",
       "      <th></th>\n",
       "      <th></th>\n",
       "      <th></th>\n",
       "      <th></th>\n",
       "      <th></th>\n",
       "      <th></th>\n",
       "      <th></th>\n",
       "      <th></th>\n",
       "      <th></th>\n",
       "      <th></th>\n",
       "      <th></th>\n",
       "      <th></th>\n",
       "      <th></th>\n",
       "      <th></th>\n",
       "      <th></th>\n",
       "      <th></th>\n",
       "      <th></th>\n",
       "    </tr>\n",
       "  </thead>\n",
       "  <tbody>\n",
       "    <tr>\n",
       "      <th>pr898</th>\n",
       "      <td>0.011215</td>\n",
       "      <td>0.034163</td>\n",
       "      <td>0.027613</td>\n",
       "      <td>0.090432</td>\n",
       "      <td>-0.060199</td>\n",
       "      <td>-0.042286</td>\n",
       "      <td>0.036668</td>\n",
       "      <td>-0.069749</td>\n",
       "      <td>0.092252</td>\n",
       "      <td>0.054665</td>\n",
       "      <td>...</td>\n",
       "      <td>-0.072888</td>\n",
       "      <td>0.020272</td>\n",
       "      <td>-0.048933</td>\n",
       "      <td>0.003808</td>\n",
       "      <td>-0.046926</td>\n",
       "      <td>0.003386</td>\n",
       "      <td>0.000841</td>\n",
       "      <td>-0.028776</td>\n",
       "      <td>0.026899</td>\n",
       "      <td>-0.020523</td>\n",
       "    </tr>\n",
       "    <tr>\n",
       "      <th>pr69</th>\n",
       "      <td>-0.013511</td>\n",
       "      <td>0.025664</td>\n",
       "      <td>0.002058</td>\n",
       "      <td>0.104314</td>\n",
       "      <td>-0.030947</td>\n",
       "      <td>-0.039832</td>\n",
       "      <td>0.049560</td>\n",
       "      <td>-0.056205</td>\n",
       "      <td>0.107325</td>\n",
       "      <td>-0.001330</td>\n",
       "      <td>...</td>\n",
       "      <td>-0.090922</td>\n",
       "      <td>0.053346</td>\n",
       "      <td>-0.063940</td>\n",
       "      <td>-0.015699</td>\n",
       "      <td>-0.024191</td>\n",
       "      <td>0.018442</td>\n",
       "      <td>0.001960</td>\n",
       "      <td>-0.006421</td>\n",
       "      <td>0.033895</td>\n",
       "      <td>-0.056871</td>\n",
       "    </tr>\n",
       "    <tr>\n",
       "      <th>pr778</th>\n",
       "      <td>-0.027863</td>\n",
       "      <td>0.047581</td>\n",
       "      <td>0.034683</td>\n",
       "      <td>0.076473</td>\n",
       "      <td>-0.043387</td>\n",
       "      <td>-0.068545</td>\n",
       "      <td>0.022032</td>\n",
       "      <td>-0.081843</td>\n",
       "      <td>0.094802</td>\n",
       "      <td>0.062656</td>\n",
       "      <td>...</td>\n",
       "      <td>-0.057036</td>\n",
       "      <td>-0.020280</td>\n",
       "      <td>-0.030302</td>\n",
       "      <td>-0.003478</td>\n",
       "      <td>-0.029417</td>\n",
       "      <td>0.004583</td>\n",
       "      <td>-0.011229</td>\n",
       "      <td>-0.065224</td>\n",
       "      <td>0.055017</td>\n",
       "      <td>-0.011922</td>\n",
       "    </tr>\n",
       "    <tr>\n",
       "      <th>pr599</th>\n",
       "      <td>-0.013205</td>\n",
       "      <td>0.053833</td>\n",
       "      <td>0.027958</td>\n",
       "      <td>0.074575</td>\n",
       "      <td>-0.038737</td>\n",
       "      <td>-0.070854</td>\n",
       "      <td>0.021265</td>\n",
       "      <td>-0.059732</td>\n",
       "      <td>0.083038</td>\n",
       "      <td>0.073029</td>\n",
       "      <td>...</td>\n",
       "      <td>-0.058797</td>\n",
       "      <td>0.023147</td>\n",
       "      <td>-0.053721</td>\n",
       "      <td>0.000024</td>\n",
       "      <td>-0.026280</td>\n",
       "      <td>-0.058352</td>\n",
       "      <td>-0.033717</td>\n",
       "      <td>-0.046667</td>\n",
       "      <td>0.042555</td>\n",
       "      <td>-0.007269</td>\n",
       "    </tr>\n",
       "    <tr>\n",
       "      <th>pr121</th>\n",
       "      <td>-0.035623</td>\n",
       "      <td>0.032259</td>\n",
       "      <td>-0.005549</td>\n",
       "      <td>0.091462</td>\n",
       "      <td>-0.057481</td>\n",
       "      <td>-0.041018</td>\n",
       "      <td>0.011959</td>\n",
       "      <td>-0.055492</td>\n",
       "      <td>0.114259</td>\n",
       "      <td>0.045188</td>\n",
       "      <td>...</td>\n",
       "      <td>-0.089794</td>\n",
       "      <td>0.018602</td>\n",
       "      <td>-0.020735</td>\n",
       "      <td>0.027505</td>\n",
       "      <td>-0.005378</td>\n",
       "      <td>0.019843</td>\n",
       "      <td>-0.013115</td>\n",
       "      <td>-0.008834</td>\n",
       "      <td>0.050686</td>\n",
       "      <td>0.002482</td>\n",
       "    </tr>\n",
       "  </tbody>\n",
       "</table>\n",
       "<p>5 rows × 300 columns</p>\n",
       "</div>"
      ],
      "text/plain": [
       "                 0         1         2         3         4         5  \\\n",
       "_rowName                                                               \n",
       "pr898     0.011215  0.034163  0.027613  0.090432 -0.060199 -0.042286   \n",
       "pr69     -0.013511  0.025664  0.002058  0.104314 -0.030947 -0.039832   \n",
       "pr778    -0.027863  0.047581  0.034683  0.076473 -0.043387 -0.068545   \n",
       "pr599    -0.013205  0.053833  0.027958  0.074575 -0.038737 -0.070854   \n",
       "pr121    -0.035623  0.032259 -0.005549  0.091462 -0.057481 -0.041018   \n",
       "\n",
       "                 6         7         8         9    ...          290  \\\n",
       "_rowName                                            ...                \n",
       "pr898     0.036668 -0.069749  0.092252  0.054665    ...    -0.072888   \n",
       "pr69      0.049560 -0.056205  0.107325 -0.001330    ...    -0.090922   \n",
       "pr778     0.022032 -0.081843  0.094802  0.062656    ...    -0.057036   \n",
       "pr599     0.021265 -0.059732  0.083038  0.073029    ...    -0.058797   \n",
       "pr121     0.011959 -0.055492  0.114259  0.045188    ...    -0.089794   \n",
       "\n",
       "               291       292       293       294       295       296  \\\n",
       "_rowName                                                               \n",
       "pr898     0.020272 -0.048933  0.003808 -0.046926  0.003386  0.000841   \n",
       "pr69      0.053346 -0.063940 -0.015699 -0.024191  0.018442  0.001960   \n",
       "pr778    -0.020280 -0.030302 -0.003478 -0.029417  0.004583 -0.011229   \n",
       "pr599     0.023147 -0.053721  0.000024 -0.026280 -0.058352 -0.033717   \n",
       "pr121     0.018602 -0.020735  0.027505 -0.005378  0.019843 -0.013115   \n",
       "\n",
       "               297       298       299  \n",
       "_rowName                                \n",
       "pr898    -0.028776  0.026899 -0.020523  \n",
       "pr69     -0.006421  0.033895 -0.056871  \n",
       "pr778    -0.065224  0.055017 -0.011922  \n",
       "pr599    -0.046667  0.042555 -0.007269  \n",
       "pr121    -0.008834  0.050686  0.002482  \n",
       "\n",
       "[5 rows x 300 columns]"
      ]
     },
     "execution_count": 14,
     "metadata": {},
     "output_type": "execute_result"
    }
   ],
   "source": [
    "mldb.query(\"SELECT * FROM word2vec LIMIT 5\")"
   ]
  },
  {
   "cell_type": "markdown",
   "metadata": {
    "collapsed": false
   },
   "source": [
    "## Use t-SNE for dimensionality reduction\n",
    "\n",
    "The [t-SNE algorithm](http://lvdmaaten.github.io/tsne/) is a very powerful technique that can be used to reduce the dimensionality of data to 2D or 3D, typically to visualize it. We will use it to map our press releases on a 2D scatter plot."
   ]
  },
  {
   "cell_type": "code",
   "execution_count": 15,
   "metadata": {
    "collapsed": false
   },
   "outputs": [
    {
     "name": "stdout",
     "output_type": "stream",
     "text": [
      "<Response [201]>\n"
     ]
    }
   ],
   "source": [
    "print mldb.post('/v1/procedures', {\n",
    "    'type': 'tsne.train',\n",
    "    'params': {\n",
    "        'trainingData': 'SELECT * FROM word2vec',\n",
    "        'rowOutputDataset': 'tsne',\n",
    "        'perplexity': 5,\n",
    "        'modelFileUrl': 'file://pr_tsne.bin.gz',\n",
    "        'runOnCreation': True\n",
    "    }\n",
    "})"
   ]
  },
  {
   "cell_type": "code",
   "execution_count": 16,
   "metadata": {
    "collapsed": false
   },
   "outputs": [
    {
     "data": {
      "text/html": [
       "<div>\n",
       "<table border=\"1\" class=\"dataframe\">\n",
       "  <thead>\n",
       "    <tr style=\"text-align: right;\">\n",
       "      <th></th>\n",
       "      <th>x</th>\n",
       "      <th>y</th>\n",
       "    </tr>\n",
       "    <tr>\n",
       "      <th>_rowName</th>\n",
       "      <th></th>\n",
       "      <th></th>\n",
       "    </tr>\n",
       "  </thead>\n",
       "  <tbody>\n",
       "    <tr>\n",
       "      <th>pr189</th>\n",
       "      <td>-0.633258</td>\n",
       "      <td>-28.098810</td>\n",
       "    </tr>\n",
       "    <tr>\n",
       "      <th>pr201</th>\n",
       "      <td>-11.267179</td>\n",
       "      <td>-47.346836</td>\n",
       "    </tr>\n",
       "    <tr>\n",
       "      <th>pr19</th>\n",
       "      <td>23.778744</td>\n",
       "      <td>-59.303360</td>\n",
       "    </tr>\n",
       "    <tr>\n",
       "      <th>pr803</th>\n",
       "      <td>-5.440463</td>\n",
       "      <td>63.610130</td>\n",
       "    </tr>\n",
       "    <tr>\n",
       "      <th>pr915</th>\n",
       "      <td>-45.197262</td>\n",
       "      <td>7.066058</td>\n",
       "    </tr>\n",
       "  </tbody>\n",
       "</table>\n",
       "</div>"
      ],
      "text/plain": [
       "                  x          y\n",
       "_rowName                      \n",
       "pr189     -0.633258 -28.098810\n",
       "pr201    -11.267179 -47.346836\n",
       "pr19      23.778744 -59.303360\n",
       "pr803     -5.440463  63.610130\n",
       "pr915    -45.197262   7.066058"
      ]
     },
     "execution_count": 16,
     "metadata": {},
     "output_type": "execute_result"
    }
   ],
   "source": [
    "mldb.query(\"SELECT * FROM tsne LIMIT 5\")"
   ]
  },
  {
   "cell_type": "markdown",
   "metadata": {},
   "source": [
    "## Doing the scatter plot\n",
    "\n",
    "We now have the `tsne` dataset that represents all of our press releases with $(x,y)$ coordinates in the embedding space. It is now very easy to merge those coordinates with both the press releases and our keywords."
   ]
  },
  {
   "cell_type": "code",
   "execution_count": 17,
   "metadata": {
    "collapsed": false
   },
   "outputs": [
    {
     "data": {
      "text/html": [
       "<div>\n",
       "<table border=\"1\" class=\"dataframe\">\n",
       "  <thead>\n",
       "    <tr style=\"text-align: right;\">\n",
       "      <th></th>\n",
       "      <th>party</th>\n",
       "      <th>title</th>\n",
       "      <th>x</th>\n",
       "      <th>y</th>\n",
       "    </tr>\n",
       "    <tr>\n",
       "      <th>_rowName</th>\n",
       "      <th></th>\n",
       "      <th></th>\n",
       "      <th></th>\n",
       "      <th></th>\n",
       "    </tr>\n",
       "  </thead>\n",
       "  <tbody>\n",
       "    <tr>\n",
       "      <th>pr10</th>\n",
       "      <td>conservative</td>\n",
       "      <td>Conservatives Target World's Human Rights Abus...</td>\n",
       "      <td>25.209961</td>\n",
       "      <td>-55.318356</td>\n",
       "    </tr>\n",
       "    <tr>\n",
       "      <th>pr100</th>\n",
       "      <td>conservative</td>\n",
       "      <td>Hold On To Your Wallet: Justin Trudeau's Real ...</td>\n",
       "      <td>5.361629</td>\n",
       "      <td>69.702927</td>\n",
       "    </tr>\n",
       "    <tr>\n",
       "      <th>pr101</th>\n",
       "      <td>conservative</td>\n",
       "      <td>Statement by the Prime Minister of Canada to c...</td>\n",
       "      <td>-22.417137</td>\n",
       "      <td>3.578872</td>\n",
       "    </tr>\n",
       "    <tr>\n",
       "      <th>pr102</th>\n",
       "      <td>conservative</td>\n",
       "      <td>Statement by Stephen Harper to mark the start ...</td>\n",
       "      <td>-18.177437</td>\n",
       "      <td>5.462621</td>\n",
       "    </tr>\n",
       "    <tr>\n",
       "      <th>pr103</th>\n",
       "      <td>conservative</td>\n",
       "      <td>Harper Announces Further Actions To Combat Hum...</td>\n",
       "      <td>-6.026812</td>\n",
       "      <td>-96.430496</td>\n",
       "    </tr>\n",
       "  </tbody>\n",
       "</table>\n",
       "</div>"
      ],
      "text/plain": [
       "                 party                                              title  \\\n",
       "_rowName                                                                    \n",
       "pr10      conservative  Conservatives Target World's Human Rights Abus...   \n",
       "pr100     conservative  Hold On To Your Wallet: Justin Trudeau's Real ...   \n",
       "pr101     conservative  Statement by the Prime Minister of Canada to c...   \n",
       "pr102     conservative  Statement by Stephen Harper to mark the start ...   \n",
       "pr103     conservative  Harper Announces Further Actions To Combat Hum...   \n",
       "\n",
       "                  x          y  \n",
       "_rowName                        \n",
       "pr10      25.209961 -55.318356  \n",
       "pr100      5.361629  69.702927  \n",
       "pr101    -22.417137   3.578872  \n",
       "pr102    -18.177437   5.462621  \n",
       "pr103     -6.026812 -96.430496  "
      ]
     },
     "execution_count": 17,
     "metadata": {},
     "output_type": "execute_result"
    }
   ],
   "source": [
    "pr = mldb.query(\"\"\"\n",
    "SELECT raw.title as title, raw.party as party, tsne.x as x, tsne.y as y\n",
    "NAMED raw.rowName()\n",
    "FROM raw\n",
    "JOIN tsne\n",
    "ON tsne.rowName() = raw.rowName()\n",
    "\"\"\")\n",
    "kw = mldb.query(\"\"\"\n",
    "SELECT keywords.party as party, keywords.title as title, tsne.x as x, tsne.y as y\n",
    "NAMED keywords.rowName()\n",
    "FROM keywords\n",
    "JOIN tsne\n",
    "ON tsne.rowName() = keywords.rowName()\n",
    "\"\"\")\n",
    "pr[:5]"
   ]
  },
  {
   "cell_type": "markdown",
   "metadata": {},
   "source": [
    "And now let's create our final plot! We simply use [Bokeh](http://bokeh.pydata.org) to make a scatter plot of the press releases, where we color each point by the color of its party. We then add our keywords on top of that, using the coordinates given by t-SNE."
   ]
  },
  {
   "cell_type": "code",
   "execution_count": 18,
   "metadata": {
    "collapsed": false
   },
   "outputs": [],
   "source": [
    "import bokeh.plotting as bp\n",
    "from bokeh.models import HoverTool"
   ]
  },
  {
   "cell_type": "code",
   "execution_count": 19,
   "metadata": {
    "collapsed": false
   },
   "outputs": [
    {
     "data": {
      "text/html": [
       "\n",
       "    <div class=\"bk-banner\">\n",
       "        <a href=\"http://bokeh.pydata.org\" target=\"_blank\" class=\"bk-logo bk-logo-small bk-logo-notebook\"></a>\n",
       "        <span id=\"51bc4420-f1c6-4e0b-a23c-307d8cd77885\">Loading BokehJS ...</span>\n",
       "    </div>"
      ]
     },
     "metadata": {},
     "output_type": "display_data"
    },
    {
     "data": {
      "application/javascript": [
       "\n",
       "(function(global) {\n",
       "  function now() {\n",
       "    return new Date();\n",
       "  }\n",
       "\n",
       "  if (typeof (window._bokeh_onload_callbacks) === \"undefined\") {\n",
       "    window._bokeh_onload_callbacks = [];\n",
       "  }\n",
       "\n",
       "  function run_callbacks() {\n",
       "    window._bokeh_onload_callbacks.forEach(function(callback) { callback() });\n",
       "    delete window._bokeh_onload_callbacks\n",
       "    console.info(\"Bokeh: all callbacks have finished\");\n",
       "  }\n",
       "\n",
       "  function load_libs(js_urls, callback) {\n",
       "    window._bokeh_onload_callbacks.push(callback);\n",
       "    if (window._bokeh_is_loading > 0) {\n",
       "      console.log(\"Bokeh: BokehJS is being loaded, scheduling callback at\", now());\n",
       "      return null;\n",
       "    }\n",
       "    if (js_urls == null || js_urls.length === 0) {\n",
       "      run_callbacks();\n",
       "      return null;\n",
       "    }\n",
       "    console.log(\"Bokeh: BokehJS not loaded, scheduling load and callback at\", now());\n",
       "    window._bokeh_is_loading = js_urls.length;\n",
       "    for (var i = 0; i < js_urls.length; i++) {\n",
       "      var url = js_urls[i];\n",
       "      var s = document.createElement('script');\n",
       "      s.src = url;\n",
       "      s.async = false;\n",
       "      s.onreadystatechange = s.onload = function() {\n",
       "        window._bokeh_is_loading--;\n",
       "        if (window._bokeh_is_loading === 0) {\n",
       "          console.log(\"Bokeh: all BokehJS libraries loaded\");\n",
       "          run_callbacks()\n",
       "        }\n",
       "      };\n",
       "      s.onerror = function() {\n",
       "        console.warn(\"failed to load library \" + url);\n",
       "      };\n",
       "      console.log(\"Bokeh: injecting script tag for BokehJS library: \", url);\n",
       "      document.getElementsByTagName(\"head\")[0].appendChild(s);\n",
       "    }\n",
       "  };\n",
       "\n",
       "  var js_urls = ['https://cdn.pydata.org/bokeh/release/bokeh-0.11.1.min.js', 'https://cdn.pydata.org/bokeh/release/bokeh-widgets-0.11.1.min.js', 'https://cdn.pydata.org/bokeh/release/bokeh-compiler-0.11.1.min.js'];\n",
       "\n",
       "  var inline_js = [\n",
       "    function(Bokeh) {\n",
       "      Bokeh.set_log_level(\"info\");\n",
       "    },\n",
       "    \n",
       "    function(Bokeh) {\n",
       "      Bokeh.$(\"#51bc4420-f1c6-4e0b-a23c-307d8cd77885\").text(\"BokehJS successfully loaded\");\n",
       "    },\n",
       "    function(Bokeh) {\n",
       "      console.log(\"Bokeh: injecting CSS: https://cdn.pydata.org/bokeh/release/bokeh-0.11.1.min.css\");\n",
       "      Bokeh.embed.inject_css(\"https://cdn.pydata.org/bokeh/release/bokeh-0.11.1.min.css\");\n",
       "      console.log(\"Bokeh: injecting CSS: https://cdn.pydata.org/bokeh/release/bokeh-widgets-0.11.1.min.css\");\n",
       "      Bokeh.embed.inject_css(\"https://cdn.pydata.org/bokeh/release/bokeh-widgets-0.11.1.min.css\");\n",
       "    }\n",
       "  ];\n",
       "\n",
       "  function run_inline_js() {\n",
       "    for (var i = 0; i < inline_js.length; i++) {\n",
       "      inline_js[i](window.Bokeh);\n",
       "    }\n",
       "  }\n",
       "\n",
       "  if (window._bokeh_is_loading === 0) {\n",
       "    console.log(\"Bokeh: BokehJS loaded, going straight to plotting\");\n",
       "    run_inline_js();\n",
       "  } else {\n",
       "    load_libs(js_urls, function() {\n",
       "      console.log(\"Bokeh: BokehJS plotting callback run at\", now());\n",
       "      run_inline_js();\n",
       "    });\n",
       "  }\n",
       "}(this));"
      ]
     },
     "metadata": {},
     "output_type": "display_data"
    }
   ],
   "source": [
    "#this line must be in its own cell \n",
    "bp.output_notebook()"
   ]
  },
  {
   "cell_type": "code",
   "execution_count": 20,
   "metadata": {
    "collapsed": false
   },
   "outputs": [
    {
     "data": {
      "text/html": [
       "\n",
       "\n",
       "    <div class=\"plotdiv\" id=\"80bc6611-659f-4173-bcbb-9e4d1f802c3e\"></div>\n",
       "<script type=\"text/javascript\">\n",
       "  \n",
       "  (function(global) {\n",
       "    function now() {\n",
       "      return new Date();\n",
       "    }\n",
       "  \n",
       "    if (typeof (window._bokeh_onload_callbacks) === \"undefined\") {\n",
       "      window._bokeh_onload_callbacks = [];\n",
       "    }\n",
       "  \n",
       "    function run_callbacks() {\n",
       "      window._bokeh_onload_callbacks.forEach(function(callback) { callback() });\n",
       "      delete window._bokeh_onload_callbacks\n",
       "      console.info(\"Bokeh: all callbacks have finished\");\n",
       "    }\n",
       "  \n",
       "    function load_libs(js_urls, callback) {\n",
       "      window._bokeh_onload_callbacks.push(callback);\n",
       "      if (window._bokeh_is_loading > 0) {\n",
       "        console.log(\"Bokeh: BokehJS is being loaded, scheduling callback at\", now());\n",
       "        return null;\n",
       "      }\n",
       "      if (js_urls == null || js_urls.length === 0) {\n",
       "        run_callbacks();\n",
       "        return null;\n",
       "      }\n",
       "      console.log(\"Bokeh: BokehJS not loaded, scheduling load and callback at\", now());\n",
       "      window._bokeh_is_loading = js_urls.length;\n",
       "      for (var i = 0; i < js_urls.length; i++) {\n",
       "        var url = js_urls[i];\n",
       "        var s = document.createElement('script');\n",
       "        s.src = url;\n",
       "        s.async = false;\n",
       "        s.onreadystatechange = s.onload = function() {\n",
       "          window._bokeh_is_loading--;\n",
       "          if (window._bokeh_is_loading === 0) {\n",
       "            console.log(\"Bokeh: all BokehJS libraries loaded\");\n",
       "            run_callbacks()\n",
       "          }\n",
       "        };\n",
       "        s.onerror = function() {\n",
       "          console.warn(\"failed to load library \" + url);\n",
       "        };\n",
       "        console.log(\"Bokeh: injecting script tag for BokehJS library: \", url);\n",
       "        document.getElementsByTagName(\"head\")[0].appendChild(s);\n",
       "      }\n",
       "    };var element = document.getElementById(\"80bc6611-659f-4173-bcbb-9e4d1f802c3e\");\n",
       "    if (element == null) {\n",
       "      console.log(\"Bokeh: ERROR: autoload.js configured with elementid '80bc6611-659f-4173-bcbb-9e4d1f802c3e' but no matching script tag was found. \")\n",
       "      return false;\n",
       "    }\n",
       "  \n",
       "    var js_urls = [];\n",
       "  \n",
       "    var inline_js = [\n",
       "      function(Bokeh) {\n",
       "        Bokeh.$(function() {\n",
       "            var docs_json = {\"54d6936b-b744-4f1e-adc4-fb82f10ae169\":{\"roots\":{\"references\":[{\"attributes\":{\"data_source\":{\"id\":\"638616cd-a48c-4a78-a90b-f195319818a8\",\"type\":\"ColumnDataSource\"},\"glyph\":{\"id\":\"63f27026-e687-4a66-93dd-dfb03c33040b\",\"type\":\"Circle\"},\"hover_glyph\":null,\"nonselection_glyph\":{\"id\":\"2b7a032a-8679-4423-8aa8-6e7eb85296c7\",\"type\":\"Circle\"},\"selection_glyph\":null},\"id\":\"6070f944-9122-4730-94fc-7c7126d263c3\",\"type\":\"GlyphRenderer\"},{\"attributes\":{\"fill_alpha\":{\"value\":0.5},\"fill_color\":{\"value\":\"#FF8000\"},\"line_color\":{\"value\":\"#FF8000\"},\"radius\":{\"units\":\"data\",\"value\":1},\"x\":{\"field\":\"x\"},\"y\":{\"field\":\"y\"}},\"id\":\"0ab7a524-c0b2-4fc1-9ce5-1126a3a4cf11\",\"type\":\"Circle\"},{\"attributes\":{\"callback\":null,\"column_names\":[\"y\",\"party\",\"_rowName\",\"x\",\"title\"],\"data\":{\"_rowName\":[\"pr1092\",\"pr1093\",\"pr1095\",\"pr1096\",\"pr1097\",\"pr1098\",\"pr1099\",\"pr1100\",\"pr1101\",\"pr1102\",\"pr1103\",\"pr1104\",\"pr1105\",\"pr1106\",\"pr1107\",\"pr1108\",\"pr1109\",\"pr1110\",\"pr1111\",\"pr1112\",\"pr1113\",\"pr1114\",\"pr1115\",\"pr1128\",\"pr1129\",\"pr1130\",\"pr1131\",\"pr1132\",\"pr1133\",\"pr1134\",\"pr1135\",\"pr1136\",\"pr1137\",\"pr1138\",\"pr1139\",\"pr1140\",\"pr1141\",\"pr1142\",\"pr1143\",\"pr1144\",\"pr1145\",\"pr1146\",\"pr756\",\"pr757\",\"pr758\",\"pr759\",\"pr760\",\"pr761\",\"pr762\",\"pr763\",\"pr764\",\"pr765\",\"pr766\",\"pr767\",\"pr768\",\"pr769\",\"pr770\",\"pr771\",\"pr772\",\"pr773\",\"pr774\",\"pr775\",\"pr777\",\"pr778\",\"pr779\",\"pr780\",\"pr781\",\"pr782\",\"pr783\",\"pr784\",\"pr785\",\"pr786\",\"pr787\",\"pr788\",\"pr789\",\"pr790\",\"pr791\",\"pr792\",\"pr793\",\"pr794\",\"pr795\",\"pr796\",\"pr797\",\"pr799\",\"pr800\",\"pr801\",\"pr802\",\"pr803\",\"pr804\",\"pr805\",\"pr806\",\"pr807\",\"pr808\",\"pr809\",\"pr810\",\"pr811\",\"pr812\",\"pr813\",\"pr814\",\"pr815\",\"pr816\",\"pr817\",\"pr818\",\"pr819\",\"pr820\",\"pr821\",\"pr822\",\"pr823\",\"pr824\",\"pr825\",\"pr826\",\"pr827\",\"pr828\",\"pr829\",\"pr830\",\"pr831\",\"pr832\",\"pr833\",\"pr834\",\"pr835\",\"pr836\",\"pr837\",\"pr838\",\"pr839\",\"pr840\",\"pr841\",\"pr842\",\"pr843\",\"pr844\",\"pr845\",\"pr846\",\"pr847\",\"pr848\",\"pr849\",\"pr850\",\"pr851\",\"pr852\",\"pr853\",\"pr854\",\"pr855\",\"pr856\",\"pr857\",\"pr858\",\"pr859\",\"pr860\",\"pr861\",\"pr862\",\"pr864\",\"pr865\",\"pr866\",\"pr867\",\"pr868\",\"pr869\",\"pr870\",\"pr871\",\"pr872\",\"pr873\",\"pr874\",\"pr875\",\"pr876\",\"pr877\",\"pr878\",\"pr879\",\"pr880\",\"pr881\",\"pr882\",\"pr884\",\"pr885\",\"pr886\",\"pr887\",\"pr888\",\"pr889\",\"pr890\",\"pr891\",\"pr892\",\"pr893\",\"pr894\",\"pr895\",\"pr896\",\"pr897\",\"pr898\",\"pr899\",\"pr900\",\"pr901\",\"pr902\",\"pr904\",\"pr905\",\"pr906\",\"pr907\",\"pr908\",\"pr909\",\"pr910\",\"pr912\",\"pr913\",\"pr915\",\"pr916\",\"pr917\",\"pr918\",\"pr919\",\"pr920\",\"pr921\",\"pr922\",\"pr923\",\"pr924\",\"pr925\",\"pr926\",\"pr927\",\"pr928\",\"pr929\",\"pr930\",\"pr931\",\"pr932\",\"pr933\",\"pr934\",\"pr935\",\"pr936\",\"pr937\",\"pr938\",\"pr939\",\"pr940\",\"pr941\",\"pr942\",\"pr944\",\"pr945\",\"pr946\",\"pr947\",\"pr948\",\"pr949\",\"pr950\",\"pr951\",\"pr952\",\"pr953\",\"pr955\",\"pr957\",\"pr958\",\"pr959\",\"pr960\",\"pr961\",\"pr964\",\"pr965\",\"pr966\",\"pr967\",\"pr969\",\"pr970\",\"pr971\",\"pr972\",\"pr973\",\"pr974\",\"pr975\",\"pr976\",\"pr977\",\"pr978\",\"pr979\",\"pr980\",\"pr981\",\"pr982\",\"pr983\",\"pr984\",\"pr985\",\"pr986\",\"pr987\",\"pr988\",\"pr989\",\"pr990\",\"pr991\",\"pr992\",\"pr994\",\"pr995\",\"pr996\",\"pr997\",\"pr998\"],\"party\":[\"liberal\",\"liberal\",\"liberal\",\"liberal\",\"liberal\",\"liberal\",\"liberal\",\"liberal\",\"liberal\",\"liberal\",\"liberal\",\"liberal\",\"liberal\",\"liberal\",\"liberal\",\"liberal\",\"liberal\",\"liberal\",\"liberal\",\"liberal\",\"liberal\",\"liberal\",\"liberal\",\"liberal\",\"liberal\",\"liberal\",\"liberal\",\"liberal\",\"liberal\",\"liberal\",\"liberal\",\"liberal\",\"liberal\",\"liberal\",\"liberal\",\"liberal\",\"liberal\",\"liberal\",\"liberal\",\"liberal\",\"liberal\",\"liberal\",\"liberal\",\"liberal\",\"liberal\",\"liberal\",\"liberal\",\"liberal\",\"liberal\",\"liberal\",\"liberal\",\"liberal\",\"liberal\",\"liberal\",\"liberal\",\"liberal\",\"liberal\",\"liberal\",\"liberal\",\"liberal\",\"liberal\",\"liberal\",\"liberal\",\"liberal\",\"liberal\",\"liberal\",\"liberal\",\"liberal\",\"liberal\",\"liberal\",\"liberal\",\"liberal\",\"liberal\",\"liberal\",\"liberal\",\"liberal\",\"liberal\",\"liberal\",\"liberal\",\"liberal\",\"liberal\",\"liberal\",\"liberal\",\"liberal\",\"liberal\",\"liberal\",\"liberal\",\"liberal\",\"liberal\",\"liberal\",\"liberal\",\"liberal\",\"liberal\",\"liberal\",\"liberal\",\"liberal\",\"liberal\",\"liberal\",\"liberal\",\"liberal\",\"liberal\",\"liberal\",\"liberal\",\"liberal\",\"liberal\",\"liberal\",\"liberal\",\"liberal\",\"liberal\",\"liberal\",\"liberal\",\"liberal\",\"liberal\",\"liberal\",\"liberal\",\"liberal\",\"liberal\",\"liberal\",\"liberal\",\"liberal\",\"liberal\",\"liberal\",\"liberal\",\"liberal\",\"liberal\",\"liberal\",\"liberal\",\"liberal\",\"liberal\",\"liberal\",\"liberal\",\"liberal\",\"liberal\",\"liberal\",\"liberal\",\"liberal\",\"liberal\",\"liberal\",\"liberal\",\"liberal\",\"liberal\",\"liberal\",\"liberal\",\"liberal\",\"liberal\",\"liberal\",\"liberal\",\"liberal\",\"liberal\",\"liberal\",\"liberal\",\"liberal\",\"liberal\",\"liberal\",\"liberal\",\"liberal\",\"liberal\",\"liberal\",\"liberal\",\"liberal\",\"liberal\",\"liberal\",\"liberal\",\"liberal\",\"liberal\",\"liberal\",\"liberal\",\"liberal\",\"liberal\",\"liberal\",\"liberal\",\"liberal\",\"liberal\",\"liberal\",\"liberal\",\"liberal\",\"liberal\",\"liberal\",\"liberal\",\"liberal\",\"liberal\",\"liberal\",\"liberal\",\"liberal\",\"liberal\",\"liberal\",\"liberal\",\"liberal\",\"liberal\",\"liberal\",\"liberal\",\"liberal\",\"liberal\",\"liberal\",\"liberal\",\"liberal\",\"liberal\",\"liberal\",\"liberal\",\"liberal\",\"liberal\",\"liberal\",\"liberal\",\"liberal\",\"liberal\",\"liberal\",\"liberal\",\"liberal\",\"liberal\",\"liberal\",\"liberal\",\"liberal\",\"liberal\",\"liberal\",\"liberal\",\"liberal\",\"liberal\",\"liberal\",\"liberal\",\"liberal\",\"liberal\",\"liberal\",\"liberal\",\"liberal\",\"liberal\",\"liberal\",\"liberal\",\"liberal\",\"liberal\",\"liberal\",\"liberal\",\"liberal\",\"liberal\",\"liberal\",\"liberal\",\"liberal\",\"liberal\",\"liberal\",\"liberal\",\"liberal\",\"liberal\",\"liberal\",\"liberal\",\"liberal\",\"liberal\",\"liberal\",\"liberal\",\"liberal\",\"liberal\",\"liberal\",\"liberal\",\"liberal\",\"liberal\",\"liberal\",\"liberal\",\"liberal\",\"liberal\",\"liberal\",\"liberal\",\"liberal\",\"liberal\",\"liberal\",\"liberal\",\"liberal\",\"liberal\",\"liberal\",\"liberal\",\"liberal\",\"liberal\",\"liberal\",\"liberal\"],\"title\":[\"Torontonians speak out against Mulcair's minimum wage mirage\",\"Harper's $27 million fiction: Conservatives receive largest taxpayer-funded rebate in history\",\"Trudeau reaffirms commitment to issue apology for Komagata Maru incident\",\"Debate Day: Justin Trudeau ready to fight for Canadians\",\"Justin Trudeau proves only Liberals have plan for real change\",\"Trudeau to share plan for real change in first Leaders Debate\",\"The Reviews Are In: First round goes to Trudeau\",\"Mulcair ducking debates because he has no answers\",\"Liberals wrap-up successful first week on campaign trail\",\"Liberal statement on International Day of the World's Indigenous Peoples\",\"NDP continues campaign of double-speak\",\"Trudeau ready to bring better government to Ottawa\",\"Only Trudeau offering plan for open and transparent government\",\"Trudeau presents plan for economic growth for middle class\",\"Six questions Nigel Wright must answer\",\"Liberals present plan for economic growth in Saskatchewan\",\"Trudeau unveils plan for First Nations education and opportunity\",\"Harper must remove Marjory LeBreton from Conservative campaign\",\"Liberals will stop Harper's end to home mail delivery\",\"Statement by Liberal Party of Canada Leader Justin Trudeau on Pakistan's Independence Day\",\"Week two sees Canadians embracing Liberal plan for real change\",\"Statement by Liberal Party of Canada Leader Justin Trudeau on India's Independence Day\",\"In their own words: Liberal plan for First Nations education and economic opportunity\",\"It's time for a real plan to grow the middle class\",\"Trudeau leads with plan for sustainable growth in Northern Ontario\",\"Fact Check: Harper's running another billion-dollar deficit\",\"Trudeau presents plan for modern working families\",\"Economist: NDP minimum wage claims  not supportable by the evidence \",\"Six questions Benjamin Perrin must answer\",\"Harper needs to tell Canadians the truth, and fire Ray Novak\",\"Trudeau offers better support for caregivers and growth for the middle class\",\"Mulcair's child care mirage won't help B.C. families\",\"Letter to RCMP Commissioner Bob Paulson and Information Commissioner Suzanne Legault from Dominic LeBlanc\",\"Week three: Liberals announce new measures to grow economy and middle class\",\"Liberal plan for caregivers met with positive reviews\",\"Letter to the Premier of Quebec from Liberal Party of Canada Leader Justin Trudeau\",\"Thomas Mulcair fails the middle class test\",\"Harper isn't fooling anyone on fisheries protection\",\"Statement by Liberal Party of Canada Leader Justin Trudeau on Black Ribbon Day\",\"FACT CHECK: Harper ducks accountability for his failed economic record\",\"Trudeau commits to major investments for veterans\",\"Plunging oil prices send Harper's hidden deficit higher\",\"Harper platform shows Conservatives have doubled-down on obsolete numbers\",\"Mulcair's platform continues to unravel\",\"Liberals present plan to grow agricultural sector\",\"Fact Check: Trudeau will keep pension income splitting for seniors\",\"Kevin Page:\\u00a0Mulcair's  Swiss-cheese fiscal costing \",\"Trudeau offers new leadership to reclaim Canada's place in the world\",\"Week eight: Liberals present transparent, prudent plan to invest in middle class\",\"NDP criticism of Liberal plan defies logic\",\"Statement by Liberal Party of Canada Leader Justin Trudeau on the Mid-Autumn Festival\",\"Liberals committed to growing economy and strengthening the middle class\",\"Liberal candidates meet with commuters across Canada to promote Justin Trudeau's transit plan\",\"Canada s economy needs investment, not Harper s and Mulcair s cuts\",\"Mulcair job killing one-two punch will hurt auto sector\",\"Today's parents won't get child care from Mulcair\",\"In Their Own Words:\\u00a0Mulcair will cut and break promises\",\"Trudeau commits to largest infrastructure investment in Canadian history\",\"Thomas Mulcair's $28 billion hole\",\"Week four: Liberals announce largest infrastructure investment in Canadian history\",\"Justin Trudeau attends Tamil Street Festival\",\"Statement by Liberal Party of Canada Leader Justin Trudeau on Ukraine's Independence Day\",\"BC candidates' letter to Thomas Mulcair on bulk water exports\",\"Quebec candidates' letter to Thomas Mulcair on bulk water exports\",\"Statement by Liberal Party of Canada Leader Justin Trudeau on Labour Day\",\"Justin Trudeau launches Liberal campaign plane\",\"Letter from Liberal Party of Canada Leader Justin Trudeau to Premier Gallant\",\"Trudeau outlines Liberal three-point plan for Canadians\",\"Liberals announce Employment Insurance that works for Canadians, strengthens economy\",\"Trudeau attends a Liberal rally in PEI\",\"Justin Trudeau in New Brunswick\",\"Trudeau promises affordable housing for Canadians\",\"Mulcair will hurt aerospace sector by raising corporate taxes, breaking promises\",\"Stephen Harper demonstrates once more that he understands nothing about culture\",\"Out-of-touch\\u00a0Harper on tumbling markets:   Our plan  has been working \",\"Trudeau commits to major investments for veterans\",\"Strong Liberal economic team will create real change for Canadians\",\"Trudeau commits to largest infrastructure investment in Canadian history\",\"Just like 2008 election, Harper is trying to deceive Canadians about recession and deficit mid-campaign\",\"Former Liberal Prime Minister Paul Martin supports Justin Trudeau's strong economic team in Brampton\",\"Strong Liberal economic team will create real change for Canadians\",\"Trudeau-led government to invest in our children and educators\",\"Mulcair's austerity pledge and phony middle class rhetoric don't add up\",\"Data shows Harper's economic mismanagement worst in the G7\",\"Mulcair shreds phony public transit pledge\",\"Fact Check: Harper's deception index\",\"First day of school\",\"Peggy Nash vs Peggy Nash:\",\"Trudeau only leader with plan to invest in middle class\",\"Another Harper trust scandal, same supporting cast\",\"Which is it, Tom?\\u00a0Karl Marx or Margaret Thatcher?\",\"Trudeau commits to historic investment in green infrastructure\",\"Mulcair's vanishing health care pledge\",\"Strong Liberal team will deliver historic infrastructure investment for Montreal\",\"Harper blatantly misleads about phony  surplus  \\u2013 He cannot be trusted\",\"Trudeau reaffirms commitment to strong, united Canada\",\"Novak's denials raise fresh questions, show Harper can't be trusted\",\"Liberals launch  Two Candidates  radio ad\",\"What they're saying: Trudeau commits to largest infrastructure investment in Canadian history\",\"Justin Trudeau attends 39th Jalsa Salana Canada\",\"Experts Agree: Harper distorts data, misleads Canadians about phony  surplus \",\"Statement by Liberal Party of Canada Leader Justin Trudeau on Mohamed Fahmy\",\"Mulcair will make cuts and break his promises to seniors\",\"Liberals announce plan for investment in Champlain Bridge infrastructure\",\"Justin Trudeau attends Mabuhay Philippines Festival in Toronto\",\"What they're saying: Canada needs a new plan for growth\",\"Trudeau announces historic investment in public transit\",\"Liberal Party of Canada welcomes AFN priorities\",\"Unemployment jumps under Harper's economic mismanagement\",\"Justin Trudeau announces historic investment in public transit\",\"Liberals commit to leadership on Syrian refugee crisis\",\"Trudeau promises affordable housing for Canadians\",\"Justin Trudeau and family attend batting practice with the Toronto Blue Jays\",\"Liberals to invest in Metro\\u00a0Vancouver\\u00a0public transit\",\"Letter from Liberal Party of Canada Leader Justin Trudeau to Stephen Harper, Thomas Mulcair, and Elizabeth May\",\"Liberal Party of Canada letter on Munk Leaders' Debates\",\"Week five: Liberals announce historic investments in public transit and green infrastructure\",\"Statement by Liberal Party of Canada Leader Justin Trudeau on Nayrouz\",\"Liberals to invest in Edmonton-area public transit\",\"Statement by Liberal Party of Canada Leader Justin Trudeau on Rosh Hashanah\",\"Liberal Party of Canada open letter to Minister Steven Blaney on Syrian refugees\",\"Conservative Party demonstrates its disregard for the French language\",\"Liberal candidates offering leadership on Syrian refugee crisis\",\"Trudeau reaffirms commitment to issue apology for Komagata Maru incident\",\"Syrian refugees: Stephen Harper must not stand in Quebec's way\",\"Harper minister on refugees:  The majority of people don't want them \",\"Trudeau announces plan to protect Canada's oceans\",\"Statement by Liberal Party of Canada Leader Justin Trudeau on the Anniversary of 9/11 and the National Day of Service\",\"Trudeau invests in jobs and opportunity for young Canadians\",\"Mulcair on Alberta:  the scandal that is Canada's tar sands development \",\"Justin Trudeau invests in jobs and opportunity for young Canadians\",\"Trudeau outlines bold vision for strong, united Canada\",\"Justin Trudeau hikes the Grouse Grind\",\"Liberals launch new French-language ads\",\"Where is Joe Oliver?\",\"Pay it back: Harper must return dirty Duffy money\",\"Week six: Liberals announce measures to create jobs, grow the middle class, and help those working to join it\",\"Mulcair cannot deliver on seniors' health care promise\",\"Justin Trudeau attends Liberal rally in Hamilton\",\"Justin Trudeau celebrates Rosh Hashanah\",\"Leaked NDP platform documents confirm Mulcair can't pay for promises\",\"Liberals offering greater retirement security for seniors\",\"Justin Trudeau plays Bocce\",\"Justin Trudeau offers greater retirement security for seniors\",\"Trudeau invests in jobs and skills training for Canadians\",\"Harper's covert cuts hurt families, helped send Canada into recession\",\"Mulcair celebrates Harper's deep cuts to middle class\",\"Mulcair can't pay for pharmacare promise\",\"Justin Trudeau in Newfoundland and Labrador\",\"Once again, Mulcair shows that he just cannot be trusted\",\"Mulcair's very bad Saturday\",\"Harper puts auto jobs at risk\",\"Trudeau announces plan to strengthen economy and create jobs with navy investment\",\"Liberals release new ads across Canada\",\"More economists blast flawed NDP costing\",\"Fact Check:\\u00a0Joe Oliver can't rewrite history\",\"Video reveals Mulcair praised west-east pipeline to American audience\",\"Liberals unveil new plan for immigration focused on family reunification, middle class growth\",\"Open letter to Canada's public servants\",\"Statement by Liberal Party of Canada Leader Justin Trudeau on Eid al-Adha\",\"Justin Trudeau celebrates Eid al-Adha\",\"Trudeau only Leader offering plan for middle class, real change from Harper\",\"Statement by Liberal Party of Canada Leader Justin Trudeau on Franco-Ontarian Day\",\"Trudeau family in Montr\\u00e9al\",\"Justin Trudeau walks a day in the life of a personal support worker\",\"Mulcair keeps peddling his infrastructure and public transit mirage\",\"Liberals investing in transparent and prudent fiscal plan for middle class\",\"Trudeau announces plan to ensure greater economic security for middle class families\",\"Liberals to invest in Canadian culture and middle class jobs\",\"Mulcair, NDP staff caught peddling\\u00a0blatant falsehoods \\u2013 even when confronted with undeniable video evidence\",\"Statement by Liberal Party of Canada Leader Justin Trudeau on Yom Kippur\",\"In Peterborough today, Harper can't escape his scandals\",\"Mulcair sides with Harper in favour of unaffordable F-35 stealth fighters\",\"Secret NDP briefing note reveals Mulcair's child care deception\",\"Justin Trudeau in Ottawa\",\"New Video: Mulcair opposed Quebec child care\",\"Statement by Liberal Party for Canada Leader Justin Trudeau on Mohamed Fahmy\",\"Trudeau sharing plan for real change for middle class in first French-language Leaders' debate\",\"Liberals to invest in flood mitigation and public transit in Calgary\",\"Justin Trudeau invests in jobs and skills training for Canadians\",\"Mulcair's plan will cost nearly 150,000 jobs, pretends Harper's recession never happened\",\"Stephen Harper wants to decide who is Canadian\",\"The truth about Harper's and Mulcair's failed plan\",\"Justin Trudeau canoes the Bow River\",\"What they are saying: Liberals have strongest plan to create jobs and grow economy\",\"Gaffe-prone Andrew Thomson cannot keep his numbers straight\",\"Trudeau continues sharing plan for real change in second Leaders' Debate\",\"The reviews are in: Trudeau shows leadership with plan for real change\",\"More abuse of parliamentary resources by the NDP\",\"Trudeau only Leader with real plan to grow Canada's economy\",\"Trudeau promotes innovation to create jobs, strengthen middle class, and grow economy\",\"The reviews are in: Trudeau shows leadership with plan for real change\",\"Thomas Mulcair is no friend of the environment\",\"Secret Foreign Affairs memo is an indictment of Harper's failures\",\"Justin Trudeau celebrates the Mid-Autumn Festival\",\"Justin Trudeau in North York\",\"Only Liberals offering change for Canada on world stage\",\"He does it again: Mulcair tries to re-write history on water privatization and export\",\"Liberals announce reconciliation plan for the M\\u00e9tis Nation\",\"Liberals to invest in Canadian families, grow the middle class\",\"Fact Check: Desperate NDP makes false claims about Liberal First Nations funding\",\"Justin Trudeau announces reconciliation plan for the M\\u00e9tis Nation\",\"NDP can't keep tabs on its own Swiss-cheese spending promises\",\"Liberals release new French-language ads across Canada\",\"NDP candidate speaks out against Mulcair's decision to adopt Harper's budget\",\"Justin Trudeau in London\",\"Liberals offering plan for real change, transparency in government\",\"Liberal immigration plan focused on family reunification, middle class growth\",\"Raw sewage treatment: Denis Lebel's hypocritical lecturing\",\"Statement by Liberal Party of Canada Leader Justin Trudeau on the anniversary of multiculturalism\",\"Justin Trudeau in New Brunswick\",\"Mulcair\\u00a0contradicts himself once again \\u2013 this time on wastewater in Montreal\",\"Liberals to invest in Greater Toronto and Hamilton Area transit\",\"Liberals to take concrete action on domestic violence and sexual assault\",\"Trudeau presents plan to invest in Canadians' health and home care\",\"Liberals to invest in Greater Montreal infrastructure\",\"Thomas Mulcair is no friend of the environment\",\"New Video: Mulcair spoke out against Davie shipyard\",\"Liberals to invest in Greater Montr\\u00e9al infrastructure\",\"Statement by Liberal Party of Canada Leader Justin Trudeau on a recent assault in Montreal\",\"Liberals commit to protecting Canadians' right to vote\",\"VIDEO: Mulcair railed against job\\u00a0supports, before pretending to favour them\",\"Trudeau promoting real change for middle class in second French-language Leaders' debate\",\"Trudeau showcases plan for real change in French-language debate\",\"Trudeau-led government will bring immediate change for middle class\",\"Fact Check: NDP makes false claims about Liberal First Nations funding\",\"NDP candidates oppose Mulcair's no-deficit commitment\",\"Mulcair cannot pay for his promises, won't help the middle class\",\"After ten failed years, Harper's platform offers more of the same\",\"Statement by Liberal Party of Canada Leader Justin Trudeau on World Mental Health Day\",\"Talking turkey this Thanksgiving\",\"Liberals release new campaign ads across Canada\",\"Even Rob and Doug Ford are ready for change from Harper\",\"Mulcair energetically advocated for water privatization and export\",\"Liberals to invest in Canada's North\",\"Letter to Premier Bob McLeod\",\"Liberals hold largest rally in decades\",\"Liberal plan offers real, progressive change for all Canadians\",\"Liberal plan will make real, immediate investment in young Canadians\",\"Liberal plan offers real change for voters across the country\",\"Mulcair twists his position again \\u2013 this time on marijuana legalization\",\"Justin Trudeau meets with the Ukrainian Canadian Congress\",\"Dishonest Conservative attacks reach new lows\",\"Fact Check: Mulcair falsely claims he does not criticize Liberals\",\"Canadians won't be fooled by Harper's gameshow gimmick\",\"Liberals launch five new English-language ads\",\"Trudeau unveils Liberal platform for a strong middle class\",\"Statement by Liberal Party of Canada Leader Justin Trudeau on the Trans-Pacific Partnership\",\"Statement by Liberal Party of Canada Leader Justin Trudeau on the Sisters in Spirit Vigils for missing and murdered Indigenous women and girls\",\"Justin Trudeau at the Rally for Change Now\",\"Justin Trudeau in Nunavut and the Northwest Territories\",\"Fact Check: NDP criticism of Liberal platform defies logic\",\"Statement by Liberal Party of Canada Leader Justin Trudeau on Republic Day\",\"Mulcair does it again \\u2013 flip-flops on TPP, pipelines\",\"Justin Trudeau unveils  A New Plan for a Strong Middle Class \",\"Open letter to Canadians from Justin Trudeau\",\"Trudeau commits to record investments in Canadian children and poverty reduction\",\"Mulcair cannot pay for his health care promises\",\"Week ten: Trudeau launches platform, continues sharing new plan for a strong middle class\",\"Liberals to invest in northerners and Nutrition North\",\"Justin Trudeau in Nepean\",\"Statement by Liberal Party of Canada Leader Justin Trudeau on Thanksgiving\",\"Ten years of Harper is hurting the economy, middle class\",\"Trudeau family celebrates Thanksgiving\",\"Fact Check: Trudeau will deliver tax fairness for families, workers, and seniors\",\"Harper misleads Ontario families\",\"Trudeau celebrates diversity with Liberal team in Montr\\u00e9al\",\"Statement by Liberal Party of Canada Leader Justin Trudeau on National Acadian Day\",\"Trudeau: Labour movement essential to middle class growth\",\"Letter to the Prime Minister from Justin Trudeau\",\"FACT CHECK: Mulcair changes position on debates\"],\"x\":[-65.79803466796875,-24.147014617919922,0.24226801097393036,-44.7480354309082,-15.92940616607666,-42.03538131713867,-47.19046401977539,-28.787128448486328,-28.84526824951172,25.150569915771484,-12.785417556762695,7.759163856506348,13.504676818847656,20.12501335144043,-76.51460266113281,21.94017791748047,23.442829132080078,-78.2986068725586,-8.876903533935547,1.519486904144287,19.655595779418945,0.6176343560218811,-52.07454299926758,13.712410926818848,54.73439407348633,-27.706146240234375,40.37318801879883,-64.53746032714844,-79.72791290283203,-81.0727767944336,41.39085388183594,11.0371732711792,-79.07364654541016,-7.1208624839782715,78.25957489013672,25.738306045532227,-17.607328414916992,53.325218200683594,16.350868225097656,-44.47949981689453,64.48155975341797,-28.625545501708984,-34.503623962402344,-39.91684341430664,55.44199752807617,15.319671630859375,-36.925567626953125,7.132129669189453,-2.72676682472229,-49.98882293701172,-22.414043426513672,29.581018447875977,52.14662170410156,-12.874567985534668,-28.692941665649414,-25.933578491210938,-29.366378784179688,39.28675842285156,-24.102705001831055,-7.534727573394775,-43.115020751953125,10.898646354675293,55.171756744384766,55.296241760253906,10.247077941894531,0.24215970933437347,27.533632278442383,26.14484405517578,6.6315436363220215,-28.7624454498291,-29.14779281616211,29.245927810668945,-27.719139099121094,-1.5544757843017578,-45.11607360839844,-20.352964401245117,38.86845397949219,39.88007736206055,-37.057525634765625,37.96892547607422,-47.29306411743164,40.85810470581055,-29.36358070373535,-43.62150955200195,-27.77556037902832,0.2421564906835556,-36.12643051147461,-5.440462589263916,-10.977910041809082,-76.8677749633789,-44.953529357910156,54.377662658691406,-24.85650634765625,39.471778869628906,-36.55365753173828,10.652801513671875,-80.68425750732422,7.035121440887451,-52.856956481933594,-42.47722244262695,-30.531192779541016,-63.69075393676758,-27.9921875,51.29732131958008,-44.11594772338867,-53.38715744018555,47.85100173950195,26.56293487548828,-11.917306900024414,48.626705169677734,-20.985132217407227,30.164838790893555,-37.47856903076172,48.42658996582031,-22.694467544555664,-25.23523712158203,-3.8383629322052,-18.15941619873047,47.28008270263672,-11.086050987243652,-31.842395782470703,-34.89778518676758,-20.877721786499023,-2.92645263671875,-19.773727416992188,-43.102176666259766,54.320709228515625,17.80182456970215,22.565649032592773,-9.033214569091797,26.281808853149414,8.449275016784668,-50.96742248535156,-15.012042999267578,-37.3991584777832,-67.27430725097656,-3.886312961578369,-26.56485366821289,-46.56723403930664,-45.66874313354492,-28.90712547302246,27.89418601989746,-74.53680419921875,-74.44986724853516,21.200279235839844,-26.313039779663086,-25.862565994262695,-36.92197036743164,-30.056379318237305,-44.61554718017578,-14.724921226501465,18.049394607543945,32.317481994628906,2.4074368476867676,-34.346153259277344,-29.85003662109375,-13.221651077270508,38.340206146240234,26.171154022216797,-17.481319427490234,-45.29403305053711,27.28636932373047,0.24229149520397186,-54.659969329833984,-7.337831497192383,-29.525562286376953,-0.7674172520637512,31.6326904296875,40.99503707885742,-15.957013130187988,-15.378746032714844,-74.30236053466797,-14.979890823364258,-10.94581413269043,-27.552717208862305,-12.397049903869629,-65.03900909423828,28.426368713378906,49.76414108276367,-6.704184532165527,-38.046913146972656,9.303750038146973,-14.730117797851562,-50.47675704956055,-40.4806022644043,-33.57756042480469,25.118820190429688,-51.60332489013672,-72.5287094116211,26.3815860748291,26.987707138061523,-47.46302795410156,41.29794692993164,-0.6119875907897949,-45.197261810302734,-37.240692138671875,7.475785732269287,-13.729373931884766,23.91385841369629,25.826881408691406,-34.805931091308594,-19.26304054260254,-41.66605758666992,2.6031622886657715,-32.23420715332031,-8.034607887268066,14.190343856811523,37.645973205566406,-3.4934139251708984,10.339611053466797,-27.433359146118164,-4.254541397094727,49.66651916503906,-7.159160614013672,30.6650390625,49.66877746582031,40.79673767089844,-12.40127944946289,49.642642974853516,13.353139877319336,-73.7590560913086,-12.259909629821777,28.642852783203125,24.42751121520996,13.452959060668945,-35.1317253112793,-32.89699935913086,-37.324066162109375,0.9235579967498779,29.659259796142578,-46.322471618652344,2.5547244548797607,-44.22618103027344,-16.972774505615234,70.71517944335938,-48.20497131347656,-18.547576904296875,12.782377243041992,19.72852897644043,7.886589050292969,-10.817889213562012,-41.60608673095703,-15.279848098754883,-44.41532897949219,-18.766395568847656,1.4639900922775269,24.963882446289062,27.14617919921875,-5.771302223205566,-23.654932022094727,-9.39530086517334,-50.417816162109375,2.0510644912719727,-15.668909072875977,-20.945951461791992,5.699972152709961,25.75518035888672,-26.978246688842773,13.241849899291992,70.80949401855469,-3.6510965824127197,-20.24415397644043,-14.247503280639648,-37.34982681274414,15.197522163391113,-24.75920867919922,11.939271926879883,2.4763216972351074,0.24238310754299164,-78.31729888916016,-27.678462982177734],\"y\":[-12.571403503417969,53.78661346435547,0.9704090356826782,4.6951751708984375,31.17473030090332,63.756309509277344,-15.298150062561035,-47.312950134277344,-5.083951950073242,-17.34138298034668,-39.123741149902344,28.817495346069336,-16.488861083984375,33.099510192871094,-23.530136108398438,31.73347282409668,-13.294219970703125,-26.059749603271484,-26.69068145751953,-8.970199584960938,-14.30041217803955,-10.897021293640137,-3.8509535789489746,39.81296157836914,-18.85846710205078,50.44023513793945,40.89863967895508,-9.53878116607666,-17.837221145629883,-20.801143646240234,42.25498580932617,37.98320388793945,-23.05189323425293,20.107559204101562,32.52779769897461,-13.407938957214355,31.732681274414062,-36.50864791870117,-72.60615539550781,43.84235763549805,32.33229064941406,48.969764709472656,49.50519943237305,57.42790603637695,-17.961814880371094,83.20655059814453,52.137874603271484,-45.200164794921875,20.49290657043457,56.49485397338867,2.890472888946533,25.15204429626465,12.913307189941406,49.66064453125,61.254356384277344,69.89822387695312,64.62512969970703,9.698431968688965,63.99614334106445,20.997961044311523,8.00257682800293,-57.54129409790039,-48.36412048339844,-48.80170440673828,-2.2588608264923096,0.9703686237335205,-11.588554382324219,27.372282028198242,1.482942819595337,18.144733428955078,15.920055389404297,31.433853149414062,60.092899322509766,-24.33272933959961,44.59126281738281,23.175214767456055,3.330479860305786,8.401710510253906,43.56529998779297,3.8484222888946533,14.887079238891602,38.990962982177734,62.742977142333984,43.02214431762695,69.64472961425781,0.9702485799789429,10.209397315979004,63.610130310058594,49.92181396484375,-22.17412567138672,-25.305110931396484,-23.935062408447266,78.40045928955078,1.560864806175232,44.75542068481445,-29.274778366088867,-18.69827651977539,38.606719970703125,-5.082352638244629,7.220919609069824,46.90184783935547,-54.933265686035156,64.85220336914062,16.379051208496094,7.325408935546875,-5.540206432342529,13.474716186523438,-15.176077842712402,50.2188835144043,9.56335735321045,-73.42340087890625,30.309326171875,10.952132225036621,15.610601425170898,-73.73757934570312,-43.61051940917969,19.826845169067383,-2.268079996109009,15.375597953796387,4.510490894317627,-71.00714874267578,-31.23450469970703,-72.85131072998047,-0.7450830936431885,-33.903282165527344,-21.7946720123291,-24.76344108581543,-82.17575073242188,12.783134460449219,-35.48036193847656,16.765743255615234,26.891252517700195,-22.2423095703125,-13.103694915771484,50.186988830566406,-15.94140625,22.27031898498535,78.35517120361328,15.498173713684082,2.8620450496673584,76.2652587890625,37.50255584716797,63.73101043701172,64.13783264160156,11.323342323303223,51.825374603271484,53.01780319213867,52.74385070800781,19.2834415435791,-27.1059627532959,-31.606704711914062,-42.87614440917969,-2.983769416809082,38.42311477661133,53.52355194091797,45.26873779296875,-36.37028884887695,41.99787139892578,-11.993316650390625,-0.3554458022117615,0.7818281054496765,22.583147048950195,0.970450758934021,-15.333754539489746,18.18915367126465,75.13218688964844,20.737018585205078,34.692325592041016,3.632845401763916,-30.123117446899414,6.863385200500488,-32.983970642089844,-33.993568420410156,-26.89090347290039,18.220869064331055,-26.78023338317871,-54.48543930053711,24.050209045410156,11.09365463256836,-4.088822841644287,56.593963623046875,-30.413732528686523,48.99820327758789,-0.7299755811691284,26.310489654541016,48.91456985473633,25.44122886657715,-18.972444534301758,-37.758914947509766,24.5248966217041,18.615726470947266,-13.688495635986328,-26.651981353759766,-55.02901077270508,7.0660576820373535,6.439667701721191,-45.54679489135742,-32.78632354736328,-15.541154861450195,34.72513198852539,79.5473861694336,22.03677749633789,57.73007583618164,37.702999114990234,57.808589935302734,23.747772216796875,-16.883350372314453,42.3758544921875,-30.396595001220703,-25.29754066467285,17.263763427734375,-31.96299171447754,13.777925491333008,-80.84574890136719,20.68617057800293,15.23430347442627,-26.327884674072266,-23.599599838256836,21.982511520385742,-29.690961837768555,-36.317649841308594,-22.465951919555664,23.130447387695312,22.668842315673828,38.68102264404297,80.03845977783203,55.93111801147461,56.242523193359375,45.23227310180664,-16.3126163482666,-22.608976364135742,35.82606887817383,-18.780866622924805,-29.136228561401367,0.9585168361663818,14.254754066467285,-22.239660263061523,37.77558517456055,12.28658676147461,30.609508514404297,-38.62004470825195,-22.455745697021484,-73.30371856689453,-16.52189064025879,32.77891540527344,45.349365234375,33.24985122680664,-40.01995849609375,-79.85820770263672,22.18115234375,21.13590431213379,56.7475471496582,-7.407999038696289,-38.08589172363281,24.690746307373047,29.82899284362793,35.79278564453125,77.91520690917969,35.547119140625,1.4451909065246582,3.3879177570343018,-0.37961769104003906,54.504459381103516,8.16822624206543,83.6447982788086,50.08180618286133,-28.310291290283203,-6.141341209411621,0.9704960584640503,-24.399497985839844,-44.95780944824219]}},\"id\":\"638616cd-a48c-4a78-a90b-f195319818a8\",\"type\":\"ColumnDataSource\"},{\"attributes\":{\"callback\":null},\"id\":\"06663183-a352-44b0-adff-6c1e7b5e6311\",\"type\":\"DataRange1d\"},{\"attributes\":{\"callback\":null,\"column_names\":[\"y\",\"party\",\"_rowName\",\"x\",\"title\"],\"data\":{\"_rowName\":[\"pr271\",\"pr272\",\"pr273\",\"pr274\",\"pr275\",\"pr276\",\"pr277\",\"pr278\",\"pr279\",\"pr280\",\"pr281\",\"pr282\",\"pr283\",\"pr284\",\"pr285\",\"pr286\",\"pr287\",\"pr288\",\"pr289\",\"pr290\",\"pr291\",\"pr292\",\"pr293\",\"pr294\",\"pr295\",\"pr296\",\"pr297\",\"pr298\",\"pr299\",\"pr300\",\"pr301\",\"pr302\",\"pr303\",\"pr304\",\"pr305\",\"pr306\",\"pr307\",\"pr308\",\"pr309\",\"pr310\",\"pr311\",\"pr312\",\"pr313\",\"pr314\",\"pr315\",\"pr316\",\"pr317\",\"pr318\",\"pr319\",\"pr320\",\"pr321\",\"pr322\",\"pr323\",\"pr324\",\"pr325\",\"pr327\",\"pr328\",\"pr329\",\"pr330\",\"pr331\",\"pr332\",\"pr333\",\"pr334\",\"pr336\",\"pr337\",\"pr396\",\"pr398\",\"pr399\",\"pr400\",\"pr401\",\"pr402\",\"pr403\",\"pr405\",\"pr406\",\"pr407\",\"pr408\",\"pr409\",\"pr410\",\"pr411\",\"pr412\",\"pr413\",\"pr414\",\"pr415\",\"pr416\",\"pr417\",\"pr418\",\"pr419\",\"pr420\",\"pr421\",\"pr422\",\"pr423\",\"pr424\",\"pr425\",\"pr426\",\"pr427\",\"pr428\",\"pr429\",\"pr430\",\"pr432\",\"pr433\",\"pr434\",\"pr437\",\"pr448\",\"pr449\",\"pr450\",\"pr451\",\"pr452\",\"pr453\",\"pr454\",\"pr455\",\"pr457\",\"pr549\",\"pr550\",\"pr551\",\"pr552\",\"pr553\",\"pr554\",\"pr555\",\"pr556\",\"pr558\",\"pr595\",\"pr596\",\"pr597\",\"pr599\",\"pr600\",\"pr601\",\"pr602\",\"pr603\",\"pr604\",\"pr605\",\"pr606\",\"pr607\",\"pr608\",\"pr609\",\"pr610\",\"pr611\",\"pr612\",\"pr613\",\"pr614\",\"pr615\",\"pr616\",\"pr617\",\"pr618\",\"pr619\",\"pr620\",\"pr621\",\"pr622\",\"pr623\",\"pr624\",\"pr625\",\"pr626\",\"pr627\",\"pr628\",\"pr629\",\"pr630\",\"pr682\"],\"party\":[\"ndp\",\"ndp\",\"ndp\",\"ndp\",\"ndp\",\"ndp\",\"ndp\",\"ndp\",\"ndp\",\"ndp\",\"ndp\",\"ndp\",\"ndp\",\"ndp\",\"ndp\",\"ndp\",\"ndp\",\"ndp\",\"ndp\",\"ndp\",\"ndp\",\"ndp\",\"ndp\",\"ndp\",\"ndp\",\"ndp\",\"ndp\",\"ndp\",\"ndp\",\"ndp\",\"ndp\",\"ndp\",\"ndp\",\"ndp\",\"ndp\",\"ndp\",\"ndp\",\"ndp\",\"ndp\",\"ndp\",\"ndp\",\"ndp\",\"ndp\",\"ndp\",\"ndp\",\"ndp\",\"ndp\",\"ndp\",\"ndp\",\"ndp\",\"ndp\",\"ndp\",\"ndp\",\"ndp\",\"ndp\",\"ndp\",\"ndp\",\"ndp\",\"ndp\",\"ndp\",\"ndp\",\"ndp\",\"ndp\",\"ndp\",\"ndp\",\"ndp\",\"ndp\",\"ndp\",\"ndp\",\"ndp\",\"ndp\",\"ndp\",\"ndp\",\"ndp\",\"ndp\",\"ndp\",\"ndp\",\"ndp\",\"ndp\",\"ndp\",\"ndp\",\"ndp\",\"ndp\",\"ndp\",\"ndp\",\"ndp\",\"ndp\",\"ndp\",\"ndp\",\"ndp\",\"ndp\",\"ndp\",\"ndp\",\"ndp\",\"ndp\",\"ndp\",\"ndp\",\"ndp\",\"ndp\",\"ndp\",\"ndp\",\"ndp\",\"ndp\",\"ndp\",\"ndp\",\"ndp\",\"ndp\",\"ndp\",\"ndp\",\"ndp\",\"ndp\",\"ndp\",\"ndp\",\"ndp\",\"ndp\",\"ndp\",\"ndp\",\"ndp\",\"ndp\",\"ndp\",\"ndp\",\"ndp\",\"ndp\",\"ndp\",\"ndp\",\"ndp\",\"ndp\",\"ndp\",\"ndp\",\"ndp\",\"ndp\",\"ndp\",\"ndp\",\"ndp\",\"ndp\",\"ndp\",\"ndp\",\"ndp\",\"ndp\",\"ndp\",\"ndp\",\"ndp\",\"ndp\",\"ndp\",\"ndp\",\"ndp\",\"ndp\",\"ndp\",\"ndp\",\"ndp\",\"ndp\",\"ndp\",\"ndp\",\"ndp\",\"ndp\",\"ndp\"],\"title\":[\"Time to end Harper's lost decade\",\"Mulcair pledges support for wine tourism in the Okanagan\",\"Summary of Tom Mulcair's call with Egyptian ambassador on Mohamed Fahmy's case\",\"Liberals oppose plan to combat violence against women\",\"Mulcair to invest in sports for disadvantaged youth\",\"Nash: Trudeau still foggy on what he'll cut\",\"NDP government will begin new era of respect, action and bridging the gap \",\"Harper failure on Ring of Fire costing Northern Ontario jobs\",\"Mulcair announces plan for stronger pensions and retirement security\",\"NDP lays out concrete plan on refugee crisis\",\"Harper's failed plan on the economy costing Canadians\",\"Tom Mulcair the official NDP candidate in Outremont\",\"NDP lays out next steps to help Syrian refugees\",\"Statement by NDP leader Tom Mulcair on Labour Day\",\"NDP leader announces national aerospace plan\",\"Statement by NDP leader Tom Mulcair on Quebec's commitment to help Syrian refugees\",\"NDP statement in response to Status of Women Canada report\",\"Mulcair announces auto-sector jobs strategy\",\"NDP REALITY CHECK: Liberals cut benefits and raided $50 billion from the EI fund \\u2013 and Justin Trudeau says this was the right decision\",\"NDP welcomes First Nation-led  Who Is She?  campaign \",\"Trudeau must apologize for smear on small business owners\",\"Tom Mulcair calls for donation matching program for Syria relief efforts\",\"NDP REALITY CHECK: Trudeau Liberals prefer scoring political points than helping parents with affordable, quality childcare \",\"Mulcair to create opportunities for 40,000 youth\",\"Hollett: we can't afford the Liberals' lost decades on childcare \",\"NDP REALITY CHECK: Liberal Candidate in B.C. disagrees with Trudeau's unprincipled position on C-51 \",\"Statement by NDP leader Tom Mulcair on the anniversary of September 11\",\"Mulcair announces infrastructure plan for jobs and growth\",\"Questions remain for Trudeau regarding small business \",\"NDP REALITY CHECK: First page in the Conservatives' \\u2018Wizard of Oz' Play Book: Play wedge politics with refugees and immigration\",\"Attorney General must ask public prosecutor to investigate PMO staff at Duffy trial \",\"NDP statement regarding the Syrian refugee crisis\",\"Statement by NDP leader Tom Mulcair on Rosh Hashanah\",\"Mulcair to expand home care to support 41,000 more seniors \",\"NGO new study confirms NDP infrastructure plan will create jobs, strengthen economy\",\"Bad ideas from Trudeau's  excellent  economic team: vol.1\",\"Mulcair to help five million Canadians access family doctors\",\"NDP REALITY CHECK: Stephen Harper's appointments end up in scandals, or on trial \\u2013 but is Justin Trudeau's judgment any better?\",\"NDP REALITY CHECK: Conservatives on trial: The Bruce Carson Influence Peddling and Fraud Edition \",\"NDP REALITY CHECK: Bruce Carson, lobbying and senior Liberal and Conservative Operatives \",\"NDP REALITY CHECK: Justin Trudeau is wrong about opponents of bill C-51\",\"Mulcair to launch national Alzheimer's and dementia strategy\",\"Mulcair to improve mental health care for young Canadians\",\"Bad ideas from Trudeau's  excellent  economic team: vol.2  infrastructure edition \",\"NDP REALITY CHECK: Justin Trudeau and prominent Liberals endorse NDP corporate tax plan\",\"Mulcair to improve mental health care for young Canadians\",\"NDP releases balanced fiscal plan\",\"Open letter to Mr. Trudeau: Release Your Costing\",\"NDP REALITY CHECK: Stephen Harper's real economic record \",\"Justin Trudeau's maxed out his credit card.\",\"NDP REALITY CHECK: Liberals and Conservatives side with Jack Mintz \\u2013 NDP sides with middle class families\",\"Harper's infrastructure plan stuck in neutral; Mulcair would put Canada in the fast lane\",\"Tom Mulcair outshines opponents on jobs plan \",\"Justin Trudeau has #noplan for jobs \",\"Justin Trudeau has #noplan on infrastructure\",\"Justin Trudeau has #noplan on housing\",\"Tom Mulcair champions NDP plan for strong energy sector and a clean environment  \",\"Justin Trudeau has #noplan on immigration\",\"NDP REALITY CHECK: Stephen Harper wrong on Canada's Jobs Record\",\"NDP's stable, predictable infrastructure plan is the change communities need\",\"NDP REALITY CHECK: Mulcair's jobs plan focused on today and long term\",\"NDP's plan will fix Canada's broken immigration system \",\"NDP's modest corporate tax increase lower than average rate under Liberals and Conservatives \",\"NDP will bring federal leadership back to affordable housing\",\"Tom Mulcair will invest in the middle class by asking corporations to pay their fair share\",\"Tom Mulcair wins leaders' debate on the economy\",\"Canadians to pay less for prescription drugs with Tom Mulcair \",\"What they're saying about Tom Mulcair's performance at the Leaders' Debate \",\"What they're saying about the NDP's universal prescription drug plan\",\"NDP statement regarding the Syrian refugee crisis\",\"Has Justin Trudeau put out a fiscal plan\\u2014or not?\",\"Veterans to get services and respect they deserve with Mulcair\",\"Young, precarious workers better insured with Tom Mulcair\",\"Statement by NDP leader Tom Mulcair on Yom Kippur\",\"NDP calls for Ethics Commissioner investigation\",\"Statement from NDP candidate Paul Dewar on release of Mohamed Fahmy \",\"Why won't Justin Trudeau support childcare? \",\"Hillary clinton rejects Trudeau and Harper's Keystone pipeline\",\"CBC/Radio-Canada asset sale should be halted: NDP\",\"Statement by NDP leader Tom Mulcair for Eid-al-Adha\",\"Trudeau vs. Trudeau\",\"Ontario corruption charges hit close to home for Justin Trudeau\",\"Tom Mulcair wins the French debate\",\"Canadian forestry jobs poised for growth with Mulcair\",\"What they're saying about Tom Mulcair's performance at the leaders' debate \",\"Liberals' real immigration record \\u2013 lots of rhetoric but no action\",\"Statement by Tom Mulcair for Franco-Ontarian day\",\"NDP REALITY CHECK: Tories have already broken own  tax lock  law\\u2014and know it won't stand\",\"Trudeau has maxed out his $10b credit card, so what will he cut?\",\"Trudeau's overspending on $10b deficit plan means \\u2018promises' can't be kept\",\"Canada to show leadership on climate change with Tom Mulcair\",\"Davies:  Trudeau must denounce star candidate's damaging comments re: G7\",\"NDP REALITY CHECK: Stephen Harper's Changing Story on the Iraq Combat Mission\",\"NDP REALITY CHECK: Six Liberal flip flops on the mission in Iraq\",\"NDP REALITY CHECK: Justin Trudeau didn't stand up when it counted\",\"Tom Mulcair ready to improve Canada's international reputation\",\"NDP REALITY CHECK: What Stephen Harper isn't telling you \\u2013 he used bill C-51 to play wedge politics, not to keep Canada safe\",\"NDP REALITY CHECK:  On Russia Harper is All Talk and No Action\",\"Mulcair to restore Canadian leadership on foreign aid\",\"NDP REALITY CHECK: When it comes to international trade, Harper can't seal the deal\",\"NDP REALITY CHECK: Trudeau's climate talk not backed up with action\",\"NDP REALITY CHECK: Stephen Harper misleads on climate change \",\"Tom Mulcair wins Munk debate\",\"Tom Mulcair ready to take on climate crisis  \",\"NDP REALITY CHECK: Trudeau slashes First Nations education funding\",\"What they're saying about Tom Mulcair's performance at the Munk Debate \",\"NDP release plan for supporting Canadians with disabilities\",\"Trudeau's $1.7 billion broken promise to First Nations children\",\"Improving access to healthy food in northern communities \",\"NDP statement on supply management\",\"Respect for science at the core of Mulcair climate agenda\",\"NDP REALITY CHECK: Liberals putting their trust in Tom Mulcair to bring change to Ottawa\",\"NDP leader Tom Mulcair brings his Campaign for Change to Toronto\",\"NDP REALITY CHECK: LIBERALS DON'T THINK ANY WORKERS MAKING MINIMUM WAGE DESERVE A RAISE\",\"NDP Reality Check: Stephen Harper's real record on democratic reform\",\"NDP REALITY CHECK: STEPHEN HARPER'S REAL ECONOMIC RECORD\",\"TOM MULCAIR WINS LEADERS' DEBATE\",\"NDP LEADER TOM MULCAIR BRINGS HIS CAMPAIGN FOR CHANGE TO VANCOUVER\",\"WHAT THEY'RE SAYING ABOUT TOM MULCAIR'S PERFORMANCE AT THE LEADERS' DEBATE\",\"NDP REALITY CHECK: After breaking all his previous promises, Stephen Harper makes new promises on refugees\",\"Mulcair tells his personal and political story in new book\",\"NDP leader Tom Mulcair brings his Campaign for Change to Mascouche \",\"NDP REALITY CHECK: As Duffy trial resumes \\u2026 Stephen Harper is running away as fast as he can go. \",\"NDP REALITY CHECK: Conservatives' Freedom Road duplicity exposed\",\"NDP leader Tom Mulcair brings his Campaign for Change to Danville\",\"NDP REALITY CHECK: Harper can't be trusted on the economy, or to run an ethical government \",\"NDP LEADER TOM MULCAIR BRINGS HIS CAMPAIGN FOR CHANGE TO L\\u00c9VIS \",\"NDP OUTLINES PLAN TO CLEAN UP SENATE CORRUPTION \",\"Memo to Justin Trudeau: Nothing principled about Liberal support of C-51\",\"NDP leader Tom Mulcair brings his campaign for change to Quebec City \",\"NDP REALITY CHECK: A DESPERATE JUSTIN TRUDEAU ATTACKS TOM MULCAIR PLAN FOR CHANGE\",\"Mulcair to enshrine budget transparency in law\",\"NDP REALITY CHECK: Harper is also on trial \\u2013 and a jury 33 million strong is watching\",\"Statement by the NDP on National Acadian Day\",\"Mulcair announces plan to boost Canadian tourism\",\"Mulcair announces federal action on wildfires and flood safety\",\"NDP writes RCMP on role of Wright, PMO staff in Duffy scandal\",\"Statement by the NDP on the anniversary of the Dieppe Raid\",\"Mulcair announces plan for more front-line police officers\",\"Mulcair plan to create and maintain 110,000 childcare spaces in BC\",\"Statement by the NDP on Black Ribbon Day (Commemoration of the victims of Communism and Nazism)\",\"Mulcair announces plan to lift 200,000 seniors out of poverty\",\"Statement by the NDP on Ukraine's Independence Day \",\"Mulcair slams Harper over manufacturing job losses\",\"NDP statement on the Up for Debate proposal to discuss women's issues\",\"Justin Trudeau isn't up to the job\",\"Mulcair to strengthen manufacturing with new Innovation Tax Credit \",\"Thomson: Justin Trudeau's inconsistency on the economy shows he's not up to the job\",\"Mulcair brings his Campaign for Change to Eglinton-Lawrence\",\"Reality check: on balancing the budget, Justin Trudeau doesn't know where he stands\",\"51 days to repeal C-51\",\"Mulcair brings NDP Campaign for Change to Facebook\",\"NDP calls on Stephen Harper to secure release of Mohamed Fahmy\",\"Mulcair brings his Campaign for Change to Halifax\",\"Canadians want change, Conservatives and Liberals desperately want to change the channel\",\"Infrastructures : Justin Trudeau n'a pas de plan \"],\"x\":[-12.85329532623291,32.058082580566406,-63.64299011230469,-9.40236759185791,24.14870834350586,0.24244444072246552,-6.504181861877441,42.16399002075195,33.10441589355469,-32.99834060668945,-13.20544719696045,9.94835376739502,-32.962425231933594,33.322837829589844,50.00876235961914,-30.589855194091797,72.86670684814453,38.59464645385742,-3.11549711227417,-8.69064712524414,11.93224048614502,-35.86455154418945,24.908592224121094,16.614891052246094,24.387428283691406,-26.666465759277344,18.3831787109375,47.1031494140625,-66.36648559570312,-48.62010955810547,-81.15277099609375,-33.99019241333008,-14.50330924987793,68.93961334228516,35.67595672607422,-11.379150390625,68.41852569580078,-73.03944396972656,-71.55013275146484,-74.28150939941406,7.938661098480225,71.89399719238281,72.5948486328125,-11.992513656616211,-16.37929916381836,72.1386489868164,-11.425653457641602,68.17774200439453,23.478696823120117,-12.546600341796875,5.215722560882568,34.03367233276367,21.46914291381836,-63.035133361816406,-65.33496856689453,-64.76737213134766,42.25973129272461,-65.91097259521484,-29.21449851989746,48.27225112915039,19.85257911682129,36.12355041503906,4.891225814819336,67.30799865722656,7.144142150878906,21.27535057067871,83.39027404785156,-50.519107818603516,75.3909912109375,-33.27783966064453,-6.910373210906982,66.11239624023438,29.4066162109375,-13.81447982788086,-72.27923583984375,-61.352054595947266,0.24207048118114471,-51.67888259887695,-38.75423049926758,-10.628680229187012,-31.661550521850586,-63.65255355834961,8.924745559692383,52.48519515991211,-48.77674865722656,-61.18245315551758,3.9100005626678467,-26.735567092895508,-9.424874305725098,-21.925378799438477,40.24565887451172,-53.707462310791016,-22.977378845214844,-14.475628852844238,-53.584136962890625,5.298305034637451,-23.370647430419922,3.0031092166900635,36.676326751708984,5.488668918609619,43.07365798950195,38.22345733642578,-22.135313034057617,40.23593521118164,-33.88212966918945,-48.389984130859375,0.24228696525096893,-28.841171264648438,69.44414520263672,19.834501266479492,33.70848846435547,-34.4311637878418,5.95599889755249,15.922255516052246,-25.424827575683594,-33.12810516357422,-19.850597381591797,7.533207893371582,-47.378456115722656,-20.74959945678711,4.221403121948242,7.1617431640625,-76.8674087524414,-12.076582908630371,56.56450653076172,-41.046051025390625,-75.0589828491211,11.529998779296875,-28.345767974853516,9.625079154968262,5.654180526733398,-40.75071716308594,-76.17974090576172,-0.9489694237709045,31.264793395996094,29.31182098388672,-70.81970977783203,13.929614067077637,28.509756088256836,13.551494598388672,15.424779891967773,10.049031257629395,10.414590835571289,12.412714958190918,-29.070837020874023,-31.70292854309082,47.419437408447266,-32.326820373535156,-40.82649230957031,-14.903706550598145,-26.4359130859375,-14.456695556640625,-62.68655014038086,8.613905906677246,-27.04159164428711,-51.254676818847656],\"y\":[56.618202209472656,2.4321212768554688,-50.61027908325195,-79.0991439819336,37.3868408203125,0.9704116582870483,-47.080467224121094,-6.852153301239014,54.46683883666992,-75.61630249023438,55.60161590576172,18.78939437866211,-76.64429473876953,53.648319244384766,-11.36024284362793,-77.64005279541016,15.552010536193848,-0.11128799617290497,67.8945083618164,-79.45892333984375,42.816993713378906,-77.95732116699219,42.553985595703125,13.892760276794434,43.9612922668457,-16.088315963745117,-83.89991760253906,19.686729431152344,-14.183414459228516,-24.51099395751953,-22.045534133911133,-77.67131042480469,3.6625473499298096,32.63142395019531,22.09222984313965,64.31079864501953,33.14512252807617,-28.40973472595215,-30.67136573791504,-25.298368453979492,-31.443565368652344,31.875329971313477,29.863454818725586,-20.61733055114746,62.354347229003906,29.747156143188477,62.32524108886719,35.65336990356445,26.39216423034668,61.57423782348633,57.156105041503906,22.58873176574707,23.746000289916992,40.4669303894043,41.325321197509766,40.74402618408203,-19.883411407470703,40.221153259277344,43.58306121826172,20.78752899169922,24.240617752075195,43.496273040771484,58.60250473022461,15.905705451965332,60.022438049316406,21.45399284362793,21.90121078491211,-20.364351272583008,24.459152221679688,-78.79129791259766,66.21453857421875,32.456939697265625,38.81734848022461,6.532776355743408,-29.060840606689453,-55.516334533691406,0.9703208208084106,-17.226154327392578,-39.86308288574219,2.5508546829223633,-46.58974838256836,-22.048969268798828,24.721303939819336,-7.145441055297852,-20.34263801574707,40.14202117919922,-4.639127731323242,65.80921173095703,61.90165710449219,64.0313491821289,-20.913326263427734,-18.90985679626465,-24.41390609741211,-41.666343688964844,-21.969690322875977,-43.67597198486328,-21.09610939025879,-44.026885986328125,-11.00341796875,-42.12305450439453,-27.159177780151367,-20.873159408569336,-22.860952377319336,-23.3570613861084,77.98358917236328,-18.94613265991211,0.9702967405319214,70.82593536376953,18.97409439086914,-43.62382125854492,-12.422399520874023,-26.659343719482422,17.74404525756836,37.7122802734375,-14.494007110595703,66.59404754638672,-22.875518798828125,17.788511276245117,-21.374095916748047,-32.83749008178711,29.823505401611328,7.718169689178467,-35.337162017822266,-31.245403289794922,-17.1282901763916,30.82867431640625,-35.08267593383789,-17.83009147644043,-15.590717315673828,15.588085174560547,60.65359878540039,28.3083553314209,-24.605789184570312,-4.618079662322998,3.5930380821228027,-10.937442779541016,-27.107072830200195,-76.22897338867188,-8.334468841552734,34.056270599365234,-72.77416229248047,20.731281280517578,-57.251556396484375,18.4970703125,-42.02933120727539,65.493408203125,-10.171513557434082,61.69916915893555,28.92278480529785,62.13063430786133,-16.76300811767578,29.73712730407715,-53.39870071411133,17.409549713134766,54.61093521118164,-2.1649112701416016]}},\"id\":\"520e7472-6795-4d03-aa49-36289bbe930f\",\"type\":\"ColumnDataSource\"},{\"attributes\":{\"fill_alpha\":{\"value\":0.1},\"fill_color\":{\"value\":\"#1f77b4\"},\"line_alpha\":{\"value\":0.1},\"line_color\":{\"value\":\"#1f77b4\"},\"radius\":{\"units\":\"data\",\"value\":1},\"x\":{\"field\":\"x\"},\"y\":{\"field\":\"y\"}},\"id\":\"203f79a2-6803-406c-a1aa-943ba386cbd5\",\"type\":\"Circle\"},{\"attributes\":{\"fill_alpha\":{\"value\":0.1},\"fill_color\":{\"value\":\"#1f77b4\"},\"line_alpha\":{\"value\":0.1},\"line_color\":{\"value\":\"#1f77b4\"},\"radius\":{\"units\":\"data\",\"value\":1},\"x\":{\"field\":\"x\"},\"y\":{\"field\":\"y\"}},\"id\":\"050843e4-3af6-4610-b103-d554eec247c6\",\"type\":\"Circle\"},{\"attributes\":{\"callback\":null},\"id\":\"26fb78bc-87a4-4d85-b791-276b32779968\",\"type\":\"DataRange1d\"},{\"attributes\":{\"fill_alpha\":{\"value\":0.1},\"fill_color\":{\"value\":\"#1f77b4\"},\"line_alpha\":{\"value\":0.1},\"line_color\":{\"value\":\"#1f77b4\"},\"radius\":{\"units\":\"data\",\"value\":1},\"x\":{\"field\":\"x\"},\"y\":{\"field\":\"y\"}},\"id\":\"39783caa-57bc-46ce-8de7-f5ff9a07e020\",\"type\":\"Circle\"},{\"attributes\":{\"text\":{\"field\":\"title\"},\"text_align\":\"center\",\"text_alpha\":{\"value\":0.1},\"text_baseline\":\"middle\",\"text_color\":{\"value\":\"black\"},\"text_font\":\"courier\",\"text_font_size\":{\"value\":\"11pt\"},\"x\":{\"field\":\"x\"},\"y\":{\"field\":\"y\"}},\"id\":\"c4f84983-14c5-4193-a769-d8a905c544a1\",\"type\":\"Text\"},{\"attributes\":{\"data_source\":{\"id\":\"20a859be-b3f2-4b8a-a95a-efe3cec63298\",\"type\":\"ColumnDataSource\"},\"glyph\":{\"id\":\"36c32089-2091-4866-b030-e1b2a61925a3\",\"type\":\"Circle\"},\"hover_glyph\":null,\"nonselection_glyph\":{\"id\":\"39783caa-57bc-46ce-8de7-f5ff9a07e020\",\"type\":\"Circle\"},\"selection_glyph\":null},\"id\":\"8fa0ce44-9739-4722-9d1f-06221b6b6713\",\"type\":\"GlyphRenderer\"},{\"attributes\":{\"min_border\":1,\"plot_height\":700,\"plot_width\":900,\"renderers\":[{\"id\":\"1a9eaa2e-90c1-4ed8-a587-fe3f0ad2bcc7\",\"type\":\"Legend\"},{\"id\":\"4264785a-ca83-4fcc-8a1a-5228d11fd21f\",\"type\":\"GlyphRenderer\"},{\"id\":\"6070f944-9122-4730-94fc-7c7126d263c3\",\"type\":\"GlyphRenderer\"},{\"id\":\"7c8e057c-f798-4aef-919f-4f4e0c7ae87d\",\"type\":\"GlyphRenderer\"},{\"id\":\"8fa0ce44-9739-4722-9d1f-06221b6b6713\",\"type\":\"GlyphRenderer\"},{\"id\":\"3e35422d-6e39-4caf-9f7c-91568a80d672\",\"type\":\"GlyphRenderer\"},{\"id\":\"3bc1426d-1add-4ade-ae88-658f2d5a52f3\",\"type\":\"GlyphRenderer\"}],\"title\":\"Press Releases of Canadian Federal Parties During 2015 Elections\",\"tool_events\":{\"id\":\"79c44142-fe42-4685-9066-7dd45d17208a\",\"type\":\"ToolEvents\"},\"toolbar_location\":null,\"tools\":[{\"id\":\"1ef8422f-9280-49e2-8303-095720dcee43\",\"type\":\"HoverTool\"}],\"x_range\":{\"id\":\"26fb78bc-87a4-4d85-b791-276b32779968\",\"type\":\"DataRange1d\"},\"y_range\":{\"id\":\"06663183-a352-44b0-adff-6c1e7b5e6311\",\"type\":\"DataRange1d\"}},\"id\":\"0eeaf3d5-a563-4d17-bd33-fe29c61e58bf\",\"subtype\":\"Figure\",\"type\":\"Plot\"},{\"attributes\":{\"data_source\":{\"id\":\"93cd5eec-882a-4199-afe8-eb4f3d694f6f\",\"type\":\"ColumnDataSource\"},\"glyph\":{\"id\":\"9233e6ba-7a25-4c1f-a845-be148f6f0d06\",\"type\":\"Circle\"},\"hover_glyph\":null,\"nonselection_glyph\":{\"id\":\"050843e4-3af6-4610-b103-d554eec247c6\",\"type\":\"Circle\"},\"selection_glyph\":null},\"id\":\"7c8e057c-f798-4aef-919f-4f4e0c7ae87d\",\"type\":\"GlyphRenderer\"},{\"attributes\":{\"callback\":null,\"plot\":{\"id\":\"0eeaf3d5-a563-4d17-bd33-fe29c61e58bf\",\"subtype\":\"Figure\",\"type\":\"Plot\"},\"tooltips\":[[\"title\",\"@title\"]]},\"id\":\"1ef8422f-9280-49e2-8303-095720dcee43\",\"type\":\"HoverTool\"},{\"attributes\":{\"callback\":null,\"column_names\":[\"y\",\"party\",\"_rowName\",\"x\",\"title\"],\"data\":{\"_rowName\":[\"pr10\",\"pr100\",\"pr101\",\"pr102\",\"pr103\",\"pr104\",\"pr105\",\"pr106\",\"pr107\",\"pr108\",\"pr11\",\"pr12\",\"pr13\",\"pr14\",\"pr15\",\"pr16\",\"pr17\",\"pr18\",\"pr19\",\"pr2\",\"pr20\",\"pr21\",\"pr22\",\"pr23\",\"pr24\",\"pr25\",\"pr26\",\"pr27\",\"pr28\",\"pr29\",\"pr3\",\"pr36\",\"pr37\",\"pr38\",\"pr39\",\"pr4\",\"pr40\",\"pr41\",\"pr42\",\"pr43\",\"pr44\",\"pr45\",\"pr46\",\"pr47\",\"pr48\",\"pr49\",\"pr5\",\"pr50\",\"pr51\",\"pr52\",\"pr53\",\"pr54\",\"pr55\",\"pr56\",\"pr57\",\"pr58\",\"pr59\",\"pr6\",\"pr60\",\"pr61\",\"pr62\",\"pr63\",\"pr64\",\"pr65\",\"pr66\",\"pr67\",\"pr68\",\"pr69\",\"pr7\",\"pr70\",\"pr71\",\"pr72\",\"pr73\",\"pr74\",\"pr75\",\"pr76\",\"pr77\",\"pr78\",\"pr79\",\"pr8\",\"pr80\",\"pr81\",\"pr82\",\"pr83\",\"pr84\",\"pr85\",\"pr86\",\"pr87\",\"pr88\",\"pr89\",\"pr9\",\"pr90\",\"pr91\",\"pr92\",\"pr93\",\"pr94\",\"pr95\",\"pr96\",\"pr97\",\"pr98\",\"pr99\"],\"party\":[\"conservative\",\"conservative\",\"conservative\",\"conservative\",\"conservative\",\"conservative\",\"conservative\",\"conservative\",\"conservative\",\"conservative\",\"conservative\",\"conservative\",\"conservative\",\"conservative\",\"conservative\",\"conservative\",\"conservative\",\"conservative\",\"conservative\",\"conservative\",\"conservative\",\"conservative\",\"conservative\",\"conservative\",\"conservative\",\"conservative\",\"conservative\",\"conservative\",\"conservative\",\"conservative\",\"conservative\",\"conservative\",\"conservative\",\"conservative\",\"conservative\",\"conservative\",\"conservative\",\"conservative\",\"conservative\",\"conservative\",\"conservative\",\"conservative\",\"conservative\",\"conservative\",\"conservative\",\"conservative\",\"conservative\",\"conservative\",\"conservative\",\"conservative\",\"conservative\",\"conservative\",\"conservative\",\"conservative\",\"conservative\",\"conservative\",\"conservative\",\"conservative\",\"conservative\",\"conservative\",\"conservative\",\"conservative\",\"conservative\",\"conservative\",\"conservative\",\"conservative\",\"conservative\",\"conservative\",\"conservative\",\"conservative\",\"conservative\",\"conservative\",\"conservative\",\"conservative\",\"conservative\",\"conservative\",\"conservative\",\"conservative\",\"conservative\",\"conservative\",\"conservative\",\"conservative\",\"conservative\",\"conservative\",\"conservative\",\"conservative\",\"conservative\",\"conservative\",\"conservative\",\"conservative\",\"conservative\",\"conservative\",\"conservative\",\"conservative\",\"conservative\",\"conservative\",\"conservative\",\"conservative\",\"conservative\",\"conservative\",\"conservative\"],\"title\":[\"Conservatives Target World's Human Rights Abusers by Improving Canada's Sanctions Regime\",\"Hold On To Your Wallet: Justin Trudeau's Real Plan For Canada's Middle Class\",\"Statement by the Prime Minister of Canada to celebrate the Mid-Autumn Festival\",\"Statement by Stephen Harper to mark the start of Sukkot\",\"Harper Announces Further Actions To Combat Human Trafficking\",\"Conservatives denounce Liberal plan to weaken crime laws; raise taxes and run permanent deficits\",\"Hon. James Moore And Dianne Watts Announce Commitment To Get Surrey Moving\",\"Harper Aims To Add More Than 700,000 New Canadian Homeowners By 2020\",\"Statement by the Prime Minister\",\"Oliver Highlights Conservative Plan To Cut Payroll Taxes\",\"A Re-Elected Conservative Government Will Fight Fraud Against Seniors And All Canadians With Increased Funding And Mandatory Minimum Penalties\",\"Statement By The Prime Minister\",\"Prime Minister Stephen Harper's Open Letter to the Public Service\",\"National Capital Region Candidates release Prime Minister Stephen Harper's Open Letter to the Public Service\",\"A Re-Elected Conservative Government Will Target Criminal Organizations And Increase Funding For Youth Gang Prevention\",\"STATEMENT: Harper Extends Best Wishes On The 68th Anniversary Of India's Independence\",\"Harper Announces Banned Travel Zones to Combat Terrorism\",\"Harper Highlights the Universal Child Care Benefit\",\"Harper Announces Support for Religious Freedom\",\"Statement by Stephen Harper to mark Yom Kippur, the Jewish Day of Atonement\",\"Statement by the Prime Minister\",\"Harper Announces Long-Term Support For The Canadian Partnership Against Cancer\",\"Harper Announces Long-Term Support For The Canadian Partnership Against Cancer\",\"$8 Billion Hole In Reckless NDP Spending Plans\",\"PM Harper's Low-Tax, Balanced Budget Plan Provides Benefits To All Canadian Families\",\"Prime Minister Harper Announces Support For Manufacturing Jobs In Canada\",\"Harper Announces Support For Resource Development Through An Extended And Enhanced Mining Tax Credit\",\"Harper Announces Plan To Establish A Canadian Armed Forces Reserve Unit In Yukon\",\"Prime Minister Harper Announces Measures To Support Conservation And Canada's Outdoor Community\",\"Harper Announces Funding To Support Local Museums\",\"Harper Sets Target Of 1.3 Million New Jobs By 2020\",\"Vote Harper to stop a  Netflix Tax  #nonetflixtax\",\"Prime Minister Harper Demonstrates Proven Leadership\",\"PM Harper Announces Plan To Strengthen The National Anti-Drug Strategy\",\"Conservative Party of Canada accepts second French language debate\",\"Harper Conservatives to issue new Canadian Veterans Card to all military veterans\",\"Harper highlights support for savings and retirement security\",\"Harper Announces Improvements to Highway 5 in the Northwest Territories\",\"Prime Minister Harper Announces Help For Aspiring Homeowners\",\"STATEMENT: Harper Extends Best Wishes On The 68th Anniversary Of Pakistan's Independence\",\"Harper Announces Expansion of Junior Canadian Rangers\",\"STATEMENT: Harper Extends Best Wishes On The 70th Anniversary Of South Korea's Independence\",\"Harper Conservatives To Improve Benefit For Military Veterans\",\"Prime Minister Harper Highlights Conservative Plan For Affordable Home Ownership\",\"Statement by Stephen Harper on the 73rd anniversary of the Battle of Dieppe\",\"Harper announces expansion of Canadian Armed Forces Reserves\",\"Harper Will Re-Establish College militaire de St. Jean\",\"Harper Announces  Life Means Life  As His Government's Top Justice Priority\",\"Prime Minister Harper Announces Tax Relief for Adoptive Families\",\"Stephen Harper announces plan to save Canadian small business owners' time and money\",\"Harper Announces Additional Measures to Protect BC's Natural Environment\",\"The Hon. Stockwell Day And Blair Lockhart Announce Action To Prevent Impaired Driving\",\"The Hon. Chris Alexander and the Hon. Kellie Leitch Announce Measures to Stop Barbaric Cultural Practices Against Women and Girls\",\"Statement By The Honourable Peter MacKay On The Death Of The Honourable Stewart McInnes\",\"Conservatives Announce New Measures To Support Coastal And Marine Safety In British Columbia\",\"Harper announces renewed funding for ground-breaking neurological research\",\"Harper Announces Successful Conclusion Of Trans-Pacific Partnership Negotiations\",\"Statement By Stephen Harper To Mark Eid Al-Adha\",\"Harper Announces New Support For Canadian Seniors\",\"Prime Minister Harper Announces Plan To Support Auto Jobs In Canada\",\"NDP's plan will kill at least 250,000 jobs\",\"Harper Announces New Measures To Protect Children And Increase Penalties For Serious Crimes\",\"Justin to repeal the Balanced Budget Act so he can plunge Canada into permanent $30-plus billion deficits\",\"Stephen Harper pays tribute to Canadian hero Terry Fox and marks the 35th annual Terry Fox Run\",\"Harper Announces  Maple Leaf  Designation For Canadians Who Build Global Links Benefitting Canada\",\"Prime Minister Harper Announces New Support For Manufacturing\",\"Harper Commits To New Funding To Continue Terry Fox's Fight Against Cancer.\",\"Harper Announces Further Support For People With Disabilities\",\"Harper Government Will Establish Diefenbaker Birthplace As A National Historic Site\",\"Statement By Stephen Harper On The 75th Anniversary Of The Battle Of Britain\",\"Prime Minister Harper Announces Further Support For Families Saving For Their Children's Education\",\"Prime Minister Stephen Harper Announces Payroll Tax Cut For Canadian Workers And Businesses\",\"Harper Announces New Commitments To Lobster Industry\",\"Statement by Prime Minister Stephen Harper to mark Rosh Hashanah\",\"Statement by Stephen Harper on the anniversary of 9/11 and Canada's National Day of Service\",\"Harper Renews Support For Kanishka Project On 14th Anniversary Of 9/11\",\"Harper Sets Out Plan To Lower Taxes On Job-Creating Small Businesses\",\"Statement By Stephen Harper To Mark The Feast Of Nayrouz, Or Coptic New Year\",\"Harper Outlines Balanced Budget, Low-Tax Plan To Protect Canada's Economy\",\"Hon. Jason Kenney Announces Measures To Strengthen Canada's Special Forces\",\"Statement by the Prime Minister of Canada\",\"Harper Announces Tax Relief for Service Club Members\",\"Statement by Prime Minister Stephen Harper on Black Ribbon Day\",\"Stephen Harper extends best wishes on the 24th anniversary of Ukraine's independence\",\"Statement by the Prime Minister of Canada\",\"Harper Outlines Key Parts Of His Economic Action Plan\",\"Harper Promises Broadband Expansion Into More Rural Communities\",\"Harper Announces the  Quebec Maritime Prosperity  Initiative to Foster Job Creation and Support Quebec's Maritime Strategy\",\"Conservatives Announce New Maternity And Parental Leave Benefits\",\"Harper Releases Low-Tax, Balanced-Budget Plan To Protect Canada's Economy\",\"Prime Minister Harper Announces New  Tax Lock  Law\",\"Prime Minister Harper Announces Better Foreign Credential Recognition\",\"Joe Oliver: Liberal Payroll Tax Will Cost Canadians\",\"Statement by Prime Minister Stephen Harper on the 24th anniversary of re-establishing ties with Baltic States\",\"Harper Outlines Low-Tax, Balanced-Budget Plan To Protect Benefits For Families And Seniors\",\"Stephen Harper Extends Best Wishes To Canadians On Thanksgiving\",\"Hold On To Your Wallet: Justin Trudeau's Real Plan For Canada's Middle Class\",\"Hold On To Your Wallet And Your Job: Justin Trudeau's Real Plan For Canada's Small Businesses\",\"Hold On To Your Wallet: Justin Trudeau's Real Plan For Canada's Seniors\",\"Statement by the Hon. Jason Kenney condemning attacks across Israel\",\"Liberal Plan Means Ongoing Deficits and New Tax Hikes\"],\"x\":[25.2099609375,5.361629009246826,-22.417137145996094,-18.17743682861328,-6.026811599731445,-9.030010223388672,48.33256149291992,11.659610748291016,-1.0147548913955688,10.946174621582031,-11.067710876464844,7.195582866668701,23.4693603515625,22.57044219970703,-10.216747283935547,-0.6623661518096924,25.583847045898438,33.18247604370117,23.778743743896484,-15.543207168579102,-2.0210394859313965,78.8281021118164,79.52371978759766,-3.584643602371216,4.809746742248535,52.18057632446289,40.75878143310547,38.99981689453125,33.4579963684082,28.76018714904785,4.067632675170898,12.88628101348877,3.181119680404663,-9.512246131896973,-22.52935028076172,41.06939697265625,21.142553329467773,53.81467819213867,-7.837194442749023,1.7691681385040283,37.176597595214844,-0.6190714240074158,26.17506217956543,-7.645290851593018,15.729805946350098,38.577362060546875,-20.547880172729492,-8.41193962097168,24.514707565307617,13.046640396118164,53.85877990722656,-7.748879909515381,-16.283220291137695,-32.248252868652344,32.79631042480469,78.5098876953125,27.801176071166992,-18.31686019897461,20.411170959472656,53.82970428466797,-2.727553367614746,-8.281332015991211,-4.091238975524902,-3.7580833435058594,41.175472259521484,53.30009078979492,80.86653137207031,25.240196228027344,-1.7707091569900513,14.94039249420166,24.65927505493164,10.963101387023926,28.94754981994629,-16.488691329956055,18.046663284301758,25.212295532226562,11.659411430358887,0.24222587049007416,-2.1270813941955566,37.172489166259766,27.48640251159668,27.298233032226562,15.989706039428711,14.181525230407715,26.157848358154297,5.8790974617004395,38.867984771728516,33.0278205871582,42.70615005493164,0.24233143031597137,12.573222160339355,23.91937828063965,8.443683624267578,14.972396850585938,3.119356632232666,-9.64789867401123,4.903663635253906,7.6858367919921875,4.701358795166016,22.07505989074707,-1.5644129514694214],\"y\":[-55.318355560302734,69.70292663574219,3.5788722038269043,5.462620735168457,-96.43049621582031,-94.67040252685547,18.424942016601562,70.85093688964844,7.585245132446289,67.08845520019531,-96.1563949584961,66.05144500732422,-9.611735343933105,-8.88807201385498,-94.81240844726562,-11.947042465209961,-57.93767547607422,35.196434020996094,-59.30335998535156,8.413778305053711,59.370750427246094,37.04277420043945,37.02838134765625,65.72569274902344,66.5980453491211,-8.976025581359863,-7.025387287139893,-59.489418029785156,-9.241201400756836,65.49594116210938,6.848033428192139,-14.818278312683105,9.513100624084473,-92.53555297851562,-51.3387451171875,-57.57221603393555,67.9258804321289,8.04445743560791,39.20433044433594,-12.994148254394531,-57.6127815246582,-12.773517608642578,-9.811370849609375,38.76825714111328,-76.9969253540039,-58.98148727416992,-35.818504333496094,-97.5977783203125,68.23346710205078,64.83517456054688,-32.81230545043945,-94.04708862304688,-73.46897888183594,-27.96656036376953,-0.8530729413032532,34.53364181518555,-39.603816986083984,-0.5134421586990356,68.61491394042969,-9.526910781860352,62.27610778808594,-95.39324951171875,64.87443542480469,16.34754753112793,0.6403645873069763,-9.996321678161621,37.76411056518555,66.27391815185547,-14.369260787963867,-77.21051025390625,65.75643157958984,67.78681945800781,-38.88085174560547,5.798984050750732,-82.9189453125,-59.117645263671875,63.72301483154297,0.9703855514526367,60.71577072143555,-59.62711715698242,-60.11249923706055,65.78558349609375,-71.41610717773438,-61.57084274291992,-61.25951385498047,7.155133247375488,-6.769493579864502,0.5941038727760315,43.611080169677734,0.9703813791275024,69.01593017578125,-4.146665096282959,69.81200408935547,-61.921756744384766,70.18883514404297,4.240575313568115,69.42755889892578,67.78026580810547,71.3856201171875,-59.1812858581543,65.85722351074219]}},\"id\":\"20a859be-b3f2-4b8a-a95a-efe3cec63298\",\"type\":\"ColumnDataSource\"},{\"attributes\":{\"data_source\":{\"id\":\"520e7472-6795-4d03-aa49-36289bbe930f\",\"type\":\"ColumnDataSource\"},\"glyph\":{\"id\":\"0ab7a524-c0b2-4fc1-9ce5-1126a3a4cf11\",\"type\":\"Circle\"},\"hover_glyph\":null,\"nonselection_glyph\":{\"id\":\"203f79a2-6803-406c-a1aa-943ba386cbd5\",\"type\":\"Circle\"},\"selection_glyph\":null},\"id\":\"4264785a-ca83-4fcc-8a1a-5228d11fd21f\",\"type\":\"GlyphRenderer\"},{\"attributes\":{\"callback\":null,\"column_names\":[\"y\",\"party\",\"_rowName\",\"x\",\"title\"],\"data\":{\"_rowName\":[\"pr109\",\"pr110\",\"pr111\",\"pr112\",\"pr113\",\"pr114\",\"pr115\",\"pr116\",\"pr117\",\"pr118\",\"pr119\",\"pr120\",\"pr121\",\"pr122\",\"pr123\",\"pr124\",\"pr180\",\"pr181\",\"pr182\",\"pr183\",\"pr184\",\"pr185\",\"pr186\",\"pr187\",\"pr188\",\"pr189\",\"pr190\",\"pr191\",\"pr192\",\"pr196\",\"pr198\",\"pr200\",\"pr201\",\"pr202\",\"pr203\",\"pr204\",\"pr205\",\"pr206\",\"pr207\",\"pr208\",\"pr209\",\"pr210\",\"pr211\",\"pr212\",\"pr213\",\"pr214\",\"pr215\",\"pr216\",\"pr217\",\"pr218\",\"pr219\",\"pr220\",\"pr221\",\"pr222\",\"pr223\",\"pr224\",\"pr225\",\"pr226\",\"pr227\",\"pr228\",\"pr229\",\"pr230\",\"pr231\",\"pr232\",\"pr233\",\"pr234\",\"pr235\",\"pr236\",\"pr237\",\"pr238\",\"pr239\",\"pr240\",\"pr241\",\"pr242\",\"pr243\",\"pr244\",\"pr245\",\"pr246\",\"pr247\",\"pr248\",\"pr249\",\"pr250\",\"pr251\",\"pr252\",\"pr253\",\"pr254\",\"pr255\",\"pr256\",\"pr257\"],\"party\":[\"green\",\"green\",\"green\",\"green\",\"green\",\"green\",\"green\",\"green\",\"green\",\"green\",\"green\",\"green\",\"green\",\"green\",\"green\",\"green\",\"green\",\"green\",\"green\",\"green\",\"green\",\"green\",\"green\",\"green\",\"green\",\"green\",\"green\",\"green\",\"green\",\"green\",\"green\",\"green\",\"green\",\"green\",\"green\",\"green\",\"green\",\"green\",\"green\",\"green\",\"green\",\"green\",\"green\",\"green\",\"green\",\"green\",\"green\",\"green\",\"green\",\"green\",\"green\",\"green\",\"green\",\"green\",\"green\",\"green\",\"green\",\"green\",\"green\",\"green\",\"green\",\"green\",\"green\",\"green\",\"green\",\"green\",\"green\",\"green\",\"green\",\"green\",\"green\",\"green\",\"green\",\"green\",\"green\",\"green\",\"green\",\"green\",\"green\",\"green\",\"green\",\"green\",\"green\",\"green\",\"green\",\"green\",\"green\",\"green\",\"green\"],\"title\":[\"Canadians Deprived of National Televised English Language Debate\",\"Green Party will work to restore democracy in the next Parliament\",\"Trans Pacific Partnership a threat to Canada's sovereignty says Green Party\",\"Elizabeth May Stands Up For Canadian Scientists\",\"The Green Party supports Canada's Small Business Owners\",\"Danger of Shooting War in Syria increases\",\"Elizabeth May welcomes NDP commitment to unmuzzle scientists, pledges to work collaboratively in the next minority government\",\"The Green Party is the Only Party with Both Ambitious Targets and a Practical Plan on Climate Change\",\"Greens will Protect Canada's Water\",\"Greens Pledge Support for Canadian Arts and Culture\",\"Green Party congratulates Canadian Scientist Dr. Arthur R. McDonald for Nobel Prize in Physics\",\"The Green Party will Defend Canada's Coasts\",\"Trans-Pacific Partnership Agreement is a Bad Deal for Canada\",\"Elizabeth May Meets Neil Young in Vancouver\",\"Kinder Morgan a Risk to the Economy and the Environment\",\"The Law Is Finally Applied, the Federal Government Must Now Cooperate With Montr\\u00e9al\",\"Universality and the United Nations...a Canadian Time Bomb\",\"Elizabeth May addresses Foreign Policy on Social Media Tonight\",\"Elizabeth May at Union of B.C. Indian Chiefs General Assembly - Announces Green Party Plan for First Nations\",\"Elizabeth May Clear Winner in Maclean's Debate\",\"Greens Ask Mulcair to Step up in all Debates\",\"Mulcair ignores Canadians' demands to include Elizabeth May in Leaders Debates\",\"Green Party Unveils Plan to Support Veterans\",\"Greens Welcome Incumbent MP Jos\\u00e9 N\\u00fa\\u00f1ez-Melo to the Green Party Caucus\",\"Green Party Says No to Risky Pipeline and Tanker Schemes\",\"Greens Challenge other Parties to Run Carbon Neutral Campaigns\",\"Thomas Mulcair Backs Out of Women's Debate\",\"Green Party Announces National Housing Strategy\",\"Appointment of Kinder Morgan Ally to National Energy Board Forces Delay in Hearings\",\"TVA Must Explain Why It Favours the Bloc\",\"Elizabeth May calls for Implementation of Green Party's National Seniors Strategy\",\"Greens want Bloc Invited to the National Televised English Language Debate\",\"Elizabeth May successfully uses social media to outline Green Party's foreign policy plan\",\"Foreign Affairs Briefing Book Backs Up What Elizabeth May Has Been Seeing Internationally\",\"Elizabeth May responds to Liberal plan for Clean Tech Fund; Green Party's National Sustainable Jobs Plan does more\",\"Green Party of Canada and 90,000 Quebecers say No to Tar Sands\",\"Green Party will eliminate poverty through plan for Guaranteed Liveable Income\",\"Conservatives Snub Another UN Meeting\",\"It's time for more care in Medicare: Green Party of Canada promises dental coverage for low-income youth\",\"Greens Pledge to Make Poverty History, At Home and Abroad\",\"Greens Unite Across the Pacific\",\"Selling Off CBC Properties: \\u201cWe will Remove the For Sale Sign in Front of CBC\\u201d\",\"Green Party's Plan for Cities: \\u201cIt's Time To Close the Infrastructure Gap\\u201d\",\"Green Party to Bolster Victoria's Tech Industry\",\"Green Party to Put Vancouver Island Back on Track\",\"Green Party Calls for Investment in Sustainable Energy after B.C. Earthquake\",\"Green surge on Vancouver Island - New Independent Poll\",\"Elizabeth May Calls on Federal Party Leaders to Participate in National Broadcasters' Debate\",\"Elizabeth May Meets with Islanders and Green Candidates \\u2013 Tuesday, September 1\",\"Greens condemn Mohamed Fahmy jail sentence\",\"Green Party Stands up for Canada Post\",\"Harper absent from Obama-led meeting on the threat to the Arctic\",\"Green Party Announces National Seniors Strategy\",\"Green Party Releases Television Ads\",\"Greens Demand we Defend Canada's Sovereignty\",\"Statement by Elizabeth May on the Syrian Refugee Crisis\",\"Greens want leaders to meet on Syrian crisis\",\"Greens Unveil 2015 Platform For a Canada That Works. Together.\",\"Elizabeth May responds to Mulcair's refusal to participate in national televised debates\",\"Green Party Calls on the Government to Use Military Transport to Bring Syrian Refugees to Canada\",\"KPMG Scandal: Greens Would Close Tax Haven Loopholes\",\"Green Party Announces LGBTQ+ Strategy\",\"Greens join UBCIC in calling for Calm: Unist'ot'en in Northeastern B.C. defending their land\",\"Greens partner with Twitter Canada to take part in The Globe and Mail Federal Leaders' Debate\",\"Green Party calls for action on Globe's corporate-controlled debate\",\"Elizabeth May urges the Canadian government to stop transfer of Canadians' private banking information to US\",\"Green Party's Plan will help Students and Seniors\",\"It's Time to get VIA Rail Back on Track\",\"Holding Town Halls Part of Green Party's DNA\",\"Tonight Should Have Been Debate Night: \\u201cWhy did Harper and Mulcair both Say No?\\u201d\",\"Elizabeth May says women's issues are a priority for the Green Party in \\\"Up for Debate\\\" discussion\",\"Ontario Nurses support the Green Party's Drug Plan\",\"Elizabeth May Participates in French-Language Leaders' Debate Tomorrow Night\",\"Green Party supports Vancouver Mayor's call for federal strategy on affordable housing\",\"Green Party Dismayed at CBC's Plan to Sell its Properties\",\"Elizabeth May comments on Clinton's statement on Keystone, stresses Canada has to take climate action now\",\"Elizabeth May brings a strong voice to French-language 2015 Leaders' Debate in Montreal\",\"Elizabeth May adds substance to French-language 2015 Leaders' Debate\",\"Green Party Leader Elizabeth May reacts to NDP Climate Change Announcement\",\"Greens' Pledge to Abolish Tuition Fees, Invest in Youth\",\"Green Party Announces Job Creation Plan\",\"Green Party vows to protect Canadian Parks\",\"Elizabeth May Prepares for The Globe and Mail Federal Leaders' Economy Debate tonight\",\"Elizabeth May interacted with more Canadians than any party leader during the Globe Debate\",\"The Munk Leaders' Debate is Illegal in Both Official Languages\",\"Greenpac Expert Panels endorses Green Candidates\",\"Green Party Plan Saves Canadians Over $11 billion on Prescription Drugs\",\"Women are half the Canadian population, yet not \\\"Up for debate\\\"\",\"Elizabeth May joins the Canadian Medical Association (CMA) in call for improvements to seniors care\"],\"x\":[-24.72412872314453,-30.967809677124023,22.67649269104004,59.2745361328125,48.5459098815918,16.706682205200195,-24.316177368164062,40.12593078613281,52.348567962646484,-2.353856086730957,59.7668342590332,47.3218879699707,23.646894454956055,-34.181396484375,45.92757797241211,48.03619384765625,-7.6929850578308105,-9.224749565124512,28.6425724029541,-13.078789710998535,-28.342594146728516,-22.894573211669922,-0.09455052018165588,-33.449832916259766,46.50538635253906,-0.633258044719696,-19.66014289855957,55.791847229003906,-11.888321876525879,-40.108734130859375,74.41071319580078,-25.90657615661621,-11.267179489135742,-3.4617717266082764,48.75935745239258,45.66413116455078,70.79540252685547,-5.903321266174316,74.3350830078125,70.2780532836914,23.749731063842773,-2.6560721397399902,53.530975341796875,49.83115768432617,56.54474639892578,44.44493103027344,-31.919084548950195,-24.25096321105957,-35.612159729003906,-63.51290512084961,57.35075378417969,-9.22584056854248,73.97957611083984,-28.427412033081055,24.837656021118164,-31.242351531982422,0.24231140315532684,35.081729888916016,-26.074220657348633,-32.1116943359375,11.388534545898438,12.728185653686523,40.94649124145508,-10.34924030303955,24.548295974731445,0.242371067404747,74.42797088623047,55.80373764038086,-28.79339599609375,-26.81528091430664,-28.164398193359375,81.20594024658203,-18.98821258544922,56.62736129760742,-4.121691703796387,-10.929485321044922,26.365854263305664,25.799089431762695,38.68480682373047,21.618396759033203,55.845584869384766,54.69085693359375,-11.098795890808105,-26.712854385375977,-71.92266082763672,59.891414642333984,82.23946380615234,-27.838895797729492,75.7586898803711],\"y\":[-48.9205207824707,-32.144222259521484,-47.98540496826172,-33.87152862548828,-38.43849182128906,-62.332862854003906,-55.06086349487305,-29.654645919799805,-35.17617416381836,-25.97740936279297,-34.608238220214844,-41.280513763427734,-46.45953369140625,-24.63239860534668,-39.469032287597656,-35.01591491699219,-48.90742111206055,-49.426300048828125,-13.336648941040039,-40.29545974731445,-44.673465728759766,-46.59395980834961,-55.60393142700195,-29.70243263244629,-38.76758575439453,-28.09881019592285,-43.6268424987793,10.019187927246094,-33.8464241027832,-27.445484161376953,20.008071899414062,-53.50838851928711,-47.34683609008789,-51.12058639526367,-6.46074104309082,-37.36544418334961,17.315317153930664,-49.82367706298828,25.920434951782227,16.126754760742188,-47.74309158325195,-26.965534210205078,11.283289909362793,-9.70876407623291,13.557276725769043,-40.38525390625,-31.097646713256836,-48.343528747558594,-27.845705032348633,-53.87763595581055,7.896967887878418,-43.199546813964844,19.690649032592773,-52.53752136230469,-48.59903335571289,-69.56871032714844,0.9704114198684692,-10.383431434631348,-50.64258575439453,-72.06912231445312,44.36553192138672,-27.263280868530273,-38.48856735229492,-50.68729019165039,-28.294105529785156,0.9704418182373047,21.969526290893555,15.111496925354004,-35.1055793762207,-48.000999450683594,-37.15321350097656,22.38296890258789,-48.04081344604492,10.361742973327637,-26.864999771118164,-41.96574783325195,-25.446168899536133,-26.449491500854492,-23.332807540893555,9.75252628326416,-9.46541976928711,-32.971683502197266,-51.747066497802734,-53.887245178222656,-38.540592193603516,-31.34933090209961,22.133243560791016,-38.48304748535156,19.038345336914062]}},\"id\":\"93cd5eec-882a-4199-afe8-eb4f3d694f6f\",\"type\":\"ColumnDataSource\"},{\"attributes\":{\"fill_alpha\":{\"value\":0.5},\"fill_color\":{\"value\":\"#DF0101\"},\"line_color\":{\"value\":\"#DF0101\"},\"radius\":{\"units\":\"data\",\"value\":1},\"x\":{\"field\":\"x\"},\"y\":{\"field\":\"y\"}},\"id\":\"63f27026-e687-4a66-93dd-dfb03c33040b\",\"type\":\"Circle\"},{\"attributes\":{\"text\":{\"field\":\"title\"},\"text_align\":\"center\",\"text_baseline\":\"middle\",\"text_color\":{\"value\":\"black\"},\"text_font\":\"courier\",\"text_font_size\":{\"value\":\"11pt\"},\"x\":{\"field\":\"x\"},\"y\":{\"field\":\"y\"}},\"id\":\"1952dc1e-1ac8-437e-881d-d23fe529985b\",\"type\":\"Text\"},{\"attributes\":{},\"id\":\"79c44142-fe42-4685-9066-7dd45d17208a\",\"type\":\"ToolEvents\"},{\"attributes\":{\"fill_alpha\":{\"value\":0.5},\"fill_color\":{\"value\":\"#0000FF\"},\"line_color\":{\"value\":\"#0000FF\"},\"radius\":{\"units\":\"data\",\"value\":1},\"x\":{\"field\":\"x\"},\"y\":{\"field\":\"y\"}},\"id\":\"36c32089-2091-4866-b030-e1b2a61925a3\",\"type\":\"Circle\"},{\"attributes\":{\"callback\":null,\"column_names\":[\"y\",\"party\",\"_rowName\",\"x\",\"title\"],\"data\":{\"_rowName\":[\"kw0\",\"kw1\",\"kw10\",\"kw11\",\"kw12\",\"kw13\",\"kw14\",\"kw15\",\"kw16\",\"kw17\",\"kw18\",\"kw2\",\"kw3\",\"kw4\",\"kw5\",\"kw6\",\"kw7\",\"kw8\",\"kw9\"],\"party\":[\"keyword\",\"keyword\",\"keyword\",\"keyword\",\"keyword\",\"keyword\",\"keyword\",\"keyword\",\"keyword\",\"keyword\",\"keyword\",\"keyword\",\"keyword\",\"keyword\",\"keyword\",\"keyword\",\"keyword\",\"keyword\",\"keyword\"],\"title\":[\"Justin Trudeau\",\"crime\",\"middle class\",\"military\",\"oil\",\"scandal\",\"small businesses\",\"syrian refugees\",\"tax cuts\",\"terrorism\",\"youth\",\"debate\",\"deficit\",\"education\",\"first nations\",\"health\",\"holidays\",\"infrastructures\",\"jobs\"],\"x\":[-49.080589294433594,-7.713765621185303,-21.4593448638916,24.118501663208008,47.641998291015625,-78.30412292480469,16.10836410522461,-20.790660858154297,-2.620215654373169,25.951574325561523,22.987146377563477,-16.181472778320312,-34.54359817504883,50.192291259765625,21.12240219116211,61.70206832885742,-14.809974670410156,51.935672760009766,40.06283187866211],\"y\":[1.2816383838653564,-99.15425109863281,26.393386840820312,-70.21266174316406,-42.7725715637207,-35.703819274902344,49.309391021728516,-71.02496337890625,53.29391860961914,-62.92250061035156,38.36813735961914,-56.36155700683594,62.013999938964844,31.542325973510742,-35.37963104248047,24.122840881347656,2.202521324157715,0.4053094685077667,27.78536605834961]}},\"id\":\"4de1d699-4dfe-4cc0-8be8-44c3b328181b\",\"type\":\"ColumnDataSource\"},{\"attributes\":{\"legends\":[[\"ndp\",[{\"id\":\"4264785a-ca83-4fcc-8a1a-5228d11fd21f\",\"type\":\"GlyphRenderer\"}]],[\"liberal\",[{\"id\":\"6070f944-9122-4730-94fc-7c7126d263c3\",\"type\":\"GlyphRenderer\"}]],[\"green\",[{\"id\":\"7c8e057c-f798-4aef-919f-4f4e0c7ae87d\",\"type\":\"GlyphRenderer\"}]],[\"conservative\",[{\"id\":\"8fa0ce44-9739-4722-9d1f-06221b6b6713\",\"type\":\"GlyphRenderer\"}]]],\"plot\":{\"id\":\"0eeaf3d5-a563-4d17-bd33-fe29c61e58bf\",\"subtype\":\"Figure\",\"type\":\"Plot\"}},\"id\":\"1a9eaa2e-90c1-4ed8-a587-fe3f0ad2bcc7\",\"type\":\"Legend\"},{\"attributes\":{\"fill_alpha\":{\"value\":0.6},\"fill_color\":{\"value\":\"white\"},\"height\":{\"units\":\"data\",\"value\":5},\"line_alpha\":{\"value\":0.6},\"line_color\":{\"value\":\"white\"},\"width\":{\"field\":\"width\",\"units\":\"data\"},\"x\":{\"field\":\"x\"},\"y\":{\"field\":\"y\"}},\"id\":\"b69ca0cb-21ba-44b0-b40e-0a72e43d82f8\",\"type\":\"Rect\"},{\"attributes\":{\"callback\":null,\"column_names\":[\"y\",\"party\",\"_rowName\",\"x\",\"title\",\"width\"],\"data\":{\"_rowName\":[\"kw0\",\"kw1\",\"kw10\",\"kw11\",\"kw12\",\"kw13\",\"kw14\",\"kw15\",\"kw16\",\"kw17\",\"kw18\",\"kw2\",\"kw3\",\"kw4\",\"kw5\",\"kw6\",\"kw7\",\"kw8\",\"kw9\"],\"party\":[\"keyword\",\"keyword\",\"keyword\",\"keyword\",\"keyword\",\"keyword\",\"keyword\",\"keyword\",\"keyword\",\"keyword\",\"keyword\",\"keyword\",\"keyword\",\"keyword\",\"keyword\",\"keyword\",\"keyword\",\"keyword\",\"keyword\"],\"title\":[\"Justin Trudeau\",\"crime\",\"middle class\",\"military\",\"oil\",\"scandal\",\"small businesses\",\"syrian refugees\",\"tax cuts\",\"terrorism\",\"youth\",\"debate\",\"deficit\",\"education\",\"first nations\",\"health\",\"holidays\",\"infrastructures\",\"jobs\"],\"width\":[36.0,13.5,31.0,21.0,8.5,18.5,41.0,38.5,21.0,23.5,13.5,16.0,18.5,23.5,33.5,16.0,21.0,38.5,11.0],\"x\":[-49.080589294433594,-7.713765621185303,-21.4593448638916,24.118501663208008,47.641998291015625,-78.30412292480469,16.10836410522461,-20.790660858154297,-2.620215654373169,25.951574325561523,22.987146377563477,-16.181472778320312,-34.54359817504883,50.192291259765625,21.12240219116211,61.70206832885742,-14.809974670410156,51.935672760009766,40.06283187866211],\"y\":[1.2816383838653564,-99.15425109863281,26.393386840820312,-70.21266174316406,-42.7725715637207,-35.703819274902344,49.309391021728516,-71.02496337890625,53.29391860961914,-62.92250061035156,38.36813735961914,-56.36155700683594,62.013999938964844,31.542325973510742,-35.37963104248047,24.122840881347656,2.202521324157715,0.4053094685077667,27.78536605834961]}},\"id\":\"1c7c4911-5ebe-4eaa-98a8-9c1f57341aaa\",\"type\":\"ColumnDataSource\"},{\"attributes\":{\"fill_alpha\":{\"value\":0.5},\"fill_color\":{\"value\":\"#01DF01\"},\"line_color\":{\"value\":\"#01DF01\"},\"radius\":{\"units\":\"data\",\"value\":1},\"x\":{\"field\":\"x\"},\"y\":{\"field\":\"y\"}},\"id\":\"9233e6ba-7a25-4c1f-a845-be148f6f0d06\",\"type\":\"Circle\"},{\"attributes\":{\"data_source\":{\"id\":\"4de1d699-4dfe-4cc0-8be8-44c3b328181b\",\"type\":\"ColumnDataSource\"},\"glyph\":{\"id\":\"1952dc1e-1ac8-437e-881d-d23fe529985b\",\"type\":\"Text\"},\"hover_glyph\":null,\"nonselection_glyph\":{\"id\":\"c4f84983-14c5-4193-a769-d8a905c544a1\",\"type\":\"Text\"},\"selection_glyph\":null},\"id\":\"3bc1426d-1add-4ade-ae88-658f2d5a52f3\",\"type\":\"GlyphRenderer\"},{\"attributes\":{\"fill_alpha\":{\"value\":0.1},\"fill_color\":{\"value\":\"#1f77b4\"},\"height\":{\"units\":\"data\",\"value\":5},\"line_alpha\":{\"value\":0.1},\"line_color\":{\"value\":\"#1f77b4\"},\"width\":{\"field\":\"width\",\"units\":\"data\"},\"x\":{\"field\":\"x\"},\"y\":{\"field\":\"y\"}},\"id\":\"becf6f5b-b02c-491a-9272-739612b8826a\",\"type\":\"Rect\"},{\"attributes\":{\"data_source\":{\"id\":\"1c7c4911-5ebe-4eaa-98a8-9c1f57341aaa\",\"type\":\"ColumnDataSource\"},\"glyph\":{\"id\":\"b69ca0cb-21ba-44b0-b40e-0a72e43d82f8\",\"type\":\"Rect\"},\"hover_glyph\":null,\"nonselection_glyph\":{\"id\":\"becf6f5b-b02c-491a-9272-739612b8826a\",\"type\":\"Rect\"},\"selection_glyph\":null},\"id\":\"3e35422d-6e39-4caf-9f7c-91568a80d672\",\"type\":\"GlyphRenderer\"},{\"attributes\":{\"fill_alpha\":{\"value\":0.1},\"fill_color\":{\"value\":\"#1f77b4\"},\"line_alpha\":{\"value\":0.1},\"line_color\":{\"value\":\"#1f77b4\"},\"radius\":{\"units\":\"data\",\"value\":1},\"x\":{\"field\":\"x\"},\"y\":{\"field\":\"y\"}},\"id\":\"2b7a032a-8679-4423-8aa8-6e7eb85296c7\",\"type\":\"Circle\"}],\"root_ids\":[\"0eeaf3d5-a563-4d17-bd33-fe29c61e58bf\"]},\"title\":\"Bokeh Application\",\"version\":\"0.11.1\"}};\n",
       "            var render_items = [{\"docid\":\"54d6936b-b744-4f1e-adc4-fb82f10ae169\",\"elementid\":\"80bc6611-659f-4173-bcbb-9e4d1f802c3e\",\"modelid\":\"0eeaf3d5-a563-4d17-bd33-fe29c61e58bf\",\"notebook_comms_target\":\"7100bb68-9801-4474-a846-e95671464bf8\"}];\n",
       "            \n",
       "            Bokeh.embed.embed_items(docs_json, render_items);\n",
       "        });\n",
       "      },\n",
       "      function(Bokeh) {\n",
       "      }\n",
       "    ];\n",
       "  \n",
       "    function run_inline_js() {\n",
       "      for (var i = 0; i < inline_js.length; i++) {\n",
       "        inline_js[i](window.Bokeh);\n",
       "      }\n",
       "    }\n",
       "  \n",
       "    if (window._bokeh_is_loading === 0) {\n",
       "      console.log(\"Bokeh: BokehJS loaded, going straight to plotting\");\n",
       "      run_inline_js();\n",
       "    } else {\n",
       "      load_libs(js_urls, function() {\n",
       "        console.log(\"Bokeh: BokehJS plotting callback run at\", now());\n",
       "        run_inline_js();\n",
       "      });\n",
       "    }\n",
       "  }(this));\n",
       "</script>"
      ]
     },
     "metadata": {},
     "output_type": "display_data"
    },
    {
     "data": {
      "text/html": [
       "<p><code>&lt;Bokeh Notebook handle for <strong>In[20]</strong>&gt;</code></p>"
      ],
      "text/plain": [
       "<bokeh.io._CommsHandle at 0x7fb27352af10>"
      ]
     },
     "execution_count": 20,
     "metadata": {},
     "output_type": "execute_result"
    }
   ],
   "source": [
    "fig = bp.figure(\n",
    "    plot_width=900, plot_height=700, x_axis_type=None, y_axis_type=None, min_border=1,\n",
    "    title=\"Press Releases of Canadian Federal Parties During 2015 Elections\",\n",
    "    tools = [HoverTool(tooltips=[('title', '@title')])], toolbar_location=None\n",
    ")\n",
    "\n",
    "# the colored points\n",
    "colormap = {\"ndp\": \"#FF8000\", \"liberal\": \"#DF0101\", \"conservative\": \"#0000FF\", \"green\": \"#01DF01\"}\n",
    "for party, color in colormap.iteritems():\n",
    "    fig.scatter(\n",
    "        x='x', y='y', color=color, radius=1, fill_alpha=0.5, legend=party,\n",
    "        source=bp.ColumnDataSource(pr[pr['party'] == party])\n",
    "    )\n",
    "\n",
    "# add some subtle white background for the text to be more visible\n",
    "fig.rect(\n",
    "    x='x', y='y', color='white', alpha=.6, height=5,\n",
    "    width = [1 + len(w)*2.5 for w in kw['title'].values],  # heuristic\n",
    "    source=bp.ColumnDataSource(kw)\n",
    ")\n",
    "\n",
    "# the keywords on top of the scatter plot\n",
    "fig.text(\n",
    "    x='x', y='y', text='title', text_font_size='11pt', text_color='black', text_font='courier',\n",
    "    text_align='center', text_baseline='middle',  source=bp.ColumnDataSource(kw)\n",
    ")\n",
    "\n",
    "bp.show(fig)"
   ]
  },
  {
   "cell_type": "markdown",
   "metadata": {
    "collapsed": true
   },
   "source": [
    "This plot is interactive. You can explore it by hovering over the different press releases and the tooltip will show the title of each press release. Now have fun spotting thematic biases across parties!"
   ]
  }
 ],
 "metadata": {
  "kernelspec": {
   "display_name": "Python 2",
   "language": "python",
   "name": "python2"
  },
  "language_info": {
   "codemirror_mode": {
    "name": "ipython",
    "version": 2
   },
   "file_extension": ".py",
   "mimetype": "text/x-python",
   "name": "python",
   "nbconvert_exporter": "python",
   "pygments_lexer": "ipython2",
   "version": "2.7.6"
  }
 },
 "nbformat": 4,
 "nbformat_minor": 0
}
