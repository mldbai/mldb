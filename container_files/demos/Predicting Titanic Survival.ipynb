{
 "cells": [
  {
   "cell_type": "markdown",
   "metadata": {},
   "source": [
    "# Predicting Titanic Survival\n",
    "\n",
    "From the description of a Kaggle Machine Learning Challenge at https://www.kaggle.com/c/titanic\n",
    "\n",
    "> The sinking of the RMS Titanic is one of the most infamous shipwrecks in history.  On April 15, 1912, during her maiden voyage, the Titanic sank after colliding with an iceberg, killing 1502 out of 2224 passengers and crew. This sensational tragedy shocked the international community and led to better safety regulations for ships.\n",
    "\n",
    ">One of the reasons that the shipwreck led to such loss of life was that there were not enough lifeboats for the passengers and crew. Although there was some element of luck involved in surviving the sinking, some groups of people were more likely to survive than others, such as women, children, and the upper-class.\n",
    "\n",
    "> In this challenge, we ask you to complete the analysis of what sorts of people were likely to survive. In particular, we ask you to apply the tools of machine learning to predict which passengers survived the tragedy. \n",
    "\n",
    "In this demo we will use MLDB to train a classifier to predict whether a passenger would have survived the Titanic disaster."
   ]
  },
  {
   "cell_type": "markdown",
   "metadata": {},
   "source": [
    "## Initializing `pymldb` and other imports\n",
    "\n",
    "In this demo, we will use `pymldb` to interact with the [REST API](../../../../doc/#builtin/WorkingWithRest.md.html): see the [Using `pymldb` Tutorial](../../../../doc/nblink.html#_tutorials/Using pymldb Tutorial) for more details."
   ]
  },
  {
   "cell_type": "code",
   "execution_count": 1,
   "metadata": {
    "collapsed": false
   },
   "outputs": [],
   "source": [
    "from pymldb import Connection\n",
    "mldb = Connection(\"http://localhost\")\n",
    "\n",
    "#we'll need these also later!\n",
    "import pandas as pd, matplotlib.pyplot as plt, seaborn, ipywidgets\n",
    "%matplotlib inline"
   ]
  },
  {
   "cell_type": "markdown",
   "metadata": {},
   "source": [
    "## Checking out the Titanic dataset\n",
    "\n",
    "From https://www.kaggle.com/c/titanic"
   ]
  },
  {
   "cell_type": "markdown",
   "metadata": {},
   "source": [
    "## Load up the data\n",
    "\n",
    "See the [Loading Data Tutorial](../../../../doc/nblink.html#_tutorials/Loading Data Tutorial) guide for more details on how to get data into MLDB."
   ]
  },
  {
   "cell_type": "code",
   "execution_count": 2,
   "metadata": {
    "collapsed": false
   },
   "outputs": [
    {
     "data": {
      "text/html": [
       "<strong>PUT http://localhost/v1/procedures/import_titanic_raw</strong><br /><strong style=\"color: green;\">201 Created</strong><br /> <div class=\"highlight\"><pre style=\"line-height: 125%\"><span></span>{\n",
       "  <span style=\"color: #333333; font-weight: bold\">&quot;status&quot;</span>: {\n",
       "    <span style=\"color: #333333; font-weight: bold\">&quot;firstRun&quot;</span>: {\n",
       "      <span style=\"color: #333333; font-weight: bold\">&quot;runStarted&quot;</span>: <span style=\"color: #0000dd\">&quot;2016-03-22T16:36:28.5522406Z&quot;</span>, \n",
       "      <span style=\"color: #333333; font-weight: bold\">&quot;status&quot;</span>: {\n",
       "        <span style=\"color: #333333; font-weight: bold\">&quot;numLineErrors&quot;</span>: <span style=\"color: #0000dd\">0</span>\n",
       "      }, \n",
       "      <span style=\"color: #333333; font-weight: bold\">&quot;runFinished&quot;</span>: <span style=\"color: #0000dd\">&quot;2016-03-22T16:36:28.6438239Z&quot;</span>, \n",
       "      <span style=\"color: #333333; font-weight: bold\">&quot;id&quot;</span>: <span style=\"color: #0000dd\">&quot;2016-03-22T16:36:28.552157Z-5bc7042b732cb41f&quot;</span>, \n",
       "      <span style=\"color: #333333; font-weight: bold\">&quot;state&quot;</span>: <span style=\"color: #0000dd\">&quot;finished&quot;</span>\n",
       "    }\n",
       "  }, \n",
       "  <span style=\"color: #333333; font-weight: bold\">&quot;config&quot;</span>: {\n",
       "    <span style=\"color: #333333; font-weight: bold\">&quot;params&quot;</span>: {\n",
       "      <span style=\"color: #333333; font-weight: bold\">&quot;outputDataset&quot;</span>: <span style=\"color: #0000dd\">&quot;titanic_raw&quot;</span>, \n",
       "      <span style=\"color: #333333; font-weight: bold\">&quot;runOnCreation&quot;</span>: <span style=\"color: #0000dd\">true</span>, \n",
       "      <span style=\"color: #333333; font-weight: bold\">&quot;dataFileUrl&quot;</span>: <span style=\"color: #0000dd\">&quot;http://public.mldb.ai/titanic_train.csv&quot;</span>\n",
       "    }, \n",
       "    <span style=\"color: #333333; font-weight: bold\">&quot;type&quot;</span>: <span style=\"color: #0000dd\">&quot;import.text&quot;</span>, \n",
       "    <span style=\"color: #333333; font-weight: bold\">&quot;id&quot;</span>: <span style=\"color: #0000dd\">&quot;import_titanic_raw&quot;</span>\n",
       "  }, \n",
       "  <span style=\"color: #333333; font-weight: bold\">&quot;state&quot;</span>: <span style=\"color: #0000dd\">&quot;ok&quot;</span>, \n",
       "  <span style=\"color: #333333; font-weight: bold\">&quot;type&quot;</span>: <span style=\"color: #0000dd\">&quot;import.text&quot;</span>, \n",
       "  <span style=\"color: #333333; font-weight: bold\">&quot;id&quot;</span>: <span style=\"color: #0000dd\">&quot;import_titanic_raw&quot;</span>\n",
       "}\n",
       "</pre></div>\n"
      ],
      "text/plain": [
       "<Response [201]>"
      ]
     },
     "execution_count": 2,
     "metadata": {},
     "output_type": "execute_result"
    }
   ],
   "source": [
    "mldb.put('/v1/procedures/import_titanic_raw', { \n",
    "    \"type\": \"import.text\",\n",
    "    \"params\": { \n",
    "        \"dataFileUrl\": \"http://public.mldb.ai/titanic_train.csv\",\n",
    "        \"outputDataset\": \"titanic_raw\",\n",
    "        \"runOnCreation\": True\n",
    "    } \n",
    "})"
   ]
  },
  {
   "cell_type": "markdown",
   "metadata": {},
   "source": [
    "## Let's look at the data\n",
    "\n",
    "See the [Query API](../../../../doc/#builtin/sql/QueryAPI.md.html) documentation for more details on SQL queries."
   ]
  },
  {
   "cell_type": "code",
   "execution_count": 3,
   "metadata": {
    "collapsed": false
   },
   "outputs": [
    {
     "data": {
      "text/html": [
       "<div>\n",
       "<table border=\"1\" class=\"dataframe\">\n",
       "  <thead>\n",
       "    <tr style=\"text-align: right;\">\n",
       "      <th></th>\n",
       "      <th>PassengerId</th>\n",
       "      <th>label</th>\n",
       "      <th>Pclass</th>\n",
       "      <th>Name</th>\n",
       "      <th>Sex</th>\n",
       "      <th>Age</th>\n",
       "      <th>SibSp</th>\n",
       "      <th>Parch</th>\n",
       "      <th>Ticket</th>\n",
       "      <th>Fare</th>\n",
       "      <th>Cabin</th>\n",
       "      <th>Embarked</th>\n",
       "    </tr>\n",
       "    <tr>\n",
       "      <th>_rowName</th>\n",
       "      <th></th>\n",
       "      <th></th>\n",
       "      <th></th>\n",
       "      <th></th>\n",
       "      <th></th>\n",
       "      <th></th>\n",
       "      <th></th>\n",
       "      <th></th>\n",
       "      <th></th>\n",
       "      <th></th>\n",
       "      <th></th>\n",
       "      <th></th>\n",
       "    </tr>\n",
       "  </thead>\n",
       "  <tbody>\n",
       "    <tr>\n",
       "      <th>97</th>\n",
       "      <td>96</td>\n",
       "      <td>0</td>\n",
       "      <td>3</td>\n",
       "      <td>ShorneyMr.CharlesJoseph</td>\n",
       "      <td>male</td>\n",
       "      <td>NaN</td>\n",
       "      <td>0</td>\n",
       "      <td>0</td>\n",
       "      <td>374910</td>\n",
       "      <td>8.050</td>\n",
       "      <td>None</td>\n",
       "      <td>S</td>\n",
       "    </tr>\n",
       "    <tr>\n",
       "      <th>273</th>\n",
       "      <td>272</td>\n",
       "      <td>1</td>\n",
       "      <td>3</td>\n",
       "      <td>TornquistMr.WilliamHenry</td>\n",
       "      <td>male</td>\n",
       "      <td>25</td>\n",
       "      <td>0</td>\n",
       "      <td>0</td>\n",
       "      <td>LINE</td>\n",
       "      <td>0.000</td>\n",
       "      <td>None</td>\n",
       "      <td>S</td>\n",
       "    </tr>\n",
       "    <tr>\n",
       "      <th>524</th>\n",
       "      <td>523</td>\n",
       "      <td>0</td>\n",
       "      <td>3</td>\n",
       "      <td>LahoudMr.Sarkis</td>\n",
       "      <td>male</td>\n",
       "      <td>NaN</td>\n",
       "      <td>0</td>\n",
       "      <td>0</td>\n",
       "      <td>2624</td>\n",
       "      <td>7.225</td>\n",
       "      <td>None</td>\n",
       "      <td>C</td>\n",
       "    </tr>\n",
       "    <tr>\n",
       "      <th>278</th>\n",
       "      <td>277</td>\n",
       "      <td>0</td>\n",
       "      <td>3</td>\n",
       "      <td>LindblomMiss.AugustaCharlotta</td>\n",
       "      <td>female</td>\n",
       "      <td>45</td>\n",
       "      <td>0</td>\n",
       "      <td>0</td>\n",
       "      <td>347073</td>\n",
       "      <td>7.750</td>\n",
       "      <td>None</td>\n",
       "      <td>S</td>\n",
       "    </tr>\n",
       "    <tr>\n",
       "      <th>211</th>\n",
       "      <td>210</td>\n",
       "      <td>1</td>\n",
       "      <td>1</td>\n",
       "      <td>BlankMr.Henry</td>\n",
       "      <td>male</td>\n",
       "      <td>40</td>\n",
       "      <td>0</td>\n",
       "      <td>0</td>\n",
       "      <td>112277</td>\n",
       "      <td>31.000</td>\n",
       "      <td>A31</td>\n",
       "      <td>C</td>\n",
       "    </tr>\n",
       "  </tbody>\n",
       "</table>\n",
       "</div>"
      ],
      "text/plain": [
       "          PassengerId  label  Pclass                           Name     Sex  \\\n",
       "_rowName                                                                      \n",
       "97                 96      0       3        ShorneyMr.CharlesJoseph    male   \n",
       "273               272      1       3       TornquistMr.WilliamHenry    male   \n",
       "524               523      0       3                LahoudMr.Sarkis    male   \n",
       "278               277      0       3  LindblomMiss.AugustaCharlotta  female   \n",
       "211               210      1       1                  BlankMr.Henry    male   \n",
       "\n",
       "          Age  SibSp  Parch  Ticket    Fare Cabin Embarked  \n",
       "_rowName                                                    \n",
       "97        NaN      0      0  374910   8.050  None        S  \n",
       "273        25      0      0    LINE   0.000  None        S  \n",
       "524       NaN      0      0    2624   7.225  None        C  \n",
       "278        45      0      0  347073   7.750  None        S  \n",
       "211        40      0      0  112277  31.000   A31        C  "
      ]
     },
     "execution_count": 3,
     "metadata": {},
     "output_type": "execute_result"
    }
   ],
   "source": [
    "mldb.query(\"select * from titanic_raw limit 5\")"
   ]
  },
  {
   "cell_type": "markdown",
   "metadata": {},
   "source": [
    "## Training a classifier\n",
    "\n",
    "\n",
    "We will create a [Procedure](../../../../doc/#builtin/procedures/Procedures.md.html) of type [`classifier.experiment`](../../../../doc/#builtin/procedures/ExperimentProcedure.md.html)."
   ]
  },
  {
   "cell_type": "code",
   "execution_count": 4,
   "metadata": {
    "collapsed": false
   },
   "outputs": [
    {
     "name": "stdout",
     "output_type": "stream",
     "text": [
      "\n",
      "Area under ROC curve = 0.8748\n",
      "\n"
     ]
    }
   ],
   "source": [
    "result = mldb.put('/v1/procedures/titanic_train_scorer', {\n",
    "    \"type\": \"classifier.experiment\",\n",
    "    \"params\": {\n",
    "        \"experimentName\": \"titanic\",\n",
    "        \"keepArtifacts\": True,\n",
    "        \"trainingData\": \"\"\"\n",
    "            select \n",
    "                {Sex, Age, Fare, Embarked, Parch, SibSp, Pclass} as features,\n",
    "                label\n",
    "            from titanic_raw\n",
    "        \"\"\",\n",
    "        \"modelFileUrlPattern\": \"file://models/titanic.cls\",\n",
    "        \"algorithm\": \"bbdt\",\n",
    "        \"outputAccuracyDataset\": True,\n",
    "        \"equalizationFactor\": 1,\n",
    "        \"runOnCreation\": True\n",
    "    }\n",
    "})\n",
    "\n",
    "auc = result.json()[\"status\"][\"firstRun\"][\"status\"][\"folds\"][0][\"resultsTest\"][\"auc\"]\n",
    "print \"\\nArea under ROC curve = %0.4f\\n\" % auc"
   ]
  },
  {
   "cell_type": "markdown",
   "metadata": {},
   "source": [
    "## We automatically get a REST API for predictions\n",
    "\n",
    "The procedure above created for us a [Function](../../../../doc/#builtin/functions/Functions.md.html) of type [`classifier`](../../../../doc/#builtin/functions/ClassifierApply.md.html)."
   ]
  },
  {
   "cell_type": "code",
   "execution_count": 5,
   "metadata": {
    "collapsed": false,
    "scrolled": true
   },
   "outputs": [
    {
     "data": {
      "text/html": [
       "<strong>GET http://localhost/v1/functions/titanic_scorer_0/application?input=%7B%22features%22%3A+%7B%22Fare%22%3A+50%2C+%22Embarked%22%3A+%22C%22%2C+%22Age%22%3A+40%2C+%22Parch%22%3A+4%2C+%22Pclass%22%3A+2%2C+%22Sex%22%3A+%22male%22%2C+%22SibSp%22%3A+4%7D%7D</strong><br /><strong style=\"color: green;\">200 OK</strong><br /> <div class=\"highlight\"><pre style=\"line-height: 125%\"><span></span>{\n",
       "  <span style=\"color: #333333; font-weight: bold\">&quot;output&quot;</span>: {\n",
       "    <span style=\"color: #333333; font-weight: bold\">&quot;score&quot;</span>: <span style=\"color: #0000dd\">-2.6381490230560303</span>\n",
       "  }\n",
       "}\n",
       "</pre></div>\n"
      ],
      "text/plain": [
       "<Response [200]>"
      ]
     },
     "metadata": {},
     "output_type": "display_data"
    }
   ],
   "source": [
    "@ipywidgets.interact\n",
    "def score( Age=[0,80],Embarked=[\"C\", \"Q\", \"S\"], Fare=[1,100], Parch=[0,8], Pclass=[1,3], \n",
    "            Sex=[\"male\", \"female\"], SibSp=[0,8]):\n",
    "    return mldb.get('/v1/functions/titanic_scorer_0/application', input={\"features\": locals()})"
   ]
  },
  {
   "cell_type": "markdown",
   "metadata": {},
   "source": [
    "## What's in a score?\n",
    "\n",
    "NOTE: the interactive part of this demo only works if you're running this Notebook live, not if you're looking at a static copy on http://mldb.ai. See the documentation for [Running MLDB](../../../../doc/#builtin/Running.md.html)."
   ]
  },
  {
   "cell_type": "code",
   "execution_count": 6,
   "metadata": {
    "collapsed": false
   },
   "outputs": [
    {
     "data": {
      "image/png": "[encoded data removed]",
      "text/plain": [
       "<matplotlib.figure.Figure at 0x7fbe1be57150>"
      ]
     },
     "metadata": {},
     "output_type": "display_data"
    }
   ],
   "source": [
    "accuracy = mldb.query(\"select * from titanic_results_0 order by score desc\")\n",
    "\n",
    "@ipywidgets.interact\n",
    "def accuracy_plot( threshold_index=[0,len(accuracy)-1]):\n",
    "    row = accuracy.iloc[threshold_index]\n",
    "    cols = [\"trueNegatives\",\"falsePositives\",\"falseNegatives\",\"truePositives\",]\n",
    "    f, (ax1, ax2) = plt.subplots(1, 2, figsize=(15, 5))\n",
    "    \n",
    "    accuracy.plot(ax=ax1, x=\"falsePositiveRate\", y=\"truePositiveRate\", \n",
    "    legend=False, title=\"ROC Curve, threshold=%.4f\" % row.score).set_ylabel('truePositiveRate')\n",
    "    ax1.plot(row.falsePositiveRate, row.truePositiveRate, 'gs')\n",
    "    \n",
    "    ax2.pie(row[cols], labels=cols, autopct='%1.1f%%', startangle = 90,\n",
    "            colors=['lightskyblue','lightcoral','lightcoral', 'lightskyblue'])\n",
    "    ax2.axis('equal')\n",
    "    f.subplots_adjust(hspace=.75)\n",
    "    plt.show()"
   ]
  },
  {
   "cell_type": "markdown",
   "metadata": {},
   "source": [
    "## But what is the model doing under the hood?\n",
    "\n",
    "Let's create a function of type [`classifier.explain`](../../../../doc/#builtin/functions/ClassifierExplain.md.html) to help us understand what's happening here."
   ]
  },
  {
   "cell_type": "code",
   "execution_count": 7,
   "metadata": {
    "collapsed": false
   },
   "outputs": [
    {
     "data": {
      "text/html": [
       "<strong>PUT http://localhost/v1/functions/titanic_explainer</strong><br /><strong style=\"color: green;\">201 Created</strong><br /> <div class=\"highlight\"><pre style=\"line-height: 125%\"><span></span>{\n",
       "  <span style=\"color: #333333; font-weight: bold\">&quot;status&quot;</span>: {\n",
       "    <span style=\"color: #333333; font-weight: bold\">&quot;mode&quot;</span>: <span style=\"color: #0000dd\">&quot;regression&quot;</span>, \n",
       "    <span style=\"color: #333333; font-weight: bold\">&quot;summary&quot;</span>: <span style=\"color: #0000dd\">&quot;COMMITTEE&quot;</span>\n",
       "  }, \n",
       "  <span style=\"color: #333333; font-weight: bold\">&quot;config&quot;</span>: {\n",
       "    <span style=\"color: #333333; font-weight: bold\">&quot;params&quot;</span>: {\n",
       "      <span style=\"color: #333333; font-weight: bold\">&quot;modelFileUrl&quot;</span>: <span style=\"color: #0000dd\">&quot;file://models/titanic.cls&quot;</span>\n",
       "    }, \n",
       "    <span style=\"color: #333333; font-weight: bold\">&quot;type&quot;</span>: <span style=\"color: #0000dd\">&quot;classifier.explain&quot;</span>, \n",
       "    <span style=\"color: #333333; font-weight: bold\">&quot;id&quot;</span>: <span style=\"color: #0000dd\">&quot;titanic_explainer&quot;</span>\n",
       "  }, \n",
       "  <span style=\"color: #333333; font-weight: bold\">&quot;state&quot;</span>: <span style=\"color: #0000dd\">&quot;ok&quot;</span>, \n",
       "  <span style=\"color: #333333; font-weight: bold\">&quot;type&quot;</span>: <span style=\"color: #0000dd\">&quot;classifier.explain&quot;</span>, \n",
       "  <span style=\"color: #333333; font-weight: bold\">&quot;id&quot;</span>: <span style=\"color: #0000dd\">&quot;titanic_explainer&quot;</span>\n",
       "}\n",
       "</pre></div>\n"
      ],
      "text/plain": [
       "<Response [201]>"
      ]
     },
     "execution_count": 7,
     "metadata": {},
     "output_type": "execute_result"
    }
   ],
   "source": [
    "mldb.put('/v1/functions/titanic_explainer', { \n",
    "    \"id\": \"titanic_explainer\", \n",
    "    \"type\": \"classifier.explain\",\n",
    "    \"params\": { \"modelFileUrl\": \"file://models/titanic.cls\" }\n",
    "})"
   ]
  },
  {
   "cell_type": "markdown",
   "metadata": {},
   "source": [
    "## Exploring the impact of features for a single example\n",
    "\n",
    "NOTE: the interactive part of this demo only works if you're running this Notebook live, not if you're looking at a static copy on http://mldb.ai. See the documentation for [Running MLDB](../../../../doc/#builtin/Running.md.html)."
   ]
  },
  {
   "cell_type": "code",
   "execution_count": 8,
   "metadata": {
    "collapsed": false
   },
   "outputs": [
    {
     "data": {
      "image/png": "[encoded data removed]",
      "text/plain": [
       "<matplotlib.figure.Figure at 0x7fbe1badf550>"
      ]
     },
     "metadata": {},
     "output_type": "display_data"
    }
   ],
   "source": [
    "@ipywidgets.interact\n",
    "def sliders( Age=[0,80],Embarked=[\"C\", \"Q\", \"S\"], Fare=[1,100], Parch=[0,8], Pclass=[1,3], \n",
    "            Sex=[\"male\", \"female\"], SibSp=[0,8]):\n",
    "    features = locals()\n",
    "    x = mldb.get('/v1/functions/titanic_explainer/application', input={\"features\": features, \"label\": 1}).json()[\"output\"]\n",
    "   \n",
    "    df = pd.DataFrame(\n",
    "        {\"%s=%s\" % (feat, str(features[feat])): val for (feat, (val, ts)) in x[\"explanation\"]}, \n",
    "        index=[\"val\"]).transpose().cumsum()\n",
    "    pd.DataFrame(\n",
    "        {\"cumulative score\": [x[\"bias\"]]+list(df.val)+[df.val[-1]]}, \n",
    "        index=['bias'] + list(df.index) + ['final']\n",
    "    ).plot(kind='line', drawstyle='steps-post', legend=False, figsize=(15, 5), \n",
    "           ylim=(-10, 10), title=\"Score = %.4f\" % df.val[-1]).set_ylabel('Cumulative Score')\n",
    "    \n",
    "    plt.show()\n"
   ]
  },
  {
   "cell_type": "markdown",
   "metadata": {},
   "source": [
    "## Summing up explanation values to get overall feature importance"
   ]
  },
  {
   "cell_type": "markdown",
   "metadata": {},
   "source": [
    "When we sum up the explanation values in the context of the correct label, we can get an indication of how important each feature was to making a correct classification."
   ]
  },
  {
   "cell_type": "code",
   "execution_count": 9,
   "metadata": {
    "collapsed": false
   },
   "outputs": [
    {
     "data": {
      "image/png": "[encoded data removed]",
      "text/plain": [
       "<matplotlib.figure.Figure at 0x7fbe1c385950>"
      ]
     },
     "metadata": {},
     "output_type": "display_data"
    }
   ],
   "source": [
    "df = mldb.query(\"\"\"\n",
    "select label, sum(\n",
    "    titanic_explainer({\n",
    "        label: label, \n",
    "        features: {Sex, Age, Fare, Embarked, Parch, SibSp, Pclass}\n",
    "    })[explanation]\n",
    ") as *\n",
    "from titanic_raw group by label\n",
    "\"\"\")\n",
    "df.set_index(\"label\").transpose().plot(kind='bar', title=\"Feature Importance\", figsize=(15, 5))\n",
    "plt.xticks(rotation=0)\n",
    "plt.show()"
   ]
  },
  {
   "cell_type": "markdown",
   "metadata": {
    "collapsed": true
   },
   "source": [
    "## We can also load up a custom UI for this"
   ]
  },
  {
   "cell_type": "code",
   "execution_count": 10,
   "metadata": {
    "collapsed": false
   },
   "outputs": [
    {
     "data": {
      "text/html": [
       "<strong>PUT http://localhost/v1/plugins/pytanic</strong><br /><strong style=\"color: green;\">201 Created</strong><br /> <div class=\"highlight\"><pre style=\"line-height: 125%\"><span></span>{\n",
       "  <span style=\"color: #333333; font-weight: bold\">&quot;config&quot;</span>: {\n",
       "    <span style=\"color: #333333; font-weight: bold\">&quot;params&quot;</span>: {\n",
       "      <span style=\"color: #333333; font-weight: bold\">&quot;address&quot;</span>: <span style=\"color: #0000dd\">&quot;git://github.com/datacratic/mldb-pytanic-plugin&quot;</span>\n",
       "    }, \n",
       "    <span style=\"color: #333333; font-weight: bold\">&quot;type&quot;</span>: <span style=\"color: #0000dd\">&quot;python&quot;</span>, \n",
       "    <span style=\"color: #333333; font-weight: bold\">&quot;id&quot;</span>: <span style=\"color: #0000dd\">&quot;pytanic&quot;</span>\n",
       "  }, \n",
       "  <span style=\"color: #333333; font-weight: bold\">&quot;state&quot;</span>: <span style=\"color: #0000dd\">&quot;ok&quot;</span>, \n",
       "  <span style=\"color: #333333; font-weight: bold\">&quot;type&quot;</span>: <span style=\"color: #0000dd\">&quot;python&quot;</span>, \n",
       "  <span style=\"color: #333333; font-weight: bold\">&quot;id&quot;</span>: <span style=\"color: #0000dd\">&quot;pytanic&quot;</span>\n",
       "}\n",
       "</pre></div>\n"
      ],
      "text/plain": [
       "<Response [201]>"
      ]
     },
     "execution_count": 10,
     "metadata": {},
     "output_type": "execute_result"
    }
   ],
   "source": [
    "mldb.put('/v1/plugins/pytanic', {\n",
    "    \"type\":\"python\",\n",
    "    \"params\": {\"address\": \"git://github.com/datacratic/mldb-pytanic-plugin\"}\n",
    "})"
   ]
  },
  {
   "cell_type": "markdown",
   "metadata": {},
   "source": [
    "Now you can browse to [the plugin UI](../../../../v1/plugins/pytanic/routes/static/titanic.html).\n",
    "\n",
    "NOTE: this only works if you're running this Notebook live, not if you're looking at a static copy on http://mldb.ai. See the documentation for [Running MLDB](../../../../doc/#builtin/Running.md.html)."
   ]
  },
  {
   "cell_type": "markdown",
   "metadata": {
    "collapsed": true
   },
   "source": [
    "## Where to next?\n",
    "\n",
    "Check out the other [Tutorials and Demos](../../../../doc/#builtin/Demos.md.html)."
   ]
  },
  {
   "cell_type": "code",
   "execution_count": null,
   "metadata": {
    "collapsed": true
   },
   "outputs": [],
   "source": []
  }
 ],
 "metadata": {
  "kernelspec": {
   "display_name": "Python 2",
   "language": "python",
   "name": "python2"
  },
  "language_info": {
   "codemirror_mode": {
    "name": "ipython",
    "version": 2
   },
   "file_extension": ".py",
   "mimetype": "text/x-python",
   "name": "python",
   "nbconvert_exporter": "python",
   "pygments_lexer": "ipython2",
   "version": "2.7.6"
  }
 },
 "nbformat": 4,
 "nbformat_minor": 0
}
