{
 "cells": [
  {
   "cell_type": "markdown",
   "metadata": {},
   "source": [
    "# Foreword\n",
    "\n",
    "One of the first step of any Machine Learning project is importing data into your system. One of the strenghts of \n",
    "MLDB is the ease with which you can do that with various type of sources. File importation from CSV and JSON, locally or not via many protocols (http, https, sftp, git, s3). Direct access to SentiWordNet lexical resource, Word2Vec tool and PostgreSQL. To follow up with the same trend, we just added support to one more system: MongoDB.\n",
    "\n",
    "# MLDB MongoDB Plugin Demo\n",
    "\n",
    "The present notebook demoes the 4 functionalities provided by the MLDB MongoDB Plugin.\n",
    "\n",
    "* Procedure mongodb.import\n",
    "* Dataset mongodb.dataset\n",
    "* Dataset mongodb.record\n",
    "* Function mongodb.query\n",
    "\n",
    "## Setup\n",
    "\n",
    "### MongoDB Database\n",
    "\n",
    "Our MongoDB database URI is mongodb://khan.datacratic.com:11712/zips and the collection name is zips.\n",
    "\n",
    "⚠ The MongoDB database used throughout this demo is not publicly available.\n",
    "\n",
    "### Data\n",
    "\n",
    "For this demo, we will use a MongoDB database populated with data provided by the book [MongoDB In Action](https://www.manning.com/books/mongodb-in-action). The zipped json file is available at http://mng.bz/dOpd.\n",
    "\n",
    "Here is the first record:\n",
    "\n",
    "```\n",
    "{\n",
    "    \"city\": \"ACMAR\",\n",
    "    \"zip\": \"35004\",\n",
    "    \"loc\": {\n",
    "        \"y\": 33.584131999999997,\n",
    "        \"x\": 86.515569999999997\n",
    "    },\n",
    "    \"pop\": 6055,\n",
    "    \"state\": \"AL\"\n",
    "}\n",
    "```\n",
    "\n",
    "Before continuing, let's start with our MLDB obligatory step."
   ]
  },
  {
   "cell_type": "code",
   "execution_count": 2,
   "metadata": {
    "collapsed": true
   },
   "outputs": [],
   "source": [
    "from pymldb import Connection\n",
    "mldb = Connection()"
   ]
  },
  {
   "cell_type": "markdown",
   "metadata": {},
   "source": [
    "## Procedure mongodb.import\n",
    "\n",
    "The MongoDB Import Procedure type is used to import a MongoDB collection into a dataset.\n",
    "\n",
    "See: [mongodb.import](../../../../doc/#/v1/plugins/mongodb/doc/MongoImport.md.html)\n",
    "\n",
    "\n",
    "Here we import the zips collection into an MLDB dataset called mongodb_zips."
   ]
  },
  {
   "cell_type": "code",
   "execution_count": 6,
   "metadata": {
    "collapsed": false
   },
   "outputs": [
    {
     "name": "stdout",
     "output_type": "stream",
     "text": [
      "<Response [201]>\n"
     ]
    }
   ],
   "source": [
    "print mldb.post('/v1/procedures', {\n",
    "    'type' : 'mongodb.import',\n",
    "    'params' : {\n",
    "        'connectionScheme': 'mongodb://khan.datacratic.com:11712/zips',\n",
    "        'collection': 'zips',\n",
    "        'outputDataset' : {\n",
    "            'id' : 'mongodb_zips',\n",
    "            'type' : 'sparse.mutable'\n",
    "        }\n",
    "    }\n",
    "})"
   ]
  },
  {
   "cell_type": "markdown",
   "metadata": {},
   "source": [
    "We can now query the imported data as we would any other MLDB Dataset."
   ]
  },
  {
   "cell_type": "code",
   "execution_count": 7,
   "metadata": {
    "collapsed": false
   },
   "outputs": [
    {
     "data": {
      "text/html": [
       "<div>\n",
       "<table border=\"1\" class=\"dataframe\">\n",
       "  <thead>\n",
       "    <tr style=\"text-align: right;\">\n",
       "      <th></th>\n",
       "      <th>_id</th>\n",
       "      <th>city</th>\n",
       "      <th>loc.x</th>\n",
       "      <th>loc.y</th>\n",
       "      <th>pop</th>\n",
       "      <th>state</th>\n",
       "      <th>zip</th>\n",
       "    </tr>\n",
       "    <tr>\n",
       "      <th>_rowName</th>\n",
       "      <th></th>\n",
       "      <th></th>\n",
       "      <th></th>\n",
       "      <th></th>\n",
       "      <th></th>\n",
       "      <th></th>\n",
       "      <th></th>\n",
       "    </tr>\n",
       "  </thead>\n",
       "  <tbody>\n",
       "    <tr>\n",
       "      <th>57d2f5eb21af5ee9c4e27f08</th>\n",
       "      <td>57d2f5eb21af5ee9c4e27f08</td>\n",
       "      <td>BONDURANT</td>\n",
       "      <td>110.335287</td>\n",
       "      <td>43.223798</td>\n",
       "      <td>116</td>\n",
       "      <td>WY</td>\n",
       "      <td>82922</td>\n",
       "    </tr>\n",
       "    <tr>\n",
       "      <th>57d2f5eb21af5ee9c4e27f07</th>\n",
       "      <td>57d2f5eb21af5ee9c4e27f07</td>\n",
       "      <td>KAYCEE</td>\n",
       "      <td>106.563230</td>\n",
       "      <td>43.723625</td>\n",
       "      <td>876</td>\n",
       "      <td>WY</td>\n",
       "      <td>82639</td>\n",
       "    </tr>\n",
       "    <tr>\n",
       "      <th>57d2f5eb21af5ee9c4e27f05</th>\n",
       "      <td>57d2f5eb21af5ee9c4e27f05</td>\n",
       "      <td>CLEARMONT</td>\n",
       "      <td>106.458071</td>\n",
       "      <td>44.661010</td>\n",
       "      <td>350</td>\n",
       "      <td>WY</td>\n",
       "      <td>82835</td>\n",
       "    </tr>\n",
       "    <tr>\n",
       "      <th>57d2f5eb21af5ee9c4e27f03</th>\n",
       "      <td>57d2f5eb21af5ee9c4e27f03</td>\n",
       "      <td>ARVADA</td>\n",
       "      <td>106.109191</td>\n",
       "      <td>44.689876</td>\n",
       "      <td>107</td>\n",
       "      <td>WY</td>\n",
       "      <td>82831</td>\n",
       "    </tr>\n",
       "    <tr>\n",
       "      <th>57d2f5eb21af5ee9c4e27f01</th>\n",
       "      <td>57d2f5eb21af5ee9c4e27f01</td>\n",
       "      <td>COKEVILLE</td>\n",
       "      <td>110.916419</td>\n",
       "      <td>42.057983</td>\n",
       "      <td>905</td>\n",
       "      <td>WY</td>\n",
       "      <td>83114</td>\n",
       "    </tr>\n",
       "  </tbody>\n",
       "</table>\n",
       "</div>"
      ],
      "text/plain": [
       "                                               _id       city       loc.x  \\\n",
       "_rowName                                                                    \n",
       "57d2f5eb21af5ee9c4e27f08  57d2f5eb21af5ee9c4e27f08  BONDURANT  110.335287   \n",
       "57d2f5eb21af5ee9c4e27f07  57d2f5eb21af5ee9c4e27f07     KAYCEE  106.563230   \n",
       "57d2f5eb21af5ee9c4e27f05  57d2f5eb21af5ee9c4e27f05  CLEARMONT  106.458071   \n",
       "57d2f5eb21af5ee9c4e27f03  57d2f5eb21af5ee9c4e27f03     ARVADA  106.109191   \n",
       "57d2f5eb21af5ee9c4e27f01  57d2f5eb21af5ee9c4e27f01  COKEVILLE  110.916419   \n",
       "\n",
       "                              loc.y  pop state    zip  \n",
       "_rowName                                               \n",
       "57d2f5eb21af5ee9c4e27f08  43.223798  116    WY  82922  \n",
       "57d2f5eb21af5ee9c4e27f07  43.723625  876    WY  82639  \n",
       "57d2f5eb21af5ee9c4e27f05  44.661010  350    WY  82835  \n",
       "57d2f5eb21af5ee9c4e27f03  44.689876  107    WY  82831  \n",
       "57d2f5eb21af5ee9c4e27f01  42.057983  905    WY  83114  "
      ]
     },
     "execution_count": 7,
     "metadata": {},
     "output_type": "execute_result"
    }
   ],
   "source": [
    "mldb.query(\"SELECT * FROM mongodb_zips LIMIT 5\")"
   ]
  },
  {
   "cell_type": "markdown",
   "metadata": {},
   "source": [
    "Here we did not provide any `named` parameter so oid() was used. This is why _rowName and _id have the same values.\n",
    "\n",
    "Another element to note is how the `loc` object was imported. The sub object was disassembled and imported as `loc.x` and `loc.y` into MLDB.\n",
    "\n",
    "## Dataset mongodb.dataset\n",
    "\n",
    "The MongoDB Dataset is a read only dataset based on a MongoDB collection. It is meant to be used as a bridge between MLDB and MongoDB by allowing MLDB SQL queries to run over a MongoDB collection.\n",
    "\n",
    "See: [mongodb.dataset](../../../../doc/#/v1/plugins/mongodb/doc/MongoDataset.md.html)\n",
    "\n",
    "Here we create a dataset named \"mongodb_zips_bridge\"."
   ]
  },
  {
   "cell_type": "code",
   "execution_count": 10,
   "metadata": {
    "collapsed": false
   },
   "outputs": [
    {
     "name": "stdout",
     "output_type": "stream",
     "text": [
      "<Response [201]>\n"
     ]
    }
   ],
   "source": [
    "print mldb.put('/v1/datasets/mongodb_zips_bridge', {\n",
    "    'type' : 'mongodb.dataset',\n",
    "    'params' : {\n",
    "        'connectionScheme': 'mongodb://khan.datacratic.com:11712/zips',\n",
    "        'collection': 'zips'\n",
    "    }\n",
    "})"
   ]
  },
  {
   "cell_type": "markdown",
   "metadata": {},
   "source": [
    "We can directly query it."
   ]
  },
  {
   "cell_type": "code",
   "execution_count": 14,
   "metadata": {
    "collapsed": false
   },
   "outputs": [
    {
     "data": {
      "text/html": [
       "<div>\n",
       "<table border=\"1\" class=\"dataframe\">\n",
       "  <thead>\n",
       "    <tr style=\"text-align: right;\">\n",
       "      <th></th>\n",
       "      <th>_id</th>\n",
       "      <th>city</th>\n",
       "      <th>loc.x</th>\n",
       "      <th>loc.y</th>\n",
       "      <th>pop</th>\n",
       "      <th>state</th>\n",
       "      <th>zip</th>\n",
       "    </tr>\n",
       "    <tr>\n",
       "      <th>_rowName</th>\n",
       "      <th></th>\n",
       "      <th></th>\n",
       "      <th></th>\n",
       "      <th></th>\n",
       "      <th></th>\n",
       "      <th></th>\n",
       "      <th></th>\n",
       "    </tr>\n",
       "  </thead>\n",
       "  <tbody>\n",
       "    <tr>\n",
       "      <th>60623</th>\n",
       "      <td>57d2f5eb21af5ee9c4e22302</td>\n",
       "      <td>CHICAGO</td>\n",
       "      <td>87.715700</td>\n",
       "      <td>41.849015</td>\n",
       "      <td>112047</td>\n",
       "      <td>IL</td>\n",
       "      <td>60623</td>\n",
       "    </tr>\n",
       "    <tr>\n",
       "      <th>11226</th>\n",
       "      <td>57d2f5eb21af5ee9c4e24f28</td>\n",
       "      <td>BROOKLYN</td>\n",
       "      <td>73.956985</td>\n",
       "      <td>40.646694</td>\n",
       "      <td>111396</td>\n",
       "      <td>NY</td>\n",
       "      <td>11226</td>\n",
       "    </tr>\n",
       "    <tr>\n",
       "      <th>10021</th>\n",
       "      <td>57d2f5eb21af5ee9c4e24e7f</td>\n",
       "      <td>NEW YORK</td>\n",
       "      <td>73.958805</td>\n",
       "      <td>40.768476</td>\n",
       "      <td>106564</td>\n",
       "      <td>NY</td>\n",
       "      <td>10021</td>\n",
       "    </tr>\n",
       "    <tr>\n",
       "      <th>10025</th>\n",
       "      <td>57d2f5eb21af5ee9c4e24e4f</td>\n",
       "      <td>NEW YORK</td>\n",
       "      <td>73.968312</td>\n",
       "      <td>40.797466</td>\n",
       "      <td>100027</td>\n",
       "      <td>NY</td>\n",
       "      <td>10025</td>\n",
       "    </tr>\n",
       "    <tr>\n",
       "      <th>90201</th>\n",
       "      <td>57d2f5eb21af5ee9c4e21258</td>\n",
       "      <td>BELL GARDENS</td>\n",
       "      <td>118.172050</td>\n",
       "      <td>33.969177</td>\n",
       "      <td>99568</td>\n",
       "      <td>CA</td>\n",
       "      <td>90201</td>\n",
       "    </tr>\n",
       "  </tbody>\n",
       "</table>\n",
       "</div>"
      ],
      "text/plain": [
       "                               _id          city       loc.x      loc.y  \\\n",
       "_rowName                                                                  \n",
       "60623     57d2f5eb21af5ee9c4e22302       CHICAGO   87.715700  41.849015   \n",
       "11226     57d2f5eb21af5ee9c4e24f28      BROOKLYN   73.956985  40.646694   \n",
       "10021     57d2f5eb21af5ee9c4e24e7f      NEW YORK   73.958805  40.768476   \n",
       "10025     57d2f5eb21af5ee9c4e24e4f      NEW YORK   73.968312  40.797466   \n",
       "90201     57d2f5eb21af5ee9c4e21258  BELL GARDENS  118.172050  33.969177   \n",
       "\n",
       "             pop state    zip  \n",
       "_rowName                       \n",
       "60623     112047    IL  60623  \n",
       "11226     111396    NY  11226  \n",
       "10021     106564    NY  10021  \n",
       "10025     100027    NY  10025  \n",
       "90201      99568    CA  90201  "
      ]
     },
     "execution_count": 14,
     "metadata": {},
     "output_type": "execute_result"
    }
   ],
   "source": [
    "mldb.query(\"SELECT * NAMED zip FROM mongodb_zips_bridge ORDER BY pop DESC LIMIT 5\")"
   ]
  },
  {
   "cell_type": "markdown",
   "metadata": {},
   "source": [
    "## Dataset mongodb.record\n",
    "\n",
    "The MongoDB Record Dataset is a write-only dataset that writes to a MongoDB collection. It can be used to export your data.\n",
    "\n",
    "See: [mongodb.record](../../../../doc/#/v1/plugins/mongodb/doc/MongoRecord.md.html)\n",
    "\n",
    "Here we create the dataset named \"mldb_to_mongodb\" which will write to mongodb database \"zips\" collection \"mldb_coll\"."
   ]
  },
  {
   "cell_type": "code",
   "execution_count": 10,
   "metadata": {
    "collapsed": false
   },
   "outputs": [
    {
     "name": "stdout",
     "output_type": "stream",
     "text": [
      "<Response [201]>\n"
     ]
    }
   ],
   "source": [
    "print mldb.put(\"/v1/datasets/mldb_to_mongodb\", {\n",
    "    \"type\": \"mongodb.record\",\n",
    "    \"params\": {\n",
    "        \"connectionScheme\": 'mongodb://khan.datacratic.com:11712/zips',\n",
    "        \"collection\": 'mldb_coll'\n",
    "    }\n",
    "})"
   ]
  },
  {
   "cell_type": "markdown",
   "metadata": {},
   "source": [
    "Then we record a row with 2 columns."
   ]
  },
  {
   "cell_type": "code",
   "execution_count": 18,
   "metadata": {
    "collapsed": false
   },
   "outputs": [
    {
     "name": "stdout",
     "output_type": "stream",
     "text": [
      "<Response [200]>\n"
     ]
    }
   ],
   "source": [
    "print mldb.post('/v1/datasets/mldb_to_mongodb/rows', {\n",
    "    'rowName' : 'row1',\n",
    "    'columns' : [\n",
    "        ['colA', 'valA', 0],\n",
    "        ['colB', 'valB', 0]\n",
    "    ]\n",
    "})"
   ]
  },
  {
   "cell_type": "markdown",
   "metadata": {},
   "source": [
    "--TODO-- ça fait un peu clown non?\n",
    "\n",
    "mongodb.record dataset records the row name's into MongoDB _id field. MLDB cannot read collections having non ObjectID values for the _id field so we are going to use pymongo to look at what was inserted into MongoDB.\n",
    "\n",
    "See: [PyMongo tutorial](https://api.mongodb.com/python/current/tutorial.html)"
   ]
  },
  {
   "cell_type": "code",
   "execution_count": 7,
   "metadata": {
    "collapsed": false
   },
   "outputs": [
    {
     "name": "stdout",
     "output_type": "stream",
     "text": [
      "{u'_id': u'row1', u'colB': u'valB', u'colA': u'valA'}\n"
     ]
    }
   ],
   "source": [
    "import pymongo\n",
    "from pymongo import MongoClient\n",
    "client = MongoClient('mongodb://khan.datacratic.com:11712')\n",
    "zips = client.zips\n",
    "zips.mldb_coll.find_one()"
   ]
  },
  {
   "cell_type": "markdown",
   "metadata": {},
   "source": [
    "## Function mongodb.query\n",
    "\n",
    "The MondoDB query function allows the creation of a function to perform an MLDB SQL query against a MongoDB collection. It acts similarly to the SQL Query function.\n",
    "\n",
    "See: [mongodb.query](../../../../doc/#/v1/plugins/mongodb/doc/MongoQuery.md.html)\n",
    "    \n",
    "Here we create the query function on the MongoDB zips database zips collection."
   ]
  },
  {
   "cell_type": "code",
   "execution_count": 17,
   "metadata": {
    "collapsed": false
   },
   "outputs": [
    {
     "name": "stdout",
     "output_type": "stream",
     "text": [
      "<Response [201]>\n"
     ]
    }
   ],
   "source": [
    "print mldb.put(\"/v1/functions/mongo_query\", {\n",
    "    \"type\": \"mongodb.query\",\n",
    "    \"params\": {\n",
    "        \"connectionScheme\": 'mongodb://khan.datacratic.com:11712/zips',\n",
    "        \"collection\": 'zips'\n",
    "    }\n",
    "})"
   ]
  },
  {
   "cell_type": "markdown",
   "metadata": {},
   "source": [
    "A direct call to the function looks like"
   ]
  },
  {
   "cell_type": "code",
   "execution_count": 33,
   "metadata": {
    "collapsed": false
   },
   "outputs": [
    {
     "data": {
      "text/plain": [
       "{u'output': {u'_id': u'57d2f5eb21af5ee9c4e22302',\n",
       "  u'city': u'CHICAGO',\n",
       "  u'loc': [[u'x', [87.7157, u'2016-09-09T17:48:27Z']],\n",
       "   [u'y', [41.849015, u'2016-09-09T17:48:27Z']]],\n",
       "  u'pop': 112047,\n",
       "  u'state': u'IL',\n",
       "  u'zip': u'60623'}}"
      ]
     },
     "execution_count": 33,
     "metadata": {},
     "output_type": "execute_result"
    }
   ],
   "source": [
    "import json\n",
    "mldb.get('/v1/functions/mongo_query/application',\n",
    "    input={'query' : json.dumps({'zip' : {'$eq' : '60623'}})}\n",
    ").json()"
   ]
  },
  {
   "cell_type": "markdown",
   "metadata": {},
   "source": [
    "Here is an example of the function beign used within a query."
   ]
  },
  {
   "cell_type": "code",
   "execution_count": 32,
   "metadata": {
    "collapsed": false
   },
   "outputs": [
    {
     "data": {
      "text/html": [
       "<div>\n",
       "<table border=\"1\" class=\"dataframe\">\n",
       "  <thead>\n",
       "    <tr style=\"text-align: right;\">\n",
       "      <th></th>\n",
       "      <th>_id</th>\n",
       "      <th>city</th>\n",
       "      <th>loc.x</th>\n",
       "      <th>loc.y</th>\n",
       "      <th>pop</th>\n",
       "      <th>state</th>\n",
       "      <th>zip</th>\n",
       "    </tr>\n",
       "    <tr>\n",
       "      <th>_rowName</th>\n",
       "      <th></th>\n",
       "      <th></th>\n",
       "      <th></th>\n",
       "      <th></th>\n",
       "      <th></th>\n",
       "      <th></th>\n",
       "      <th></th>\n",
       "    </tr>\n",
       "  </thead>\n",
       "  <tbody>\n",
       "    <tr>\n",
       "      <th>result</th>\n",
       "      <td>57d2f5eb21af5ee9c4e24e4f</td>\n",
       "      <td>NEW YORK</td>\n",
       "      <td>73.968312</td>\n",
       "      <td>40.797466</td>\n",
       "      <td>100027</td>\n",
       "      <td>NY</td>\n",
       "      <td>10025</td>\n",
       "    </tr>\n",
       "  </tbody>\n",
       "</table>\n",
       "</div>"
      ],
      "text/plain": [
       "                               _id      city      loc.x      loc.y     pop  \\\n",
       "_rowName                                                                     \n",
       "result    57d2f5eb21af5ee9c4e24e4f  NEW YORK  73.968312  40.797466  100027   \n",
       "\n",
       "         state    zip  \n",
       "_rowName               \n",
       "result      NY  10025  "
      ]
     },
     "execution_count": 32,
     "metadata": {},
     "output_type": "execute_result"
    }
   ],
   "source": [
    "mldb.query(\"\"\"\n",
    "    SELECT mongo_query({query: '{\"loc.x\" : {\"$eq\" : 73.968312}}'}) AS *\n",
    "\"\"\")"
   ]
  },
  {
   "cell_type": "markdown",
   "metadata": {
    "collapsed": true
   },
   "source": [
    "# Conclusion"
   ]
  },
  {
   "cell_type": "markdown",
   "metadata": {},
   "source": [
    "That covers the 4 functionalities made available by the MongoDB MLDB Plugin. To learn more about MLDB and even try it freely, head to http://mldb.ai. There are also more demoes availables at https://docs.mldb.ai/doc/#builtin/Demos.md.html."
   ]
  }
 ],
 "metadata": {
  "kernelspec": {
   "display_name": "Python 2",
   "language": "python",
   "name": "python2"
  },
  "language_info": {
   "codemirror_mode": {
    "name": "ipython",
    "version": 2
   },
   "file_extension": ".py",
   "mimetype": "text/x-python",
   "name": "python",
   "nbconvert_exporter": "python",
   "pygments_lexer": "ipython2",
   "version": "2.7.6"
  }
 },
 "nbformat": 4,
 "nbformat_minor": 0
}
