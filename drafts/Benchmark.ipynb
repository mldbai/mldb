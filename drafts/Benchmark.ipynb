{
 "cells": [
  {
   "cell_type": "code",
   "execution_count": 1,
   "metadata": {
    "collapsed": true
   },
   "outputs": [],
   "source": [
    "%%bash\n",
    "mkdir -p /mldb_data/data\n",
    "curl \"https://s3.amazonaws.com/benchm-ml--main/train-1m.csv\" 2>/dev/null  > /mldb_data/data/train-1m.csv\n",
    "curl \"https://s3.amazonaws.com/benchm-ml--main/test.csv\" 2>/dev/null  > /mldb_data/data/test.csv"
   ]
  },
  {
   "cell_type": "code",
   "execution_count": 3,
   "metadata": {
    "collapsed": true
   },
   "outputs": [],
   "source": [
    "from pymldb import Connection\n",
    "mldb = Connection()"
   ]
  },
  {
   "cell_type": "code",
   "execution_count": 18,
   "metadata": {
    "collapsed": false
   },
   "outputs": [
    {
     "name": "stdout",
     "output_type": "stream",
     "text": [
      "\n",
      "\n",
      "AUC = 0.7417\n",
      "\n",
      "\n",
      "CPU times: user 4.68 ms, sys: 4.62 ms, total: 9.3 ms\n",
      "Wall time: 16.4 s\n"
     ]
    }
   ],
   "source": [
    "%%time\n",
    "\n",
    "mldb.v1.procedures(\"benchmark\").put_json({\n",
    "    \"type\": \"classifier.experiment\",\n",
    "    \"params\": {\n",
    "        \"experimentName\": \"benchm_ml\",\n",
    "        \"training_dataset\": {\n",
    "            \"type\": \"text.csv.tabular\",\n",
    "            \"params\": { \"dataFileUrl\": \"file:///mldb_data/data/train-1m.csv\" }\n",
    "        },\n",
    "        \"testing_dataset\": {\n",
    "            \"type\": \"text.csv.tabular\",\n",
    "            \"params\": { \"dataFileUrl\": \"file:///mldb_data/data/test.csv\" }\n",
    "        },\n",
    "        \"configuration\": {\n",
    "            \"type\": \"bagging\",\n",
    "            \"num_bags\": 100,\n",
    "            \"validation_split\": 0.50,\n",
    "            \"weak_learner\": {\n",
    "                \"type\": \"decision_tree\",\n",
    "                \"max_depth\": 19,\n",
    "                \"random_feature_propn\": 0.5\n",
    "            }\n",
    "        },\n",
    "        \"modelFileUrlPattern\": \"file://tmp/models/benchml_$runid.cls\",\n",
    "        \"label\": \"dep_delayed_15min = 'Y'\",\n",
    "        \"select\": \"* EXCLUDING(dep_delayed_15min)\",\n",
    "        \"mode\": \"boolean\"\n",
    "    }\n",
    "})\n",
    "\n",
    "result = mldb.v1.procedures(\"benchmark\").runs.post_json({})\n",
    "print \"\\n\\nAUC = %0.4f\\n\\n\" % result.json()[\"status\"][\"folds\"][0][\"results\"][\"auc\"]"
   ]
  },
  {
   "cell_type": "code",
   "execution_count": null,
   "metadata": {
    "collapsed": true
   },
   "outputs": [],
   "source": []
  }
 ],
 "metadata": {
  "kernelspec": {
   "display_name": "Python 2",
   "language": "python",
   "name": "python2"
  },
  "language_info": {
   "codemirror_mode": {
    "name": "ipython",
    "version": 2
   },
   "file_extension": ".py",
   "mimetype": "text/x-python",
   "name": "python",
   "nbconvert_exporter": "python",
   "pygments_lexer": "ipython2",
   "version": "2.7.6"
  }
 },
 "nbformat": 4,
 "nbformat_minor": 0
}
