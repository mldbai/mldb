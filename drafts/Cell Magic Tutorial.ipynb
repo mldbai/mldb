{
 "cells": [
  {
   "cell_type": "markdown",
   "metadata": {},
   "source": [
    "# Cell Magic Tutorial\n",
    "\n",
    "Interactions with MLDB occurs via a [REST API](/doc#builtin/WorkingWithRest.md.html). Interacting with a REST API over HTTP from a Notebook interface can be a little bit laborious if you're using a general-purpose Python library like [`requests`](http://docs.python-requests.org/en/latest/) directly, so MLDB comes with a Python library called [`pymldb`](https://github.com/datacratic/pymldb) to ease the pain.\n",
    "\n",
    "`pymldb` does this in three ways:\n",
    "\n",
    "* **the `%mldb` magics**: these are Jupyter line- and cell-magic commands which allow you to make raw HTTP calls to MLDB, and also provides some higher-level functions. This tutorial shows you how to use them.\n",
    "* **the Python `Resource` class**: this is simple class which wraps the `requests` library so as to make HTTP calls to the MLDB API more friendly in a Notebook environment. Check out the [Resource Wrapper Tutorial](/doc/nblink.html#Resource Wrapper Tutorial) for more info on the `Resource` class.\n",
    "* **the Python `BatFrame` class**: this is a class that behaves like the Pandas DataFrame but offloads computation to the server via HTTP calls. Check out the [BatFrame Tutorial](/doc/nblink.html#BatFrame Tutorial) for more info on the BatFrame."
   ]
  },
  {
   "cell_type": "markdown",
   "metadata": {},
   "source": [
    "# The `%mldb` Magic System"
   ]
  },
  {
   "cell_type": "markdown",
   "metadata": {
    "collapsed": true
   },
   "source": [
    "## Basic Magic\n",
    "\n",
    "We'll start by initializing the `%mldb` magic system"
   ]
  },
  {
   "cell_type": "code",
   "execution_count": 1,
   "metadata": {
    "collapsed": false
   },
   "outputs": [
    {
     "name": "stdout",
     "output_type": "stream",
     "text": [
      "mldb magic initialized with host as http://localhost\n"
     ]
    }
   ],
   "source": [
    "%reload_ext pymldb"
   ]
  },
  {
   "cell_type": "markdown",
   "metadata": {},
   "source": [
    "And then we'll ask it for some help"
   ]
  },
  {
   "cell_type": "code",
   "execution_count": 2,
   "metadata": {
    "collapsed": false,
    "scrolled": true
   },
   "outputs": [
    {
     "name": "stdout",
     "output_type": "stream",
     "text": [
      "Usage:\n",
      "\n",
      "  Line magic functions:\n",
      "\n",
      "    %mldb help          \n",
      "                        Print this message\n",
      "    \n",
      "    %mldb init <url>    \n",
      "                        Initialize the plugins for the cell magics.\n",
      "                        Extension comes pre-initialized with <uri> \n",
      "                        set to \"http://localhost\"\n",
      "    \n",
      "    %mldb doc <kind>/<type>    \n",
      "                        Shows documentation in an iframe. <kind> can\n",
      "                        be one of \"datasets\", \"functions\", \"procedures\" or\n",
      "                        \"plugins\" and <type> can be one of the installed\n",
      "                        types, e.g. procedures/classifier. NB this will \n",
      "                        only work with an MLDB-hosted Notebook for now.\n",
      "\n",
      "    %mldb query <sql>\n",
      "                        Run an SQL-like query and return a pandas \n",
      "                        DataFrame. Dataset selection is done via the \n",
      "                        FROM clause.\n",
      "\n",
      "    %mldb loadcsv <dataset> <url>\n",
      "                        Create a dataset with id <dataset> from a CSV\n",
      "                        hosted at the HTTP url <url>.\n",
      "                        \n",
      "    %mldb py <uri> <json args>\n",
      "                        Run a python script named \"main.py\" from <uri>\n",
      "                        and pass in <json args> as arguments.\n",
      "                        <uri> can be one of:\n",
      "                          - file://<rest of the uri>: a local directory\n",
      "                          - gist://<rest of the uri>: a gist\n",
      "                          - git://<rest of the uri>: a public git repo\n",
      "                          - http(s)://<rest of the uri>: a file on the web\n",
      "\n",
      "    %mldb pyplugin <name> <uri>\n",
      "                        Load a python plugin called <name> from <uri> \n",
      "                        by executing its main.py. Any pre-existing plugin\n",
      "                        called <name> will be deleted first.\n",
      "                        <uri> can be one of:\n",
      "                          - file://<rest of the uri>: a local directory\n",
      "                          - gist://<rest of the uri>: a gist\n",
      "                          - git://<rest of the uri>: a public git repo\n",
      "                          - http(s)://<rest of the uri>: a file on the web\n",
      "                          \n",
      "    %mldb GET <route>\n",
      "    %mldb DELETE <route>\n",
      "                        HTTP GET/DELETE request to <route>. <route> should\n",
      "                        start with a '/'.\n",
      "                        \n",
      "    %mldb GET <route> <json query params>\t\t\n",
      "                        HTTP GET request to <route>, JSON will be used to \t\t\n",
      "                        create query string. <route> should start with a '/'.\t\t\n",
      "                        \n",
      "    %mldb PUT <route> <json>\n",
      "    %mldb POST <route> <json>\n",
      "                        HTTP PUT/POST request to <route>, <json> will\n",
      "                        be sent as JSON payload. <route> should start\n",
      "                        with a '/'.\n",
      "       \n",
      "                        \n",
      "  Cell magic functions:\n",
      "\n",
      "    %%mldb py <json args>\n",
      "    <python code>\n",
      "                        Run a python script in MLDB from the cell body.\n",
      "    \n",
      "    %%mldb query\n",
      "    <sql>\n",
      "                        Run an SQL-like query from the cell body and return\n",
      "                        a pandas DataFrame. Dataset selection is done via\n",
      "                        the FROM clause.\n",
      "    \n",
      "    %mldb loadcsv <dataset>\n",
      "    <csv>\n",
      "                        Create a dataset with id <dataset> from a CSV\n",
      "                        in the cell body.\n",
      "                        \n",
      "    %%mldb GET <route>\n",
      "    <json query params>\n",
      "                        HTTP GET request to <route>, cell body will be\n",
      "                        parsed as JSON and used to create query string.\n",
      "                        <route> should start with a '/'.\n",
      "                        \n",
      "    %%mldb PUT <route>\n",
      "    <json>\n",
      "    %%mldb POST <route>\n",
      "    <json>\n",
      "                        HTTP PUT/POST request to <route>, cell body will\n",
      "                        be sent as JSON payload. <route> should start\n",
      "                        with a '/'.\n",
      "\n"
     ]
    }
   ],
   "source": [
    "%mldb help"
   ]
  },
  {
   "cell_type": "markdown",
   "metadata": {},
   "source": [
    "The most basic way in which the `%mldb` magic can help us with MLDB's REST API is by allowing us to type natural-feeling REST commands, like this one, which will list all of the available dataset types:"
   ]
  },
  {
   "cell_type": "code",
   "execution_count": 3,
   "metadata": {
    "collapsed": false
   },
   "outputs": [
    {
     "data": {
      "text/html": [
       "<strong>GET http://localhost/v1/types/datasets</strong><br /><strong style=\"color: green;\">200 OK</strong><br /> <div class=\"highlight\"><pre style=\"line-height: 125%\">[\n",
       "  <span style=\"color: #0000dd\">&quot;beh&quot;</span>, \n",
       "  <span style=\"color: #0000dd\">&quot;beh.binary&quot;</span>, \n",
       "  <span style=\"color: #0000dd\">&quot;beh.live&quot;</span>, \n",
       "  <span style=\"color: #0000dd\">&quot;beh.mutable&quot;</span>, \n",
       "  <span style=\"color: #0000dd\">&quot;beh.ranged&quot;</span>, \n",
       "  <span style=\"color: #0000dd\">&quot;embedding&quot;</span>, \n",
       "  <span style=\"color: #0000dd\">&quot;merged&quot;</span>, \n",
       "  <span style=\"color: #0000dd\">&quot;sqliteSparse&quot;</span>, \n",
       "  <span style=\"color: #0000dd\">&quot;transposed&quot;</span>\n",
       "]\n",
       "</pre></div>\n"
      ],
      "text/plain": [
       "<Response [200]>"
      ]
     },
     "execution_count": 3,
     "metadata": {},
     "output_type": "execute_result"
    }
   ],
   "source": [
    "%mldb GET /v1/types/datasets"
   ]
  },
  {
   "cell_type": "markdown",
   "metadata": {},
   "source": [
    "You can use similar syntax to run PUT, POST and DELETE queries as well."
   ]
  },
  {
   "cell_type": "markdown",
   "metadata": {},
   "source": [
    "## Advanced Magic\n",
    "\n",
    "The `%mldb` magic system also includes syntax to do more advanced operations like loading and querying data. Let's load the dataset from the [Predicting Titanic Survival](/doc/nblink.html#Predicting Titanic Survival) demo with a single command (after deleting it first if it's already loaded):"
   ]
  },
  {
   "cell_type": "code",
   "execution_count": 4,
   "metadata": {
    "collapsed": false
   },
   "outputs": [
    {
     "name": "stdout",
     "output_type": "stream",
     "text": [
      "Success!\n"
     ]
    }
   ],
   "source": [
    "%mldb DELETE /v1/datasets/titanic\n",
    "%mldb loadcsv titanic https://raw.githubusercontent.com/datacratic/mldb-pytanic-plugin/master/titanic_train.csv"
   ]
  },
  {
   "cell_type": "markdown",
   "metadata": {},
   "source": [
    "And now let's run an [SQL query](/doc/#builtin/sql/Sql.md.html) on it:"
   ]
  },
  {
   "cell_type": "code",
   "execution_count": 5,
   "metadata": {
    "collapsed": false
   },
   "outputs": [
    {
     "data": {
      "text/html": [
       "<div style=\"max-height:1000px;max-width:1500px;overflow:auto;\">\n",
       "<table border=\"1\" class=\"dataframe\">\n",
       "  <thead>\n",
       "    <tr style=\"text-align: right;\">\n",
       "      <th></th>\n",
       "      <th>Age</th>\n",
       "      <th>Cabin</th>\n",
       "      <th>Embarked</th>\n",
       "      <th>Fare</th>\n",
       "      <th>Name</th>\n",
       "      <th>Parch</th>\n",
       "      <th>PassengerId</th>\n",
       "      <th>Pclass</th>\n",
       "      <th>Sex</th>\n",
       "      <th>SibSp</th>\n",
       "      <th>Ticket</th>\n",
       "      <th>label</th>\n",
       "    </tr>\n",
       "    <tr>\n",
       "      <th>_rowName</th>\n",
       "      <th></th>\n",
       "      <th></th>\n",
       "      <th></th>\n",
       "      <th></th>\n",
       "      <th></th>\n",
       "      <th></th>\n",
       "      <th></th>\n",
       "      <th></th>\n",
       "      <th></th>\n",
       "      <th></th>\n",
       "      <th></th>\n",
       "      <th></th>\n",
       "    </tr>\n",
       "  </thead>\n",
       "  <tbody>\n",
       "    <tr>\n",
       "      <th>0</th>\n",
       "      <td>22</td>\n",
       "      <td></td>\n",
       "      <td>S</td>\n",
       "      <td>7.25</td>\n",
       "      <td>BraundMr.OwenHarris</td>\n",
       "      <td>0</td>\n",
       "      <td>1</td>\n",
       "      <td>3</td>\n",
       "      <td>male</td>\n",
       "      <td>1</td>\n",
       "      <td>A/521171</td>\n",
       "      <td>0</td>\n",
       "    </tr>\n",
       "    <tr>\n",
       "      <th>97</th>\n",
       "      <td>23</td>\n",
       "      <td>D10D12</td>\n",
       "      <td>C</td>\n",
       "      <td>63.3583</td>\n",
       "      <td>GreenfieldMr.WilliamBertram</td>\n",
       "      <td>1</td>\n",
       "      <td>98</td>\n",
       "      <td>1</td>\n",
       "      <td>male</td>\n",
       "      <td>0</td>\n",
       "      <td>PC17759</td>\n",
       "      <td>1</td>\n",
       "    </tr>\n",
       "    <tr>\n",
       "      <th>273</th>\n",
       "      <td>37</td>\n",
       "      <td>C118</td>\n",
       "      <td>C</td>\n",
       "      <td>29.7</td>\n",
       "      <td>NatschMr.CharlesH</td>\n",
       "      <td>1</td>\n",
       "      <td>274</td>\n",
       "      <td>1</td>\n",
       "      <td>male</td>\n",
       "      <td>0</td>\n",
       "      <td>PC17596</td>\n",
       "      <td>0</td>\n",
       "    </tr>\n",
       "    <tr>\n",
       "      <th>524</th>\n",
       "      <td></td>\n",
       "      <td></td>\n",
       "      <td>C</td>\n",
       "      <td>7.2292</td>\n",
       "      <td>KassemMr.Fared</td>\n",
       "      <td>0</td>\n",
       "      <td>525</td>\n",
       "      <td>3</td>\n",
       "      <td>male</td>\n",
       "      <td>0</td>\n",
       "      <td>2700</td>\n",
       "      <td>0</td>\n",
       "    </tr>\n",
       "    <tr>\n",
       "      <th>278</th>\n",
       "      <td>7</td>\n",
       "      <td></td>\n",
       "      <td>Q</td>\n",
       "      <td>29.125</td>\n",
       "      <td>RiceMaster.Eric</td>\n",
       "      <td>1</td>\n",
       "      <td>279</td>\n",
       "      <td>3</td>\n",
       "      <td>male</td>\n",
       "      <td>4</td>\n",
       "      <td>382652</td>\n",
       "      <td>0</td>\n",
       "    </tr>\n",
       "  </tbody>\n",
       "</table>\n",
       "</div>"
      ],
      "text/plain": [
       "         Age   Cabin Embarked     Fare                         Name Parch  \\\n",
       "_rowName                                                                    \n",
       "0         22                S     7.25          BraundMr.OwenHarris     0   \n",
       "97        23  D10D12        C  63.3583  GreenfieldMr.WilliamBertram     1   \n",
       "273       37    C118        C     29.7            NatschMr.CharlesH     1   \n",
       "524                         C   7.2292               KassemMr.Fared     0   \n",
       "278        7                Q   29.125              RiceMaster.Eric     1   \n",
       "\n",
       "         PassengerId Pclass   Sex SibSp    Ticket label  \n",
       "_rowName                                                 \n",
       "0                  1      3  male     1  A/521171     0  \n",
       "97                98      1  male     0   PC17759     1  \n",
       "273              274      1  male     0   PC17596     0  \n",
       "524              525      3  male     0      2700     0  \n",
       "278              279      3  male     4    382652     0  "
      ]
     },
     "execution_count": 5,
     "metadata": {},
     "output_type": "execute_result"
    }
   ],
   "source": [
    "%mldb query select * from titanic limit 5"
   ]
  },
  {
   "cell_type": "markdown",
   "metadata": {},
   "source": [
    "We can get the results out as a Pandas DataFrame just as easily:"
   ]
  },
  {
   "cell_type": "code",
   "execution_count": 6,
   "metadata": {
    "collapsed": false
   },
   "outputs": [
    {
     "data": {
      "text/plain": [
       "pandas.core.frame.DataFrame"
      ]
     },
     "execution_count": 6,
     "metadata": {},
     "output_type": "execute_result"
    }
   ],
   "source": [
    "df = %mldb query select * from titanic\n",
    "type(df)"
   ]
  },
  {
   "cell_type": "markdown",
   "metadata": {},
   "source": [
    "## Server-Side Python Magic\n",
    "\n",
    "Python code which is executed in a normal Notebook cell runs within the Notebook Python interpreter. MLDB supports the sending of Python scripts via HTTP for execution within its own in-process Python interpreter. [Server-side python code](/doc/#builtin/lang/Python.md.html) gets access to a high-performance version of the REST API which bypasses HTTP, via an `mldb.perform()` function.\n",
    "\n",
    "There's an `%mldb` magic command for running server-side Python code, from the comfort of your Notebook:"
   ]
  },
  {
   "cell_type": "code",
   "execution_count": 7,
   "metadata": {
    "collapsed": false
   },
   "outputs": [
    {
     "name": "stdout",
     "output_type": "stream",
     "text": [
      "[\"beh\",\"beh.binary\",\"beh.live\",\"beh.mutable\",\"beh.ranged\",\"embedding\",\"merged\",\"sqliteSparse\",\"transposed\"]\n"
     ]
    }
   ],
   "source": [
    "%%mldb py\n",
    "\n",
    "# this code will run on the server!\n",
    "print mldb.perform(\"GET\", \"/v1/types/datasets\", [], {})[\"response\"]"
   ]
  },
  {
   "cell_type": "markdown",
   "metadata": {
    "collapsed": true
   },
   "source": [
    "## Putting it all together\n",
    "\n",
    "Now that you've seen the basics, check out the [Mapping Reddit](/doc/nblink.html#Mapping Reddit) demo to see how to use the `%mldb` magic system to do machine learning with MLDB."
   ]
  },
  {
   "cell_type": "code",
   "execution_count": null,
   "metadata": {
    "collapsed": true
   },
   "outputs": [],
   "source": []
  }
 ],
 "metadata": {
  "kernelspec": {
   "display_name": "Python 2",
   "language": "python",
   "name": "python2"
  },
  "language_info": {
   "codemirror_mode": {
    "name": "ipython",
    "version": 2
   },
   "file_extension": ".py",
   "mimetype": "text/x-python",
   "name": "python",
   "nbconvert_exporter": "python",
   "pygments_lexer": "ipython2",
   "version": "2.7.3"
  }
 },
 "nbformat": 4,
 "nbformat_minor": 0
}
