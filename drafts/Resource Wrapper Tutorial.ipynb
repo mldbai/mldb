{
 "cells": [
  {
   "cell_type": "markdown",
   "metadata": {},
   "source": [
    "# `Resource` Wrapper Tutorial\n",
    "\n",
    "Interactions with MLDB occurs via a [REST API](/doc#builtin/WorkingWithRest.md.html). Interacting with a REST API over HTTP from a Notebook interface can be a little bit laborious if you're using a general-purpose Python library like [`requests`](http://docs.python-requests.org/en/latest/) directly, so MLDB comes with a Python library called [`pymldb`](https://github.com/datacratic/pymldb) to ease the pain.\n",
    "\n",
    "`pymldb` does this in three ways:\n",
    "\n",
    "* **the Python `Resource` class**: this is simple class which wraps the `requests` library so as to make HTTP calls to the MLDB API more friendly in a Notebook environment. This tutorial shows you how to use it.\n",
    "* **the `%mldb` magics**: these are Jupyter line- and cell-magic commands which allow you to make raw HTTP calls to MLDB, and also provides some higher-level functions. Check out the [Cell magic Tutorial](/doc/nblink.html#Cell Magic Tutorial) for more info on the `%mldb` magic system.\n",
    "* **the Python `BatFrame` class**: this is a class that behaves like the Pandas DataFrame but offloads computation to the server via HTTP calls. Check out the [BatFrame Tutorial](/doc/nblink.html#BatFrame Tutorial) for more info on the BatFrame."
   ]
  },
  {
   "cell_type": "markdown",
   "metadata": {
    "collapsed": true
   },
   "source": [
    "## Getting started\n",
    "\n",
    "A `Resource` object is just an extremely cheap-to-create, **immutable** proxy for a single URL."
   ]
  },
  {
   "cell_type": "code",
   "execution_count": 16,
   "metadata": {
    "collapsed": false
   },
   "outputs": [
    {
     "name": "stdout",
     "output_type": "stream",
     "text": [
      "http://localhost\n"
     ]
    }
   ],
   "source": [
    "from pymldb.resource import Resource\n",
    "r = Resource(\"http://localhost\")\n",
    "print r"
   ]
  },
  {
   "cell_type": "markdown",
   "metadata": {},
   "source": [
    "You can use a `Resource` object to quickly create new `Resource` objects to refer to different URLs by calling functions or passing in arguments, chaining the calls:"
   ]
  },
  {
   "cell_type": "code",
   "execution_count": 17,
   "metadata": {
    "collapsed": false
   },
   "outputs": [
    {
     "name": "stdout",
     "output_type": "stream",
     "text": [
      "<class 'mldb.resource.Resource'> http://localhost\n",
      "<class 'mldb.resource.Resource'> http://localhost/x\n",
      "<class 'mldb.resource.Resource'> http://localhost/x/y\n",
      "<class 'mldb.resource.Resource'> http://localhost/and/so/on/and/so/on\n"
     ]
    }
   ],
   "source": [
    "print type(r), r\n",
    "x = r.x\n",
    "print type(x), x\n",
    "y = x(\"y\")\n",
    "print type(y), y\n",
    "z = r(\"and\").so(\"on\")(\"and\").so.on\n",
    "print type(z), z"
   ]
  },
  {
   "cell_type": "markdown",
   "metadata": {},
   "source": [
    "## Making HTTP requests\n",
    "\n",
    "Once you have a `Resource` object that refers to a URL you care about, you can use it to issue HTTP requests:"
   ]
  },
  {
   "cell_type": "code",
   "execution_count": 18,
   "metadata": {
    "collapsed": false
   },
   "outputs": [
    {
     "data": {
      "text/html": [
       "<strong>GET http://localhost/v1/types/datasets</strong><br /><strong style=\"color: green;\">200 OK</strong><br /> <div class=\"highlight\"><pre style=\"line-height: 125%\">[\n",
       "  <span style=\"color: #0000dd\">&quot;beh&quot;</span>, \n",
       "  <span style=\"color: #0000dd\">&quot;beh.binary&quot;</span>, \n",
       "  <span style=\"color: #0000dd\">&quot;beh.live&quot;</span>, \n",
       "  <span style=\"color: #0000dd\">&quot;beh.mutable&quot;</span>, \n",
       "  <span style=\"color: #0000dd\">&quot;beh.ranged&quot;</span>, \n",
       "  <span style=\"color: #0000dd\">&quot;embedding&quot;</span>, \n",
       "  <span style=\"color: #0000dd\">&quot;merged&quot;</span>, \n",
       "  <span style=\"color: #0000dd\">&quot;sqliteSparse&quot;</span>, \n",
       "  <span style=\"color: #0000dd\">&quot;transposed&quot;</span>\n",
       "]\n",
       "</pre></div>\n"
      ],
      "text/plain": [
       "<Response [200]>"
      ]
     },
     "execution_count": 18,
     "metadata": {},
     "output_type": "execute_result"
    }
   ],
   "source": [
    "dataset_types = r.v1.types.datasets\n",
    "dataset_types.get()"
   ]
  },
  {
   "cell_type": "markdown",
   "metadata": {},
   "source": [
    "The HTTP request is performed via the Python [`requests`](http://docs.python-requests.org/en/latest/) library: arguments to `get()`, `post()`, `put()` and `delete()` are just delegated to the corresponding `requests` function. The only thing that `Resource` does to the result is patch it so it will display prettily in a Notebook, as above."
   ]
  },
  {
   "cell_type": "markdown",
   "metadata": {},
   "source": [
    "## Convenience methods\n",
    "\n",
    "`Resource` objects provide three convenience methods for interacting with MLDB: `get_query()`, `put_json()` and `post_json()`:"
   ]
  },
  {
   "cell_type": "code",
   "execution_count": 19,
   "metadata": {
    "collapsed": false
   },
   "outputs": [
    {
     "data": {
      "text/html": [
       "<strong>GET http://localhost/v1/types?x=y</strong><br /><strong style=\"color: green;\">200 OK</strong><br /> <div class=\"highlight\"><pre style=\"line-height: 125%\">[\n",
       "  <span style=\"color: #0000dd\">&quot;algorithms&quot;</span>, \n",
       "  <span style=\"color: #0000dd\">&quot;functions&quot;</span>, \n",
       "  <span style=\"color: #0000dd\">&quot;datasets&quot;</span>, \n",
       "  <span style=\"color: #0000dd\">&quot;procedures&quot;</span>, \n",
       "  <span style=\"color: #0000dd\">&quot;plugins&quot;</span>\n",
       "]\n",
       "</pre></div>\n"
      ],
      "text/plain": [
       "<Response [200]>"
      ]
     },
     "execution_count": 19,
     "metadata": {},
     "output_type": "execute_result"
    }
   ],
   "source": [
    "#keyword arguments to get_query() are appended to the GET query string\n",
    "r.v1.types.get_query(x=\"y\")"
   ]
  },
  {
   "cell_type": "code",
   "execution_count": 20,
   "metadata": {
    "collapsed": false
   },
   "outputs": [
    {
     "data": {
      "text/html": [
       "<strong>PUT http://localhost/v1/datasets/sample</strong><br /><strong style=\"color: green;\">201 Created</strong><br /> <div class=\"highlight\"><pre style=\"line-height: 125%\">{\n",
       "  <span style=\"color: #333333; font-weight: bold\">&quot;status&quot;</span>: {\n",
       "    <span style=\"color: #333333; font-weight: bold\">&quot;rowCount&quot;</span>: <span style=\"color: #0000dd\">0</span>, \n",
       "    <span style=\"color: #333333; font-weight: bold\">&quot;valueCount&quot;</span>: <span style=\"color: #0000dd\">0</span>\n",
       "  }, \n",
       "  <span style=\"color: #333333; font-weight: bold\">&quot;config&quot;</span>: {\n",
       "    <span style=\"color: #333333; font-weight: bold\">&quot;type&quot;</span>: <span style=\"color: #0000dd\">&quot;beh.mutable&quot;</span>, \n",
       "    <span style=\"color: #333333; font-weight: bold\">&quot;id&quot;</span>: <span style=\"color: #0000dd\">&quot;sample&quot;</span>\n",
       "  }, \n",
       "  <span style=\"color: #333333; font-weight: bold\">&quot;state&quot;</span>: <span style=\"color: #0000dd\">&quot;ok&quot;</span>, \n",
       "  <span style=\"color: #333333; font-weight: bold\">&quot;type&quot;</span>: <span style=\"color: #0000dd\">&quot;beh.mutable&quot;</span>, \n",
       "  <span style=\"color: #333333; font-weight: bold\">&quot;id&quot;</span>: <span style=\"color: #0000dd\">&quot;sample&quot;</span>\n",
       "}\n",
       "</pre></div>\n"
      ],
      "text/plain": [
       "<Response [201]>"
      ]
     },
     "execution_count": 20,
     "metadata": {},
     "output_type": "execute_result"
    }
   ],
   "source": [
    "sample_dataset = r.v1.datasets(\"sample\")\n",
    "sample_dataset.delete()\n",
    "#dictionaries arguments to put_json() and post_json() are sent as JSON via PUT or POST\n",
    "sample_dataset.put_json( {\"type\": \"beh.mutable\"} ) "
   ]
  },
  {
   "cell_type": "markdown",
   "metadata": {},
   "source": [
    "## Putting it all together\n",
    "\n",
    "Now that you've seen the basics, check out the [Predicting Titanic Survival](/doc/nblink.html#Predicting Titanic Survival) demo to see how to use the `Resource` class to do machine learning with MLDB."
   ]
  },
  {
   "cell_type": "code",
   "execution_count": null,
   "metadata": {
    "collapsed": true
   },
   "outputs": [],
   "source": []
  }
 ],
 "metadata": {
  "kernelspec": {
   "display_name": "Python 2",
   "language": "python",
   "name": "python2"
  },
  "language_info": {
   "codemirror_mode": {
    "name": "ipython",
    "version": 2
   },
   "file_extension": ".py",
   "mimetype": "text/x-python",
   "name": "python",
   "nbconvert_exporter": "python",
   "pygments_lexer": "ipython2",
   "version": "2.7.3"
  }
 },
 "nbformat": 4,
 "nbformat_minor": 0
}
